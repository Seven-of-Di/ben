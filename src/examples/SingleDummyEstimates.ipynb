{
 "cells": [
  {
   "cell_type": "markdown",
   "id": "3d26ee18",
   "metadata": {},
   "source": [
    "# Single Dummy Estimates\n",
    "\n",
    "This tutorial shows the use of a neural network to estimate the number of tricks which will be taken on a given open lead in a given contract (single dummy)\n",
    "\n",
    "In this tutorial we'll access a bit lower-level APIs.\n"
   ]
  },
  {
   "cell_type": "code",
   "execution_count": 1,
   "id": "3db7a448",
   "metadata": {},
   "outputs": [],
   "source": [
    "import os\n",
    "os.chdir('..')\n",
    "\n",
    "import numpy as np\n",
    "import matplotlib.pyplot as plt\n",
    "\n",
    "import scoring\n",
    "import deck52\n",
    "\n",
    "from nn.models import Models\n",
    "from bidding import bidding\n",
    "from bidding.binary import parse_hand_f\n",
    "from bots import BotBid\n",
    "from objects import Card\n",
    "from util import hand_to_str"
   ]
  },
  {
   "cell_type": "code",
   "execution_count": 2,
   "id": "b08c7148",
   "metadata": {},
   "outputs": [
    {
     "name": "stdout",
     "output_type": "stream",
     "text": [
      "INFO:tensorflow:Restoring parameters from ../models/gib21_model/gib21-1000000\n",
      "INFO:tensorflow:Restoring parameters from ../models/gib21_info_model/gib21_info-500000\n",
      "INFO:tensorflow:Restoring parameters from ../models/lead_model_b/lead-1000000\n",
      "INFO:tensorflow:Restoring parameters from ../models/lr3_model/lr3-1000000\n",
      "INFO:tensorflow:Restoring parameters from ../models/lefty_model/lefty-1000000\n",
      "INFO:tensorflow:Restoring parameters from ../models/dummy_model/dummy-920000\n",
      "INFO:tensorflow:Restoring parameters from ../models/righty_model/righty-1000000\n",
      "INFO:tensorflow:Restoring parameters from ../models/decl_model/decl-1000000\n"
     ]
    }
   ],
   "source": [
    "models = Models.load('../models')"
   ]
  },
  {
   "cell_type": "code",
   "execution_count": 3,
   "id": "b4b75d68",
   "metadata": {},
   "outputs": [],
   "source": [
    "# helper functions are defined here. it's ok to scroll over this part\n",
    "\n",
    "# this is the function which does the prediction\n",
    "# for each possible number of tricks (from 0 to 13) \n",
    "# it returns the probability that that number of tricks will be taken (single dummy)\n",
    "def single_dummy(model, hands, decl_i, strain_i, lead_card_i):\n",
    "    # an array, which is the input for the neural network, is prepared\n",
    "    X_sd = np.zeros((hands.shape[0], 32 + 5 + 4*32))\n",
    "    X_sd[:,32 + strain_i] = 1\n",
    "    X_sd[:,(32 + 5 + 0*32):(32 + 5 + 1*32)] = hands[:, (decl_i + 1) % 4]\n",
    "    X_sd[:,(32 + 5 + 1*32):(32 + 5 + 2*32)] = hands[:, (decl_i + 2) % 4]\n",
    "    X_sd[:,(32 + 5 + 2*32):(32 + 5 + 3*32)] = hands[:, (decl_i + 3) % 4]\n",
    "    X_sd[:,(32 + 5 + 3*32):] = hands[:, decl_i]\n",
    "    X_sd[:, lead_card_i] = 1\n",
    "    \n",
    "    return model(X_sd)\n",
    "\n",
    "# plotting the trick probability distribution\n",
    "def plot_tricks(tricks_softmax):\n",
    "    tricks = tricks_softmax[0]\n",
    "    plt.bar(range(14), tricks)\n",
    "    plt.title(f'E(tricks) = {tricks @ np.arange(14)}')\n",
    "    plt.xlabel('# tricks')\n",
    "    plt.ylabel('probability')\n",
    "\n",
    "def expected_score(tricks_softmax, contract, vuln):\n",
    "    tricks = tricks_softmax\n",
    "    score_by_tricks = np.array([scoring.score(contract, vuln, i) for i in range(14)])\n",
    "    return tricks @ score_by_tricks"
   ]
  },
  {
   "cell_type": "code",
   "execution_count": 4,
   "id": "fc7fa234",
   "metadata": {},
   "outputs": [],
   "source": [
    "# we take the following hand as an example\n",
    "# West plays it in 3N on a small heart lead\n",
    "# how many tricks will declarer take?\n",
    "\n",
    "hands_str = 'A8.Q752.T54.JT63 K54.T643.A92.A72 JT932.K9.Q86.854 Q76.AJ8.KJ73.KQ9'  # N E S W\n",
    "contract = '3NW'\n",
    "opening_lead = 'H2'"
   ]
  },
  {
   "cell_type": "code",
   "execution_count": 5,
   "id": "573954a6",
   "metadata": {},
   "outputs": [],
   "source": [
    "# this line just converts the string representation of the hands into a binary format\n",
    "hands = np.vstack([parse_hand_f(32)(s) for s in hands_str.split()]).reshape((-1, 4, 32))\n",
    "\n",
    "# applying the function which does the prediction\n",
    "tricks_distr = single_dummy(\n",
    "    models.sd_model.model, #Leading model\n",
    "    hands, #The hands\n",
    "    decl_i='NESW'.index(contract[-1]), #Index of declarer\n",
    "    strain_i='NSHDC'.index(contract[1]), #Index de la couleur du contrat\n",
    "    lead_card_i=deck52.card52to32(Card.from_symbol(opening_lead).code())\n",
    ")"
   ]
  },
  {
   "cell_type": "code",
   "execution_count": 6,
   "id": "c6f6fdff",
   "metadata": {},
   "outputs": [
    {
     "data": {
      "text/plain": [
       "array([[0.0000000e+00, 0.0000000e+00, 8.1465862e-36, 1.7034037e-11,\n",
       "        3.6211486e-07, 1.5782302e-02, 3.2778580e-02, 7.3673598e-02,\n",
       "        1.2808882e-01, 2.0297310e-01, 2.3446704e-01, 1.8965560e-01,\n",
       "        9.5386654e-02, 2.7193969e-02]], dtype=float32)"
      ]
     },
     "execution_count": 6,
     "metadata": {},
     "output_type": "execute_result"
    }
   ],
   "source": [
    "# the result is an array representing the probability distribution of tricks\n",
    "# the first element of the array is the probability that declarer will take 0 tricks\n",
    "# the last element of the array is the probability that declarer will take 13 tricks\n",
    "tricks_distr"
   ]
  },
  {
   "cell_type": "code",
   "execution_count": 7,
   "id": "a0bead58",
   "metadata": {},
   "outputs": [
    {
     "data": {
      "image/png": "[encoded data removed]",
      "text/plain": [
       "<Figure size 640x480 with 1 Axes>"
      ]
     },
     "metadata": {},
     "output_type": "display_data"
    }
   ],
   "source": [
    "# we can also plot it to see it better\n",
    "plot_tricks(tricks_distr)"
   ]
  },
  {
   "cell_type": "markdown",
   "id": "5ccaf6b1",
   "metadata": {},
   "source": [
    "We can see that the most likely declarer will take 10 tricks. But there is a spread, and declarer will take on average 9.57 tricks (according to the neural network)"
   ]
  },
  {
   "cell_type": "code",
   "execution_count": 8,
   "id": "8923c1dc",
   "metadata": {},
   "outputs": [
    {
     "data": {
      "text/plain": [
       "308.28683088537787"
      ]
     },
     "execution_count": 8,
     "metadata": {},
     "output_type": "execute_result"
    }
   ],
   "source": [
    "# we can also compute how much declarer is expected to score on this hand (non-vulnerable)\n",
    "expected_score(tricks_distr, contract='3N', vuln=False)[0]"
   ]
  },
  {
   "cell_type": "code",
   "execution_count": 9,
   "id": "ad71c875",
   "metadata": {},
   "outputs": [
    {
     "data": {
      "text/plain": [
       "0.7496764"
      ]
     },
     "execution_count": 9,
     "metadata": {},
     "output_type": "execute_result"
    }
   ],
   "source": [
    "# or we can get the probability that the contract will be made (i.e declarer will take 9 or more tricks)\n",
    "np.sum(tricks_distr[:,9:])"
   ]
  },
  {
   "cell_type": "markdown",
   "id": "c88dc55c",
   "metadata": {},
   "source": [
    "## Estimating on many samples at the same time\n",
    "\n",
    "A frequent use of single dummy models is to apply it on many samples to choose between possible actions (for example when making a bid or selecting the opening lead)\n",
    "\n",
    "We could just follow the steps in the above example in a loop (looping once for each sample), but it's much more efficient to make the prediction for all samples at the same time:"
   ]
  },
  {
   "cell_type": "code",
   "execution_count": 10,
   "id": "6e53c7e8",
   "metadata": {},
   "outputs": [],
   "source": [
    "# we'll use a bidder bot to draw samples which are consistent with the auction\n",
    "# and give it North's cards (as North will be on lead against 3N)\n",
    "bid_bot = BotBid([False, False], 'A8.Q752.T54.JT63', models)\n",
    "\n",
    "# let's assume the following auction has occurred\n",
    "auction = [\n",
    "    'PASS', 'PASS', 'PASS', '1N', \n",
    "    'PASS', '2C', 'PASS', '2D', \n",
    "    'PASS', '3N', 'PASS', 'PASS', \n",
    "    'PASS', 'PAD_END', 'PAD_END', 'PAD_END'   # we need to put the 'PAD_END' stuff so it will look like it's North's turn to bid again\n",
    "]\n",
    "contract = bidding.get_contract(auction)"
   ]
  },
  {
   "cell_type": "code",
   "execution_count": 11,
   "id": "d31e8c24",
   "metadata": {},
   "outputs": [
    {
     "name": "stdout",
     "output_type": "stream",
     "text": [
      "A8.Qxxx.Txx.JTxx Kxxx.KJ9x.QJ9x.x T9xx.T8.Kxx.KQ9x QJx.Axx.A8x.A8xx\n",
      "A8.Qxxx.Txx.JTxx Jxx.T8xx.AKQ9x.x Q9xxx.KJ9.xx.Q9x KTx.Ax.J8x.AK8xx\n",
      "A8.Qxxx.Txx.JTxx QTxx.AKJx.8xx.9x KJ9x.T9x.9xx.A8x xxx.8x.AKQJ.KQxx\n",
      "A8.Qxxx.Txx.JTxx QJ9x.JT9x.K8x.A8 Kxxx.xx.QJxx.9xx Txx.AK8.A9x.KQxx\n",
      "A8.Qxxx.Txx.JTxx xx.KT8x.KQ8x.Kxx K9xxxx.xx.Jx.Qxx QJT.AJ9.A9xx.A98\n",
      "A8.Qxxx.Txx.JTxx xxxx.AKTx.K9.9xx KQT9.9xx.J8xx.8x Jxx.J8.AQxx.AKQx\n",
      "A8.Qxxx.Txx.JTxx Jxx.KT98.K98.A9x T9xxx.Jxx.Jxxx.K KQx.Ax.AQx.Q8xxx\n",
      "A8.Qxxx.Txx.JTxx KJxx.ATxx.Jx.Qxx 9xxx.8x.K98x.A9x QTx.KJ9.AQxx.K8x\n",
      "A8.Qxxx.Txx.JTxx QJ9x.T8.Kxxx.Axx Txxxx.KJ9x.Qx.Qx Kx.Axx.AJ98.K98x\n",
      "A8.Qxxx.Txx.JTxx Kxxx.AT9x.Jxx.Q9 JT9x.J8x.KQxx.8x Qxx.Kx.A98.AKxxx\n"
     ]
    }
   ],
   "source": [
    "# we sample the hidden cards for the auction\n",
    "samples = bid_bot.sample_hands(auction)\n",
    "\n",
    "# and display a few samples just for illustration\n",
    "for i in range(10):\n",
    "    print(f'{hand_to_str(samples[i,0,:])} {hand_to_str(samples[i,1,:])} {hand_to_str(samples[i,2,:])} {hand_to_str(samples[i,3,:])}')"
   ]
  },
  {
   "cell_type": "markdown",
   "id": "9a983c75",
   "metadata": {},
   "source": [
    "North's cards are always the same `A8.Qxxx.Txx.JTxx` (because it's the known hand)\n",
    "\n",
    "The rest of the cards are consistent with the Stayman sequence which occurred in the auction (West has a 1N opener without four-card majors, East has a four-card major and the strength for 3N)"
   ]
  },
  {
   "cell_type": "code",
   "execution_count": 12,
   "id": "8b0b6640",
   "metadata": {},
   "outputs": [],
   "source": [
    "# now we apply the prediction on all samples (estimating how many tricks declarer will take in 3N)\n",
    "\n",
    "# we consider the following opening leads\n",
    "opening_lead_options = ['SA', 'H2', 'D4', 'CJ', 'C3']"
   ]
  },
  {
   "cell_type": "code",
   "execution_count": 13,
   "id": "6dbb241a",
   "metadata": {},
   "outputs": [
    {
     "name": "stdout",
     "output_type": "stream",
     "text": [
      "3NW\n"
     ]
    }
   ],
   "source": [
    "# for each opening opening lead option,\n",
    "# we estimate the number of tricks taken (on each sample)\n",
    "\n",
    "lead_tricks = {}\n",
    "print(contract)\n",
    "for opening_lead in opening_lead_options:\n",
    "    tricks_distr = single_dummy(\n",
    "        models.sd_model.model, \n",
    "        samples, \n",
    "        decl_i='NESW'.index(contract[-1]), \n",
    "        strain_i='NSHDC'.index(contract[1]), \n",
    "        lead_card_i=deck52.card52to32(Card.from_symbol(opening_lead).code())\n",
    "    )\n",
    "    lead_tricks[opening_lead] = tricks_distr"
   ]
  },
  {
   "cell_type": "code",
   "execution_count": 14,
   "id": "6d8fd172",
   "metadata": {},
   "outputs": [
    {
     "data": {
      "text/plain": [
       "{'SA': 280.6029739764299,\n",
       " 'H2': 261.3467110765077,\n",
       " 'D4': 258.5438087043963,\n",
       " 'CJ': 253.13244963947042,\n",
       " 'C3': 261.6747969372446}"
      ]
     },
     "execution_count": 14,
     "metadata": {},
     "output_type": "execute_result"
    }
   ],
   "source": [
    "# computing declarer's expected score for each lead\n",
    "\n",
    "{lead:np.mean(expected_score(tricks, contract, False)) for lead, tricks in lead_tricks.items()}"
   ]
  },
  {
   "cell_type": "code",
   "execution_count": 15,
   "id": "dbc0b203",
   "metadata": {},
   "outputs": [
    {
     "data": {
      "image/png": "[encoded data removed]",
      "text/plain": [
       "<Figure size 640x480 with 1 Axes>"
      ]
     },
     "metadata": {},
     "output_type": "display_data"
    }
   ],
   "source": [
    "# to get an idea about the variance, we can compare two cards by plotting histograms of expected scores\n",
    "plt.hist(expected_score(lead_tricks['H2'], contract, False), label='H2', alpha=0.5)\n",
    "plt.hist(expected_score(lead_tricks['D4'], contract, False), label='D4', alpha=0.5)\n",
    "plt.xlabel('expected score')\n",
    "plt.ylabel('frequency')\n",
    "plt.legend();"
   ]
  }
 ],
 "metadata": {
  "kernelspec": {
   "display_name": "Python 3.10.2 64-bit",
   "language": "python",
   "name": "python3"
  },
  "language_info": {
   "codemirror_mode": {
    "name": "ipython",
    "version": 3
   },
   "file_extension": ".py",
   "mimetype": "text/x-python",
   "name": "python",
   "nbconvert_exporter": "python",
   "pygments_lexer": "ipython3",
   "version": "3.10.2 (tags/v3.10.2:a58ebcc, Jan 17 2022, 14:12:15) [MSC v.1929 64 bit (AMD64)]"
  },
  "vscode": {
   "interpreter": {
    "hash": "db6859663c517eaff44cb590a4f83a9ffca1c2df3a6cfb3b0e93ea33231aa8bf"
   }
  }
 },
 "nbformat": 4,
 "nbformat_minor": 5
}
