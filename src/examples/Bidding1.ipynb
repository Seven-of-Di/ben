{
 "cells": [
  {
   "cell_type": "markdown",
   "id": "75d07246",
   "metadata": {},
   "source": [
    "# Bidding\n",
    "\n",
    "This is a tutorial for how to use the bidding engine"
   ]
  },
  {
   "cell_type": "code",
   "execution_count": 1,
   "id": "59a5664c",
   "metadata": {},
   "outputs": [
    {
     "name": "stderr",
     "output_type": "stream",
     "text": [
      "Loaded lib <WinDLL 'C:\\Users\\lucbe\\OneDrive\\Documents\\Bridge\\ben\\ben\\dds.dll', handle 7ff95a410000 at 0x279e3197ee0>\n"
     ]
    }
   ],
   "source": [
    "import os\n",
    "os.chdir('..')\n",
    "\n",
    "from nn.models import Models\n",
    "from bots import BotBid\n",
    "from bidding import bidding\n",
    "from util import hand_to_str\n",
    "from deck52 import random_deal\n",
    "from utils import Direction,BiddingSuit,Suit,Card_,PlayerHand\n",
    "from PlayRecord import PlayRecord,Trick"
   ]
  },
  {
   "cell_type": "code",
   "execution_count": 2,
   "id": "44786d5d",
   "metadata": {},
   "outputs": [
    {
     "name": "stdout",
     "output_type": "stream",
     "text": [
      "INFO:tensorflow:Restoring parameters from ../models/gib21_model/gib21-1000000\n",
      "INFO:tensorflow:Restoring parameters from ../models/gib21_info_model/gib21_info-500000\n",
      "INFO:tensorflow:Restoring parameters from ../models/lead_model_b/lead-1000000\n",
      "INFO:tensorflow:Restoring parameters from ../models/lr3_model/lr3-1000000\n",
      "INFO:tensorflow:Restoring parameters from ../models/lefty_model/lefty-1000000\n",
      "INFO:tensorflow:Restoring parameters from ../models/dummy_model/dummy-920000\n",
      "INFO:tensorflow:Restoring parameters from ../models/righty_model/righty-1000000\n",
      "INFO:tensorflow:Restoring parameters from ../models/decl_model/decl-1000000\n"
     ]
    }
   ],
   "source": [
    "models = Models.load('../models')   # loading neural networks"
   ]
  },
  {
   "cell_type": "markdown",
   "id": "10d8f2fc",
   "metadata": {},
   "source": [
    "### Running through an example"
   ]
  },
  {
   "cell_type": "code",
   "execution_count": 3,
   "id": "19dbfeb7",
   "metadata": {},
   "outputs": [],
   "source": [
    "# East deals, EW vulnerable.\n",
    "vuln_ns, vuln_ew = False, True"
   ]
  },
  {
   "cell_type": "code",
   "execution_count": 4,
   "id": "5b5c0bd3",
   "metadata": {},
   "outputs": [
    {
     "name": "stdout",
     "output_type": "stream",
     "text": [
      "['KJ.AQ9.AKT9x.ATx T8xx.Txx.8x.Q8xx Qxxx.KJxxx.x.xxx A9x.8x.QJxxx.KJ9', 'K9.AT.AQT9.AQJxx Axx.98x.J8xxx.K8 Qxxx.KJxxx.x.xxx JT8x.Qxx.Kxx.T9x', 'AJ8.A9.ATx.AKTxx 9xx.T8x.KQ8xx.Jx Qxxx.KJxxx.x.xxx KTx.Qxx.J9xx.Q98', 'AKJ.Ax.KJ9xx.KJ9 Txx.Q9x.xx.AQTxx Qxxx.KJxxx.x.xxx 98x.T8x.AQT8x.8x', 'Ax.Axx.AKJx.AJxx KT9.Qx.QT9xx.Q9x Qxxx.KJxxx.x.xxx J8xx.T98.8xx.KT8']\n",
      "3S\n",
      "[{'call': '3S', 'insta_score': 0.9985024929046631}]\n"
     ]
    }
   ],
   "source": [
    "hand = 'Q432.KJ654.4.432'\n",
    "auction = ['PAD_START', '2N', 'PASS','3C','PASS','3D','PASS'] # Here, it wrongly passes on the stayman answer, just like he would pass a 3D opening\n",
    "bot_bid = BotBid([vuln_ns, vuln_ew], hand, models)\n",
    "bid = bot_bid.restful_bid(auction)\n",
    "\n",
    "print(bid.samples) #The samples are correct\n",
    "print(bid.bid)\n",
    "print(bid.to_dict()['candidates'])"
   ]
  },
  {
   "cell_type": "code",
   "execution_count": 5,
   "id": "87c66c19",
   "metadata": {},
   "outputs": [
    {
     "name": "stdout",
     "output_type": "stream",
     "text": [
      "['A9x.JT98x.Tx.JT9 T8xx.AKx.KJxx.xx x.Qxxxx.AQxx.KQx KQJxx..98x.A8xxx', 'x.T9x.QT8xx.AT9x T8xx.AKx.KJxx.xx Ax.QJ8xxx.A9x.Kx KQJ9xx.x.x.QJ8xx', 'Axx.Jxxx.Txxx.Tx T8xx.AKx.KJxx.xx Q.QT98xx.A9.AQ8x KJ9xx..Q8x.KJ9xx', 'AJ9.T9x.A9xx.Jxx T8xx.AKx.KJxx.xx K.QJ8xxxx.Tx.KQT Qxxxx..Q8x.A98xx', 'xx.T8x.QT8xx.K8x T8xx.AKx.KJxx.xx 9x.QJ9xx.A9xx.AQ AKQJx.xx..JT9xxx']\n",
      "4S\n",
      "[{'call': '4S', 'insta_score': 0.6949708461761475, 'expected_score': 205.01531174167226}, {'call': '3S', 'insta_score': 0.16825923323631287, 'expected_score': 40.38540666322234}]\n"
     ]
    }
   ],
   "source": [
    "hand = 'T873.AK6.KJ32.43'\n",
    "auction = ['PASS','PASS','1H','2H','3H'] # Here, it correctly bids 4S\n",
    "bot_bid = BotBid([vuln_ns, vuln_ew], hand, models)\n",
    "bid = bot_bid.restful_bid(auction)\n",
    "\n",
    "print(bid.samples) #The samples are correct\n",
    "print(bid.bid)\n",
    "print(bid.to_dict()['candidates'])"
   ]
  },
  {
   "cell_type": "code",
   "execution_count": 6,
   "id": "a707a8da",
   "metadata": {},
   "outputs": [
    {
     "name": "stdout",
     "output_type": "stream",
     "text": [
      "['A.Q98xx.AQTx.xxx T8xx.AKx.KJxx.xx 9xx.JTxx.98x.Q9x KQJxx.x.xx.AKJT8', 'Qx.QJ98xx.x.AK98 T8xx.AKx.KJxx.xx Jx.Txx.Txx.QJxxx AK9xx.x.AQ98x.Tx', 'A.QT98xxxx.x.KQJ T8xx.AKx.KJxx.xx K9xx.Jx.98.T9xxx QJxx..AQTxxx.A8x', 'Kx.QJT9xxx.A.AJ9 T8xx.AKx.KJxx.xx QJ.8xx.T8xxx.xxx A9xxx..Q9x.KQT8x', 'KQx.QJT8xxx.A9.8 T8xx.AKx.KJxx.xx xx.9x.8xxx.KQ9xx AJ9x.x.QTx.AJTxx']\n",
      "2N\n",
      "[{'call': '2N', 'insta_score': 0.3044964373111725, 'expected_score': 427.69187588434846}, {'call': '2S', 'insta_score': 0.2832288444042206, 'expected_score': 331.5241901193436}]\n"
     ]
    }
   ],
   "source": [
    "hand = 'T873.AK6.KJ32.43'\n",
    "auction = ['1H','PASS','PASS','2H','PASS'] #Here, it wrongly fit the artificial 3H\n",
    "bot_bid = BotBid([vuln_ns, vuln_ew], hand, models)\n",
    "bid = bot_bid.restful_bid(auction)\n",
    "\n",
    "print(bid.samples) #The samples are correct\n",
    "print(bid.bid)\n",
    "print(bid.to_dict()['candidates'])"
   ]
  },
  {
   "cell_type": "code",
   "execution_count": 7,
   "id": "df14a08f",
   "metadata": {},
   "outputs": [
    {
     "name": "stdout",
     "output_type": "stream",
     "text": [
      "['JT8x.xxx.Q9xx.xx Kx.AQT.AJT8x.J8x 9x.8xx.xxx.T9xxx AQxxx.KJ9x.K.AKQ', '8x.xxx.Txx.T8xxx KJx.AQT.AJxx.J9x T9x.8xx.Q98xx.xx AQxxx.KJ9x.K.AKQ', 'T9xx.x.Jxxxxx.98 KJ.AQx.AQT8.Jxxx 8x.T8xxx.9x.Txxx AQxxx.KJ9x.K.AKQ', '98xx.T8x.T9x.8xx KJTx.AQ.AJxx.Txx .xxxx.Q8xxx.J9xx AQxxx.KJ9x.K.AKQ', 'T9x.xxx.Q8x.9xxx Kxx.AQx.AJx.JT8x J8.T8x.T9xxxx.xx AQxxx.KJ9x.K.AKQ']\n",
      "2C\n",
      "[{'call': '2C', 'insta_score': 0.940109372138977}]\n"
     ]
    }
   ],
   "source": [
    "hand = 'AQ752.KJ92.K.AKQ'\n",
    "auction = [\"PASS\",\"1N\",\"PASS\"] #Here, it correctly does a stayman\n",
    "bot_bid = BotBid([vuln_ns, vuln_ew], hand, models)\n",
    "bid = bot_bid.restful_bid(auction)\n",
    "\n",
    "print(bid.samples) #The samples are correct\n",
    "print(bid.bid)\n",
    "print(bid.to_dict()['candidates'])"
   ]
  },
  {
   "cell_type": "code",
   "execution_count": 8,
   "id": "f8df6941",
   "metadata": {},
   "outputs": [
    {
     "name": "stdout",
     "output_type": "stream",
     "text": [
      "['KJ9x.T8x.8xx.xxx 8.Qxx.QJxx.JT9xx Txx.Axx.AT9xx.8x AQxxx.KJ9x.K.AKQ', 'KJx.Tx.AT9x.Txxx T.A8xxx.QJ8x.J8x 98xx.Qx.xxxx.9xx AQxxx.KJ9x.K.AKQ', 'J98.Tx.Jxxx.xxxx KTx.xx.AQTxx.J8x xx.AQ8xx.98x.T9x AQxxx.KJ9x.K.AKQ', 'Kx.AT8xx.JTx.T9x T8.x.AQxxx.Jxxxx J9xx.Qxx.98xx.8x AQxxx.KJ9x.K.AKQ', '98x.AT8xx.A8.Jxx J.x.QJxxxxx.8xxx KTxx.Qxx.T9x.T9x AQxxx.KJ9x.K.AKQ']\n",
      "3H\n",
      "[{'call': '3H', 'insta_score': 0.9574984908103943}]\n"
     ]
    }
   ],
   "source": [
    "hand = 'AQ752.KJ92.K.AKQ'\n",
    "auction = [ 'PASS','PASS','PASS','1S',\"PASS\",\"1N\",\"PASS\"] #Here, it bids 2C (\"stayaman !\") instead of 3H, like in the first hand of the demo (https://lorserker.github.io/ben/demo/viz.html?deal=1). Note that the insta score is exactly the same as the previous example\n",
    "bot_bid = BotBid([vuln_ns, vuln_ew], hand, models)\n",
    "bid = bot_bid.restful_bid(auction)\n",
    "\n",
    "print(bid.samples) #The samples are correct\n",
    "print(bid.bid)\n",
    "print(bid.to_dict()['candidates'])"
   ]
  },
  {
   "cell_type": "code",
   "execution_count": null,
   "id": "7d30b63d",
   "metadata": {},
   "outputs": [],
   "source": []
  },
  {
   "cell_type": "markdown",
   "id": "8da5c690",
   "metadata": {},
   "source": [
    "## Bidding through the hand from the  beginning\n",
    "\n",
    "We have to bid through the hand from the beginning because the bots have state that needs to be propagated.\n",
    "\n",
    "If we ask the bot to bid in the middle of the auction then it didn't accumulate the state from the beginning of the auction and it looks like it \"forgets\" older bids\n",
    "\n",
    "Follwing is the full auction from the start for the first example where the bot passed in a stayman sequence."
   ]
  },
  {
   "cell_type": "code",
   "execution_count": 9,
   "id": "d079e241",
   "metadata": {},
   "outputs": [
    {
     "data": {
      "text/plain": [
       "{NORTH: PlayerHand(A643|8632|Q6|AQ3),\n",
       " EAST: PlayerHand(T872|74|J984|K96),\n",
       " SOUTH: PlayerHand(KJ|KQ95|A2|JT742),\n",
       " WEST: PlayerHand(Q95|AJT|KT753|85)}"
      ]
     },
     "execution_count": 9,
     "metadata": {},
     "output_type": "execute_result"
    }
   ],
   "source": [
    "hands_str = 'A643.8632.Q6.AQ3 T872.74.J984.K96 KJ.KQ95.A2.JT742 Q95.AJT.KT753.85'.split()\n",
    "hands = {d:PlayerHand.from_pbn(hand) for d,hand in zip(Direction,hands_str)}\n",
    "hands # N, E, S, W\n"
   ]
  },
  {
   "cell_type": "code",
   "execution_count": 10,
   "id": "1d390ac1",
   "metadata": {},
   "outputs": [
    {
     "data": {
      "text/plain": [
       "['1C',\n",
       " 'PASS',\n",
       " '1H',\n",
       " 'PASS',\n",
       " '2H',\n",
       " 'PASS',\n",
       " '3C',\n",
       " 'PASS',\n",
       " '3H',\n",
       " 'PASS',\n",
       " '4H',\n",
       " 'PASS',\n",
       " 'PASS',\n",
       " 'PASS']"
      ]
     },
     "execution_count": 10,
     "metadata": {},
     "output_type": "execute_result"
    }
   ],
   "source": [
    "auction = []\n",
    "\n",
    "turn_i = 0  # whose turn is it to bid\n",
    "\n",
    "while not bidding.auction_over(auction):\n",
    "    auction.append(BotBid([False, False], hands[Direction(turn_i)].to_pbn(), models).restful_bid(auction).bid)\n",
    "    turn_i = (turn_i+1)%4\n",
    "    \n",
    "auction"
   ]
  },
  {
   "cell_type": "markdown",
   "id": "ada92dd9",
   "metadata": {},
   "source": [
    "now the bot doesn't pass 3D anymore and they complete their smolen sequence"
   ]
  },
  {
   "cell_type": "code",
   "execution_count": 11,
   "id": "33d366c7",
   "metadata": {},
   "outputs": [
    {
     "name": "stdout",
     "output_type": "stream",
     "text": [
      "{'card': 'S3', 'claim_the_rest': False}\n",
      "{'card': 'ST', 'claim_the_rest': False}\n",
      "{'card': 'SJ', 'claim_the_rest': False}\n",
      "{'card': 'SK', 'claim_the_rest': False}\n",
      "{'card': 'S9', 'claim_the_rest': False}\n",
      "{'card': 'S4', 'claim_the_rest': False}\n",
      "{'card': 'S7', 'claim_the_rest': False}\n",
      "{'card': 'HQ', 'claim_the_rest': False}\n",
      "{'card': 'HA', 'claim_the_rest': False}\n",
      "{'card': 'H2', 'claim_the_rest': False}\n",
      "{'card': 'H4', 'claim_the_rest': False}\n",
      "{'card': 'D3', 'claim_the_rest': False}\n",
      "{'card': 'DQ', 'claim_the_rest': False}\n",
      "{'card': 'D4', 'claim_the_rest': False}\n",
      "{'card': 'D2', 'claim_the_rest': False}\n",
      "{'card': 'H3', 'claim_the_rest': False}\n",
      "{'card': 'H7', 'claim_the_rest': False}\n",
      "{'card': 'H9', 'claim_the_rest': False}\n",
      "{'card': 'HT', 'claim_the_rest': False}\n",
      "{'card': 'C8', 'claim_the_rest': False}\n",
      "{'card': 'CA', 'claim_the_rest': False}\n",
      "{'card': 'C6', 'claim_the_rest': False}\n",
      "{'card': 'C2', 'claim_the_rest': False}\n",
      "{'card': 'SA', 'claim_the_rest': False}\n",
      "{'card': 'S2', 'claim_the_rest': False}\n",
      "{'card': 'C4', 'claim_the_rest': False}\n",
      "{'card': 'SQ', 'claim_the_rest': False}\n",
      "{'card': 'D6', 'claim_the_rest': False}\n",
      "{'card': 'D8', 'claim_the_rest': False}\n",
      "{'card': 'DA', 'claim_the_rest': False}\n",
      "{'card': 'D5', 'claim_the_rest': False}\n",
      "{'card': 'HK', 'claim_the_rest': False}\n",
      "{'card': 'HJ', 'claim_the_rest': False}\n",
      "{'card': 'H6', 'claim_the_rest': False}\n",
      "{'card': 'D9', 'claim_the_rest': False}\n",
      "{'card': 'C7', 'claim_the_rest': False}\n",
      "{'card': 'C5', 'claim_the_rest': False}\n",
      "{'card': 'CQ', 'claim_the_rest': False}\n",
      "{'card': 'CK', 'claim_the_rest': False}\n",
      "{'card': 'S8', 'claim_the_rest': False}\n",
      "NORTH : ♠K ♥A ♦ ♣2\n",
      "EAST : ♠ ♥ ♦K ♣J\n",
      "SOUTH : ♠ ♥K ♦ ♣AK\n",
      "WEST : ♠ ♥ ♦QJT ♣\n",
      "\n",
      "NORTH : ♠K ♥A ♦ ♣2\n",
      "EAST : ♠ ♥ ♦KT ♣\n",
      "SOUTH : ♠ ♥K ♦ ♣AK\n",
      "WEST : ♠ ♥ ♦QJ ♣J\n",
      "\n",
      "NORTH : ♠K ♥A ♦ ♣2\n",
      "EAST : ♠ ♥ ♦KT ♣\n",
      "SOUTH : ♠ ♥K ♦ ♣AK\n",
      "WEST : ♠ ♥ ♦QJ ♣J\n",
      "\n",
      "NORTH : ♠K ♥A ♦ ♣2\n",
      "EAST : ♠ ♥ ♦J ♣J\n",
      "SOUTH : ♠ ♥K ♦ ♣AK\n",
      "WEST : ♠ ♥ ♦KQT ♣\n",
      "\n",
      "NORTH : ♠K ♥A ♦ ♣2\n",
      "EAST : ♠ ♥ ♦JT ♣\n",
      "SOUTH : ♠ ♥K ♦ ♣AK\n",
      "WEST : ♠ ♥ ♦KQ ♣J\n",
      "\n",
      "[A]\n",
      "NORTH : ♠K ♥A ♦ ♣2\n",
      "EAST : ♠ ♥ ♦T ♣J\n",
      "SOUTH : ♠ ♥K ♦ ♣AK\n",
      "WEST : ♠ ♥ ♦KQJ ♣\n",
      "\n",
      "NORTH : ♠K ♥A ♦ ♣2\n",
      "EAST : ♠ ♥ ♦T ♣J\n",
      "SOUTH : ♠ ♥K ♦ ♣AK\n",
      "WEST : ♠ ♥ ♦KQJ ♣\n",
      "\n",
      "NORTH : ♠K ♥A ♦ ♣2\n",
      "EAST : ♠ ♥ ♦JT ♣\n",
      "SOUTH : ♠ ♥K ♦ ♣AK\n",
      "WEST : ♠ ♥ ♦KQ ♣J\n",
      "\n",
      "NORTH : ♠K ♥A ♦ ♣2\n",
      "EAST : ♠ ♥ ♦KT ♣\n",
      "SOUTH : ♠ ♥K ♦ ♣AK\n",
      "WEST : ♠ ♥ ♦QJ ♣J\n",
      "\n",
      "NORTH : ♠K ♥A ♦ ♣2\n",
      "EAST : ♠ ♥ ♦QJ ♣\n",
      "SOUTH : ♠ ♥K ♦ ♣AK\n",
      "WEST : ♠ ♥ ♦KT ♣J\n",
      "\n",
      "[A]\n",
      "{'card': 'H5', 'claim_the_rest': True}\n",
      "{'card': 'D7', 'claim_the_rest': False}\n",
      "{'card': 'S6', 'claim_the_rest': False}\n",
      "{'card': 'CJ', 'claim_the_rest': False}\n",
      "{'card': 'DT', 'claim_the_rest': False}\n",
      "{'card': 'C3', 'claim_the_rest': False}\n",
      "{'card': 'C9', 'claim_the_rest': False}\n"
     ]
    }
   ],
   "source": [
    "from transform_play_card import get_ben_card_play_answer\n",
    "\n",
    "\n",
    "leader = Direction.WEST\n",
    "current_player = Direction.NORTH\n",
    "tricks = [[\"S5\"]]\n",
    "# while all([hand.len()!=1 for hand in hands.values()]) :\n",
    "for i in range(47) :\n",
    "    if len(tricks[-1])==4 :\n",
    "        last_trick = Trick.from_list(leader=leader,trick_as_list=[Card_.from_str(card) for card in tricks[-1]])\n",
    "        current_player = last_trick.winner(trump=BiddingSuit.HEARTS)\n",
    "        leader = current_player\n",
    "        tricks.append([])\n",
    "    card = await get_ben_card_play_answer(hand_str=hands[current_player if current_player!=Direction.NORTH else Direction.SOUTH].to_pbn(),dummy_hand_str=hands[Direction.NORTH].to_pbn(),dealer_str='N',vuln_str=\"None\",auction=auction,contract=\"4HS\",declarer_str=\"S\",next_player_str=current_player.abbreviation(),tricks_str=tricks,MODELS=models)\n",
    "    print(card)\n",
    "    tricks[-1].append(card[\"card\"])\n",
    "    hands[current_player].remove(Card_.from_str(card[\"card\"]))\n",
    "    current_player = current_player.next()"
   ]
  },
  {
   "cell_type": "code",
   "execution_count": 12,
   "id": "ebc30e2e",
   "metadata": {},
   "outputs": [
    {
     "data": {
      "text/plain": [
       "{NORTH: PlayerHand(T64|2|QJT873|JT9),\n",
       " EAST: PlayerHand(A97|94|K652|8642),\n",
       " SOUTH: PlayerHand(J3|AKQJ65|9|A753),\n",
       " WEST: PlayerHand(KQ852|T873|A4|KQ)}"
      ]
     },
     "execution_count": 12,
     "metadata": {},
     "output_type": "execute_result"
    }
   ],
   "source": [
    "auction = ['PASS', 'PASS', '1N', 'PASS', '3C', 'PASS', '3D', 'PASS', 'PASS']\n",
    "hands_str = 'T64.2.QJT873.JT9 A97.94.652K.8642 J3.AKQJ65.9.A753 KQ852.T873.A4.KQ'.split()\n",
    "hands = {d:PlayerHand.from_pbn(hand) for d,hand in zip(Direction,hands_str)}\n",
    "hands # N, E, S, W"
   ]
  },
  {
   "cell_type": "code",
   "execution_count": 13,
   "id": "0c45058c",
   "metadata": {},
   "outputs": [
    {
     "name": "stdout",
     "output_type": "stream",
     "text": [
      "{'card': 'ST', 'claim_the_rest': False}\n",
      "{'card': 'S7', 'claim_the_rest': False}\n",
      "{'card': 'S3', 'claim_the_rest': False}\n",
      "{'card': 'S2', 'claim_the_rest': False}\n",
      "{'card': 'S4', 'claim_the_rest': False}\n",
      "{'card': 'SA', 'claim_the_rest': False}\n",
      "{'card': 'SJ', 'claim_the_rest': False}\n",
      "{'card': 'C4', 'claim_the_rest': False}\n",
      "{'card': 'CA', 'claim_the_rest': False}\n",
      "{'card': 'CQ', 'claim_the_rest': False}\n",
      "{'card': 'C9', 'claim_the_rest': False}\n",
      "{'card': 'HJ', 'claim_the_rest': False}\n",
      "{'card': 'H3', 'claim_the_rest': False}\n",
      "{'card': 'H2', 'claim_the_rest': False}\n",
      "{'card': 'H4', 'claim_the_rest': False}\n",
      "{'card': 'HK', 'claim_the_rest': False}\n",
      "{'card': 'H7', 'claim_the_rest': False}\n",
      "{'card': 'CT', 'claim_the_rest': False}\n",
      "{'card': 'H9', 'claim_the_rest': False}\n",
      "{'card': 'HA', 'claim_the_rest': False}\n",
      "{'card': 'H8', 'claim_the_rest': False}\n",
      "{'card': 'CJ', 'claim_the_rest': False}\n",
      "{'card': 'D2', 'claim_the_rest': False}\n",
      "{'card': 'S9', 'claim_the_rest': False}\n",
      "{'card': 'D9', 'claim_the_rest': False}\n",
      "{'card': 'S5', 'claim_the_rest': False}\n",
      "{'card': 'S6', 'claim_the_rest': False}\n",
      "{'card': 'C3', 'claim_the_rest': False}\n",
      "{'card': 'CK', 'claim_the_rest': False}\n",
      "{'card': 'D3', 'claim_the_rest': False}\n",
      "{'card': 'C6', 'claim_the_rest': False}\n",
      "{'card': 'DQ', 'claim_the_rest': False}\n",
      "{'card': 'D6', 'claim_the_rest': False}\n",
      "{'card': 'C7', 'claim_the_rest': False}\n",
      "{'card': 'DA', 'claim_the_rest': False}\n",
      "{'card': 'HT', 'claim_the_rest': False}\n",
      "{'card': 'D7', 'claim_the_rest': False}\n",
      "{'card': 'C2', 'claim_the_rest': False}\n",
      "{'card': 'HQ', 'claim_the_rest': False}\n",
      "{'card': 'DJ', 'claim_the_rest': False}\n",
      "{'card': 'DK', 'claim_the_rest': False}\n",
      "{'card': 'C5', 'claim_the_rest': False}\n",
      "{'card': 'D4', 'claim_the_rest': False}\n",
      "{'card': 'C8', 'claim_the_rest': False}\n",
      "{'card': 'H5', 'claim_the_rest': False}\n",
      "{'card': 'S8', 'claim_the_rest': False}\n",
      "{'card': 'D8', 'claim_the_rest': False}\n"
     ]
    }
   ],
   "source": [
    "from transform_play_card import get_ben_card_play_answer\n",
    "\n",
    "\n",
    "leader = Direction.WEST\n",
    "current_player = Direction.NORTH\n",
    "tricks = [[\"SK\"]]\n",
    "# while all([hand.len()!=1 for hand in hands.values()]) :\n",
    "for i in range(47) :\n",
    "    if len(tricks[-1])==4 :\n",
    "        last_trick = Trick.from_list(leader=leader,trick_as_list=[Card_.from_str(card) for card in tricks[-1]])\n",
    "        current_player = last_trick.winner(trump=BiddingSuit.DIAMONDS)\n",
    "        leader = current_player\n",
    "        tricks.append([])\n",
    "    card = await get_ben_card_play_answer(hand_str=hands[current_player if current_player!=Direction.NORTH else Direction.SOUTH].to_pbn(),dummy_hand_str=hands[Direction.NORTH].to_pbn(),dealer_str='N',vuln_str=\"N-S\",auction=auction,contract=\"3DS\",declarer_str=\"S\",next_player_str=current_player.abbreviation(),tricks_str=tricks,MODELS=models)\n",
    "    print(card)\n",
    "    tricks[-1].append(card[\"card\"])\n",
    "    hands[current_player].remove(Card_.from_str(card[\"card\"]))\n",
    "    current_player = current_player.next()"
   ]
  },
  {
   "cell_type": "code",
   "execution_count": 14,
   "id": "792a5d16",
   "metadata": {},
   "outputs": [
    {
     "data": {
      "text/plain": [
       "[['SK', 'ST', 'S7', 'S3'],\n",
       " ['S2', 'S4', 'SA', 'SJ'],\n",
       " ['C4', 'CA', 'CQ', 'C9'],\n",
       " ['HJ', 'H3', 'H2', 'H4'],\n",
       " ['HK', 'H7', 'CT', 'H9'],\n",
       " ['HA', 'H8', 'CJ', 'D2'],\n",
       " ['S9', 'D9', 'S5', 'S6'],\n",
       " ['C3', 'CK', 'D3', 'C6'],\n",
       " ['DQ', 'D6', 'C7', 'DA'],\n",
       " ['HT', 'D7', 'C2', 'HQ'],\n",
       " ['DJ', 'DK', 'C5', 'D4'],\n",
       " ['C8', 'H5', 'S8', 'D8']]"
      ]
     },
     "execution_count": 14,
     "metadata": {},
     "output_type": "execute_result"
    }
   ],
   "source": [
    "tricks"
   ]
  },
  {
   "cell_type": "code",
   "execution_count": 15,
   "id": "3b81dfb6",
   "metadata": {},
   "outputs": [],
   "source": [
    "auction = ['PASS', '1S', 'PASS', '1N', 'PASS', '2C', 'PASS', '3S', 'PASS', '4S', 'PASS', 'PASS']\n",
    "hands_str =\"765.AJ732.K3.J75 KJ8Q9.9T.5Q.4KA3 2T.Q865.J97.QT92 A43.K4.AT8642.86\".split()\n",
    "hands = {d:PlayerHand.from_pbn(hand) for d,hand in zip(Direction,hands_str)}"
   ]
  },
  {
   "cell_type": "code",
   "execution_count": 16,
   "id": "405263d4",
   "metadata": {},
   "outputs": [
    {
     "name": "stdout",
     "output_type": "stream",
     "text": [
      "{'card': 'DA', 'claim_the_rest': False}\n",
      "{'card': 'D3', 'claim_the_rest': False}\n",
      "{'card': 'D5', 'claim_the_rest': False}\n",
      "{'card': 'C6', 'claim_the_rest': False}\n",
      "{'card': 'C7', 'claim_the_rest': False}\n",
      "{'card': 'CA', 'claim_the_rest': False}\n",
      "{'card': 'C2', 'claim_the_rest': False}\n",
      "{'card': 'CK', 'claim_the_rest': False}\n",
      "{'card': 'C9', 'claim_the_rest': False}\n",
      "{'card': 'C8', 'claim_the_rest': False}\n",
      "{'card': 'C5', 'claim_the_rest': False}\n",
      "{'card': 'C3', 'claim_the_rest': False}\n",
      "{'card': 'CT', 'claim_the_rest': False}\n",
      "{'card': 'S4', 'claim_the_rest': False}\n",
      "{'card': 'CJ', 'claim_the_rest': False}\n",
      "{'card': 'D2', 'claim_the_rest': False}\n",
      "{'card': 'DK', 'claim_the_rest': False}\n",
      "{'card': 'DQ', 'claim_the_rest': False}\n",
      "{'card': 'D9', 'claim_the_rest': False}\n",
      "{'card': 'S7', 'claim_the_rest': False}\n",
      "{'card': 'SJ', 'claim_the_rest': False}\n",
      "{'card': 'S2', 'claim_the_rest': False}\n",
      "{'card': 'S3', 'claim_the_rest': False}\n",
      "{'card': 'C4', 'claim_the_rest': False}\n",
      "{'card': 'CQ', 'claim_the_rest': False}\n",
      "{'card': 'SA', 'claim_the_rest': False}\n",
      "{'card': 'H2', 'claim_the_rest': False}\n",
      "{'card': 'DT', 'claim_the_rest': False}\n",
      "{'card': 'H3', 'claim_the_rest': False}\n",
      "{'card': 'S8', 'claim_the_rest': False}\n",
      "{'card': 'DJ', 'claim_the_rest': False}\n",
      "{'card': 'SQ', 'claim_the_rest': False}\n",
      "{'card': 'ST', 'claim_the_rest': False}\n",
      "{'card': 'D6', 'claim_the_rest': False}\n",
      "{'card': 'S5', 'claim_the_rest': False}\n",
      "{'card': 'S9', 'claim_the_rest': False}\n",
      "{'card': 'H5', 'claim_the_rest': False}\n",
      "{'card': 'D4', 'claim_the_rest': False}\n",
      "{'card': 'S6', 'claim_the_rest': False}\n",
      "{'card': 'H9', 'claim_the_rest': False}\n",
      "{'card': 'H6', 'claim_the_rest': False}\n",
      "{'card': 'HK', 'claim_the_rest': False}\n",
      "{'card': 'HA', 'claim_the_rest': False}\n",
      "{'card': 'HJ', 'claim_the_rest': False}\n",
      "{'card': 'HT', 'claim_the_rest': False}\n",
      "{'card': 'H8', 'claim_the_rest': False}\n",
      "{'card': 'H4', 'claim_the_rest': False}\n"
     ]
    }
   ],
   "source": [
    "leader = Direction.SOUTH\n",
    "current_player = Direction.WEST\n",
    "tricks = [[\"D7\"]]\n",
    "# while all([hand.len()!=1 for hand in hands.values()]) :\n",
    "for i in range(47) :\n",
    "    if len(tricks[-1])==4 :\n",
    "        last_trick = Trick.from_list(leader=leader,trick_as_list=[Card_.from_str(card) for card in tricks[-1]])\n",
    "        current_player = last_trick.winner(trump=BiddingSuit.SPADES)\n",
    "        leader = current_player\n",
    "        tricks.append([])\n",
    "    card = await get_ben_card_play_answer(hand_str=hands[current_player if current_player!=Direction.WEST else Direction.EAST].to_pbn(),dummy_hand_str=hands[Direction.WEST].to_pbn(),dealer_str='N',vuln_str=\"None\",auction=auction,contract=\"4SE\",declarer_str=\"E\",next_player_str=current_player.abbreviation(),tricks_str=tricks,MODELS=models)\n",
    "    print(card)\n",
    "    tricks[-1].append(card[\"card\"])\n",
    "    hands[current_player].remove(Card_.from_str(card[\"card\"]))\n",
    "    current_player = current_player.next()"
   ]
  }
 ],
 "metadata": {
  "kernelspec": {
   "display_name": "Python 3 (ipykernel)",
   "language": "python",
   "name": "python3"
  },
  "language_info": {
   "codemirror_mode": {
    "name": "ipython",
    "version": 3
   },
   "file_extension": ".py",
   "mimetype": "text/x-python",
   "name": "python",
   "nbconvert_exporter": "python",
   "pygments_lexer": "ipython3",
   "version": "3.10.2"
  },
  "vscode": {
   "interpreter": {
    "hash": "db6859663c517eaff44cb590a4f83a9ffca1c2df3a6cfb3b0e93ea33231aa8bf"
   }
  }
 },
 "nbformat": 4,
 "nbformat_minor": 5
}
