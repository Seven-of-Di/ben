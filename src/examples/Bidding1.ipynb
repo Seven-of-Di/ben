{
 "cells": [
  {
   "cell_type": "markdown",
   "id": "75d07246",
   "metadata": {},
   "source": [
    "# Bidding\n",
    "\n",
    "This is a tutorial for how to use the bidding engine"
   ]
  },
  {
   "cell_type": "code",
   "execution_count": 1,
   "id": "59a5664c",
   "metadata": {},
   "outputs": [
    {
     "name": "stderr",
     "output_type": "stream",
     "text": [
      "Loaded lib <WinDLL 'C:\\Users\\lucbe\\OneDrive\\Documents\\Bridge\\ben\\ben\\dds.dll', handle 7ffbd3ed0000 at 0x16f825b7df0>\n"
     ]
    }
   ],
   "source": [
    "import os\n",
    "os.chdir('..')\n",
    "\n",
    "from nn.models import Models\n",
    "from bots import BotBid\n",
    "from bidding import bidding\n",
    "from util import hand_to_str\n",
    "from deck52 import random_deal\n",
    "from utils import Direction,BiddingSuit,Suit,Card_,PlayerHand\n",
    "from PlayRecord import PlayRecord,Trick"
   ]
  },
  {
   "cell_type": "code",
   "execution_count": 2,
   "id": "44786d5d",
   "metadata": {},
   "outputs": [
    {
     "name": "stdout",
     "output_type": "stream",
     "text": [
      "INFO:tensorflow:Restoring parameters from ../models/gib21_model/gib21-1000000\n",
      "INFO:tensorflow:Restoring parameters from ../models/gib21_info_model/gib21_info-500000\n",
      "INFO:tensorflow:Restoring parameters from ../models/lead_model_b/lead-1000000\n",
      "INFO:tensorflow:Restoring parameters from ../models/lr3_model/lr3-1000000\n",
      "INFO:tensorflow:Restoring parameters from ../models/lefty_model/lefty-1000000\n",
      "INFO:tensorflow:Restoring parameters from ../models/dummy_model/dummy-920000\n",
      "INFO:tensorflow:Restoring parameters from ../models/righty_model/righty-1000000\n",
      "INFO:tensorflow:Restoring parameters from ../models/decl_model/decl-1000000\n"
     ]
    }
   ],
   "source": [
    "models = Models.load('../models')   # loading neural networks"
   ]
  },
  {
   "cell_type": "markdown",
   "id": "10d8f2fc",
   "metadata": {},
   "source": [
    "### Running through an example"
   ]
  },
  {
   "cell_type": "code",
   "execution_count": 3,
   "id": "19dbfeb7",
   "metadata": {},
   "outputs": [],
   "source": [
    "# East deals, EW vulnerable.\n",
    "vuln_ns, vuln_ew = False, True"
   ]
  },
  {
   "cell_type": "code",
   "execution_count": 4,
   "id": "5b5c0bd3",
   "metadata": {},
   "outputs": [
    {
     "name": "stdout",
     "output_type": "stream",
     "text": [
      "['Axx.AT.AQJx.AQ9x KJT8.Qxx.KTxx.Jx Qxxx.KJxxx.x.xxx 9x.98x.98xx.KT8x', 'Ax.AQx.K9x.AKJ9x Kxx.Tx.QJ8xxx.Tx Qxxx.KJxxx.x.xxx JT98.98x.ATx.Q8x', 'AKx.AQx.AK9x.JT8 J98.T8x.Txxx.AQx Qxxx.KJxxx.x.xxx Txx.9x.QJ8x.K9xx', 'AKJ.Ax.AK8xx.J9x 98x.QT.QJ9xx.AQx Qxxx.KJxxx.x.xxx Txx.98xx.Tx.KT8x', 'K9.AQ9.AKx.KQ98x Axx.T8xx.QJTx.Jx Qxxx.KJxxx.x.xxx JT8x.x.98xxx.ATx', 'KT.Ax.AQT8x.AK9x J8x.Q98x.Kxx.JTx Qxxx.KJxxx.x.xxx A9xx.Tx.J9xx.Q8x', 'K8x.AQx.AKT9.KJx AJTx.98.xxx.AQ8x Qxxx.KJxxx.x.xxx 9x.Txx.QJ8xx.T9x', 'Axx.Axx.KQ8x.AQJ KT9x.Q9.AJTx.Txx Qxxx.KJxxx.x.xxx J8.T8x.9xxx.K98x', 'KT8.A9.AQJT.AQJx 9x.QTx.8xxx.K98x Qxxx.KJxxx.x.xxx AJxx.8xx.K9xx.Tx', 'Kxx.Ax.AKTxx.AQx JTx.Q8x.Q8xx.K9x Qxxx.KJxxx.x.xxx A98.T9x.J9x.JT8x']\n",
      "3S\n",
      "[{'call': '3S', 'insta_score': 0.9985024929046631}]\n"
     ]
    }
   ],
   "source": [
    "hand = 'Q432.KJ654.4.432'\n",
    "auction = ['PAD_START', '2N', 'PASS','3C','PASS','3D','PASS'] # Here, it wrongly passes on the stayman answer, just like he would pass a 3D opening\n",
    "bot_bid = BotBid([vuln_ns, vuln_ew], hand, models)\n",
    "bid = bot_bid.restful_bid(auction)\n",
    "\n",
    "print(bid.samples) #The samples are correct\n",
    "print(bid.bid)\n",
    "print(bid.to_dict()['candidates'])"
   ]
  },
  {
   "cell_type": "code",
   "execution_count": 5,
   "id": "87c66c19",
   "metadata": {},
   "outputs": [
    {
     "name": "stdout",
     "output_type": "stream",
     "text": [
      "['x.T98x.T9x.KQJ8x T8xx.AKx.KJxx.xx AQx.QJxxx.Q8xx.x KJ9xx.x.Ax.AT9xx', '9.Txx.9xxx.AJ9xx T8xx.AKx.KJxx.xx KJx.QJ98xx.ATx.8 AQxxx.x.Q8.KQTxx', 'xx.98x.A9xx.J98x T8xx.AKx.KJxx.xx AJ.QJTxxxx.xx.Ax KQ9xx..QT8.KQTxx', 'Kx.8xxx.Q9xx.Q98 T8xx.AKx.KJxx.xx Qx.QJT9xx.8x.AKx AJ9xx..ATx.JTxxx', 'J9xx.T8xx.Q.Q8xx T8xx.AKx.KJxx.xx .QJ9xxx.Axx.AKJ9 AKQxx..T98xx.Txx', 'A9x.T98.QT9xx.Tx T8xx.AKx.KJxx.xx .Qxxxxx.8xx.AKJx KQJxxx.J.A.Q98xx', 'AQx.Jxxx.Txx.Jxx T8xx.AKx.KJxx.xx K.QT98xx.A8x.KT8 J9xxx..Q9x.AQ9xx', 'xx.T8xx.8xx.AK8x T8xx.AKx.KJxx.xx Qx.QJxxx.AQ9x.Qx AKJ9x.9.Tx.JT9xx', 'x.T8xxx.Txx.AKxx T8xx.AKx.KJxx.xx Qxx.QJ9xx.AQ9.Jx AKJ9x..8xx.QT98x', 'KJx.8xxxx.9xx.Jx T8xx.AKx.KJxx.xx A.QJT9x.AT8.Q9xx Q9xxx..Qxx.AKT8x']\n",
      "4S\n",
      "[{'call': '4S', 'insta_score': 0.6949708461761475, 'expected_score': 320.36643083173027}, {'call': '3S', 'insta_score': 0.16825923323631287, 'expected_score': 136.36750371055777}]\n"
     ]
    }
   ],
   "source": [
    "hand = 'T873.AK6.KJ32.43'\n",
    "auction = ['PASS','PASS','1H','2H','3H'] # Here, it correctly bids 4S\n",
    "bot_bid = BotBid([vuln_ns, vuln_ew], hand, models)\n",
    "bid = bot_bid.restful_bid(auction)\n",
    "\n",
    "print(bid.samples) #The samples are correct\n",
    "print(bid.bid)\n",
    "print(bid.to_dict()['candidates'])"
   ]
  },
  {
   "cell_type": "code",
   "execution_count": 6,
   "id": "a707a8da",
   "metadata": {},
   "outputs": [
    {
     "name": "stdout",
     "output_type": "stream",
     "text": [
      "['QJ.J98xxx.ATx.KJ T8xx.AKx.KJxx.xx Ax.xx.98xxx.98xx K9xxx.QT.Q.AQTxx', 'Ax.JT98xxx.x.KQx T8xx.AKx.KJxx.xx J9xx.Qx.9xxx.Txx KQx.x.AQT8.AJ98x', 'KQ.JT9xxx.Q9.AJx T8xx.AKx.KJxx.xx 9x.Qxx.8xxx.QT9x AJxxx.8.ATx.K8xx', 'K9.QJT9xx.AT.AQT T8xx.AKx.KJxx.xx xx.8xx.98xx.J9xx AQJxx.x.Qxx.K8xx', 'x.QJxxx.Axx.AKQx T8xx.AKx.KJxx.xx J9xx.T9xx.QT8x.x AKQx.8.9x.JT98xx', 'Jx.QJTxx.A8.KQ9x T8xx.AKx.KJxx.xx Q9.9xxx.QTxx.T8x AKxxx.8.9xx.AJxx', '9.QJT9xxx.Axx.Ax T8xx.AKx.KJxx.xx Jxx.8x.T8xx.T98x AKQxx.x.Q9.KQJxx', 'A9.QJT98xxx.AQ.x T8xx.AKx.KJxx.xx QJ.x.9xxxx.JT8xx Kxxxx.x.T8.AKQ9x', 'K9x.QJT9xx.Tx.AK T8xx.AKx.KJxx.xx J.xxx.Q8x.JT8xxx AQxxx.8.A9xx.Q9x', 'K.QT98xxx.x.AQ9x T8xx.AKx.KJxx.xx 9xxx.Jxx.Qxx.T8x AQJx..AT98x.KJxx']\n",
      "2N\n",
      "[{'call': '2N', 'insta_score': 0.3044964373111725, 'expected_score': 373.85024912646315}, {'call': '2S', 'insta_score': 0.2832288444042206, 'expected_score': 277.2256473955225}]\n"
     ]
    }
   ],
   "source": [
    "hand = 'T873.AK6.KJ32.43'\n",
    "auction = ['1H','PASS','PASS','2H','PASS'] #Here, it wrongly fit the artificial 3H\n",
    "bot_bid = BotBid([vuln_ns, vuln_ew], hand, models)\n",
    "bid = bot_bid.restful_bid(auction)\n",
    "\n",
    "print(bid.samples) #The samples are correct\n",
    "print(bid.bid)\n",
    "print(bid.to_dict()['candidates'])"
   ]
  },
  {
   "cell_type": "code",
   "execution_count": 7,
   "id": "df14a08f",
   "metadata": {},
   "outputs": [
    {
     "name": "stdout",
     "output_type": "stream",
     "text": [
      "['J9.Txx.JTxx.xxxx K8x.AQ.AQxxx.8xx Txx.8xxx.98x.JT9 AQxxx.KJ9x.K.AKQ', 'JT9.xx.J98xx.9xx Kxxx.AQT.AQxx.8x 8.8xxx.Txx.JTxxx AQxxx.KJ9x.K.AKQ', 'Txx.Qxx.Jxx.T98x KJ8.Ax.AQxx.Jxxx 9x.T8xx.T98xx.xx AQxxx.KJ9x.K.AKQ', 'J9x.Tx.xxxx.JTxx Kx.AQx.AQ98x.xxx T8x.8xxx.JTx.98x AQxxx.KJ9x.K.AKQ', 'T8x.Tx.9xxx.9xxx KJx.A8x.AQ8x.Jxx 9x.Qxxx.JTxx.T8x AQxxx.KJ9x.K.AKQ', 'Tx.Tx.8xxxx.T9xx K8x.AQxx.AJT.J8x J9x.8xx.Q9xx.xxx AQxxx.KJ9x.K.AKQ', 'T8x.xxx.9xx.JT8x KJx.AQT.AJx.9xxx 9x.8xx.QT8xxx.xx AQxxx.KJ9x.K.AKQ', 'Jxx.xx.T9xxxx.9x K98.AQT8.AQJx.JT Tx.xxx.8x.8xxxxx AQxxx.KJ9x.K.AKQ', 'T8x.xx.9xxx.JTxx KJ.AQTx.AJT8x.9x 9xx.8xx.Qxx.8xxx AQxxx.KJ9x.K.AKQ', '9x.8xx.JTxxx.JTx KTx.AQT.AQ98.8xx J8x.xxx.xxx.9xxx AQxxx.KJ9x.K.AKQ']\n",
      "2C\n",
      "[{'call': '2C', 'insta_score': 0.940109372138977}]\n"
     ]
    }
   ],
   "source": [
    "hand = 'AQ752.KJ92.K.AKQ'\n",
    "auction = [\"PASS\",\"1N\",\"PASS\"] #Here, it correctly does a stayman\n",
    "bot_bid = BotBid([vuln_ns, vuln_ew], hand, models)\n",
    "bid = bot_bid.restful_bid(auction)\n",
    "\n",
    "print(bid.samples) #The samples are correct\n",
    "print(bid.bid)\n",
    "print(bid.to_dict()['candidates'])"
   ]
  },
  {
   "cell_type": "code",
   "execution_count": 8,
   "id": "f8df6941",
   "metadata": {},
   "outputs": [
    {
     "name": "stdout",
     "output_type": "stream",
     "text": [
      "['KTx.Qxx.QJT9.J8x 8x.ATxx.A8xx.9xx J9x.8x.xxxx.Txxx AQxxx.KJ9x.K.AKQ', 'J8x.AT8.Tx.Jxxxx KTx.Qxx.AQ8xx.xx 9x.xxx.J9xxx.T98 AQxxx.KJ9x.K.AKQ', 'KJx.Q.JTxxx.J9xx 9x.A8x.Q9xx.8xxx T8x.Txxxx.A8x.Tx AQxxx.KJ9x.K.AKQ', 'K9x.Tx.Axxxx.JTx Txx.A8xx.T98.9xx J8.Qxx.QJxx.8xxx AQxxx.KJ9x.K.AKQ', '8x.AT8.98x.JTxxx J9x.Qxxx.JTxxx.x KTx.xx.AQxx.98xx AQxxx.KJ9x.K.AKQ', 'J9x.Axx.AQxxx.T9 K8x.8x.J98x.8xxx Tx.QTxx.Txx.Jxxx AQxxx.KJ9x.K.AKQ', 'x.A8xx.Q8xx.JTxx J98.Txxx.A9x.xxx KTxx.Q.JTxxx.98x AQxxx.KJ9x.K.AKQ', 'Tx.Qxxxx.J8x.T9x J8.T8.AQT9x.J8xx K9xx.Ax.xxxx.xxx AQxxx.KJ9x.K.AKQ', 'KJx.8xx.Jxx.J8xx 9x.QTx.AQ9xx.Txx T8x.Axx.T8xx.9xx AQxxx.KJ9x.K.AKQ', '9x.8xx.AJxxx.JTx Kx.AQ.T9xx.9xxxx JT8x.Txxx.Q8x.8x AQxxx.KJ9x.K.AKQ']\n",
      "3H\n",
      "[{'call': '3H', 'insta_score': 0.9574984908103943}]\n"
     ]
    }
   ],
   "source": [
    "hand = 'AQ752.KJ92.K.AKQ'\n",
    "auction = [ 'PASS','PASS','PASS','1S',\"PASS\",\"1N\",\"PASS\"] #Here, it bids 2C (\"stayaman !\") instead of 3H, like in the first hand of the demo (https://lorserker.github.io/ben/demo/viz.html?deal=1). Note that the insta score is exactly the same as the previous example\n",
    "bot_bid = BotBid([vuln_ns, vuln_ew], hand, models)\n",
    "bid = bot_bid.restful_bid(auction)\n",
    "\n",
    "print(bid.samples) #The samples are correct\n",
    "print(bid.bid)\n",
    "print(bid.to_dict()['candidates'])"
   ]
  },
  {
   "cell_type": "code",
   "execution_count": null,
   "id": "7d30b63d",
   "metadata": {},
   "outputs": [],
   "source": []
  },
  {
   "cell_type": "markdown",
   "id": "8da5c690",
   "metadata": {},
   "source": [
    "## Bidding through the hand from the  beginning\n",
    "\n",
    "We have to bid through the hand from the beginning because the bots have state that needs to be propagated.\n",
    "\n",
    "If we ask the bot to bid in the middle of the auction then it didn't accumulate the state from the beginning of the auction and it looks like it \"forgets\" older bids\n",
    "\n",
    "Follwing is the full auction from the start for the first example where the bot passed in a stayman sequence."
   ]
  },
  {
   "cell_type": "code",
   "execution_count": 9,
   "id": "d079e241",
   "metadata": {},
   "outputs": [
    {
     "data": {
      "text/plain": [
       "{NORTH: PlayerHand(A643|8632|Q6|AQ3),\n",
       " EAST: PlayerHand(T872|74|J984|K96),\n",
       " SOUTH: PlayerHand(KJ|KQ95|A2|JT742),\n",
       " WEST: PlayerHand(Q95|AJT|KT753|85)}"
      ]
     },
     "execution_count": 9,
     "metadata": {},
     "output_type": "execute_result"
    }
   ],
   "source": [
    "hands_str = 'A643.8632.Q6.AQ3 T872.74.J984.K96 KJ.KQ95.A2.JT742 Q95.AJT.KT753.85'.split()\n",
    "hands = {d:PlayerHand.from_pbn(hand) for d,hand in zip(Direction,hands_str)}\n",
    "hands # N, E, S, W\n"
   ]
  },
  {
   "cell_type": "code",
   "execution_count": 10,
   "id": "1d390ac1",
   "metadata": {},
   "outputs": [
    {
     "data": {
      "text/plain": [
       "['1C',\n",
       " 'PASS',\n",
       " '1H',\n",
       " 'PASS',\n",
       " '2H',\n",
       " 'PASS',\n",
       " '3C',\n",
       " 'PASS',\n",
       " '3H',\n",
       " 'PASS',\n",
       " '4H',\n",
       " 'PASS',\n",
       " 'PASS',\n",
       " 'PASS']"
      ]
     },
     "execution_count": 10,
     "metadata": {},
     "output_type": "execute_result"
    }
   ],
   "source": [
    "auction = []\n",
    "\n",
    "turn_i = 0  # whose turn is it to bid\n",
    "\n",
    "while not bidding.auction_over(auction):\n",
    "    auction.append(BotBid([False, False], hands[Direction(turn_i)].to_pbn(), models).restful_bid(auction).bid)\n",
    "    turn_i = (turn_i+1)%4\n",
    "    \n",
    "auction"
   ]
  },
  {
   "cell_type": "markdown",
   "id": "ada92dd9",
   "metadata": {},
   "source": [
    "now the bot doesn't pass 3D anymore and they complete their smolen sequence"
   ]
  },
  {
   "cell_type": "code",
   "execution_count": 11,
   "id": "33d366c7",
   "metadata": {},
   "outputs": [
    {
     "ename": "IndexError",
     "evalue": "index 3 is out of bounds for axis 0 with size 2",
     "output_type": "error",
     "traceback": [
      "\u001b[1;31m---------------------------------------------------------------------------\u001b[0m",
      "\u001b[1;31mIndexError\u001b[0m                                Traceback (most recent call last)",
      "Cell \u001b[1;32mIn [11], line 14\u001b[0m\n\u001b[0;32m     12\u001b[0m     leader \u001b[39m=\u001b[39m current_player\n\u001b[0;32m     13\u001b[0m     tricks\u001b[39m.\u001b[39mappend([])\n\u001b[1;32m---> 14\u001b[0m card \u001b[39m=\u001b[39m \u001b[39mawait\u001b[39;00m get_ben_card_play_answer(hand_str\u001b[39m=\u001b[39mhands[current_player \u001b[39mif\u001b[39;00m current_player\u001b[39m!=\u001b[39mDirection\u001b[39m.\u001b[39mNORTH \u001b[39melse\u001b[39;00m Direction\u001b[39m.\u001b[39mSOUTH]\u001b[39m.\u001b[39mto_pbn(),dummy_hand_str\u001b[39m=\u001b[39mhands[Direction\u001b[39m.\u001b[39mNORTH]\u001b[39m.\u001b[39mto_pbn(),dealer_str\u001b[39m=\u001b[39m\u001b[39m'\u001b[39m\u001b[39mN\u001b[39m\u001b[39m'\u001b[39m,vuln_str\u001b[39m=\u001b[39m\u001b[39m\"\u001b[39m\u001b[39mNone\u001b[39m\u001b[39m\"\u001b[39m,auction\u001b[39m=\u001b[39mauction,contract\u001b[39m=\u001b[39m\u001b[39m\"\u001b[39m\u001b[39m4HS\u001b[39m\u001b[39m\"\u001b[39m,declarer_str\u001b[39m=\u001b[39m\u001b[39m\"\u001b[39m\u001b[39mS\u001b[39m\u001b[39m\"\u001b[39m,next_player_str\u001b[39m=\u001b[39mcurrent_player\u001b[39m.\u001b[39mabbreviation(),tricks_str\u001b[39m=\u001b[39mtricks,MODELS\u001b[39m=\u001b[39mmodels)\n\u001b[0;32m     15\u001b[0m tricks[\u001b[39m-\u001b[39m\u001b[39m1\u001b[39m]\u001b[39m.\u001b[39mappend(card)\n\u001b[0;32m     16\u001b[0m hands[current_player]\u001b[39m.\u001b[39mremove(Card_\u001b[39m.\u001b[39mfrom_str(card))\n",
      "File \u001b[1;32mc:\\Users\\lucbe\\OneDrive\\Documents\\Bridge\\ben\\ben\\src\\transform_play_card.py:109\u001b[0m, in \u001b[0;36mget_ben_card_play_answer\u001b[1;34m(hand_str, dummy_hand_str, dealer_str, vuln_str, auction, contract, declarer_str, next_player_str, tricks_str, MODELS)\u001b[0m\n\u001b[0;32m    107\u001b[0m \u001b[39mif\u001b[39;00m play_status\u001b[39m==\u001b[39m\u001b[39m\"\u001b[39m\u001b[39mDiscard\u001b[39m\u001b[39m\"\u001b[39m :\n\u001b[0;32m    108\u001b[0m     n_samples \u001b[39m=\u001b[39m \u001b[39m50\u001b[39m\n\u001b[1;32m--> 109\u001b[0m rollout_states,probabilities_list \u001b[39m=\u001b[39m sample\u001b[39m.\u001b[39;49minit_rollout_states(trick_i, player_i, card_players, player_cards_played, shown_out_suits,\n\u001b[0;32m    110\u001b[0m                                             current_trick, n_samples, padded_auction, card_players[player_i]\u001b[39m.\u001b[39;49mhand\u001b[39m.\u001b[39;49mreshape((\u001b[39m-\u001b[39;49m\u001b[39m1\u001b[39;49m, \u001b[39m32\u001b[39;49m)), vuls, MODELS)\n\u001b[0;32m    111\u001b[0m resp \u001b[39m=\u001b[39m \u001b[39mawait\u001b[39;00m card_players[player_i]\u001b[39m.\u001b[39masync_play_card(trick_i, leader_i, current_trick52, rollout_states,probabilities_list)\n\u001b[0;32m    112\u001b[0m \u001b[39mreturn\u001b[39;00m play_real_card(random_diag\u001b[39m.\u001b[39mhands[next_player], \u001b[39mlist\u001b[39m(resp\u001b[39m.\u001b[39mto_dict()\u001b[39m.\u001b[39mvalues())[\u001b[39m0\u001b[39m], trump\u001b[39m=\u001b[39mBiddingSuit\u001b[39m.\u001b[39mfrom_str(contract[\u001b[39m1\u001b[39m]), play_record\u001b[39m=\u001b[39mplay_record, player_direction\u001b[39m=\u001b[39mnext_player, declarer\u001b[39m=\u001b[39mdeclarer)\u001b[39m.\u001b[39m\u001b[39m__str__\u001b[39m()\n",
      "File \u001b[1;32mc:\\Users\\lucbe\\OneDrive\\Documents\\Bridge\\ben\\ben\\src\\sample.py:519\u001b[0m, in \u001b[0;36minit_rollout_states\u001b[1;34m(trick_i, player_i, card_players, player_cards_played, shown_out_suits, current_trick, n_samples, auction, hand, vuln, models)\u001b[0m\n\u001b[0;32m    516\u001b[0m \u001b[39mfor\u001b[39;00m h_i \u001b[39min\u001b[39;00m [hidden_1_i, hidden_2_i]:\n\u001b[0;32m    517\u001b[0m     h_i_nesw \u001b[39m=\u001b[39m player_to_nesw_i(h_i, contract)\n\u001b[1;32m--> 519\u001b[0m     bid_scores \u001b[39m=\u001b[39m get_bid_scores(h_i_nesw, auction, vuln, states[h_i][:,\u001b[39m0\u001b[39;49m,:\u001b[39m32\u001b[39;49m], models\u001b[39m.\u001b[39;49mbidder_model)\n\u001b[0;32m    521\u001b[0m     min_bid_scores \u001b[39m=\u001b[39m np\u001b[39m.\u001b[39mminimum(min_bid_scores, bid_scores)\n\u001b[0;32m    522\u001b[0m probability_of_occurence \u001b[39m=\u001b[39m np\u001b[39m.\u001b[39mmultiply(probability_of_occurence,min_bid_scores)\n",
      "File \u001b[1;32mc:\\Users\\lucbe\\OneDrive\\Documents\\Bridge\\ben\\ben\\src\\sample.py:352\u001b[0m, in \u001b[0;36mget_bid_scores\u001b[1;34m(nesw_i, auction, vuln, hand, bidder_model)\u001b[0m\n\u001b[0;32m    348\u001b[0m A \u001b[39m=\u001b[39m binary\u001b[39m.\u001b[39mget_auction_binary(n_steps, auction, nesw_i, hand, vuln)\n\u001b[0;32m    350\u001b[0m X \u001b[39m=\u001b[39m np\u001b[39m.\u001b[39mzeros((hand\u001b[39m.\u001b[39mshape[\u001b[39m0\u001b[39m], n_steps, A\u001b[39m.\u001b[39mshape[\u001b[39m-\u001b[39m\u001b[39m1\u001b[39m]))\n\u001b[1;32m--> 352\u001b[0m X[:,:,:\u001b[39m2\u001b[39m] \u001b[39m=\u001b[39m A[nesw_i,\u001b[39m0\u001b[39;49m,:\u001b[39m2\u001b[39;49m]\n\u001b[0;32m    353\u001b[0m X[:,:,\u001b[39m7\u001b[39m:\u001b[39m39\u001b[39m] \u001b[39m=\u001b[39m hand\u001b[39m.\u001b[39mreshape((\u001b[39m-\u001b[39m\u001b[39m1\u001b[39m, \u001b[39m1\u001b[39m, \u001b[39m32\u001b[39m))\n\u001b[0;32m    354\u001b[0m X[:,:,\u001b[39m39\u001b[39m:] \u001b[39m=\u001b[39m A[nesw_i,:,\u001b[39m39\u001b[39m:]\n",
      "\u001b[1;31mIndexError\u001b[0m: index 3 is out of bounds for axis 0 with size 2"
     ]
    }
   ],
   "source": [
    "from transform_play_card import get_ben_card_play_answer\n",
    "\n",
    "\n",
    "leader = Direction.WEST\n",
    "current_player = Direction.NORTH\n",
    "tricks = [[\"S5\"]]\n",
    "# while all([hand.len()!=1 for hand in hands.values()]) :\n",
    "for i in range(47) :\n",
    "    if len(tricks[-1])==4 :\n",
    "        last_trick = Trick.from_list(leader=leader,trick_as_list=[Card_.from_str(card) for card in tricks[-1]])\n",
    "        current_player = last_trick.winner(trump=BiddingSuit.HEARTS)\n",
    "        leader = current_player\n",
    "        tricks.append([])\n",
    "    card = await get_ben_card_play_answer(hand_str=hands[current_player if current_player!=Direction.NORTH else Direction.SOUTH].to_pbn(),dummy_hand_str=hands[Direction.NORTH].to_pbn(),dealer_str='N',vuln_str=\"None\",auction=auction,contract=\"4HS\",declarer_str=\"S\",next_player_str=current_player.abbreviation(),tricks_str=tricks,MODELS=models)\n",
    "    tricks[-1].append(card)\n",
    "    hands[current_player].remove(Card_.from_str(card))\n",
    "    current_player = current_player.next()"
   ]
  },
  {
   "cell_type": "code",
   "execution_count": null,
   "id": "792a5d16",
   "metadata": {},
   "outputs": [
    {
     "data": {
      "text/plain": [
       "[['S5', 'S6', 'ST', 'SJ'],\n",
       " ['SK', 'S9', 'S4', 'S7'],\n",
       " ['HQ', 'HA', 'H2', 'H7'],\n",
       " ['D3', 'D6', 'DJ', 'DA'],\n",
       " ['C4', 'C5', 'CA', 'C6'],\n",
       " ['SA', 'S2', 'D2', 'SQ'],\n",
       " ['H6', 'H4', 'HK', 'HT'],\n",
       " ['C2', 'C8', 'CQ', 'CK'],\n",
       " ['S8', 'H5', 'D5', 'S3'],\n",
       " ['CT', 'HJ', 'C3', 'C9'],\n",
       " ['DK', 'DQ', 'D4', 'H9'],\n",
       " ['CJ', 'D7', 'H3', 'D8']]"
      ]
     },
     "execution_count": 12,
     "metadata": {},
     "output_type": "execute_result"
    }
   ],
   "source": [
    "tricks"
   ]
  }
 ],
 "metadata": {
  "kernelspec": {
   "display_name": "Python 3 (ipykernel)",
   "language": "python",
   "name": "python3"
  },
  "language_info": {
   "codemirror_mode": {
    "name": "ipython",
    "version": 3
   },
   "file_extension": ".py",
   "mimetype": "text/x-python",
   "name": "python",
   "nbconvert_exporter": "python",
   "pygments_lexer": "ipython3",
   "version": "3.10.2"
  },
  "vscode": {
   "interpreter": {
    "hash": "db6859663c517eaff44cb590a4f83a9ffca1c2df3a6cfb3b0e93ea33231aa8bf"
   }
  }
 },
 "nbformat": 4,
 "nbformat_minor": 5
}
