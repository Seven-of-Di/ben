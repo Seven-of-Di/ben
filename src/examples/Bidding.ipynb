{
 "cells": [
  {
   "cell_type": "markdown",
   "id": "75d07246",
   "metadata": {},
   "source": [
    "# Bidding\n",
    "\n",
    "This is a tutorial for how to use the bidding engine"
   ]
  },
  {
   "cell_type": "code",
   "execution_count": 1,
   "id": "59a5664c",
   "metadata": {},
   "outputs": [],
   "source": [
    "import os\n",
    "os.chdir('..')\n",
    "\n",
    "from nn.models import Models\n",
    "from bots import BotBid\n",
    "from bidding import bidding\n",
    "from util import hand_to_str\n",
    "from deck52 import random_deal"
   ]
  },
  {
   "cell_type": "code",
   "execution_count": 2,
   "id": "44786d5d",
   "metadata": {},
   "outputs": [
    {
     "name": "stdout",
     "output_type": "stream",
     "text": [
      "INFO:tensorflow:Restoring parameters from ../models/gib21_model/gib21-1000000\n",
      "INFO:tensorflow:Restoring parameters from ../models/gib21_info_model/gib21_info-500000\n",
      "INFO:tensorflow:Restoring parameters from ../models/lead_model_b/lead-1000000\n",
      "INFO:tensorflow:Restoring parameters from ../models/lr3_model/lr3-1000000\n",
      "INFO:tensorflow:Restoring parameters from ../models/lefty_model/lefty-1000000\n",
      "INFO:tensorflow:Restoring parameters from ../models/dummy_model/dummy-920000\n",
      "INFO:tensorflow:Restoring parameters from ../models/righty_model/righty-1000000\n",
      "INFO:tensorflow:Restoring parameters from ../models/decl_model/decl-1000000\n"
     ]
    }
   ],
   "source": [
    "models = Models.load('../models')   # loading neural networks"
   ]
  },
  {
   "cell_type": "markdown",
   "id": "10d8f2fc",
   "metadata": {},
   "source": [
    "### Running through an example"
   ]
  },
  {
   "cell_type": "code",
   "execution_count": 3,
   "id": "19dbfeb7",
   "metadata": {},
   "outputs": [],
   "source": [
    "# East deals, EW vulnerable.\n",
    "vuln_ns, vuln_ew = False, True\n",
    "\n",
    "# you sit West and hold:\n",
    "hand = '73.KJ83.AT2.T962'\n",
    "\n",
    "# the auction goes:\n",
    "# (a few words about 'PAD_START':\n",
    "# the auction is padded to dealer North\n",
    "# if North is not dealer, than we have to put in a 'PAD_START' for every seat that was skipped\n",
    "# if East deals we have one pad (because North is skipped)\n",
    "# if South deals we have two pads (because North and East are skipped)\n",
    "# etc.)\n",
    "auction = ['PAD_START', '1D', '1S']\n",
    "\n",
    "# what's your bid?"
   ]
  },
  {
   "cell_type": "code",
   "execution_count": 4,
   "id": "bfe98f56",
   "metadata": {},
   "outputs": [
    {
     "data": {
      "text/plain": [
       "'X'"
      ]
     },
     "execution_count": 4,
     "metadata": {},
     "output_type": "execute_result"
    }
   ],
   "source": [
    "bot_bid = BotBid([vuln_ns, vuln_ew], hand, models)\n",
    "\n",
    "bot_bid.bid(['PAD_START', '1D', '1S']).bid"
   ]
  },
  {
   "cell_type": "code",
   "execution_count": 5,
   "id": "602468ef",
   "metadata": {},
   "outputs": [
    {
     "data": {
      "text/plain": [
       "'4H'"
      ]
     },
     "execution_count": 5,
     "metadata": {},
     "output_type": "execute_result"
    }
   ],
   "source": [
    "# you double, North bids 2S, your partner 3H, PASS, back to you ...\n",
    "\n",
    "bid = bot_bid.bid(['PAD_START', '1D', '1S', 'X', '2S', '3H', 'PASS'])\n",
    "bid.bid"
   ]
  },
  {
   "cell_type": "code",
   "execution_count": 6,
   "id": "7227ea6b",
   "metadata": {},
   "outputs": [
    {
     "data": {
      "text/plain": [
       "[{'call': '4H',\n",
       "  'insta_score': 0.658929705619812,\n",
       "  'expected_score': 104.60807762839579},\n",
       " {'call': 'PASS',\n",
       "  'insta_score': 0.3114379048347473,\n",
       "  'expected_score': 41.22101373108897}]"
      ]
     },
     "execution_count": 6,
     "metadata": {},
     "output_type": "execute_result"
    }
   ],
   "source": [
    "# what options were considered?\n",
    "\n",
    "bid.to_dict()['candidates']"
   ]
  },
  {
   "cell_type": "markdown",
   "id": "ad120123",
   "metadata": {},
   "source": [
    "in the output above:\n",
    "- `insta_score` reflects what the neural network prefers to bid\n",
    "- `expected_score` is based on what you expect to score on difference samples (for example, 70% of the time you are making and 30% of the time you are going one off, then the expected score is 0.7 * 620 - 0.3 * 100)"
   ]
  },
  {
   "cell_type": "markdown",
   "id": "051ff121",
   "metadata": {},
   "source": [
    "### Samples consistent with the auction so far\n",
    "\n",
    "Above we said that we are computig expected scores on samples consistent with the auction so far.\n",
    "\n",
    "How do we get these samples?\n",
    "\n",
    "We get some samples in the response we get from the bot (i.e `bid.samples`)"
   ]
  },
  {
   "cell_type": "code",
   "execution_count": 7,
   "id": "55b647a5",
   "metadata": {},
   "outputs": [
    {
     "data": {
      "text/plain": [
       "['J9x.xxx.QJ8.K8xx Q8x.QTxx.Kxxx.AQ AKTxx.A9.9xx.Jxx xx.KJ8x.ATx.T9xx',\n",
       " 'Jxxx.xx.Q9.K8xxx K8x.AQ9x.K8xxx.Q AQT9.Txx.Jxx.AJx xx.KJ8x.ATx.T9xx',\n",
       " '8xx.T9.KQ8x.Q8xx AJ9.Qxxx.J9xx.Ax KQTxx.Axx.xx.KJx xx.KJ8x.ATx.T9xx',\n",
       " 'Jxx.xx.J98x.AJxx K98.AQ9x.Qxxx.Kx AQTxx.Txx.Kx.Q8x xx.KJ8x.ATx.T9xx',\n",
       " 'QT9.Txxx.Kx.8xxx J8x.A9xx.QJ8xx.A AKxxx.Q.9xx.KQJx xx.KJ8x.ATx.T9xx',\n",
       " 'QJ8x.QT9.9xx.A8x xx.Axxx.KQ8x.KQx AKT9x.xx.Jxx.Jxx xx.KJ8x.ATx.T9xx',\n",
       " '8xx.9xx.J98.KQJ8 QTx.QTxx.KQxx.Ax AKJ9x.Ax.xxx.xxx xx.KJ8x.ATx.T9xx',\n",
       " 'QJ9x.xxxx.8xx.Ax Tx.QT9x.KQJ9xx.K AK8xx.A.x.QJ8xxx xx.KJ8x.ATx.T9xx',\n",
       " 'A98x.9xx.xx.Jxxx Kx.Qxxx.QJxx.AQx QJTxx.AT.K98x.K8 xx.KJ8x.ATx.T9xx',\n",
       " 'J8x.9xx.xxxx.KQ8 T9x.AQTx.KQJx.Jx AKQxx.xx.98.Axxx xx.KJ8x.ATx.T9xx']"
      ]
     },
     "execution_count": 7,
     "metadata": {},
     "output_type": "execute_result"
    }
   ],
   "source": [
    "bid.samples"
   ]
  },
  {
   "cell_type": "markdown",
   "id": "7d0dd8f5",
   "metadata": {},
   "source": [
    "each row is one sample. the hands are in the order: N E S W\n",
    "\n",
    "(West always has the same cards because it's your hand and it's known to you)"
   ]
  },
  {
   "cell_type": "code",
   "execution_count": 8,
   "id": "7101e514",
   "metadata": {},
   "outputs": [
    {
     "name": "stdout",
     "output_type": "stream",
     "text": [
      "QT8.Q9x.98x.Kxxx KJx.ATxx.KJxx.Q8 A9xxx.xx.Qxx.AJx xx.KJ8x.ATx.T9xx\n",
      "98x.Qx.xxx.A8xxx Ax.xxxx.KQ9xx.KQ KQJTxx.AT9.J8.Jx xx.KJ8x.ATx.T9xx\n",
      "Txx.Q9x.8xx.Axxx A8x.Axxx.KJ9x.Q8 KQJ9x.Tx.Qxx.KJx xx.KJ8x.ATx.T9xx\n",
      "Jxx.9x.Kxx.KJxxx AT9.AQxx.QJ9xx.Q KQ8xx.Txx.8x.A8x xx.KJ8x.ATx.T9xx\n",
      "T8x.Tx.Kxx.Axxxx Qxx.AQxx.QJ98x.Q AKJ9x.9xx.xx.KJ8 xx.KJ8x.ATx.T9xx\n",
      "9xx.Q9xx.xx.AJxx A8x.ATx.QJ98x.Kx KQJTx.xx.Kxx.Q8x xx.KJ8x.ATx.T9xx\n",
      "Jxx.9xxx.xx.AKxx QT8.AQxx.QJ9xx.Q AK9xx.T.K8x.J8xx xx.KJ8x.ATx.T9xx\n",
      "QTxx.Q9xx.98.Qxx Kx.ATxx.KQJxx.Jx AJ98x.x.xxx.AK8x xx.KJ8x.ATx.T9xx\n",
      "T9xx.Q9x.98.Kxxx K8x.ATxx.Kxxx.Ax AQJx.xx.QJxx.QJ8 xx.KJ8x.ATx.T9xx\n",
      "KJT.9x.Jxxx.Q8xx A9x.Axxx.KQ9x.xx Q8xxx.QTx.8x.AKJ xx.KJ8x.ATx.T9xx\n",
      "98x.T9x.Jxx.KQJx QTx.Axxx.K8xx.Ax AKJxx.Qx.Q9x.8xx xx.KJ8x.ATx.T9xx\n",
      "A8x.xx.98xx.Jxxx Jxx.ATxx.KQJx.K8 KQT9x.Q9x.xx.AQx xx.KJ8x.ATx.T9xx\n",
      "T9xx.T9x.Qxx.A8x AQ.Qxxx.J98x.KQx KJ8xx.Ax.Kxx.Jxx xx.KJ8x.ATx.T9xx\n",
      "Jxx.ATx.Q9x.J8xx Ax.9xxx.K8xx.AQx KQT98x.Qx.Jxx.Kx xx.KJ8x.ATx.T9xx\n",
      "K9x.xxx.8xx.A8xx AJ8.QT9x.KQJx.Jx QTxxx.Ax.9xx.KQx xx.KJ8x.ATx.T9xx\n",
      "Q8xx.xx.QJx.Jxxx A9.A9xx.98xxx.AQ KJTxx.QTx.Kx.K8x xx.KJ8x.ATx.T9xx\n",
      "Qxx.Txx.98x.AK8x J8.AQxx.KQxxx.xx AKT9xx.9x.Jx.QJx xx.KJ8x.ATx.T9xx\n",
      "KQx.Txxx.9xx.QJx AJT.AQxx.J8xx.xx 98xxx.9.KQx.AK8x xx.KJ8x.ATx.T9xx\n",
      "QT8.Qx.8xx.QJxxx Axx.A9xx.KJxx.8x KJ9xx.Txx.Q9x.AK xx.KJ8x.ATx.T9xx\n",
      "AT9.T9xx.9xx.K8x Kxx.AQxx.KQJ8x.J QJ8xx.x.xx.AQxxx xx.KJ8x.ATx.T9xx\n",
      "Kxx.Tx.xxx.QJ8xx AT8.AQ9x.KQ9xx.x QJ9xx.xxx.J8.AKx xx.KJ8x.ATx.T9xx\n",
      "A98.T9xx.xx.KJxx Kxx.AQxx.QJ8x.xx QJTxx.x.K9xx.AQ8 xx.KJ8x.ATx.T9xx\n",
      "ATxx.Txx.xxx.KQ8 Jx.AQxx.KQ8x.xxx KQ98x.9x.J9x.AJx xx.KJ8x.ATx.T9xx\n",
      "KTxx.Q9x.Qx.xxxx Jxx.Axxx.KJ98.K8 AQ98.Tx.xxxx.AQJ xx.KJ8x.ATx.T9xx\n",
      "T9xx.QTx.xx.KJ8x Q8.9xxx.KJ8xx.AQ AKJxx.Ax.Q9x.xxx xx.KJ8x.ATx.T9xx\n",
      "ATxx.QT9x.Jx.Qxx J8.Axxx.KQ8x.Kxx KQ9xx.x.9xxx.AJ8 xx.KJ8x.ATx.T9xx\n",
      "A9x.xx.Jxxx.Jxxx QJx.A9xx.K9xx.Qx KT8xx.QTx.Q8.AK8 xx.KJ8x.ATx.T9xx\n",
      "QTxx.xx.9xx.KJxx KJ.Qxxx.KJ8x.Q8x A98xx.AT9.Qxx.Ax xx.KJ8x.ATx.T9xx\n",
      "QT9.Txx.xx.KQ8xx J8xx.AQ9x.KQ98.x AKxx.xx.Jxxx.AJx xx.KJ8x.ATx.T9xx\n",
      "8xx.Qx.98x.KQJ8x K9x.AT9x.Qxxx.Ax AQJTx.xxx.KJx.xx xx.KJ8x.ATx.T9xx\n",
      "A8xx.Qx.Jxxx.8xx KT.Txxx.KQ8x.KQx QJ9xx.A9x.9x.AJx xx.KJ8x.ATx.T9xx\n",
      "98xx.A9xx.K8x.Qx AJ.Txxx.QJxx.AJx KQTxx.Q.9xx.K8xx xx.KJ8x.ATx.T9xx\n",
      "T8xx.xx.8xx.AQxx K9.AQTxx.KQ9xxx. AQJxx.9x.J.KJ8xx xx.KJ8x.ATx.T9xx\n",
      "J8x.xx.Q9x.KJ8xx AQ.A9xx.K8xxx.xx KT9xxx.QTx.Jx.AQ xx.KJ8x.ATx.T9xx\n"
     ]
    }
   ],
   "source": [
    "# we got some samples above. if we want more, we can always get more\n",
    "\n",
    "sample_hands = bot_bid.sample_hands(['PAD_START', '1D', '1S', 'X', '2S', '3H', 'PASS'])\n",
    "\n",
    "for i in range(sample_hands.shape[0]):\n",
    "    print(f'{hand_to_str(sample_hands[i, 0, :])} {hand_to_str(sample_hands[i, 1, :])} {hand_to_str(sample_hands[i, 2, :])} {hand_to_str(sample_hands[i, 3, :])}')"
   ]
  },
  {
   "cell_type": "markdown",
   "id": "7e7f18d2",
   "metadata": {},
   "source": [
    "How do we know on which sample 4H is making and on which sample it is not? It's the topic for another tutorial, but basically we could do either (1) solve the sample double dummpy or (2) estimate the outcome using a neural network"
   ]
  },
  {
   "cell_type": "markdown",
   "id": "669da023",
   "metadata": {},
   "source": [
    "### Bidding through an entire auction for all four hands\n",
    "\n",
    "Now we'll take a random deal and let the bot bid for each hand. We assume North deals and nobody is vulnerable."
   ]
  },
  {
   "cell_type": "code",
   "execution_count": 9,
   "id": "fc27ca79",
   "metadata": {},
   "outputs": [
    {
     "data": {
      "text/plain": [
       "['Q95.AQ42.KJ7.K92',\n",
       " 'KT643.JT965.T3.7',\n",
       " 'AJ72.87.8652.T85',\n",
       " '8.K3.AQ94.AQJ643']"
      ]
     },
     "execution_count": 9,
     "metadata": {},
     "output_type": "execute_result"
    }
   ],
   "source": [
    "hands = random_deal().split()\n",
    "hands # N, E, S, W"
   ]
  },
  {
   "cell_type": "code",
   "execution_count": 10,
   "id": "d480cbba",
   "metadata": {},
   "outputs": [],
   "source": [
    "bidder_bots = [BotBid([False, False], hand, models) for hand in hands]"
   ]
  },
  {
   "cell_type": "code",
   "execution_count": 11,
   "id": "7d77351a",
   "metadata": {},
   "outputs": [
    {
     "data": {
      "text/plain": [
       "['1N', 'PASS', 'PASS', 'X', 'PASS', 'PASS', 'PASS']"
      ]
     },
     "execution_count": 11,
     "metadata": {},
     "output_type": "execute_result"
    }
   ],
   "source": [
    "auction = []  # since North deals, we don't need any 'PAD_START'\n",
    "\n",
    "turn_i = 0  # whose turn is it to bid\n",
    "\n",
    "while not bidding.auction_over(auction):\n",
    "    auction.append(bidder_bots[turn_i].bid(auction).bid)\n",
    "    turn_i = (turn_i + 1) % 4  # next player's turn\n",
    "    \n",
    "auction"
   ]
  }
 ],
 "metadata": {
  "kernelspec": {
   "display_name": "Python 3.10.2 64-bit",
   "language": "python",
   "name": "python3"
  },
  "language_info": {
   "codemirror_mode": {
    "name": "ipython",
    "version": 3
   },
   "file_extension": ".py",
   "mimetype": "text/x-python",
   "name": "python",
   "nbconvert_exporter": "python",
   "pygments_lexer": "ipython3",
   "version": "3.10.2 (tags/v3.10.2:a58ebcc, Jan 17 2022, 14:12:15) [MSC v.1929 64 bit (AMD64)]"
  },
  "vscode": {
   "interpreter": {
    "hash": "db6859663c517eaff44cb590a4f83a9ffca1c2df3a6cfb3b0e93ea33231aa8bf"
   }
  }
 },
 "nbformat": 4,
 "nbformat_minor": 5
}
