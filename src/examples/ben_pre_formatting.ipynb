{
 "cells": [
  {
   "cell_type": "code",
   "execution_count": 1,
   "metadata": {},
   "outputs": [],
   "source": [
    "from __future__ import annotations\n",
    "from typing import List\n",
    "import numpy as np\n",
    "\n",
    "import os\n",
    "os.chdir('..')\n",
    "\n",
    "from objects import Card\n",
    "from utils import Direction,PlayerHand,VULNERABILITIES,Diag\n",
    "from PlayRecord import PlayRecord,BiddingSuit\n",
    "\n",
    "from nn.models import Models\n",
    "import bots\n",
    "import conf\n",
    "from bidding import bidding\n",
    "import deck52\n",
    "import sample\n"
   ]
  },
  {
   "cell_type": "code",
   "execution_count": 2,
   "metadata": {},
   "outputs": [
    {
     "name": "stdout",
     "output_type": "stream",
     "text": [
      "INFO:tensorflow:Restoring parameters from ..\\models/gib21_model/gib21-1000000\n",
      "INFO:tensorflow:Restoring parameters from ..\\models/gib21_info_model/gib21_info-500000\n",
      "INFO:tensorflow:Restoring parameters from ..\\models/lead_model_b/lead-1000000\n",
      "INFO:tensorflow:Restoring parameters from ..\\models/lr3_model/lr3-1000000\n",
      "INFO:tensorflow:Restoring parameters from ..\\models/lefty_model/lefty-1000000\n",
      "INFO:tensorflow:Restoring parameters from ..\\models/dummy_model/dummy-920000\n",
      "INFO:tensorflow:Restoring parameters from ..\\models/righty_model/righty-1000000\n",
      "INFO:tensorflow:Restoring parameters from ..\\models/decl_model/decl-1000000\n",
      "4.613287687301636\n"
     ]
    }
   ],
   "source": [
    "from time import time\n",
    "start = time()\n",
    "MODELS = Models.from_conf(conf.load(\"../default.conf\"))\n",
    "print(time()-start)"
   ]
  },
  {
   "cell_type": "code",
   "execution_count": 3,
   "metadata": {},
   "outputs": [],
   "source": [
    "def get_ben_card_play_answer( hand_str : str,dummy_hand_str : str, dealer_str : str, vuln_str : str, auction : List, contract : str, declarer_str : str, next_player_str : str, tricks_str : List[List[str]]) :\n",
    "    padded_auction = [\"PAD_START\"] * Direction.from_str(dealer_str).value + auction\n",
    "    \n",
    "    contract = bidding.get_contract(padded_auction)\n",
    "        \n",
    "    level = int(contract[0])\n",
    "    next_player = Direction.from_str(next_player_str) \n",
    "    declarer = Direction.from_str(declarer_str)\n",
    "    strain_i = bidding.get_strain_i(contract)\n",
    "    decl_i = bidding.get_decl_i(contract)\n",
    "    vuls = VULNERABILITIES[vuln_str]\n",
    "    is_decl_vuln = [vuls[0], vuls[1], vuls[0], vuls[1]][decl_i]\n",
    "    play = [item for sublist in tricks_str for item in sublist]\n",
    "\n",
    "    hands_for_diag = {d:PlayerHand.from_pbn(hand_str if next_player==d else \"\") for d in Direction}\n",
    "    hands_for_diag[Direction.from_str(dealer_str).offset(2)]=PlayerHand.from_pbn(dummy_hand_str)\n",
    "    play_record = PlayRecord.from_tricks_as_list(declarer=declarer,list_of_tricks = tricks_str, trump = BiddingSuit.from_str(contract[1]))\n",
    "\n",
    "    for trick in play_record.record :\n",
    "        for dir,card in trick.cards.items() :\n",
    "            hands_for_diag[dir].append(card)\n",
    "    random_diag = Diag(hands_for_diag)\n",
    "\n",
    "    lefty_hand = random_diag.hands[declarer.offset(1)].to_pbn()\n",
    "    dummy_hand = random_diag.hands[declarer.offset(2)].to_pbn()\n",
    "    righty_hand = random_diag.hands[declarer.offset(3)].to_pbn()\n",
    "    decl_hand = random_diag.hands[declarer].to_pbn()\n",
    "\n",
    "\n",
    "    \n",
    "    \n",
    "    card_players = [\n",
    "            bots.CardPlayer(MODELS.player_models, 0, lefty_hand, dummy_hand, contract, is_decl_vuln),\n",
    "            bots.CardPlayer(MODELS.player_models, 1, dummy_hand, decl_hand, contract, is_decl_vuln),\n",
    "            bots.CardPlayer(MODELS.player_models, 2, righty_hand, dummy_hand, contract, is_decl_vuln),\n",
    "            bots.CardPlayer(MODELS.player_models, 3, decl_hand, dummy_hand, contract, is_decl_vuln)\n",
    "        ]\n",
    "\n",
    "    player_cards_played = [[] for _ in range(4)]\n",
    "    shown_out_suits = [set() for _ in range(4)]\n",
    "\n",
    "    leader_i = 0\n",
    "\n",
    "    tricks = []\n",
    "    tricks52 = []\n",
    "    trick_won_by = []\n",
    "\n",
    "    opening_lead52 = Card.from_symbol(play[0]).code()\n",
    "    opening_lead = deck52.card52to32(opening_lead52)\n",
    "\n",
    "    current_trick = [opening_lead]\n",
    "    current_trick52 = [opening_lead52]\n",
    "\n",
    "    card_players[0].hand52[opening_lead52] -= 1\n",
    "    card_i = 0\n",
    "\n",
    "    for trick_i in range(12):\n",
    "            for player_i in map(lambda x: x % 4, range(leader_i, leader_i + 4)):\n",
    "                if trick_i == 0 and player_i == 0:\n",
    "                    for i, card_player in enumerate(card_players):\n",
    "                        card_player.set_card_played(trick_i=trick_i, leader_i=leader_i, i=0, card=opening_lead)\n",
    "                    continue\n",
    "                \n",
    "\n",
    "                card_i += 1\n",
    "                if card_i >= len(play):\n",
    "                    start = time()\n",
    "                    rollout_states = sample.init_rollout_states(trick_i, player_i, card_players, player_cards_played, shown_out_suits, current_trick, 200, padded_auction, card_players[player_i].hand.reshape((-1, 32)), vuls, MODELS)\n",
    "                    print(time()-start)\n",
    "                    return list(card_players[player_i].play_card(trick_i, leader_i, current_trick52, rollout_states).to_dict().values())[0]\n",
    "\n",
    "                card52 = Card.from_symbol(play[card_i]).code() \n",
    "                card = deck52.card52to32(card52)\n",
    "                current_trick.append(card)\n",
    "                current_trick52.append(card52)\n",
    "\n",
    "                for card_player in card_players:\n",
    "                    card_player.set_card_played(trick_i=trick_i, leader_i=leader_i, i=player_i, card=card)\n",
    "\n",
    "\n",
    "                card_players[player_i].set_own_card_played52(card52)\n",
    "                if player_i == 1:\n",
    "                    for i in [0, 2, 3]:\n",
    "                        card_players[i].set_public_card_played52(card52)\n",
    "                if player_i == 3:\n",
    "                    card_players[1].set_public_card_played52(card52)\n",
    "\n",
    "                # update shown out state\n",
    "                if card // 8 != current_trick[0] // 8:  # card is different suit than lead card\n",
    "                    shown_out_suits[player_i].add(current_trick[0] // 8)\n",
    "\n",
    "            # sanity checks after trick completed\n",
    "            assert len(current_trick) == 4\n",
    "\n",
    "            for i, card_player in enumerate(card_players):\n",
    "                assert np.min(card_player.hand52) == 0\n",
    "                assert np.min(card_player.public52) == 0\n",
    "                assert np.sum(card_player.hand52) == 13 - trick_i - 1\n",
    "                assert np.sum(card_player.public52) == 13 - trick_i - 1\n",
    "\n",
    "            tricks.append(current_trick)\n",
    "            tricks52.append(current_trick52)\n",
    "\n",
    "            # initializing for the next trick\n",
    "            # initialize hands\n",
    "            for i, card in enumerate(current_trick):\n",
    "                card_players[(leader_i + i) % 4].x_play[:, trick_i + 1, 0:32] = card_players[(leader_i + i) % 4].x_play[:, trick_i, 0:32]\n",
    "                card_players[(leader_i + i) % 4].x_play[:, trick_i + 1, 0 + card] -= 1\n",
    "\n",
    "            # initialize public hands\n",
    "            for i in (0, 2, 3):\n",
    "                card_players[i].x_play[:, trick_i + 1, 32:64] = card_players[1].x_play[:, trick_i + 1, 0:32]\n",
    "            card_players[1].x_play[:, trick_i + 1, 32:64] = card_players[3].x_play[:, trick_i + 1, 0:32]\n",
    "\n",
    "            for card_player in card_players:\n",
    "                # initialize last trick\n",
    "                for i, card in enumerate(current_trick):\n",
    "                    card_player.x_play[:, trick_i + 1, 64 + i * 32 + card] = 1\n",
    "                    \n",
    "                # initialize last trick leader\n",
    "                card_player.x_play[:, trick_i + 1, 288 + leader_i] = 1\n",
    "\n",
    "                # initialize level\n",
    "                card_player.x_play[:, trick_i + 1, 292] = level\n",
    "\n",
    "                # initialize strain\n",
    "                card_player.x_play[:, trick_i + 1, 293 + strain_i] = 1\n",
    "\n",
    "            # sanity checks for next trick\n",
    "            for i, card_player in enumerate(card_players):\n",
    "                assert np.min(card_player.x_play[:, trick_i + 1, 0:32]) == 0\n",
    "                assert np.min(card_player.x_play[:, trick_i + 1, 32:64]) == 0\n",
    "                assert np.sum(card_player.x_play[:, trick_i + 1, 0:32], axis=1) == 13 - trick_i - 1\n",
    "                assert np.sum(card_player.x_play[:, trick_i + 1, 32:64], axis=1) == 13 - trick_i - 1\n",
    "\n",
    "            trick_winner = (leader_i + deck52.get_trick_winner_i(current_trick52, (strain_i - 1) % 5)) % 4\n",
    "            trick_won_by.append(trick_winner)\n",
    "\n",
    "            if trick_winner % 2 == 0:\n",
    "                card_players[0].n_tricks_taken += 1\n",
    "                card_players[2].n_tricks_taken += 1\n",
    "            else:\n",
    "                card_players[1].n_tricks_taken += 1\n",
    "                card_players[3].n_tricks_taken += 1\n",
    "\n",
    "            # update cards shown\n",
    "            for i, card in enumerate(current_trick):\n",
    "                player_cards_played[(leader_i + i) % 4].append(card)\n",
    "            \n",
    "            leader_i = trick_winner\n",
    "            current_trick = []\n",
    "            current_trick52 = []\n",
    "                "
   ]
  },
  {
   "cell_type": "code",
   "execution_count": 4,
   "metadata": {},
   "outputs": [
    {
     "name": "stdout",
     "output_type": "stream",
     "text": [
      "[[2]]\n"
     ]
    },
    {
     "name": "stderr",
     "output_type": "stream",
     "text": [
      "Loaded lib <CDLL 'c:\\Users\\lucbe\\Documents\\Bridge\\ben\\bin\\dds.dll', handle 7ff9202c0000 at 0x21082bcfe50>\n"
     ]
    },
    {
     "name": "stdout",
     "output_type": "stream",
     "text": [
      "5.6331377029418945\n"
     ]
    },
    {
     "data": {
      "text/plain": [
       "'S7'"
      ]
     },
     "execution_count": 4,
     "metadata": {},
     "output_type": "execute_result"
    }
   ],
   "source": [
    "get_ben_card_play_answer(\n",
    "        hand_str='QT4.A.KJ94.KQ986',\n",
    "        dummy_hand_str=\"AJ87632.J96.753.\",\n",
    "        dealer_str=\"S\",\n",
    "        vuln_str=\"None\",\n",
    "        auction=['1N', 'PASS', '4H', 'PASS', '4S', 'PASS', 'PASS', 'PASS'],\n",
    "        contract=\"4S\",\n",
    "        declarer_str= \"S\",\n",
    "        next_player_str=\"N\",\n",
    "        # tricks_str=[['C2', 'D3', 'CA', 'C6'],['D6', 'DJ', 'DQ', 'D5'],['DA', 'D7']]\n",
    "        tricks_str=[['C2']]\n",
    "\n",
    "    )"
   ]
  },
  {
   "cell_type": "code",
   "execution_count": 17,
   "metadata": {},
   "outputs": [],
   "source": [
    "def gen_ben_opening_lead(hand_str : str,auction : List[str],vuln_str : str,dealer_str : str) :\n",
    "    padded_auction = [\"PAD_START\"] * Direction.from_str(dealer_str).value + auction\n",
    "    return bots.BotLead(VULNERABILITIES[vuln_str],hand_str,MODELS).lead(padded_auction).card"
   ]
  },
  {
   "cell_type": "code",
   "execution_count": 19,
   "metadata": {},
   "outputs": [
    {
     "name": "stdout",
     "output_type": "stream",
     "text": [
      "DA\n"
     ]
    }
   ],
   "source": [
    "print(gen_ben_opening_lead('J96.J43.A32.KJ42',['PASS', '1C', '2D', '2H', '3D', '3H', 'PASS', '4H', 'PASS', 'PASS', 'PASS'],\"None\",\"N\"))"
   ]
  }
 ],
 "metadata": {
  "kernelspec": {
   "display_name": "Python 3.10.1 64-bit",
   "language": "python",
   "name": "python3"
  },
  "language_info": {
   "codemirror_mode": {
    "name": "ipython",
    "version": 3
   },
   "file_extension": ".py",
   "mimetype": "text/x-python",
   "name": "python",
   "nbconvert_exporter": "python",
   "pygments_lexer": "ipython3",
   "version": "3.10.1"
  },
  "orig_nbformat": 4,
  "vscode": {
   "interpreter": {
    "hash": "db6859663c517eaff44cb590a4f83a9ffca1c2df3a6cfb3b0e93ea33231aa8bf"
   }
  }
 },
 "nbformat": 4,
 "nbformat_minor": 2
}
