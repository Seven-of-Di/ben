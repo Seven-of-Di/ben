{
 "cells": [
  {
   "cell_type": "markdown",
   "id": "75d07246",
   "metadata": {},
   "source": [
    "# Bidding\n",
    "\n",
    "This is a tutorial for how to use the bidding engine"
   ]
  },
  {
   "cell_type": "code",
   "execution_count": 1,
   "id": "59a5664c",
   "metadata": {},
   "outputs": [
    {
     "name": "stderr",
     "output_type": "stream",
     "text": [
      "Loaded lib <WinDLL 'C:\\Users\\lucbe\\OneDrive\\Documents\\Bridge\\ben\\ben\\dds.dll', handle 7ff95a410000 at 0x277460248e0>\n"
     ]
    }
   ],
   "source": [
    "import os\n",
    "os.chdir('..')\n",
    "\n",
    "from nn.models import Models\n",
    "from bots import BotBid\n",
    "from bidding import bidding\n",
    "from util import hand_to_str\n",
    "from deck52 import random_deal\n",
    "from utils import Direction,BiddingSuit,Suit,Card_,PlayerHand\n",
    "from PlayRecord import PlayRecord,Trick"
   ]
  },
  {
   "cell_type": "code",
   "execution_count": 2,
   "id": "44786d5d",
   "metadata": {},
   "outputs": [
    {
     "name": "stdout",
     "output_type": "stream",
     "text": [
      "INFO:tensorflow:Restoring parameters from ../models/gib21_model/gib21-1000000\n",
      "INFO:tensorflow:Restoring parameters from ../models/gib21_info_model/gib21_info-500000\n",
      "INFO:tensorflow:Restoring parameters from ../models/lead_model_b/lead-1000000\n",
      "INFO:tensorflow:Restoring parameters from ../models/lr3_model/lr3-1000000\n",
      "INFO:tensorflow:Restoring parameters from ../models/lefty_model/lefty-1000000\n",
      "INFO:tensorflow:Restoring parameters from ../models/dummy_model/dummy-920000\n",
      "INFO:tensorflow:Restoring parameters from ../models/righty_model/righty-1000000\n",
      "INFO:tensorflow:Restoring parameters from ../models/decl_model/decl-1000000\n"
     ]
    }
   ],
   "source": [
    "models = Models.load('../models')   # loading neural networks"
   ]
  },
  {
   "cell_type": "markdown",
   "id": "10d8f2fc",
   "metadata": {},
   "source": [
    "### Running through an example"
   ]
  },
  {
   "cell_type": "code",
   "execution_count": 3,
   "id": "19dbfeb7",
   "metadata": {},
   "outputs": [],
   "source": [
    "# East deals, EW vulnerable.\n",
    "vuln_ns, vuln_ew = False, True"
   ]
  },
  {
   "cell_type": "code",
   "execution_count": 4,
   "id": "5b5c0bd3",
   "metadata": {},
   "outputs": [
    {
     "name": "stdout",
     "output_type": "stream",
     "text": [
      "0.48853468894958496 0.21657347679138184 0.44331238229376063\n",
      "['KT8.AQx.AJx.AK8x Ax.T9x.QTxx.T9xx Qxxx.KJxxx.x.xxx J9xx.8x.K98xx.QJ', 'AK.A9x.JT9x.AKQx J8x.QTx.AKQ8.9xx Qxxx.KJxxx.x.xxx T9xx.8x.xxxx.JT8', 'Kx.AQ.K98xx.AKQx Txx.T9xx.AQJ.T9x Qxxx.KJxxx.x.xxx AJ98.8x.Txxx.J8x', 'A8x.AT.AKQ8x.Kxx KTx.9xxx.Jx.T98x Qxxx.KJxxx.x.xxx J9x.Q8.T9xxx.AQJ', 'Ax.AQx.AKxxx.A9x JTxx.T98.Q9x.KJx Qxxx.KJxxx.x.xxx K98.xx.JT8x.QT8x']\n",
      "3S\n",
      "[{'call': '3S', 'insta_score': 0.9985024929046631}]\n"
     ]
    }
   ],
   "source": [
    "hand = 'Q432.KJ654.4.432'\n",
    "auction = ['PAD_START', '2N', 'PASS','3C','PASS','3D','PASS'] # Here, it wrongly passes on the stayman answer, just like he would pass a 3D opening\n",
    "bot_bid = BotBid([vuln_ns, vuln_ew], hand, models)\n",
    "bid = bot_bid.restful_bid(auction)\n",
    "\n",
    "print(bid.samples) #The samples are correct\n",
    "print(bid.bid)\n",
    "print(bid.to_dict()['candidates'])"
   ]
  },
  {
   "cell_type": "code",
   "execution_count": 5,
   "id": "87c66c19",
   "metadata": {},
   "outputs": [
    {
     "name": "stdout",
     "output_type": "stream",
     "text": [
      "0.2910187244415283 0.007106781005859375 0.024420356523441756\n",
      "['QJ.Q9xx.9xx.QJxx T8xx.AKx.KJxx.xx Ax.JT8xx.AT8x.Ax K9xxx.x.Qx.KT98x', 'Jxx.QJ98.xx.J98x T8xx.AKx.KJxx.xx A.Txxxxx.AQ8x.KT KQ9xx..T9x.AQxxx', 'A9.9xxx.QT8.QJTx T8xx.AKx.KJxx.xx xx.QJT8xx.A.A9xx KQJxx..9xxxx.K8x', 'J9.T98.Q98x.QJTx T8xx.AKx.KJxx.xx Ax.Qxxxxx.ATx.Ax KQxxx.J.xx.K98xx', 'A9x.Q8xx.Q98x.Jx T8xx.AKx.KJxx.xx .J9xxx.ATxx.AK9x KQJxxx.T.x.QT8xx']\n",
      "4S\n",
      "[{'call': '4S', 'insta_score': 0.6949708461761475, 'expected_score': 216.95168643691804}, {'call': '3S', 'insta_score': 0.16825923323631287, 'expected_score': 20.072550063821396}]\n"
     ]
    }
   ],
   "source": [
    "hand = 'T873.AK6.KJ32.43'\n",
    "auction = ['PASS','PASS','1H','2H','3H'] # Here, it correctly bids 4S\n",
    "bot_bid = BotBid([vuln_ns, vuln_ew], hand, models)\n",
    "bid = bot_bid.restful_bid(auction)\n",
    "\n",
    "print(bid.samples) #The samples are correct\n",
    "print(bid.bid)\n",
    "print(bid.to_dict()['candidates'])"
   ]
  },
  {
   "cell_type": "code",
   "execution_count": 6,
   "id": "a707a8da",
   "metadata": {},
   "outputs": [
    {
     "name": "stdout",
     "output_type": "stream",
     "text": [
      "0.24645256996154785 0.007515907287597656 0.030496364021565314\n",
      "['Ax.Jxxxx.Ax.AQxx T8xx.AKx.KJxx.xx xx.QT98x.Txx.T8x KQJ9x..Q98x.KJ9x', 'K.JT98x.Tx.AKQTx T8xx.AKx.KJxx.xx A9x.xxxx.9xx.98x QJxxx.Q.AQ8x.Jxx', 'x.QJ98xx.Q8.AKJx T8xx.AKx.KJxx.xx J9x.xxx.T9xx.8xx AKQxx.T.Axx.QT9x', 'x.QJT98xxx.A.AKx T8xx.AKx.KJxx.xx Q9xx.xx.Q9x.J98x AKJx..T8xxx.QTxx', 'J.QJ9xxx.Axx.AJx T8xx.AKx.KJxx.xx Axxx.T8x.9xx.T8x KQ9x.x.QT8.KQ9xx']\n",
      "2N\n",
      "[{'call': '2N', 'insta_score': 0.3044964373111725, 'expected_score': 307.36532760775486}, {'call': '2S', 'insta_score': 0.2832288444042206, 'expected_score': 148.0543893167193}]\n"
     ]
    }
   ],
   "source": [
    "hand = 'T873.AK6.KJ32.43'\n",
    "auction = ['1H','PASS','PASS','2H','PASS'] #Here, it wrongly fit the artificial 3H\n",
    "bot_bid = BotBid([vuln_ns, vuln_ew], hand, models)\n",
    "bid = bot_bid.restful_bid(auction)\n",
    "\n",
    "print(bid.samples) #The samples are correct\n",
    "print(bid.bid)\n",
    "print(bid.to_dict()['candidates'])"
   ]
  },
  {
   "cell_type": "code",
   "execution_count": 7,
   "id": "df14a08f",
   "metadata": {},
   "outputs": [
    {
     "name": "stdout",
     "output_type": "stream",
     "text": [
      "0.09256696701049805 0.0 0.0\n",
      "['xx.T8x.T8xx.9xxx KT98.AQx.AJxx.Jx Jx.xxx.Q9xx.T8xx AQxxx.KJ9x.K.AKQ', '8x.xx.J9xxx.Jxxx Kx.AQTx.AQx.T8xx JT9x.8xx.T8xx.9x AQxxx.KJ9x.K.AKQ', 'J9x.xxx.T9.Txxxx K8.AQ8.AQ8xx.J9x Txx.Txx.Jxxxx.8x AQxxx.KJ9x.K.AKQ', '8x.8x.Txxx.xxxxx KJxx.AQxx.AQ.J9x T9.Txx.J98xxx.T8 AQxxx.KJ9x.K.AKQ', '8xx.xx.JTxx.8xxx KJ9.AQTx.Axx.JTx Tx.8xx.Q98xx.9xx AQxxx.KJ9x.K.AKQ']\n",
      "2C\n",
      "[{'call': '2C', 'insta_score': 0.940109372138977}]\n"
     ]
    }
   ],
   "source": [
    "hand = 'AQ752.KJ92.K.AKQ'\n",
    "auction = [\"PASS\",\"1N\",\"PASS\"] #Here, it correctly does a stayman\n",
    "bot_bid = BotBid([vuln_ns, vuln_ew], hand, models)\n",
    "bid = bot_bid.restful_bid(auction)\n",
    "\n",
    "print(bid.samples) #The samples are correct\n",
    "print(bid.bid)\n",
    "print(bid.to_dict()['candidates'])"
   ]
  },
  {
   "cell_type": "code",
   "execution_count": 8,
   "id": "f8df6941",
   "metadata": {},
   "outputs": [
    {
     "name": "stdout",
     "output_type": "stream",
     "text": [
      "0.20515894889831543 0.007999420166015625 0.03899132944954033\n",
      "['JT8x.ATx.Qx.J8xx 9x.Qx.AT98xxx.T9 Kx.8xxx.Jxx.xxxx AQxxx.KJ9x.K.AKQ', 'KJx.QT8xx.QJ9.xx T9x.Ax.T8xx.JTxx 8x.xx.Axxxx.98xx AQxxx.KJ9x.K.AKQ', 'J8xx.QTx.J9x.T8x Kx.A8xx.T8xx.J9x T9.xx.AQxxx.xxxx AQxxx.KJ9x.K.AKQ', '8x.xxx.Axxxx.xxx KJx.AQ8.T98x.J9x T9x.Txx.QJx.T8xx AQxxx.KJ9x.K.AKQ', 'J98.AT8xx.Q9.Jxx Txx.xx.AJ8xx.xxx Kx.Qx.Txxxx.T98x AQxxx.KJ9x.K.AKQ']\n",
      "3H\n",
      "[{'call': '3H', 'insta_score': 0.9574984908103943}]\n"
     ]
    }
   ],
   "source": [
    "hand = 'AQ752.KJ92.K.AKQ'\n",
    "auction = [ 'PASS','PASS','PASS','1S',\"PASS\",\"1N\",\"PASS\"] #Here, it bids 2C (\"stayaman !\") instead of 3H, like in the first hand of the demo (https://lorserker.github.io/ben/demo/viz.html?deal=1). Note that the insta score is exactly the same as the previous example\n",
    "bot_bid = BotBid([vuln_ns, vuln_ew], hand, models)\n",
    "bid = bot_bid.restful_bid(auction)\n",
    "\n",
    "print(bid.samples) #The samples are correct\n",
    "print(bid.bid)\n",
    "print(bid.to_dict()['candidates'])"
   ]
  },
  {
   "cell_type": "code",
   "execution_count": null,
   "id": "7d30b63d",
   "metadata": {},
   "outputs": [],
   "source": []
  },
  {
   "cell_type": "markdown",
   "id": "8da5c690",
   "metadata": {},
   "source": [
    "## Bidding through the hand from the  beginning\n",
    "\n",
    "We have to bid through the hand from the beginning because the bots have state that needs to be propagated.\n",
    "\n",
    "If we ask the bot to bid in the middle of the auction then it didn't accumulate the state from the beginning of the auction and it looks like it \"forgets\" older bids\n",
    "\n",
    "Follwing is the full auction from the start for the first example where the bot passed in a stayman sequence."
   ]
  },
  {
   "cell_type": "code",
   "execution_count": 9,
   "id": "d079e241",
   "metadata": {},
   "outputs": [
    {
     "data": {
      "text/plain": [
       "{NORTH: PlayerHand(A643|8632|Q6|AQ3),\n",
       " EAST: PlayerHand(T872|74|J984|K96),\n",
       " SOUTH: PlayerHand(KJ|KQ95|A2|JT742),\n",
       " WEST: PlayerHand(Q95|AJT|KT753|85)}"
      ]
     },
     "execution_count": 9,
     "metadata": {},
     "output_type": "execute_result"
    }
   ],
   "source": [
    "hands_str = 'A643.8632.Q6.AQ3 T872.74.J984.K96 KJ.KQ95.A2.JT742 Q95.AJT.KT753.85'.split()\n",
    "hands = {d:PlayerHand.from_pbn(hand) for d,hand in zip(Direction,hands_str)}\n",
    "hands # N, E, S, W\n"
   ]
  },
  {
   "cell_type": "code",
   "execution_count": 10,
   "id": "1d390ac1",
   "metadata": {},
   "outputs": [
    {
     "name": "stdout",
     "output_type": "stream",
     "text": [
      "0.13497376441955566 0.0 0.0\n",
      "0.11069560050964355 0.0 0.0\n",
      "0.10927343368530273 0.0 0.0\n",
      "0.1135561466217041 0.0 0.0\n",
      "0.16409897804260254 0.007012367248535156 0.042732546735998814\n",
      "0.16713953018188477 0.006510734558105469 0.03895388811384327\n",
      "0.14914417266845703 0.0071620941162109375 0.04802128026907263\n",
      "0.15340471267700195 0.007512807846069336 0.04897377476197729\n",
      "0.20995879173278809 0.012505054473876953 0.05955956581133301\n",
      "0.19856691360473633 0.013999700546264648 0.07050369214144203\n",
      "0.19574832916259766 0.013002157211303711 0.06642282601811388\n",
      "0.18935632705688477 0.01199960708618164 0.0633705103636533\n",
      "0.2519710063934326 0.018511533737182617 0.07346691987362361\n",
      "0.23914813995361328 0.01799917221069336 0.07526369309911671\n"
     ]
    },
    {
     "data": {
      "text/plain": [
       "['1C',\n",
       " 'PASS',\n",
       " '1H',\n",
       " 'PASS',\n",
       " '2H',\n",
       " 'PASS',\n",
       " '3C',\n",
       " 'PASS',\n",
       " '3H',\n",
       " 'PASS',\n",
       " '4H',\n",
       " 'PASS',\n",
       " 'PASS',\n",
       " 'PASS']"
      ]
     },
     "execution_count": 10,
     "metadata": {},
     "output_type": "execute_result"
    }
   ],
   "source": [
    "auction = []\n",
    "\n",
    "turn_i = 0  # whose turn is it to bid\n",
    "\n",
    "while not bidding.auction_over(auction):\n",
    "    auction.append(BotBid([False, False], hands[Direction(turn_i)].to_pbn(), models).restful_bid(auction).bid)\n",
    "    turn_i = (turn_i+1)%4\n",
    "    \n",
    "auction"
   ]
  },
  {
   "cell_type": "markdown",
   "id": "ada92dd9",
   "metadata": {},
   "source": [
    "now the bot doesn't pass 3D anymore and they complete their smolen sequence"
   ]
  },
  {
   "cell_type": "code",
   "execution_count": 11,
   "id": "33d366c7",
   "metadata": {},
   "outputs": [
    {
     "name": "stdout",
     "output_type": "stream",
     "text": [
      "{'card': 'S3', 'claim_the_rest': False}\n",
      "{'card': 'ST', 'claim_the_rest': False}\n",
      "{'card': 'SJ', 'claim_the_rest': False}\n",
      "{'card': 'SK', 'claim_the_rest': False}\n",
      "{'card': 'S9', 'claim_the_rest': False}\n",
      "{'card': 'S4', 'claim_the_rest': False}\n",
      "{'card': 'S7', 'claim_the_rest': False}\n",
      "{'card': 'HQ', 'claim_the_rest': False}\n",
      "{'card': 'HA', 'claim_the_rest': False}\n",
      "{'card': 'H2', 'claim_the_rest': False}\n",
      "{'card': 'H4', 'claim_the_rest': False}\n",
      "{'card': 'SQ', 'claim_the_rest': False}\n",
      "{'card': 'SA', 'claim_the_rest': False}\n",
      "{'card': 'S2', 'claim_the_rest': False}\n",
      "{'card': 'D2', 'claim_the_rest': False}\n",
      "{'card': 'D6', 'claim_the_rest': False}\n",
      "{'card': 'D4', 'claim_the_rest': False}\n",
      "{'card': 'DA', 'claim_the_rest': False}\n",
      "{'card': 'D3', 'claim_the_rest': False}\n",
      "{'card': 'C2', 'claim_the_rest': False}\n",
      "{'card': 'C5', 'claim_the_rest': False}\n",
      "{'card': 'CA', 'claim_the_rest': False}\n",
      "{'card': 'C6', 'claim_the_rest': False}\n",
      "{'card': 'H6', 'claim_the_rest': False}\n",
      "{'card': 'H7', 'claim_the_rest': False}\n",
      "{'card': 'HK', 'claim_the_rest': False}\n",
      "{'card': 'HT', 'claim_the_rest': False}\n",
      "{'card': 'C4', 'claim_the_rest': False}\n",
      "{'card': 'C8', 'claim_the_rest': False}\n",
      "{'card': 'CQ', 'claim_the_rest': False}\n",
      "{'card': 'CK', 'claim_the_rest': False}\n",
      "{'card': 'S8', 'claim_the_rest': False}\n",
      "{'card': 'H5', 'claim_the_rest': False}\n",
      "{'card': 'D5', 'claim_the_rest': False}\n",
      "{'card': 'S6', 'claim_the_rest': False}\n",
      "{'card': 'CT', 'claim_the_rest': False}\n",
      "{'card': 'HJ', 'claim_the_rest': False}\n",
      "{'card': 'C3', 'claim_the_rest': False}\n",
      "{'card': 'C9', 'claim_the_rest': False}\n",
      "{'card': 'DK', 'claim_the_rest': False}\n",
      "{'card': 'DQ', 'claim_the_rest': False}\n",
      "{'card': 'D8', 'claim_the_rest': False}\n",
      "{'card': 'H9', 'claim_the_rest': True}\n",
      "{'card': 'CJ', 'claim_the_rest': False}\n",
      "{'card': 'D7', 'claim_the_rest': False}\n",
      "{'card': 'H3', 'claim_the_rest': False}\n",
      "{'card': 'D9', 'claim_the_rest': False}\n"
     ]
    }
   ],
   "source": [
    "from transform_play_card import get_ben_card_play_answer\n",
    "\n",
    "\n",
    "leader = Direction.WEST\n",
    "current_player = Direction.NORTH\n",
    "tricks = [[\"S5\"]]\n",
    "# while all([hand.len()!=1 for hand in hands.values()]) :\n",
    "for i in range(47) :\n",
    "    if len(tricks[-1])==4 :\n",
    "        last_trick = Trick.from_list(leader=leader,trick_as_list=[Card_.from_str(card) for card in tricks[-1]])\n",
    "        current_player = last_trick.winner(trump=BiddingSuit.HEARTS)\n",
    "        leader = current_player\n",
    "        tricks.append([])\n",
    "    card = await get_ben_card_play_answer(hand_str=hands[current_player if current_player!=Direction.NORTH else Direction.SOUTH].to_pbn(),dummy_hand_str=hands[Direction.NORTH].to_pbn(),dealer_str='N',vuln_str=\"None\",auction=auction,contract=\"4HS\",declarer_str=\"S\",next_player_str=current_player.abbreviation(),tricks_str=tricks,MODELS=models)\n",
    "    print(card)\n",
    "    tricks[-1].append(card[\"card\"])\n",
    "    hands[current_player].remove(Card_.from_str(card[\"card\"]))\n",
    "    current_player = current_player.next()"
   ]
  },
  {
   "cell_type": "code",
   "execution_count": 12,
   "id": "ebc30e2e",
   "metadata": {},
   "outputs": [
    {
     "data": {
      "text/plain": [
       "{NORTH: PlayerHand(T64|2|QJT873|JT9),\n",
       " EAST: PlayerHand(A97|94|K652|8642),\n",
       " SOUTH: PlayerHand(J3|AKQJ65|9|A753),\n",
       " WEST: PlayerHand(KQ852|T873|A4|KQ)}"
      ]
     },
     "execution_count": 12,
     "metadata": {},
     "output_type": "execute_result"
    }
   ],
   "source": [
    "auction = ['PASS', 'PASS', '1N', 'PASS', '3C', 'PASS', '3D', 'PASS', 'PASS']\n",
    "hands_str = 'T64.2.QJT873.JT9 A97.94.652K.8642 J3.AKQJ65.9.A753 KQ852.T873.A4.KQ'.split()\n",
    "hands = {d:PlayerHand.from_pbn(hand) for d,hand in zip(Direction,hands_str)}\n",
    "hands # N, E, S, W"
   ]
  },
  {
   "cell_type": "code",
   "execution_count": 13,
   "id": "0c45058c",
   "metadata": {},
   "outputs": [
    {
     "name": "stdout",
     "output_type": "stream",
     "text": [
      "{'card': 'ST', 'claim_the_rest': False}\n",
      "{'card': 'S7', 'claim_the_rest': False}\n",
      "{'card': 'S3', 'claim_the_rest': False}\n",
      "{'card': 'S2', 'claim_the_rest': False}\n",
      "{'card': 'S4', 'claim_the_rest': False}\n",
      "{'card': 'SA', 'claim_the_rest': False}\n",
      "{'card': 'SJ', 'claim_the_rest': False}\n",
      "{'card': 'C2', 'claim_the_rest': False}\n",
      "{'card': 'CA', 'claim_the_rest': False}\n",
      "{'card': 'CQ', 'claim_the_rest': False}\n",
      "{'card': 'C9', 'claim_the_rest': False}\n",
      "{'card': 'HJ', 'claim_the_rest': False}\n",
      "{'card': 'H3', 'claim_the_rest': False}\n",
      "{'card': 'H2', 'claim_the_rest': False}\n",
      "{'card': 'H4', 'claim_the_rest': False}\n",
      "{'card': 'HK', 'claim_the_rest': False}\n",
      "{'card': 'H7', 'claim_the_rest': False}\n",
      "{'card': 'CT', 'claim_the_rest': False}\n",
      "{'card': 'H9', 'claim_the_rest': False}\n",
      "{'card': 'HA', 'claim_the_rest': False}\n",
      "{'card': 'H8', 'claim_the_rest': False}\n",
      "{'card': 'CJ', 'claim_the_rest': False}\n",
      "{'card': 'D5', 'claim_the_rest': False}\n",
      "{'card': 'S9', 'claim_the_rest': False}\n",
      "{'card': 'D9', 'claim_the_rest': False}\n",
      "{'card': 'S5', 'claim_the_rest': False}\n",
      "{'card': 'S6', 'claim_the_rest': False}\n",
      "{'card': 'C3', 'claim_the_rest': False}\n",
      "{'card': 'CK', 'claim_the_rest': False}\n",
      "{'card': 'D3', 'claim_the_rest': False}\n",
      "{'card': 'C6', 'claim_the_rest': False}\n",
      "{'card': 'DQ', 'claim_the_rest': False}\n",
      "{'card': 'D2', 'claim_the_rest': False}\n",
      "{'card': 'C7', 'claim_the_rest': False}\n",
      "{'card': 'DA', 'claim_the_rest': False}\n",
      "{'card': 'HT', 'claim_the_rest': False}\n",
      "{'card': 'D7', 'claim_the_rest': False}\n",
      "{'card': 'C4', 'claim_the_rest': False}\n",
      "{'card': 'HQ', 'claim_the_rest': False}\n",
      "{'card': 'DJ', 'claim_the_rest': False}\n",
      "{'card': 'DK', 'claim_the_rest': False}\n",
      "{'card': 'C5', 'claim_the_rest': False}\n",
      "{'card': 'D4', 'claim_the_rest': False}\n",
      "{'card': 'C8', 'claim_the_rest': False}\n",
      "{'card': 'H5', 'claim_the_rest': False}\n",
      "{'card': 'S8', 'claim_the_rest': False}\n",
      "{'card': 'D8', 'claim_the_rest': False}\n"
     ]
    }
   ],
   "source": [
    "from transform_play_card import get_ben_card_play_answer\n",
    "\n",
    "\n",
    "leader = Direction.WEST\n",
    "current_player = Direction.NORTH\n",
    "tricks = [[\"SK\"]]\n",
    "# while all([hand.len()!=1 for hand in hands.values()]) :\n",
    "for i in range(47) :\n",
    "    if len(tricks[-1])==4 :\n",
    "        last_trick = Trick.from_list(leader=leader,trick_as_list=[Card_.from_str(card) for card in tricks[-1]])\n",
    "        current_player = last_trick.winner(trump=BiddingSuit.DIAMONDS)\n",
    "        leader = current_player\n",
    "        tricks.append([])\n",
    "    card = await get_ben_card_play_answer(hand_str=hands[current_player if current_player!=Direction.NORTH else Direction.SOUTH].to_pbn(),dummy_hand_str=hands[Direction.NORTH].to_pbn(),dealer_str='N',vuln_str=\"N-S\",auction=auction,contract=\"3DS\",declarer_str=\"S\",next_player_str=current_player.abbreviation(),tricks_str=tricks,MODELS=models)\n",
    "    print(card)\n",
    "    tricks[-1].append(card[\"card\"])\n",
    "    hands[current_player].remove(Card_.from_str(card[\"card\"]))\n",
    "    current_player = current_player.next()"
   ]
  },
  {
   "cell_type": "code",
   "execution_count": 14,
   "id": "792a5d16",
   "metadata": {},
   "outputs": [
    {
     "data": {
      "text/plain": [
       "[['SK', 'ST', 'S7', 'S3'],\n",
       " ['S2', 'S4', 'SA', 'SJ'],\n",
       " ['C2', 'CA', 'CQ', 'C9'],\n",
       " ['HJ', 'H3', 'H2', 'H4'],\n",
       " ['HK', 'H7', 'CT', 'H9'],\n",
       " ['HA', 'H8', 'CJ', 'D5'],\n",
       " ['S9', 'D9', 'S5', 'S6'],\n",
       " ['C3', 'CK', 'D3', 'C6'],\n",
       " ['DQ', 'D2', 'C7', 'DA'],\n",
       " ['HT', 'D7', 'C4', 'HQ'],\n",
       " ['DJ', 'DK', 'C5', 'D4'],\n",
       " ['C8', 'H5', 'S8', 'D8']]"
      ]
     },
     "execution_count": 14,
     "metadata": {},
     "output_type": "execute_result"
    }
   ],
   "source": [
    "tricks"
   ]
  },
  {
   "cell_type": "code",
   "execution_count": 16,
   "id": "3b81dfb6",
   "metadata": {},
   "outputs": [],
   "source": [
    "auction = ['PASS', '1S', 'PASS', '1N', 'PASS', '2C', 'PASS', '3S', 'PASS', '4S', 'PASS', 'PASS']\n",
    "hands_str =\"765.AJ732.K3.J75 KJ8Q9.9T.5Q.4KA3 2T.Q865.J97.QT92 A43.K4.AT8642.86\".split()\n",
    "hands = {d:PlayerHand.from_pbn(hand) for d,hand in zip(Direction,hands_str)}"
   ]
  },
  {
   "cell_type": "code",
   "execution_count": 17,
   "id": "405263d4",
   "metadata": {},
   "outputs": [
    {
     "name": "stdout",
     "output_type": "stream",
     "text": [
      "{'card': 'DA', 'claim_the_rest': False}\n",
      "{'card': 'D3', 'claim_the_rest': False}\n",
      "{'card': 'D5', 'claim_the_rest': False}\n",
      "{'card': 'C6', 'claim_the_rest': False}\n",
      "{'card': 'C7', 'claim_the_rest': False}\n",
      "{'card': 'CA', 'claim_the_rest': False}\n",
      "{'card': 'C2', 'claim_the_rest': False}\n",
      "{'card': 'DQ', 'claim_the_rest': False}\n",
      "{'card': 'D9', 'claim_the_rest': False}\n",
      "{'card': 'D4', 'claim_the_rest': False}\n",
      "{'card': 'DK', 'claim_the_rest': False}\n",
      "{'card': 'S7', 'claim_the_rest': False}\n",
      "{'card': 'S8', 'claim_the_rest': False}\n",
      "{'card': 'ST', 'claim_the_rest': False}\n",
      "{'card': 'SA', 'claim_the_rest': False}\n",
      "{'card': 'D8', 'claim_the_rest': False}\n",
      "{'card': 'CJ', 'claim_the_rest': False}\n",
      "{'card': 'S9', 'claim_the_rest': False}\n",
      "{'card': 'DJ', 'claim_the_rest': False}\n",
      "{'card': 'SJ', 'claim_the_rest': False}\n",
      "{'card': 'S2', 'claim_the_rest': False}\n",
      "{'card': 'S4', 'claim_the_rest': False}\n",
      "{'card': 'S5', 'claim_the_rest': False}\n",
      "{'card': 'CK', 'claim_the_rest': False}\n",
      "{'card': 'C9', 'claim_the_rest': False}\n",
      "{'card': 'C8', 'claim_the_rest': False}\n",
      "{'card': 'C5', 'claim_the_rest': False}\n",
      "{'card': 'C3', 'claim_the_rest': False}\n",
      "{'card': 'CT', 'claim_the_rest': False}\n",
      "{'card': 'S3', 'claim_the_rest': False}\n",
      "{'card': 'S6', 'claim_the_rest': False}\n",
      "{'card': 'HA', 'claim_the_rest': False}\n",
      "{'card': 'H9', 'claim_the_rest': False}\n",
      "{'card': 'H5', 'claim_the_rest': False}\n",
      "{'card': 'H4', 'claim_the_rest': False}\n",
      "{'card': 'H2', 'claim_the_rest': False}\n",
      "{'card': 'HT', 'claim_the_rest': False}\n",
      "{'card': 'H6', 'claim_the_rest': False}\n",
      "{'card': 'HK', 'claim_the_rest': False}\n",
      "{'card': 'DT', 'claim_the_rest': False}\n",
      "{'card': 'H3', 'claim_the_rest': False}\n",
      "{'card': 'C4', 'claim_the_rest': True}\n",
      "{'card': 'H8', 'claim_the_rest': False}\n",
      "{'card': 'D2', 'claim_the_rest': False}\n",
      "{'card': 'H7', 'claim_the_rest': False}\n",
      "{'card': 'SQ', 'claim_the_rest': False}\n",
      "{'card': 'CQ', 'claim_the_rest': False}\n"
     ]
    }
   ],
   "source": [
    "leader = Direction.SOUTH\n",
    "current_player = Direction.WEST\n",
    "tricks = [[\"D7\"]]\n",
    "# while all([hand.len()!=1 for hand in hands.values()]) :\n",
    "for i in range(47) :\n",
    "    if len(tricks[-1])==4 :\n",
    "        last_trick = Trick.from_list(leader=leader,trick_as_list=[Card_.from_str(card) for card in tricks[-1]])\n",
    "        current_player = last_trick.winner(trump=BiddingSuit.SPADES)\n",
    "        leader = current_player\n",
    "        tricks.append([])\n",
    "    card = await get_ben_card_play_answer(hand_str=hands[current_player if current_player!=Direction.WEST else Direction.EAST].to_pbn(),dummy_hand_str=hands[Direction.WEST].to_pbn(),dealer_str='N',vuln_str=\"None\",auction=auction,contract=\"4SE\",declarer_str=\"E\",next_player_str=current_player.abbreviation(),tricks_str=tricks,MODELS=models)\n",
    "    print(card)\n",
    "    tricks[-1].append(card[\"card\"])\n",
    "    hands[current_player].remove(Card_.from_str(card[\"card\"]))\n",
    "    current_player = current_player.next()"
   ]
  }
 ],
 "metadata": {
  "kernelspec": {
   "display_name": "Python 3 (ipykernel)",
   "language": "python",
   "name": "python3"
  },
  "language_info": {
   "codemirror_mode": {
    "name": "ipython",
    "version": 3
   },
   "file_extension": ".py",
   "mimetype": "text/x-python",
   "name": "python",
   "nbconvert_exporter": "python",
   "pygments_lexer": "ipython3",
   "version": "3.10.2"
  },
  "vscode": {
   "interpreter": {
    "hash": "db6859663c517eaff44cb590a4f83a9ffca1c2df3a6cfb3b0e93ea33231aa8bf"
   }
  }
 },
 "nbformat": 4,
 "nbformat_minor": 5
}
