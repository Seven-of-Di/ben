{
 "cells": [
  {
   "cell_type": "markdown",
   "id": "75d07246",
   "metadata": {},
   "source": [
    "# Bidding\n",
    "\n",
    "This is a tutorial for how to use the bidding engine"
   ]
  },
  {
   "cell_type": "code",
   "execution_count": 1,
   "id": "59a5664c",
   "metadata": {},
   "outputs": [
    {
     "name": "stderr",
     "output_type": "stream",
     "text": [
      "Loaded lib <WinDLL 'C:\\Users\\lucbe\\OneDrive\\Documents\\Bridge\\ben\\ben\\dds.dll', handle 7ffbcefa0000 at 0x21c19fa7f70>\n"
     ]
    }
   ],
   "source": [
    "import os\n",
    "os.chdir('..')\n",
    "\n",
    "from nn.models import Models\n",
    "from bots import BotBid\n",
    "from bidding import bidding\n",
    "from util import hand_to_str\n",
    "from deck52 import random_deal\n",
    "from utils import Direction,BiddingSuit,Suit,Card_,PlayerHand\n",
    "from PlayRecord import PlayRecord,Trick"
   ]
  },
  {
   "cell_type": "code",
   "execution_count": 2,
   "id": "44786d5d",
   "metadata": {},
   "outputs": [
    {
     "name": "stdout",
     "output_type": "stream",
     "text": [
      "INFO:tensorflow:Restoring parameters from ../models/gib21_model/gib21-1000000\n",
      "INFO:tensorflow:Restoring parameters from ../models/gib21_info_model/gib21_info-500000\n",
      "INFO:tensorflow:Restoring parameters from ../models/lead_model_b/lead-1000000\n",
      "INFO:tensorflow:Restoring parameters from ../models/lr3_model/lr3-1000000\n",
      "INFO:tensorflow:Restoring parameters from ../models/lefty_model/lefty-1000000\n",
      "INFO:tensorflow:Restoring parameters from ../models/dummy_model/dummy-920000\n",
      "INFO:tensorflow:Restoring parameters from ../models/righty_model/righty-1000000\n",
      "INFO:tensorflow:Restoring parameters from ../models/decl_model/decl-1000000\n"
     ]
    }
   ],
   "source": [
    "models = Models.load('../models')   # loading neural networks"
   ]
  },
  {
   "cell_type": "markdown",
   "id": "10d8f2fc",
   "metadata": {},
   "source": [
    "### Running through an example"
   ]
  },
  {
   "cell_type": "code",
   "execution_count": 3,
   "id": "19dbfeb7",
   "metadata": {},
   "outputs": [],
   "source": [
    "# East deals, EW vulnerable.\n",
    "vuln_ns, vuln_ew = False, True"
   ]
  },
  {
   "cell_type": "code",
   "execution_count": 4,
   "id": "5b5c0bd3",
   "metadata": {},
   "outputs": [
    {
     "name": "stdout",
     "output_type": "stream",
     "text": [
      "['KTx.AQx.Ax.AK8xx AJ8.T8.KQxx.QJ9x Qxxx.KJxxx.x.xxx 9xx.9xx.JT98xx.T', 'KJ.QT9.AKQJx.ATx AT9x.xx.98xx.Jxx Qxxx.KJxxx.x.xxx 8xx.A8x.Txx.KQ98', 'KJx.Qx.AKxx.AKJx A98x.A.T98xx.Q8x Qxxx.KJxxx.x.xxx Tx.T98xx.QJx.T9x', 'AT.AQ.AJ8xx.AJ8x Kxx.98x.KQT9x.9x Qxxx.KJxxx.x.xxx J98x.Txx.xx.KQTx', 'AK8.Qx.AQ8x.KQTx Jx.T98x.K9x.J98x Qxxx.KJxxx.x.xxx T9xx.Ax.JTxxx.Ax']\n",
      "3S\n",
      "[{'call': '3S', 'insta_score': 0.9985024929046631}]\n"
     ]
    }
   ],
   "source": [
    "hand = 'Q432.KJ654.4.432'\n",
    "auction = ['PAD_START', '2N', 'PASS','3C','PASS','3D','PASS'] # Here, it wrongly passes on the stayman answer, just like he would pass a 3D opening\n",
    "bot_bid = BotBid([vuln_ns, vuln_ew], hand, models)\n",
    "bid = bot_bid.restful_bid(auction)\n",
    "\n",
    "print(bid.samples) #The samples are correct\n",
    "print(bid.bid)\n",
    "print(bid.to_dict()['candidates'])"
   ]
  },
  {
   "cell_type": "code",
   "execution_count": 5,
   "id": "87c66c19",
   "metadata": {},
   "outputs": [
    {
     "name": "stdout",
     "output_type": "stream",
     "text": [
      "['Ax.Jxx.9xxx.KJ8x T8xx.AKx.KJxx.xx 9.QT98xx.AQ8x.Ax KQJxxx.x.T.QT9xx', 'Qxx.JT9.xxx.KQTx T8xx.AKx.KJxx.xx A.Q8xxxx.T.A98xx KJ9xx.x.AQ98x.Jx', 'Qx.J9xx.Q8xx.Qxx T8xx.AKx.KJxx.xx Kx.QT8xx.Axx.KJx AJ9xx.x.T9.AT98x', 'Jx.Q9x.AT8xx.T98 T8xx.AKx.KJxx.xx Qx.JT8xxx.xx.AKQ AK9xx.x.Q9.Jxxxx', 'Q9x.T9xx.QTx.A9x T8xx.AKx.KJxx.xx x.QJ8xx.A8xx.KJ8 AKJxx.x.9x.QTxxx']\n",
      "4S\n",
      "[{'call': '4S', 'insta_score': 0.6949708461761475, 'expected_score': 274.3782956906468}, {'call': '3S', 'insta_score': 0.16825923323631287, 'expected_score': 48.54495478707311}]\n"
     ]
    }
   ],
   "source": [
    "hand = 'T873.AK6.KJ32.43'\n",
    "auction = ['PASS','PASS','1H','2H','3H'] # Here, it correctly bids 4S\n",
    "bot_bid = BotBid([vuln_ns, vuln_ew], hand, models)\n",
    "bid = bot_bid.restful_bid(auction)\n",
    "\n",
    "print(bid.samples) #The samples are correct\n",
    "print(bid.bid)\n",
    "print(bid.to_dict()['candidates'])"
   ]
  },
  {
   "cell_type": "code",
   "execution_count": 6,
   "id": "a707a8da",
   "metadata": {},
   "outputs": [
    {
     "name": "stdout",
     "output_type": "stream",
     "text": [
      "['A.QJ8xxxx.AQx.Jx T8xx.AKx.KJxx.xx 9xxx.Tx.98x.AT9x KQJx.9.Txx.KQ8xx', 'Qx.T98xxx.AQ.AKx T8xx.AKx.KJxx.xx 9xx.Qxx.98xxx.8x AKJx.J.Tx.QJT9xx', 'Kxx.QJT8xx.A.K9x T8xx.AKx.KJxx.xx Q9x.9xx.T8xxx.xx AJx.x.Q9x.AQJT8x', 'Qx.QJxxx.Ax.AT8x T8xx.AKx.KJxx.xx Jx.T8xx.Qxx.J9xx AK9xx.9.T98x.KQx', 'x.QTxxx.AQx.AJT9 T8xx.AKx.KJxx.xx J9x.xx.T98xx.Q8x AKQxx.J98.x.Kxxx']\n",
      "2N\n",
      "[{'call': '2N', 'insta_score': 0.3044964373111725, 'expected_score': 395.4333820917632}, {'call': '2S', 'insta_score': 0.2832288444042206, 'expected_score': 267.10935980958266}]\n"
     ]
    }
   ],
   "source": [
    "hand = 'T873.AK6.KJ32.43'\n",
    "auction = ['1H','PASS','PASS','2H','PASS'] #Here, it wrongly fit the artificial 3H\n",
    "bot_bid = BotBid([vuln_ns, vuln_ew], hand, models)\n",
    "bid = bot_bid.restful_bid(auction)\n",
    "\n",
    "print(bid.samples) #The samples are correct\n",
    "print(bid.bid)\n",
    "print(bid.to_dict()['candidates'])"
   ]
  },
  {
   "cell_type": "code",
   "execution_count": 7,
   "id": "df14a08f",
   "metadata": {},
   "outputs": [
    {
     "name": "stdout",
     "output_type": "stream",
     "text": [
      "['8xx.Txx.Jxx.Txxx KTx.AQ.AQ8x.J98x J9.8xxx.T9xxx.xx AQxxx.KJ9x.K.AKQ', 'T9x.Q8xx.9xxx.9x KJx.Axx.AQxx.JT8 8x.Tx.JT8x.xxxxx AQxxx.KJ9x.K.AKQ', '98.Txxx.8xxxx.xx KJT.AQx.AJ9x.J8x xxx.8x.QTx.T9xxx AQxxx.KJ9x.K.AKQ', 'Tx.8xxx.xxx.JT8x KJ9.AQ.AQT98.xxx 8xx.Txx.Jxxx.9xx AQxxx.KJ9x.K.AKQ', '98xx.Tx.Txxx.xxx Kx.AQxx.AQJ98.8x JT.8xx.xxx.JT9xx AQxxx.KJ9x.K.AKQ']\n",
      "2C\n",
      "[{'call': '2C', 'insta_score': 0.940109372138977}]\n"
     ]
    }
   ],
   "source": [
    "hand = 'AQ752.KJ92.K.AKQ'\n",
    "auction = [\"PASS\",\"1N\",\"PASS\"] #Here, it correctly does a stayman\n",
    "bot_bid = BotBid([vuln_ns, vuln_ew], hand, models)\n",
    "bid = bot_bid.restful_bid(auction)\n",
    "\n",
    "print(bid.samples) #The samples are correct\n",
    "print(bid.bid)\n",
    "print(bid.to_dict()['candidates'])"
   ]
  },
  {
   "cell_type": "code",
   "execution_count": 8,
   "id": "f8df6941",
   "metadata": {},
   "outputs": [
    {
     "name": "stdout",
     "output_type": "stream",
     "text": [
      "['JTx.QTxxx.xxx.Tx 8x.Axx.AT8xx.xxx K9x.8.QJ9x.J98xx AQxxx.KJ9x.K.AKQ', 'JT9x.x.AQJ9xx.8x K.Axxxx.xx.JTxxx 8xx.QT8.T8xx.9xx AQxxx.KJ9x.K.AKQ', 'J9.ATxx.AJx.J98x KT.Qx.QTxxxx.xxx 8xxx.8xx.98x.Txx AQxxx.KJ9x.K.AKQ', 'Kx.QTxx.Jxxx.xxx Tx.A8x.AT98.T8xx J98x.xx.Qxxx.J9x AQxxx.KJ9x.K.AKQ', 'Jxx.Tx.A9xxx.T8x x.AQ8xx.xxx.J9xx KT98.xx.QJT8.xxx AQxxx.KJ9x.K.AKQ']\n",
      "3H\n",
      "[{'call': '3H', 'insta_score': 0.9574984908103943}]\n"
     ]
    }
   ],
   "source": [
    "hand = 'AQ752.KJ92.K.AKQ'\n",
    "auction = [ 'PASS','PASS','PASS','1S',\"PASS\",\"1N\",\"PASS\"] #Here, it bids 2C (\"stayaman !\") instead of 3H, like in the first hand of the demo (https://lorserker.github.io/ben/demo/viz.html?deal=1). Note that the insta score is exactly the same as the previous example\n",
    "bot_bid = BotBid([vuln_ns, vuln_ew], hand, models)\n",
    "bid = bot_bid.restful_bid(auction)\n",
    "\n",
    "print(bid.samples) #The samples are correct\n",
    "print(bid.bid)\n",
    "print(bid.to_dict()['candidates'])"
   ]
  },
  {
   "cell_type": "code",
   "execution_count": null,
   "id": "7d30b63d",
   "metadata": {},
   "outputs": [],
   "source": []
  },
  {
   "cell_type": "markdown",
   "id": "8da5c690",
   "metadata": {},
   "source": [
    "## Bidding through the hand from the  beginning\n",
    "\n",
    "We have to bid through the hand from the beginning because the bots have state that needs to be propagated.\n",
    "\n",
    "If we ask the bot to bid in the middle of the auction then it didn't accumulate the state from the beginning of the auction and it looks like it \"forgets\" older bids\n",
    "\n",
    "Follwing is the full auction from the start for the first example where the bot passed in a stayman sequence."
   ]
  },
  {
   "cell_type": "code",
   "execution_count": 9,
   "id": "d079e241",
   "metadata": {},
   "outputs": [
    {
     "data": {
      "text/plain": [
       "{NORTH: PlayerHand(A643|8632|Q6|AQ3),\n",
       " EAST: PlayerHand(T872|74|J984|K96),\n",
       " SOUTH: PlayerHand(KJ|KQ95|A2|JT742),\n",
       " WEST: PlayerHand(Q95|AJT|KT753|85)}"
      ]
     },
     "execution_count": 9,
     "metadata": {},
     "output_type": "execute_result"
    }
   ],
   "source": [
    "hands_str = 'A643.8632.Q6.AQ3 T872.74.J984.K96 KJ.KQ95.A2.JT742 Q95.AJT.KT753.85'.split()\n",
    "hands = {d:PlayerHand.from_pbn(hand) for d,hand in zip(Direction,hands_str)}\n",
    "hands # N, E, S, W\n"
   ]
  },
  {
   "cell_type": "code",
   "execution_count": 10,
   "id": "1d390ac1",
   "metadata": {},
   "outputs": [
    {
     "data": {
      "text/plain": [
       "['1C',\n",
       " 'PASS',\n",
       " '1H',\n",
       " 'PASS',\n",
       " '2H',\n",
       " 'PASS',\n",
       " '3C',\n",
       " 'PASS',\n",
       " '3H',\n",
       " 'PASS',\n",
       " '4H',\n",
       " 'PASS',\n",
       " 'PASS',\n",
       " 'PASS']"
      ]
     },
     "execution_count": 10,
     "metadata": {},
     "output_type": "execute_result"
    }
   ],
   "source": [
    "auction = []\n",
    "\n",
    "turn_i = 0  # whose turn is it to bid\n",
    "\n",
    "while not bidding.auction_over(auction):\n",
    "    auction.append(BotBid([False, False], hands[Direction(turn_i)].to_pbn(), models).restful_bid(auction).bid)\n",
    "    turn_i = (turn_i+1)%4\n",
    "    \n",
    "auction"
   ]
  },
  {
   "cell_type": "markdown",
   "id": "ada92dd9",
   "metadata": {},
   "source": [
    "now the bot doesn't pass 3D anymore and they complete their smolen sequence"
   ]
  },
  {
   "cell_type": "code",
   "execution_count": 11,
   "id": "33d366c7",
   "metadata": {},
   "outputs": [
    {
     "name": "stdout",
     "output_type": "stream",
     "text": [
      "{'card': 'S3', 'claim_the_rest': False}\n",
      "{'card': 'ST', 'claim_the_rest': False}\n",
      "{'card': 'SJ', 'claim_the_rest': False}\n",
      "{'card': 'C2', 'claim_the_rest': False}\n",
      "{'card': 'C5', 'claim_the_rest': False}\n",
      "{'card': 'CQ', 'claim_the_rest': False}\n",
      "{'card': 'CK', 'claim_the_rest': False}\n",
      "{'card': 'H4', 'claim_the_rest': False}\n",
      "{'card': 'HK', 'claim_the_rest': False}\n",
      "{'card': 'HA', 'claim_the_rest': False}\n",
      "{'card': 'H3', 'claim_the_rest': False}\n",
      "{'card': 'C8', 'claim_the_rest': False}\n",
      "{'card': 'CA', 'claim_the_rest': False}\n",
      "{'card': 'C6', 'claim_the_rest': False}\n",
      "{'card': 'C4', 'claim_the_rest': False}\n",
      "{'card': 'H6', 'claim_the_rest': False}\n",
      "{'card': 'H7', 'claim_the_rest': False}\n",
      "{'card': 'H9', 'claim_the_rest': False}\n",
      "{'card': 'HT', 'claim_the_rest': False}\n",
      "{'card': 'HJ', 'claim_the_rest': False}\n",
      "{'card': 'H2', 'claim_the_rest': True}\n",
      "{'card': 'D4', 'claim_the_rest': False}\n",
      "{'card': 'HQ', 'claim_the_rest': True}\n",
      "{'card': 'SK', 'claim_the_rest': True}\n",
      "{'card': 'S9', 'claim_the_rest': False}\n",
      "{'card': 'S4', 'claim_the_rest': True}\n",
      "{'card': 'S2', 'claim_the_rest': False}\n",
      "{'card': 'CT', 'claim_the_rest': True}\n",
      "{'card': 'D3', 'claim_the_rest': False}\n",
      "{'card': 'C3', 'claim_the_rest': False}\n",
      "{'card': 'C9', 'claim_the_rest': False}\n",
      "{'card': 'CJ', 'claim_the_rest': True}\n",
      "{'card': 'D5', 'claim_the_rest': False}\n",
      "{'card': 'D6', 'claim_the_rest': True}\n",
      "{'card': 'D8', 'claim_the_rest': False}\n",
      "{'card': 'C7', 'claim_the_rest': True}\n",
      "{'card': 'D7', 'claim_the_rest': False}\n",
      "{'card': 'S6', 'claim_the_rest': True}\n",
      "{'card': 'S7', 'claim_the_rest': False}\n",
      "{'card': 'DA', 'claim_the_rest': True}\n",
      "{'card': 'DT', 'claim_the_rest': False}\n",
      "{'card': 'DQ', 'claim_the_rest': False}\n",
      "{'card': 'D9', 'claim_the_rest': False}\n",
      "{'card': 'D2', 'claim_the_rest': True}\n",
      "{'card': 'DK', 'claim_the_rest': False}\n",
      "{'card': 'H8', 'claim_the_rest': True}\n",
      "{'card': 'DJ', 'claim_the_rest': False}\n"
     ]
    }
   ],
   "source": [
    "from transform_play_card import get_ben_card_play_answer\n",
    "\n",
    "\n",
    "leader = Direction.WEST\n",
    "current_player = Direction.NORTH\n",
    "tricks = [[\"S5\"]]\n",
    "# while all([hand.len()!=1 for hand in hands.values()]) :\n",
    "for i in range(47) :\n",
    "    if len(tricks[-1])==4 :\n",
    "        last_trick = Trick.from_list(leader=leader,trick_as_list=[Card_.from_str(card) for card in tricks[-1]])\n",
    "        current_player = last_trick.winner(trump=BiddingSuit.HEARTS)\n",
    "        leader = current_player\n",
    "        tricks.append([])\n",
    "    card = await get_ben_card_play_answer(hand_str=hands[current_player if current_player!=Direction.NORTH else Direction.SOUTH].to_pbn(),dummy_hand_str=hands[Direction.NORTH].to_pbn(),dealer_str='N',vuls=[False,False],auction=auction,contract=\"4HS\",declarer_str=\"S\",next_player_str=current_player.abbreviation(),tricks_str=tricks,MODELS=models)\n",
    "    print(card)\n",
    "    tricks[-1].append(card[\"card\"])\n",
    "    hands[current_player].remove(Card_.from_str(card[\"card\"]))\n",
    "    current_player = current_player.next()"
   ]
  },
  {
   "cell_type": "code",
   "execution_count": 12,
   "id": "ebc30e2e",
   "metadata": {},
   "outputs": [
    {
     "data": {
      "text/plain": [
       "{NORTH: PlayerHand(T64|2|QJT873|JT9),\n",
       " EAST: PlayerHand(A97|94|K652|8642),\n",
       " SOUTH: PlayerHand(J3|AKQJ65|9|A753),\n",
       " WEST: PlayerHand(KQ852|T873|A4|KQ)}"
      ]
     },
     "execution_count": 12,
     "metadata": {},
     "output_type": "execute_result"
    }
   ],
   "source": [
    "auction = ['PASS', 'PASS', '1N', 'PASS', '3C', 'PASS', '3D', 'PASS', 'PASS']\n",
    "hands_str = 'T64.2.QJT873.JT9 A97.94.652K.8642 J3.AKQJ65.9.A753 KQ852.T873.A4.KQ'.split()\n",
    "hands = {d:PlayerHand.from_pbn(hand) for d,hand in zip(Direction,hands_str)}\n",
    "hands # N, E, S, W"
   ]
  },
  {
   "cell_type": "code",
   "execution_count": 13,
   "id": "0c45058c",
   "metadata": {},
   "outputs": [
    {
     "name": "stdout",
     "output_type": "stream",
     "text": [
      "{'card': 'ST', 'claim_the_rest': False}\n",
      "{'card': 'S7', 'claim_the_rest': False}\n",
      "{'card': 'S3', 'claim_the_rest': False}\n",
      "{'card': 'S2', 'claim_the_rest': False}\n",
      "{'card': 'S4', 'claim_the_rest': False}\n",
      "{'card': 'SA', 'claim_the_rest': False}\n",
      "{'card': 'SJ', 'claim_the_rest': False}\n",
      "{'card': 'S9', 'claim_the_rest': False}\n",
      "{'card': 'D9', 'claim_the_rest': False}\n",
      "{'card': 'S5', 'claim_the_rest': False}\n",
      "{'card': 'S6', 'claim_the_rest': False}\n",
      "{'card': 'HJ', 'claim_the_rest': False}\n",
      "{'card': 'H3', 'claim_the_rest': False}\n",
      "{'card': 'H2', 'claim_the_rest': False}\n",
      "{'card': 'H4', 'claim_the_rest': False}\n",
      "{'card': 'CA', 'claim_the_rest': False}\n",
      "{'card': 'CQ', 'claim_the_rest': False}\n",
      "{'card': 'C9', 'claim_the_rest': False}\n",
      "{'card': 'C6', 'claim_the_rest': False}\n",
      "{'card': 'HA', 'claim_the_rest': False}\n",
      "{'card': 'H7', 'claim_the_rest': False}\n",
      "{'card': 'CT', 'claim_the_rest': False}\n",
      "{'card': 'H9', 'claim_the_rest': False}\n",
      "{'card': 'HQ', 'claim_the_rest': False}\n",
      "{'card': 'H8', 'claim_the_rest': False}\n",
      "{'card': 'CJ', 'claim_the_rest': False}\n",
      "{'card': 'D2', 'claim_the_rest': False}\n",
      "{'card': 'C8', 'claim_the_rest': False}\n",
      "{'card': 'C3', 'claim_the_rest': False}\n",
      "{'card': 'CK', 'claim_the_rest': False}\n",
      "{'card': 'D3', 'claim_the_rest': False}\n",
      "{'card': 'DQ', 'claim_the_rest': False}\n",
      "{'card': 'D5', 'claim_the_rest': False}\n",
      "{'card': 'C7', 'claim_the_rest': False}\n",
      "{'card': 'DA', 'claim_the_rest': False}\n",
      "{'card': 'HT', 'claim_the_rest': False}\n",
      "{'card': 'D7', 'claim_the_rest': False}\n",
      "{'card': 'C4', 'claim_the_rest': False}\n",
      "{'card': 'H5', 'claim_the_rest': False}\n",
      "{'card': 'DJ', 'claim_the_rest': False}\n",
      "{'card': 'DK', 'claim_the_rest': False}\n",
      "{'card': 'C5', 'claim_the_rest': False}\n",
      "{'card': 'D4', 'claim_the_rest': False}\n",
      "{'card': 'C2', 'claim_the_rest': False}\n",
      "{'card': 'H6', 'claim_the_rest': False}\n",
      "{'card': 'S8', 'claim_the_rest': False}\n",
      "{'card': 'D8', 'claim_the_rest': False}\n"
     ]
    }
   ],
   "source": [
    "from transform_play_card import get_ben_card_play_answer\n",
    "\n",
    "\n",
    "leader = Direction.WEST\n",
    "current_player = Direction.NORTH\n",
    "tricks = [[\"SK\"]]\n",
    "# while all([hand.len()!=1 for hand in hands.values()]) :\n",
    "for i in range(47) :\n",
    "    if len(tricks[-1])==4 :\n",
    "        last_trick = Trick.from_list(leader=leader,trick_as_list=[Card_.from_str(card) for card in tricks[-1]])\n",
    "        current_player = last_trick.winner(trump=BiddingSuit.DIAMONDS)\n",
    "        leader = current_player\n",
    "        tricks.append([])\n",
    "    card = await get_ben_card_play_answer(hand_str=hands[current_player if current_player!=Direction.NORTH else Direction.SOUTH].to_pbn(),dummy_hand_str=hands[Direction.NORTH].to_pbn(),dealer_str='N',vuls=[False,False],auction=auction,contract=\"3DS\",declarer_str=\"S\",next_player_str=current_player.abbreviation(),tricks_str=tricks,MODELS=models)\n",
    "    print(card)\n",
    "    tricks[-1].append(card[\"card\"])\n",
    "    hands[current_player].remove(Card_.from_str(card[\"card\"]))\n",
    "    current_player = current_player.next()"
   ]
  },
  {
   "cell_type": "code",
   "execution_count": 14,
   "id": "792a5d16",
   "metadata": {},
   "outputs": [
    {
     "data": {
      "text/plain": [
       "[['SK', 'ST', 'S7', 'S3'],\n",
       " ['S2', 'S4', 'SA', 'SJ'],\n",
       " ['S9', 'D9', 'S5', 'S6'],\n",
       " ['HJ', 'H3', 'H2', 'H4'],\n",
       " ['CA', 'CQ', 'C9', 'C6'],\n",
       " ['HA', 'H7', 'CT', 'H9'],\n",
       " ['HQ', 'H8', 'CJ', 'D2'],\n",
       " ['C8', 'C3', 'CK', 'D3'],\n",
       " ['DQ', 'D5', 'C7', 'DA'],\n",
       " ['HT', 'D7', 'C4', 'H5'],\n",
       " ['DJ', 'DK', 'C5', 'D4'],\n",
       " ['C2', 'H6', 'S8', 'D8']]"
      ]
     },
     "execution_count": 14,
     "metadata": {},
     "output_type": "execute_result"
    }
   ],
   "source": [
    "tricks"
   ]
  },
  {
   "cell_type": "code",
   "execution_count": 15,
   "id": "3b81dfb6",
   "metadata": {},
   "outputs": [],
   "source": [
    "auction = ['PASS', '1S', 'PASS', '1N', 'PASS', '2C', 'PASS', '3S', 'PASS', '4S', 'PASS', 'PASS']\n",
    "hands_str =\"765.AJ732.K3.J75 KJ8Q9.9T.5Q.4KA3 2T.Q865.J97.QT92 A43.K4.AT8642.86\".split()\n",
    "hands = {d:PlayerHand.from_pbn(hand) for d,hand in zip(Direction,hands_str)}"
   ]
  },
  {
   "cell_type": "code",
   "execution_count": 16,
   "id": "405263d4",
   "metadata": {},
   "outputs": [
    {
     "name": "stdout",
     "output_type": "stream",
     "text": [
      "{'card': 'DA', 'claim_the_rest': False}\n",
      "{'card': 'D3', 'claim_the_rest': False}\n",
      "{'card': 'D5', 'claim_the_rest': False}\n",
      "{'card': 'S4', 'claim_the_rest': False}\n",
      "{'card': 'S7', 'claim_the_rest': False}\n",
      "{'card': 'SQ', 'claim_the_rest': False}\n",
      "{'card': 'S2', 'claim_the_rest': False}\n",
      "{'card': 'CK', 'claim_the_rest': False}\n",
      "{'card': 'C2', 'claim_the_rest': False}\n",
      "{'card': 'C6', 'claim_the_rest': False}\n",
      "{'card': 'C5', 'claim_the_rest': False}\n",
      "{'card': 'DQ', 'claim_the_rest': False}\n",
      "{'card': 'D9', 'claim_the_rest': False}\n",
      "{'card': 'D4', 'claim_the_rest': False}\n",
      "{'card': 'DK', 'claim_the_rest': False}\n",
      "{'card': 'S5', 'claim_the_rest': False}\n",
      "{'card': 'S8', 'claim_the_rest': False}\n",
      "{'card': 'ST', 'claim_the_rest': False}\n",
      "{'card': 'SA', 'claim_the_rest': False}\n",
      "{'card': 'DT', 'claim_the_rest': False}\n",
      "{'card': 'C7', 'claim_the_rest': False}\n",
      "{'card': 'S9', 'claim_the_rest': False}\n",
      "{'card': 'DJ', 'claim_the_rest': False}\n",
      "{'card': 'CA', 'claim_the_rest': False}\n",
      "{'card': 'C9', 'claim_the_rest': False}\n",
      "{'card': 'C8', 'claim_the_rest': False}\n",
      "{'card': 'CJ', 'claim_the_rest': False}\n",
      "{'card': 'C3', 'claim_the_rest': False}\n",
      "{'card': 'CT', 'claim_the_rest': False}\n",
      "{'card': 'S3', 'claim_the_rest': False}\n",
      "{'card': 'H2', 'claim_the_rest': False}\n",
      "{'card': 'D8', 'claim_the_rest': False}\n",
      "{'card': 'S6', 'claim_the_rest': False}\n",
      "{'card': 'C4', 'claim_the_rest': False}\n",
      "{'card': 'H5', 'claim_the_rest': False}\n",
      "{'card': 'HA', 'claim_the_rest': False}\n",
      "{'card': 'H9', 'claim_the_rest': False}\n",
      "{'card': 'H6', 'claim_the_rest': False}\n",
      "{'card': 'H4', 'claim_the_rest': False}\n",
      "{'card': 'H3', 'claim_the_rest': False}\n",
      "{'card': 'HT', 'claim_the_rest': False}\n",
      "{'card': 'HQ', 'claim_the_rest': False}\n",
      "{'card': 'HK', 'claim_the_rest': False}\n",
      "{'card': 'D6', 'claim_the_rest': False}\n",
      "{'card': 'H7', 'claim_the_rest': False}\n",
      "{'card': 'SJ', 'claim_the_rest': False}\n",
      "{'card': 'H8', 'claim_the_rest': False}\n"
     ]
    }
   ],
   "source": [
    "leader = Direction.SOUTH\n",
    "current_player = Direction.WEST\n",
    "tricks = [[\"D7\"]]\n",
    "# while all([hand.len()!=1 for hand in hands.values()]) :\n",
    "for i in range(47) :\n",
    "    if len(tricks[-1])==4 :\n",
    "        last_trick = Trick.from_list(leader=leader,trick_as_list=[Card_.from_str(card) for card in tricks[-1]])\n",
    "        current_player = last_trick.winner(trump=BiddingSuit.SPADES)\n",
    "        leader = current_player\n",
    "        tricks.append([])\n",
    "    card = await get_ben_card_play_answer(hand_str=hands[current_player if current_player!=Direction.WEST else Direction.EAST].to_pbn(),dummy_hand_str=hands[Direction.WEST].to_pbn(),dealer_str='N',vuls=[False,False],auction=auction,contract=\"4SE\",declarer_str=\"E\",next_player_str=current_player.abbreviation(),tricks_str=tricks,MODELS=models)\n",
    "    print(card)\n",
    "    tricks[-1].append(card[\"card\"])\n",
    "    hands[current_player].remove(Card_.from_str(card[\"card\"]))\n",
    "    current_player = current_player.next()"
   ]
  }
 ],
 "metadata": {
  "kernelspec": {
   "display_name": "Python 3 (ipykernel)",
   "language": "python",
   "name": "python3"
  },
  "language_info": {
   "codemirror_mode": {
    "name": "ipython",
    "version": 3
   },
   "file_extension": ".py",
   "mimetype": "text/x-python",
   "name": "python",
   "nbconvert_exporter": "python",
   "pygments_lexer": "ipython3",
   "version": "3.10.2"
  },
  "vscode": {
   "interpreter": {
    "hash": "db6859663c517eaff44cb590a4f83a9ffca1c2df3a6cfb3b0e93ea33231aa8bf"
   }
  }
 },
 "nbformat": 4,
 "nbformat_minor": 5
}
