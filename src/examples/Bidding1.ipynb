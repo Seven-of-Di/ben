{
 "cells": [
  {
   "cell_type": "markdown",
   "id": "75d07246",
   "metadata": {},
   "source": [
    "# Bidding\n",
    "\n",
    "This is a tutorial for how to use the bidding engine"
   ]
  },
  {
   "cell_type": "code",
   "execution_count": 1,
   "id": "59a5664c",
   "metadata": {},
   "outputs": [
    {
     "name": "stderr",
     "output_type": "stream",
     "text": [
      "Loaded lib <WinDLL 'C:\\Users\\lucbe\\OneDrive\\Documents\\Bridge\\ben\\ben\\dds.dll', handle 7ff96efb0000 at 0x1a04b137e50>\n"
     ]
    }
   ],
   "source": [
    "import os\n",
    "os.chdir('..')\n",
    "\n",
    "from nn.models import Models\n",
    "from bots import BotBid\n",
    "from bidding import bidding\n",
    "from util import hand_to_str\n",
    "from deck52 import random_deal\n",
    "from utils import Direction,BiddingSuit,Suit,Card_,PlayerHand\n",
    "from PlayRecord import PlayRecord,Trick"
   ]
  },
  {
   "cell_type": "code",
   "execution_count": 2,
   "id": "44786d5d",
   "metadata": {},
   "outputs": [
    {
     "name": "stdout",
     "output_type": "stream",
     "text": [
      "INFO:tensorflow:Restoring parameters from ../models/gib21_model/gib21-1000000\n",
      "INFO:tensorflow:Restoring parameters from ../models/gib21_info_model/gib21_info-500000\n",
      "INFO:tensorflow:Restoring parameters from ../models/lead_model_b/lead-1000000\n",
      "INFO:tensorflow:Restoring parameters from ../models/lr3_model/lr3-1000000\n",
      "INFO:tensorflow:Restoring parameters from ../models/lefty_model/lefty-1000000\n",
      "INFO:tensorflow:Restoring parameters from ../models/dummy_model/dummy-920000\n",
      "INFO:tensorflow:Restoring parameters from ../models/righty_model/righty-1000000\n",
      "INFO:tensorflow:Restoring parameters from ../models/decl_model/decl-1000000\n"
     ]
    }
   ],
   "source": [
    "models = Models.load('../models')   # loading neural networks"
   ]
  },
  {
   "cell_type": "markdown",
   "id": "10d8f2fc",
   "metadata": {},
   "source": [
    "### Running through an example"
   ]
  },
  {
   "cell_type": "code",
   "execution_count": 3,
   "id": "19dbfeb7",
   "metadata": {},
   "outputs": [],
   "source": [
    "# East deals, EW vulnerable.\n",
    "vuln_ns, vuln_ew = False, True"
   ]
  },
  {
   "cell_type": "code",
   "execution_count": 4,
   "id": "5b5c0bd3",
   "metadata": {},
   "outputs": [
    {
     "name": "stdout",
     "output_type": "stream",
     "text": [
      "['KJx.AQ.KTxx.AKTx Ax.T9.AJ98x.J8xx Qxxx.KJxxx.x.xxx T98x.8xxx.Qxx.Q9', 'AKx.AQT.Q9x.KQT8 Jxx.8x.xxxx.Axxx Qxxx.KJxxx.x.xxx T98.9xx.AKJT8.J9', '9xx.AQ8.AKQ8.AQx AKJx.x.J9xx.J98x Qxxx.KJxxx.x.xxx T8.T9xx.Txxx.KTx', 'AJx.Qx.AKQx.A9xx T8x.A98x.Jxxx.KQ Qxxx.KJxxx.x.xxx K9x.Tx.T98x.JT8x', 'ATx.Ax.AKxx.AJ9x K98x.8x.QT9xx.Qx Qxxx.KJxxx.x.xxx Jx.QT9x.J8x.KT8x', 'Axx.Q8.AJxx.AKQJ K98x.xx.98xx.Txx Qxxx.KJxxx.x.xxx JT.AT9x.KQTx.98x', 'AKJ.AT8.A9x.A98x T9xx.x.JTxx.KQJx Qxxx.KJxxx.x.xxx 8x.Q9xx.KQ8xx.Tx', 'Ax.AQ8.Qxxx.AKQx T9x.Txx.Kxx.JT9x Qxxx.KJxxx.x.xxx KJ8x.9x.AJT98.8x', 'KJT.A9x.KQxx.AKx A98.8x.T9x.QJ8xx Qxxx.KJxxx.x.xxx xxx.QTx.AJ8xx.T9', 'KJ.A9.KJ8xx.AKQx A98x.xx.AQTxxx.x Qxxx.KJxxx.x.xxx Txx.QT8x.9.JT98x', 'AJT.Ax.AKxx.A98x K9x.Q9x.JTxx.KJT Qxxx.KJxxx.x.xxx 8xx.T8x.Q98x.Qxx', 'A8x.AT.AQJTx.KQx x.Q9x.8xxxx.AJTx Qxxx.KJxxx.x.xxx KJT9x.8xx.K9.98x', 'AK8.Ax.AQxx.K9xx T9xx.Qx.KJTx.T8x Qxxx.KJxxx.x.xxx Jx.T98x.98xx.AQJ', 'AKx.A98.QJx.AQTx Jx.Qxx.AT98xx.J8 Qxxx.KJxxx.x.xxx T98x.Tx.Kxx.K9xx', 'J9x.AT.AKQT.AK8x A8x.Qxx.J8xx.Qxx Qxxx.KJxxx.x.xxx KTx.98x.9xxx.JT9', 'AKT.AQ9.Q8xx.KQJ J98x.Tx.KJTxx.9x Qxxx.KJxxx.x.xxx xx.8xx.A9x.AT8xx', 'AK8.Ax.AQ9x.KJT9 9x.8xx.KJTxxx.Q8 Qxxx.KJxxx.x.xxx JTxx.QT9.8x.Axxx', 'Ax.Q8.AKTx.AKT9x Txx.A9xx.J9x.8xx Qxxx.KJxxx.x.xxx KJ98.Tx.Q8xxx.QJ', 'A9x.A9x.AKxx.KQx Jx.Qx.JTxxx.JT9x Qxxx.KJxxx.x.xxx KT8x.T8x.Q98.A8x', 'KTx.Ax.AQT8x.AKT J98.T98.Kxx.J8xx Qxxx.KJxxx.x.xxx Axx.Qxx.J9xx.Q9x', 'AT.ATx.AKJxx.KJx K98xx.x.Q98x.A8x Qxxx.KJxxx.x.xxx Jx.Q98x.Txx.QT9x', 'AK.Txx.AQJ9x.AQJ J9x.A9x.xxx.T98x Qxxx.KJxxx.x.xxx T8xx.Q8.KT8x.Kxx', 'T9x.A8.AK8xx.AKQ Ax.Tx.JT9xx.8xxx Qxxx.KJxxx.x.xxx KJ8x.Q9xx.Qx.JT9', 'K8.ATx.AK9x.AKxx A9x.Qxx.QJ8x.QJT Qxxx.KJxxx.x.xxx JTxx.98.Txxx.98x', 'Ax.ATx.KQTx.AQJx KJ8x.Q9x.J9x.K9x Qxxx.KJxxx.x.xxx T9x.8x.A8xxx.T8x', 'Ax.QTx.AK9x.AKJx JTx.A8.xxx.QT98x Qxxx.KJxxx.x.xxx K98x.9xx.QJT8x.x', 'A8x.Qx.AKJx.AK9x JT9x.T8x.xxx.QJx Qxxx.KJxxx.x.xxx Kx.A9x.QT98x.T8x', 'AJx.T9.AKQx.AK8x K9xx.8x.T8x.JT9x Qxxx.KJxxx.x.xxx T8.AQxx.J9xxx.Qx', 'Ax.A8x.AQJxx.KQx K98x.9x.K98.AJ9x Qxxx.KJxxx.x.xxx JTx.QTx.Txxx.T8x', 'AJ8.A9.KQxx.KQJx T9x.QTx.AT98.T8x Qxxx.KJxxx.x.xxx Kxx.8xx.Jxxx.A9x', 'Tx.A8x.AKT8.AKQ9 AK9x.Q9xx.QJx.JT Qxxx.KJxxx.x.xxx J8x.T.9xxxx.8xxx', 'KJx.Ax.AKT9.AJ9x AT9x.98x.Q8xx.K8 Qxxx.KJxxx.x.xxx 8x.QTx.Jxxx.QTxx', 'Kx.AQ.AKxx.AT9xx T8xx.T9x.J9x.K8x Qxxx.KJxxx.x.xxx AJ9.8xx.QT8xx.QJ', 'Jx.AQx.AKTx.AKTx A98.T9x.J8xx.QJ8 Qxxx.KJxxx.x.xxx KTxx.8x.Q9xx.9xx', 'KTx.A9.KQ9xx.AKQ Ax.Q8xx.AJ8x.Jxx Qxxx.KJxxx.x.xxx J98x.Tx.Txx.T98x', 'AJx.AQ8.9xx.AKQ9 K9x.T9x.AQJx.Txx Qxxx.KJxxx.x.xxx T8x.xx.KT8xx.J8x', 'Ax.Axx.AKQ9x.KTx KJT.T9.JTxx.A8xx Qxxx.KJxxx.x.xxx 98xx.Q8x.8xx.QJ9', 'xx.Ax.KQJx.AKQJx KT8.Tx.T98xxx.Tx Qxxx.KJxxx.x.xxx AJ9x.Q98x.Ax.98x', 'K9x.A9x.KQJx.AKT A8x.Tx.ATxx.8xxx Qxxx.KJxxx.x.xxx JTx.Q8x.98xx.QJ9', 'KT8.Ax.AKQJ8.K98 Jxx.Qx.Txxx.ATxx Qxxx.KJxxx.x.xxx A9x.T98x.9xx.QJx', 'Kx.Ax.AJxxx.AKQT AJx.T98.KQTx.Jxx Qxxx.KJxxx.x.xxx T98x.Qxx.98x.98x', 'A8x.Tx.AKx.AKQJ8 Jx.A98x.T98xx.Tx Qxxx.KJxxx.x.xxx KT9x.Qx.QJxx.9xx', 'AKx.Qx.AKxxx.KJx T98x.Txx.Qx.AQ8x Qxxx.KJxxx.x.xxx Jx.A98.JT98x.T9x', 'AKJ.Ax.9xx.AKJxx 98x.QT98.AQ8xx.8 Qxxx.KJxxx.x.xxx Txx.xx.KJTx.QT9x', 'AT.AQ9.Kxx.AKT8x 9x.T8xxx.AQ9x.QJ Qxxx.KJxxx.x.xxx KJ8xx..JT8xx.9xx', 'AK8.Axx.QTx.AK98 JT9xx.T9.J98.Jxx Qxxx.KJxxx.x.xxx x.Q8x.AKxxxx.QTx', 'KTx.A8.AKJ8x.KQJ xx.Tx.Qxxxx.T98x Qxxx.KJxxx.x.xxx AJ98.Q9xx.T9.Axx', 'Ax.ATx.KQJx.AKT9 KJT9.Q9.A98xx.Qx Qxxx.KJxxx.x.xxx 8xx.8xx.Txx.J8xx', 'K8.xx.AKJT.AKQ9x 9xx.A98.Q9xx.JT8 Qxxx.KJxxx.x.xxx AJTx.QTx.8xxx.xx', 'K9.Q8x.AQx.AKQxx AT8xx.T9.JTxx.T9 Qxxx.KJxxx.x.xxx Jx.Axx.K98xx.J8x', 'A8.Axx.AKJxx.Axx KTxx.T.T9xx.Q98x Qxxx.KJxxx.x.xxx J9x.Q98x.Q8x.KJT', 'A9.A8x.Kxxx.AKQx J8xx.Tx.AT9x.T8x Qxxx.KJxxx.x.xxx KTx.Q9x.QJ8x.J9x', 'AT8.A98.AK9x.AQx xx.Tx.QT8xx.J98x Qxxx.KJxxx.x.xxx KJ9x.Qxx.Jxx.KTx', 'KJ.Axx.AT8x.AKJ9 8xx.QT8.J9xx.Qxx Qxxx.KJxxx.x.xxx AT9x.9x.KQxx.T8x', 'ATx.ATx.AKQJx.QJ KJ9.9x.9xxx.AK98 Qxxx.KJxxx.x.xxx 8xx.Q8x.T8x.Txxx', 'AKx.xx.AK98.AK98 T98x.Q9x.Jxxx.Tx Qxxx.KJxxx.x.xxx Jx.AT8.QTxx.QJxx', 'AKT.ATx.KJ9.AJTx 98x.9xx.QTxxx.Kx Qxxx.KJxxx.x.xxx Jxx.Q8.A8xx.Q98x', 'AKx.A8.AKxx.Q98x JTx.Qx.QJ8x.AKJx Qxxx.KJxxx.x.xxx 98x.T9xx.T9xx.Tx', 'AJ9.Tx.AQTx.AKQx K8x.AQ8.K98xx.9x Qxxx.KJxxx.x.xxx Txx.9xx.Jxx.JT8x', 'KJ8.Tx.AKJxx.AKJ 9xxx.A8x.T8x.Q8x Qxxx.KJxxx.x.xxx AT.Q9x.Q9xx.T9xx', 'AKx.Ax.QJTx.AK8x T9.T98x.K98x.QTx Qxxx.KJxxx.x.xxx J8xx.Qx.Axxx.J9x', 'A98.ATx.AKx.KQ9x JTx.x.QJTxx.AJTx Qxxx.KJxxx.x.xxx Kxx.Q98x.98xx.8x', 'AKx.9x.AQJ9x.AKT 8x.AQT8x.T8x.Qxx Qxxx.KJxxx.x.xxx JT9x.x.Kxxx.J98x', 'AK.8x.AKQTx.KQxx T9xx.Qx.8xxx.T98 Qxxx.KJxxx.x.xxx J8x.AT9x.J9x.AJx']\n",
      "3S\n",
      "[{'call': '3S', 'insta_score': 0.9985024929046631}]\n"
     ]
    }
   ],
   "source": [
    "hand = 'Q432.KJ654.4.432'\n",
    "auction = ['PAD_START', '2N', 'PASS','3C','PASS','3D','PASS'] # Here, it wrongly passes on the stayman answer, just like he would pass a 3D opening\n",
    "bot_bid = BotBid([vuln_ns, vuln_ew], hand, models)\n",
    "bid = bot_bid.restful_bid(auction)\n",
    "\n",
    "print(bid.samples) #The samples are correct\n",
    "print(bid.bid)\n",
    "print(bid.to_dict()['candidates'])"
   ]
  },
  {
   "cell_type": "code",
   "execution_count": 5,
   "id": "87c66c19",
   "metadata": {},
   "outputs": [
    {
     "name": "stdout",
     "output_type": "stream",
     "text": [
      "['AQ.J8xxx.T9x.T8x T8xx.AKx.KJxx.xx Kx.QT9xx.A8x.Axx J9xxx..Qxx.KQJ9x', '9xx.Jxx.A9x.QT9x T8xx.AKx.KJxx.xx A.Q98xxx.Q8xx.A8 KQJxx.T.Tx.KJxxx', 'J.98xx.Qx.AT8xxx T8xx.AKx.KJxx.xx Kxx.QJTxx.98.KQJ AQ9xx.x.ATxxx.9x', 'Ax.Jxxx.xxx.Q98x T8xx.AKx.KJxx.xx x.QT98xx.AQT9.Kx KQJ9xx..8x.AJTxx', '9xx.QJ8x.ATxx.xx T8xx.AKx.KJxx.xx J.T9xxx.Q8x.AKQT AKQxx.x.9x.J98xx', 'AJ.J9xx.9xx.T8xx T8xx.AKx.KJxx.xx x.QT8xxx.AQT8.QJ KQ9xxx..xx.AK9xx', 'Jx.T8xxx.T8x.A9x T8xx.AKx.KJxx.xx AK.QJ9xx.x.KQJxx Q9xxx..AQ9xx.T8x', 'J9x.T9xxx.x.ATxx T8xx.AKx.KJxx.xx x.QJ8xx.AQT8x.Kx AKQxx..9xx.QJ98x', 'KQ9.QT8x.QT9x.Tx T8xx.AKx.KJxx.xx x.J9xxx.Axx.AQ98 AJxxx.x.8x.KJxxx', 'KJxx.Q8xx.x.98xx T8xx.AKx.KJxx.xx .JT9xxx.Q9x.AKQx AQ9xx..AT8xx.JTx', 'QJ.Q9xx.Q9xx.J9x T8xx.AKx.KJxx.xx Ax.JTxxx.ATx.KTx K9xxx.8.8x.AQ8xx', 'AKQx.Txx.98xx.8x T8xx.AKx.KJxx.xx .QJ98xxx.AQT.A9x J9xxx..xx.KQJTxx', 'x.Txxx.ATxx.T9xx T8xx.AKx.KJxx.xx AJx.QJ98x.Q98.Qx KQ9xx.x.xx.AKJ8x', 'x.9xx.QT9x.QJT9x T8xx.AKx.KJxx.xx KQx.QJT8xxx.A8.x AJ9xx..xxx.AK8xx', 'xx.9xx.Tx.AJT9xx T8xx.AKx.KJxx.xx AQ.QJ8xx.8x.KQ8x KJ9xx.Tx.AQ9xx.x', 'AJx.JTxx.Q9x.98x T8xx.AKx.KJxx.xx 9.Q98xxx.AT8.AJx KQxxx..xxx.KQTxx', 'xx.T8xx.9x.AJ8xx T8xx.AKx.KJxx.xx K.QJ9xxx.Tx.KQTx AQJ9xx..AQ8xx.9x', '9x.9xx.9xx.AKT8x T8xx.AKx.KJxx.xx KQ.QT8xxx.ATxx.x AJxxx.J.Q8.QJ9xx', 'Axx.JT9x.T8x.Q8x T8xx.AKx.KJxx.xx x.Q8xxxx.Axx.AJx KQJ9x..Q9x.KT9xx', 'KJx.T8xxx.Qx.Q9x T8xx.AKx.KJxx.xx x.QJ9xx.AT8x.AKx AQ9xx..9xx.JT8xx', 'xx.Qxxx.8xx.AT9x T8xx.AKx.KJxx.xx AK.JT98x.AQT9.xx QJ9xx.x.xx.KQJ8x', '9x.QJ9xx.T8xx.Q9 T8xx.AKx.KJxx.xx K.T8xxx.AQ9.KJ8x AQJxxx..xx.ATxxx', 'Jx.T8xx.ATxxx.Kx T8xx.AKx.KJxx.xx x.QJ9xx.Q9x.AQxx AKQ9xx.x.8.JT98x', '9x.Q8xxx.QTxxx.J T8xx.AKx.KJxx.xx AK.JT9xx.A8.KT8x QJxxx..9x.AQ9xxx', 'AJx.QJT8x.xx.9xx T8xx.AKx.KJxx.xx x.9xxxx.AQT8.AJx KQ9xx..9xx.KQT8x', 'x.Qxxx.AQ9xx.xxx T8xx.AKx.KJxx.xx AKx.JT98xx.8.AJT QJ9xx..Txx.KQ98x', 'Qxx.Q8x.Q98xx.Qx T8xx.AKx.KJxx.xx .JT9xxxx.AT.AKJ9 AKJ9xx..xx.T8xxx', 'QJx.JTxx.T8xxx.9 T8xx.AKx.KJxx.xx A.Q9xxx.AQ.KQT8x K9xxx.8.9x.AJxxx', 'Qx.98xx.A9xx.xxx T8xx.AKx.KJxx.xx Jx.QJTxx.QT8.AK8 AK9xx.x.xx.QJT9x', 'x.Jxxx.QT9xx.T9x T8xx.AKx.KJxx.xx AKx.QT9xx.xx.AJ8 QJ9xx.8.A8.KQxxx', 'QJ.Q8xx.T8x.KJTx T8xx.AKx.KJxx.xx 9x.JTxxx.A.AQ8xx AKxxx.9.Q9xxx.9x', '9x.Q9xx.Txx.A9xx T8xx.AKx.KJxx.xx Kx.JT8xxx.AQx.QT AQJxx..98x.KJ8xx', 'KJxx.JTxx.Tx.8xx T8xx.AKx.KJxx.xx .Q98xxx.AQ9x.AT9 AQ9xx..8xx.KQJxx', 'xx.Jxxx.xx.K98xx T8xx.AKx.KJxx.xx x.QT8xx.QT.AQJxx AKQJ9x.9.A98xx.T', 'Axx.8xx.T98x.QTx T8xx.AKx.KJxx.xx Q.QJT9xx.AQx.A8x KJ9xx.x.xx.KJ9xx', 'J.8xx.T8xxx.AT8x T8xx.AKx.KJxx.xx A.QJT9xxx.AQ9.Jx KQ9xxxx..x.KQ9xx']\n",
      "4S\n",
      "[{'call': '4S', 'insta_score': 0.6949708461761475, 'expected_score': 234.14073121937437}, {'call': '3S', 'insta_score': 0.16825923323631287, 'expected_score': 79.46194153601013}]\n"
     ]
    }
   ],
   "source": [
    "hand = 'T873.AK6.KJ32.43'\n",
    "auction = ['PASS','PASS','1H','2H','3H'] # Here, it correctly bids 4S\n",
    "bot_bid = BotBid([vuln_ns, vuln_ew], hand, models)\n",
    "bid = bot_bid.restful_bid(auction)\n",
    "\n",
    "print(bid.samples) #The samples are correct\n",
    "print(bid.bid)\n",
    "print(bid.to_dict()['candidates'])"
   ]
  },
  {
   "cell_type": "code",
   "execution_count": 6,
   "id": "a707a8da",
   "metadata": {},
   "outputs": [
    {
     "name": "stdout",
     "output_type": "stream",
     "text": [
      "['Kx.QJT8x.ATxx.Ax T8xx.AKx.KJxx.xx Jx.9xx.Q9xx.T98x AQ9xx.xx.8.KQJxx', 'K9.QJT98x.AT8.AQ T8xx.AKx.KJxx.xx xxx.xxx.9xxx.T9x AQJx.x.Qx.KJ8xxx', '9x.QJ98xx.AQ.KQx T8xx.AKx.KJxx.xx xx.Tx.T98xxx.8xx AKQJx.xx.x.AJT9x', 'Ax.Qxxxx.9x.AKQx T8xx.AKx.KJxx.xx Jx.JT98.Qxx.T8xx KQ9xx.x.AT8x.J9x', 'Kx.Q98xx.AT98.KQ T8xx.AKx.KJxx.xx Jx.Txx.xxxx.8xxx AQ9xx.Jx.Q.AJT9x', 'x.QJT9xx.T8.AKQx T8xx.AKx.KJxx.xx QJx.xxx.xxx.JTxx AK9xx.8.AQ9x.98x', 'Ax.QJT8xx.Tx.AKJ T8xx.AKx.KJxx.xx 9xx.9xx.9x.QT8xx KQJx.x.AQ8xx.9xx', 'K.QT98xx.AQxx.8x T8xx.AKx.KJxx.xx Q9xx.xxx.T9.9xxx AJxx.J.8xx.AKQJT', 'Kxx.QJT8x.AQx.8x T8xx.AKx.KJxx.xx x.9xxx.T98x.QJ9x AQJ9x.x.xx.AKTxx', '9.JT98xx.Q9.AKQx T8xx.AKx.KJxx.xx Jxx.Qxx.T8x.JT8x AKQxx.x.Axxx.9xx', 'QJx.QJ9xxx.A8.K9 T8xx.AKx.KJxx.xx xx.8xx.Qxxx.J8xx AK9x.T.T9x.AQTxx', 'Q.QJT8xxx.AQ.ATx T8xx.AKx.KJxx.xx 9xx.9x.8xxx.9xxx AKJxx.x.T9x.KQJ8', 'x.QJT98.AQTx.A9x T8xx.AKx.KJxx.xx Q9x.xxx.98xxx.8x AKJxx.xx..KQJTxx', 'A.QJ9xxx.9xx.AKT T8xx.AKx.KJxx.xx J9x.T8x.8xx.98xx KQxxx.x.AQT.QJxx', 'AKx.QJ98xx.A9.KJ T8xx.AKx.KJxx.xx Qx.Txxx.Tx.QT8xx J9xx..Q8xxx.A9xx', 'A.QJT9xx.T8x.AJT T8xx.AKx.KJxx.xx J9.8xx.Q9xx.98xx KQxxxx.x.Ax.KQxx', 'x.QT8xxx.AQTx.Kx T8xx.AKx.KJxx.xx K9xx.9.8xxx.T9xx AQJx.Jxx.9.AQJ8x', 'AKxx.QJ8xxx.x.Tx T8xx.AKx.KJxx.xx Jx.T9x.QT9x.J98x Q9x.x.A8xx.AKQxx', '.QJT9xxx.AQTx.Kx T8xx.AKx.KJxx.xx 9xxx.8x.xx.JT9xx AKQJx.x.98x.AQ8x', 'Kx.J98xx.AQ9.ATx T8xx.AKx.KJxx.xx xxx.xxx.Txxx.Q9x AQJ9.QT.8x.KJ8xx']\n",
      "2N\n",
      "[{'call': '2N', 'insta_score': 0.3044964373111725, 'expected_score': 430.4379198344459}, {'call': '2S', 'insta_score': 0.2832288444042206, 'expected_score': 287.85810402916235}]\n"
     ]
    }
   ],
   "source": [
    "hand = 'T873.AK6.KJ32.43'\n",
    "auction = ['1H','PASS','PASS','2H','PASS'] #Here, it wrongly fit the artificial 3H\n",
    "bot_bid = BotBid([vuln_ns, vuln_ew], hand, models)\n",
    "bid = bot_bid.restful_bid(auction)\n",
    "\n",
    "print(bid.samples) #The samples are correct\n",
    "print(bid.bid)\n",
    "print(bid.to_dict()['candidates'])"
   ]
  },
  {
   "cell_type": "code",
   "execution_count": 7,
   "id": "df14a08f",
   "metadata": {},
   "outputs": [
    {
     "name": "stdout",
     "output_type": "stream",
     "text": [
      "['9x.Txx.Qxxxx.xxx KJx.AQ8.AJx.J9xx T8x.xxx.T98x.T8x AQxxx.KJ9x.K.AKQ', 'Tx.8xx.8xxx.T8xx KJx.AQTx.AQx.9xx 98x.xx.JT9xx.Jxx AQxxx.KJ9x.K.AKQ', '9xx.xxx.xx.8xxxx K8.AQ8x.AQ9x.T9x JTx.Tx.JT8xxx.Jx AQxxx.KJ9x.K.AKQ', 'JT.xx.Txx.JT9xxx K9x.AQ8x.AQxx.8x 8xx.Txx.J98xx.xx AQxxx.KJ9x.K.AKQ', '9x.Q8xx.8xx.JT8x KJx.Ax.AQJxx.9xx T8x.Txx.T9xx.xxx AQxxx.KJ9x.K.AKQ', 'xxx.xxx.Q9xx.9xx KJ8.AQ.AJ8x.8xxx T9.T8xx.Txxx.JTx AQxxx.KJ9x.K.AKQ', 'T9.Txx.8xx.98xxx K8xx.AQ8.AQT9.xx Jx.xxx.Jxxxx.JTx AQxxx.KJ9x.K.AKQ', '9xx.8xx.Q98x.JTx KJx.AQTx.AJxx.9x T8.xx.Txxx.8xxxx AQxxx.KJ9x.K.AKQ', 'T9.8xx.98x.T8xxx KJ8x.ATx.AQJT.Jx xx.Qxx.xxxxx.9xx AQxxx.KJ9x.K.AKQ', '98x.x.98xxx.JT9x KJx.AQxxx.AJT.8x Tx.T8x.Qxxx.xxxx AQxxx.KJ9x.K.AKQ', 'J9x.Tx.xxxx.J8xx K8xx.AQx.AQJT.xx T.8xxx.98xx.T9xx AQxxx.KJ9x.K.AKQ', 'J8x.xx.8xxx.8xxx K9x.AQTx.AQT.9xx Tx.8xx.J9xxx.JTx AQxxx.KJ9x.K.AKQ', 'J98.xx.J9xxx.T9x Kx.AQx.AQT8.8xxx Txx.T8xx.xxx.Jxx AQxxx.KJ9x.K.AKQ', 'T9x.Txx.8x.T9xxx K8x.AQx.AQ9x.J8x Jx.8xx.JTxxxx.xx AQxxx.KJ9x.K.AKQ', '98x.Tx.JT8x.T98x KJxx.AQx.AQxx.xx T.8xxx.9xxx.Jxxx AQxxx.KJ9x.K.AKQ', 'Jx.T8x.JTxx.J8xx KT98.AQxx.AQx.xx xx.xx.98xxx.T9xx AQxxx.KJ9x.K.AKQ', 'Tx.Txx.T8xx.JT9x Kx.AQ8x.AQxx.8xx J98x.xx.J9xx.xxx AQxxx.KJ9x.K.AKQ', 'Tx.T8xx.9xxx.Txx Kx.AQxx.AQxx.Jxx J98x.x.JT8x.98xx AQxxx.KJ9x.K.AKQ', '8xx.T8x.T9xxx.xx KJx.Axx.AQxx.JTx T9.Qxx.J8x.98xxx AQxxx.KJ9x.K.AKQ', 'xx.Txx.JTxxxx.Jx KJx.AQx.AQx.8xxx T98.8xx.98x.T9xx AQxxx.KJ9x.K.AKQ', '.QTxx.98xx.9xxxx KJx.A8xx.AQxx.JT T98xx.x.JTxx.8xx AQxxx.KJ9x.K.AKQ', 'xx.xxx.9xxxx.Jxx Kx.AQ8.AQJ.Txxxx JT98.Txx.T8xx.98 AQxxx.KJ9x.K.AKQ', 'J9x.x.Jxxx.J98xx KTx.AQxx.AQT9.Tx 8x.T8xx.8xxx.xxx AQxxx.KJ9x.K.AKQ', 'x.8xx.Txxxx.JTxx KTx.AQxx.AQ8x.9x J98x.Tx.J9x.8xxx AQxxx.KJ9x.K.AKQ', 'T8xx.Qx.T9x.xxxx KJ.Ax.AQJxx.T8xx 9x.T8xxx.8xxx.J9 AQxxx.KJ9x.K.AKQ', 'Jx.T8xx.Q9xx.xxx K9x.AQ.AJ8xx.JT9 T8x.xxx.Txx.8xxx AQxxx.KJ9x.K.AKQ', 'Jx.8xx.JTxxx.Txx KT8x.AQx.AQx.J9x 9x.Txx.98xx.8xxx AQxxx.KJ9x.K.AKQ', 'J9.xxx.T98xx.J9x Kxxx.AQT.AQJ.xxx T8.8xx.xxxx.T8xx AQxxx.KJ9x.K.AKQ', 'x.8xx.Jxxxx.8xxx KJx.ATx.AQTx.J9x T98x.Qxx.98x.Txx AQxxx.KJ9x.K.AKQ', 'J9.Tx.T8xxx.8xxx KT.AQxx.AQJx.Txx 8xxx.8xx.9xx.J9x AQxxx.KJ9x.K.AKQ', '8xx.xxx.J8xxx.xx KT.AQxx.AQx.T8xx J9x.T8.T9xx.J9xx AQxxx.KJ9x.K.AKQ', 'T9xx.8xx.QJx.T9x KJ.AQTx.A98x.Jxx 8x.xx.Txxxx.8xxx AQxxx.KJ9x.K.AKQ', 'J9x.8xx.JTx.JT9x Kx.AQT.AQ8xx.8xx T8x.xxx.9xxx.xxx AQxxx.KJ9x.K.AKQ', 'J8.8xxx.J8x.T9xx KT.AQTx.AQTxx.8x 9xxx.x.9xxx.Jxxx AQxxx.KJ9x.K.AKQ', 'T8xx.T.J8xx.9xxx KJx.AQx.Axxx.JT8 9.8xxxx.QT9x.xxx AQxxx.KJ9x.K.AKQ', '98x.8x.JTx.J8xxx KJx.AQTx.AQ9x.Tx Tx.xxx.8xxxx.9xx AQxxx.KJ9x.K.AKQ', 'Txx.T8xx.JTxx.8x K8x.AQx.AQ9x.Jxx J9.xx.8xxx.T9xxx AQxxx.KJ9x.K.AKQ', 'Jxx.xxxx.xx.xxxx KTx.AQ.AQxxx.J9x 98.T8x.JT98x.T8x AQxxx.KJ9x.K.AKQ', '9x.xxxx.Txxx.8xx KT8.AQx.AJ98.J9x Jxx.T8.Qxxx.Txxx AQxxx.KJ9x.K.AKQ', 'xx.Q8x.T8xxx.xxx KJT.Axx.AQ9x.JT9 98x.Txx.Jxx.8xxx AQxxx.KJ9x.K.AKQ', 'JT9x.Txxx.Tx.xxx K8.AQx.AQ8xx.Txx xx.8x.J9xxx.J98x AQxxx.KJ9x.K.AKQ', 'JTx.xx.QT9x.T9xx K9.AQTx.AJxxx.Jx 8xx.8xx.8xx.8xxx AQxxx.KJ9x.K.AKQ', 'JTx.T8x.Q9xx.9xx K8x.AQxx.AJxx.Jx 9x.xx.T8xx.T8xxx AQxxx.KJ9x.K.AKQ', 'J98.Txxx.J8xx.9x Kxx.AQ8.AQx.8xxx Tx.xx.T9xxx.JTxx AQxxx.KJ9x.K.AKQ', 'J98.T8.Jxxx.JTxx Kxx.AQ.AQ9x.xxxx Tx.xxxxx.T8xx.98 AQxxx.KJ9x.K.AKQ', 'T8x.T8.J98x.JTxx Kx.AQxx.AQx.98xx J9x.xxx.Txxxx.xx AQxxx.KJ9x.K.AKQ', 'T.T8xx.J9xx.xxxx KJxx.AQ.Axxx.JT9 98x.xxx.QT8x.8xx AQxxx.KJ9x.K.AKQ', 'T98.xx.8xxxx.8xx KJxx.AT8x.AQ.JTx x.Qxx.JT9xx.9xxx AQxxx.KJ9x.K.AKQ', 'Jx.xx.J8xxx.J8xx K98xx.AQT.AQ9.9x T.8xxx.Txxx.Txxx AQxxx.KJ9x.K.AKQ', 'J9.xx.T8xxx.JTxx KTx.AQxx.AQxx.xx 8xx.T8x.J9x.98xx AQxxx.KJ9x.K.AKQ', 'Jx.xxx.JTxx.JT8x K98x.AQTx.AQx.xx Tx.8x.98xxx.9xxx AQxxx.KJ9x.K.AKQ', 'Jxx.xx.xxxx.JTxx K9.AQT.AQJ98.9xx T8x.8xxx.Txx.8xx AQxxx.KJ9x.K.AKQ', 'JT8x.xxx.Txxx.8x Kxx.AQ8.AQ8xx.xx 9.Txx.J9x.JT9xxx AQxxx.KJ9x.K.AKQ', 'JTx.8xx.xxx.98xx Kx.Axx.AQJ8x.Jxx 98x.QTx.T9xx.Txx AQxxx.KJ9x.K.AKQ', '9x.8xx.Q8xxx.xxx KJx.AQTx.AJTx.98 T8x.xx.9xx.JTxxx AQxxx.KJ9x.K.AKQ', '9xx.Qxx.J9x.Txxx KJ8.A8.AQTxx.Jxx Tx.Txxx.8xxx.98x AQxxx.KJ9x.K.AKQ', 'x.xxx.JTxxxx.JTx KJ.AQx.AQ9x.xxxx T98xx.T8x.8x.98x AQxxx.KJ9x.K.AKQ', 'x.Txx.J8xxx.xxxx KJTx.Ax.AQxx.JTx 98x.Q8xx.T9x.98x AQxxx.KJ9x.K.AKQ', 'Jxx.8x.8xxxx.xxx KTx.AQTx.AQJ.J9x 98.xxx.T9xx.T8xx AQxxx.KJ9x.K.AKQ', 'Txxx.Tx.JT98x.9x KJ9.AQxx.Ax.J8xx 8.8xx.Qxxxx.Txxx AQxxx.KJ9x.K.AKQ', 'Jxx.8.T98xxxx.9x KT9x.AQx.AQ.Txxx 8.Txxxx.Jxx.J8xx AQxxx.KJ9x.K.AKQ', 'xx.xx.JT8xx.Jxxx KJT.AQT.AQxx.T8x 98x.8xxx.9xx.9xx AQxxx.KJ9x.K.AKQ', 'T8x.Txx.Jxx.8xxx K9x.AQx.AQ8xx.Jx Jx.8xx.T9xx.T9xx AQxxx.KJ9x.K.AKQ', 'xxx.xxx.Jxx.J9xx KJ8.AQTx.AQx.T8x T9.8x.T98xxx.xxx AQxxx.KJ9x.K.AKQ']\n",
      "2C\n",
      "[{'call': '2C', 'insta_score': 0.940109372138977}]\n"
     ]
    }
   ],
   "source": [
    "hand = 'AQ752.KJ92.K.AKQ'\n",
    "auction = [\"PASS\",\"1N\",\"PASS\"] #Here, it correctly does a stayman\n",
    "bot_bid = BotBid([vuln_ns, vuln_ew], hand, models)\n",
    "bid = bot_bid.restful_bid(auction)\n",
    "\n",
    "print(bid.samples) #The samples are correct\n",
    "print(bid.bid)\n",
    "print(bid.to_dict()['candidates'])"
   ]
  },
  {
   "cell_type": "code",
   "execution_count": 8,
   "id": "f8df6941",
   "metadata": {},
   "outputs": [
    {
     "name": "stdout",
     "output_type": "stream",
     "text": [
      "['T9.x.AQxxxx.JTxx 8x.AQTx.J8x.9xxx KJxx.8xxx.T9x.8x AQxxx.KJ9x.K.AKQ', 'T9x.8xx.Qxx.JTxx K.ATx.T98xx.98xx J8xx.Qxx.AJxx.xx AQxxx.KJ9x.K.AKQ', 'K8.Qx.QJ8xx.9xxx Jx.ATx.Txxx.JT8x T9xx.8xxx.A9x.xx AQxxx.KJ9x.K.AKQ', 'K98.8xx.JTxx.JTx Tx.AQx.8xxxx.xxx Jxx.Txx.AQ9.98xx AQxxx.KJ9x.K.AKQ', 'K98.xx.8xx.J9xxx J.T8xx.AQTxx.Txx Txxx.AQx.J9xx.8x AQxxx.KJ9x.K.AKQ', 'K9xx.8x.QJ9xx.Jx T8x.AQTx.A8xx.xx J.xxx.Txx.T98xxx AQxxx.KJ9x.K.AKQ', '98.Qx.AQJT8.JT8x JTx.AT8xx.xx.xxx Kxx.xx.9xxxx.9xx AQxxx.KJ9x.K.AKQ', 'KJTx.Txx.Jxx.Jxx .A8x.QT8xxx.Txxx 98xx.Qxx.A9x.98x AQxxx.KJ9x.K.AKQ', 'KJxx.QTxx.Jxxx.8 9.8xx.AQT9xx.xxx T8x.Ax.8x.JT9xxx AQxxx.KJ9x.K.AKQ', 'J8x.AQTx.Txxxx.x Kx.8x.AJ98x.J9xx T9x.xxx.Qx.T8xxx AQxxx.KJ9x.K.AKQ', 'J9.T8xx.AQ9xx.9x T8x.Ax.Txx.Jxxxx Kxx.Qxx.J8xx.T8x AQxxx.KJ9x.K.AKQ', 'T.AQx.JT9x.JT9xx Kx.T8x.AQxxx.8xx J98xx.xxx.8xx.xx AQxxx.KJ9x.K.AKQ', 'KJx.Tx.ATxxx.9xx 8x.Ax.QJ9xx.Txxx T9x.Q8xxx.8x.J8x AQxxx.KJ9x.K.AKQ', 'J9.Q8x.Q8xxx.8xx Txx.Axxx.JTx.xxx K8x.Tx.A9xx.JT9x AQxxx.KJ9x.K.AKQ', 'K8xx.T8x.Txx.xxx 9x.Qxx.AQ8xx.9xx JT.Axx.J9xx.JT8x AQxxx.KJ9x.K.AKQ', 'Kxx.QT8.J8xx.Jxx T9x.Axxx.xx.98xx J8.xx.AQT9xx.Txx AQxxx.KJ9x.K.AKQ', 'KTxxx.xx.xx.T9xx J9.Txx.AQT98x.xx 8.AQ8x.Jxxx.J8xx AQxxx.KJ9x.K.AKQ', 'J.Q8xxx.A98x.8xx Kx.Ax.JTxx.JTxxx T98xx.Tx.Qxxx.9x AQxxx.KJ9x.K.AKQ', 'Tx.ATxx.Qxx.Txxx J9.Q8xx.AJT8x.9x K8xx.x.9xxx.J8xx AQxxx.KJ9x.K.AKQ', 'JTxx.T8x.xxx.9xx K.Qxx.Q98x.J8xxx 98x.Axx.AJTxx.Tx AQxxx.KJ9x.K.AKQ', 'J98x.xxx.AT9x.8x T.AT8.QJxxx.9xxx Kxx.Qxx.8xx.JTxx AQxxx.KJ9x.K.AKQ', 'T8x.AQx.QTxx.xxx K.Tx.AJ9xx.J98xx J9xx.8xxx.8xx.Tx AQxxx.KJ9x.K.AKQ', 'Jxx.8x.Jxx.JT8xx KTx.Tx.AQT9xx.xx 98.AQxxx.8xx.9xx AQxxx.KJ9x.K.AKQ', 'Txx.Txx.xx.JTxxx Jx.Qx.AQ9xxx.98x K98.A8xx.JT8x.xx AQxxx.KJ9x.K.AKQ', '98x.A8xx.Qxxx.T9 xx.Qx.AJTxx.Jxxx KJT.Txx.98x.8xxx AQxxx.KJ9x.K.AKQ', 'x.QTxxx.J8xx.98x Kx.Ax.9xxxx.JTxx JT98x.8x.AQT.xxx AQxxx.KJ9x.K.AKQ', 'Jxx.Qxx.QTx.xxxx 9.AT8xx.A8x.J98x KT8x.x.J9xxxx.Tx AQxxx.KJ9x.K.AKQ', 'KT98.Txx.xxx.xxx x.Qxx.AJ98x.T8xx Jxx.A8x.QTxx.J9x AQxxx.KJ9x.K.AKQ', 'Txxx.Ax.QJxx.Txx K8.Q8x.A8xxx.xxx J9.Txxx.T9x.J98x AQxxx.KJ9x.K.AKQ', 'K8x.8xx.Qxx.8xxx Tx.Q.A98xxx.J9xx J9x.ATxxx.JTx.Tx AQxxx.KJ9x.K.AKQ', 'x.ATxx.QJTx.Txxx 98.Q8xx.Axx.J98x KJTxx.x.98xxx.xx AQxxx.KJ9x.K.AKQ', 'J9x.xxx.AJT.98xx K8x.AQ8.Q9xx.xxx Tx.Txx.8xxxx.JTx AQxxx.KJ9x.K.AKQ', '9xx.8xx.Txx.T9xx KJ.Qxx.Jxxx.Jxxx T8x.ATx.AQ98x.8x AQxxx.KJ9x.K.AKQ', 'x.AQxxx.8xxx.8xx Txx.8x.QJxx.Jxxx KJ98.Tx.AT9x.T9x AQxxx.KJ9x.K.AKQ', 'JT9xx.xx.JTxx.Jx K8.AQTx.xxxx.98x x.8xx.AQ98.Txxxx AQxxx.KJ9x.K.AKQ', 'J98x.xxxx.A9x.Jx Kx.AT8x.Txx.98xx Tx.Q.QJ8xxx.Txxx AQxxx.KJ9x.K.AKQ', 'JT9x.Tx.QJTx.Jxx .Q8xx.A98x.Txxxx K8xx.Axx.xxxx.98 AQxxx.KJ9x.K.AKQ', 'KJx.ATx.Qxx.T98x Tx.Qxx.AJ8xx.xxx 98x.8xx.T9xx.Jxx AQxxx.KJ9x.K.AKQ', 'KTxx.Tx.Axxx.Txx 98.Q8xxx.QJ9x.xx Jx.Ax.T8xx.J98xx AQxxx.KJ9x.K.AKQ', 'K.Qxx.JT98xxx.J9 Tx.ATxxx.x.T8xxx J98xx.8.AQxx.xxx AQxxx.KJ9x.K.AKQ', 'Kxx.QTxx.JTxx.xx 8.x.AQ9xx.JT98xx JT9x.A8xx.8xx.xx AQxxx.KJ9x.K.AKQ', 'Jx.xxx.Axxx.Txxx Tx.Axx.QJT8x.J9x K98x.QT8.9xx.8xx AQxxx.KJ9x.K.AKQ', 'JTx.T8x.J9xxx.9x Kx.xx.QT8xx.JTxx 98x.AQxx.Ax.8xxx AQxxx.KJ9x.K.AKQ', 'KJ8x.xxx.Qxx.xxx x.Tx.AJxxx.JT9xx T9x.AQ8x.T98x.8x AQxxx.KJ9x.K.AKQ', 'K98.xxx.AQxxx.xx .AQT8x.T9xx.98xx JTxxx.x.J8x.JTxx AQxxx.KJ9x.K.AKQ', '98x.Q8.8xxxx.Txx Kx.ATxx.J9xx.xxx JTx.xxx.AQT.J98x AQxxx.KJ9x.K.AKQ', 'KJxx.Qx.QJTx.Jxx .ATxx.A9xxx.T98x T98x.8xx.8xx.xxx AQxxx.KJ9x.K.AKQ', 'J9x.x.A8xxx.Jxxx x.AQT8.JT9x.8xxx KT8x.xxxx.Qxx.T9 AQxxx.KJ9x.K.AKQ', '98.A.JT98xx.J98x Jxx.Q8xxx.Qx.xxx KTx.Txx.Axxx.Txx AQxxx.KJ9x.K.AKQ', 'J8x.A8x.JTxxx.9x KTx.x.AQ8xx.Jxxx 9x.QTxxx.9x.T8xx AQxxx.KJ9x.K.AKQ', '9xx.Ax.AT8xx.xxx KTx.8xx.Qxx.98xx J8.QTxx.J9xx.JTx AQxxx.KJ9x.K.AKQ', 'J8x.QTxx.AJxx.Tx Txx.A8x.Q9xx.xxx K9.xx.T8xx.J98xx AQxxx.KJ9x.K.AKQ', 'Tx.Axx.JT8x.xxxx Jx.QT8x.AQxxx.T8 K98x.xx.9xx.J9xx AQxxx.KJ9x.K.AKQ', '9xx.x.AT8xx.98xx 8.AT8xx.Jxxx.Jxx KJTx.Qxx.Q9x.Txx AQxxx.KJ9x.K.AKQ', 'KJ.Q8xxx.QJTx.xx T9.Ax.A98xx.Jxxx 8xxx.Tx.xxx.T98x AQxxx.KJ9x.K.AKQ', 'KT9.Qx.AJ8xx.98x 8xx.AT8x.Txx.Txx Jx.xxx.Q9xx.Jxxx AQxxx.KJ9x.K.AKQ', 'T9.Axx.Q9xx.T8xx Jxx.Txx.A8xx.9xx K8x.Q8x.JTxx.Jxx AQxxx.KJ9x.K.AKQ', 'KT8x.Tx.AJTx.JTx xx.AQx.Q8xxx.98x J9.8xxx.9xx.xxxx AQxxx.KJ9x.K.AKQ', 'Kx.Qxx.8xxx.98xx 8x.Txx.AJTx.Jxxx JT9x.A8x.Q9xx.Tx AQxxx.KJ9x.K.AKQ', 'Kxx.x.A9xxx.98xx JT.AT8x.QTxx.Jxx 98x.Qxxx.J8x.Txx AQxxx.KJ9x.K.AKQ', 'KJ8x.Qxxx.Axxx.x Tx.AT8.JT8xxx.Tx 9x.xx.Q9.J98xxxx AQxxx.KJ9x.K.AKQ', 'T9.AQxxx.Q9xx.xx Kx.T8x.AT8xx.Jxx J8xx.x.Jxx.T98xx AQxxx.KJ9x.K.AKQ', 'KT8.8xxx.Qx.JTxx 9xx.AQ.AJT8xx.xx Jx.Txx.9xxx.98xx AQxxx.KJ9x.K.AKQ', 'Jx.QT8xx.Q8x.Jxx 9x.xx.AJ9xxx.8xx KT8x.Ax.Txx.T9xx AQxxx.KJ9x.K.AKQ']\n",
      "3H\n",
      "[{'call': '3H', 'insta_score': 0.9574984908103943}]\n"
     ]
    }
   ],
   "source": [
    "hand = 'AQ752.KJ92.K.AKQ'\n",
    "auction = [ 'PASS','PASS','PASS','1S',\"PASS\",\"1N\",\"PASS\"] #Here, it bids 2C (\"stayaman !\") instead of 3H, like in the first hand of the demo (https://lorserker.github.io/ben/demo/viz.html?deal=1). Note that the insta score is exactly the same as the previous example\n",
    "bot_bid = BotBid([vuln_ns, vuln_ew], hand, models)\n",
    "bid = bot_bid.restful_bid(auction)\n",
    "\n",
    "print(bid.samples) #The samples are correct\n",
    "print(bid.bid)\n",
    "print(bid.to_dict()['candidates'])"
   ]
  },
  {
   "cell_type": "code",
   "execution_count": null,
   "id": "7d30b63d",
   "metadata": {},
   "outputs": [],
   "source": []
  },
  {
   "cell_type": "markdown",
   "id": "8da5c690",
   "metadata": {},
   "source": [
    "## Bidding through the hand from the  beginning\n",
    "\n",
    "We have to bid through the hand from the beginning because the bots have state that needs to be propagated.\n",
    "\n",
    "If we ask the bot to bid in the middle of the auction then it didn't accumulate the state from the beginning of the auction and it looks like it \"forgets\" older bids\n",
    "\n",
    "Follwing is the full auction from the start for the first example where the bot passed in a stayman sequence."
   ]
  },
  {
   "cell_type": "code",
   "execution_count": 9,
   "id": "d079e241",
   "metadata": {},
   "outputs": [
    {
     "data": {
      "text/plain": [
       "{NORTH: PlayerHand(A643|8632|Q6|AQ3),\n",
       " EAST: PlayerHand(T872|74|J984|K96),\n",
       " SOUTH: PlayerHand(KJ|KQ95|A2|JT742),\n",
       " WEST: PlayerHand(Q95|AJT|KT753|85)}"
      ]
     },
     "execution_count": 9,
     "metadata": {},
     "output_type": "execute_result"
    }
   ],
   "source": [
    "hands_str = 'A643.8632.Q6.AQ3 T872.74.J984.K96 KJ.KQ95.A2.JT742 Q95.AJT.KT753.85'.split()\n",
    "hands = {d:PlayerHand.from_pbn(hand) for d,hand in zip(Direction,hands_str)}\n",
    "hands # N, E, S, W\n"
   ]
  },
  {
   "cell_type": "code",
   "execution_count": 10,
   "id": "1d390ac1",
   "metadata": {},
   "outputs": [
    {
     "data": {
      "text/plain": [
       "['1C',\n",
       " 'PASS',\n",
       " '1H',\n",
       " 'PASS',\n",
       " '2H',\n",
       " 'PASS',\n",
       " '3C',\n",
       " 'PASS',\n",
       " '3H',\n",
       " 'PASS',\n",
       " '4H',\n",
       " 'PASS',\n",
       " 'PASS',\n",
       " 'PASS']"
      ]
     },
     "execution_count": 10,
     "metadata": {},
     "output_type": "execute_result"
    }
   ],
   "source": [
    "auction = []\n",
    "\n",
    "turn_i = 0  # whose turn is it to bid\n",
    "\n",
    "while not bidding.auction_over(auction):\n",
    "    auction.append(BotBid([False, False], hands[Direction(turn_i)].to_pbn(), models).restful_bid(auction).bid)\n",
    "    turn_i = (turn_i+1)%4\n",
    "    \n",
    "auction"
   ]
  },
  {
   "cell_type": "markdown",
   "id": "ada92dd9",
   "metadata": {},
   "source": [
    "now the bot doesn't pass 3D anymore and they complete their smolen sequence"
   ]
  },
  {
   "cell_type": "code",
   "execution_count": 11,
   "id": "33d366c7",
   "metadata": {},
   "outputs": [
    {
     "name": "stdout",
     "output_type": "stream",
     "text": [
      "{'card': 'S6', 'claim_the_rest': False}\n",
      "{'card': 'ST', 'claim_the_rest': False}\n",
      "{'card': 'SJ', 'claim_the_rest': False}\n",
      "{'card': 'SK', 'claim_the_rest': False}\n",
      "{'card': 'S9', 'claim_the_rest': False}\n",
      "{'card': 'S3', 'claim_the_rest': False}\n",
      "{'card': 'S7', 'claim_the_rest': False}\n",
      "{'card': 'HQ', 'claim_the_rest': False}\n",
      "{'card': 'HA', 'claim_the_rest': False}\n",
      "{'card': 'H3', 'claim_the_rest': False}\n",
      "{'card': 'H4', 'claim_the_rest': False}\n",
      "{'card': 'D5', 'claim_the_rest': False}\n",
      "{'card': 'DQ', 'claim_the_rest': False}\n",
      "{'card': 'D4', 'claim_the_rest': False}\n",
      "{'card': 'D2', 'claim_the_rest': False}\n",
      "{'card': 'H2', 'claim_the_rest': False}\n",
      "{'card': 'H7', 'claim_the_rest': False}\n",
      "{'card': 'H9', 'claim_the_rest': False}\n",
      "{'card': 'HT', 'claim_the_rest': False}\n",
      "{'card': 'C8', 'claim_the_rest': False}\n",
      "{'card': 'CA', 'claim_the_rest': False}\n",
      "{'card': 'C6', 'claim_the_rest': False}\n",
      "{'card': 'C4', 'claim_the_rest': False}\n",
      "{'card': 'SA', 'claim_the_rest': False}\n",
      "{'card': 'S2', 'claim_the_rest': False}\n",
      "{'card': 'C2', 'claim_the_rest': False}\n",
      "{'card': 'SQ', 'claim_the_rest': False}\n",
      "{'card': 'D6', 'claim_the_rest': False}\n",
      "{'card': 'D8', 'claim_the_rest': False}\n",
      "{'card': 'DA', 'claim_the_rest': False}\n",
      "{'card': 'D7', 'claim_the_rest': False}\n",
      "{'card': 'HK', 'claim_the_rest': False}\n",
      "{'card': 'HJ', 'claim_the_rest': False}\n",
      "{'card': 'H6', 'claim_the_rest': False}\n",
      "{'card': 'D9', 'claim_the_rest': False}\n",
      "{'card': 'C7', 'claim_the_rest': False}\n",
      "{'card': 'C5', 'claim_the_rest': False}\n",
      "{'card': 'CQ', 'claim_the_rest': False}\n",
      "{'card': 'CK', 'claim_the_rest': False}\n",
      "{'card': 'S8', 'claim_the_rest': False}\n",
      "{'card': 'H5', 'claim_the_rest': True}\n",
      "{'card': 'D3', 'claim_the_rest': False}\n",
      "{'card': 'S4', 'claim_the_rest': False}\n",
      "{'card': 'CJ', 'claim_the_rest': False}\n",
      "{'card': 'DT', 'claim_the_rest': False}\n",
      "{'card': 'C3', 'claim_the_rest': False}\n",
      "{'card': 'C9', 'claim_the_rest': False}\n"
     ]
    }
   ],
   "source": [
    "from transform_play_card import get_ben_card_play_answer\n",
    "\n",
    "\n",
    "leader = Direction.WEST\n",
    "current_player = Direction.NORTH\n",
    "tricks = [[\"S5\"]]\n",
    "# while all([hand.len()!=1 for hand in hands.values()]) :\n",
    "for i in range(47) :\n",
    "    if len(tricks[-1])==4 :\n",
    "        last_trick = Trick.from_list(leader=leader,trick_as_list=[Card_.from_str(card) for card in tricks[-1]])\n",
    "        current_player = last_trick.winner(trump=BiddingSuit.HEARTS)\n",
    "        leader = current_player\n",
    "        tricks.append([])\n",
    "    card = await get_ben_card_play_answer(hand_str=hands[current_player if current_player!=Direction.NORTH else Direction.SOUTH].to_pbn(),dummy_hand_str=hands[Direction.NORTH].to_pbn(),dealer_str='N',vuln_str=\"None\",auction=auction,contract=\"4HS\",declarer_str=\"S\",next_player_str=current_player.abbreviation(),tricks_str=tricks,MODELS=models)\n",
    "    print(card)\n",
    "    tricks[-1].append(card[\"card\"])\n",
    "    hands[current_player].remove(Card_.from_str(card[\"card\"]))\n",
    "    current_player = current_player.next()"
   ]
  },
  {
   "cell_type": "code",
   "execution_count": 12,
   "id": "ebc30e2e",
   "metadata": {},
   "outputs": [
    {
     "data": {
      "text/plain": [
       "{NORTH: PlayerHand(T64|2|QJT873|JT9),\n",
       " EAST: PlayerHand(A97|94|K652|8642),\n",
       " SOUTH: PlayerHand(J3|AKQJ65|9|A753),\n",
       " WEST: PlayerHand(KQ852|T873|A4|KQ)}"
      ]
     },
     "execution_count": 12,
     "metadata": {},
     "output_type": "execute_result"
    }
   ],
   "source": [
    "auction = ['PASS', 'PASS', '1N', 'PASS', '3C', 'PASS', '3D', 'PASS', 'PASS']\n",
    "hands_str = 'T64.2.QJT873.JT9 A97.94.652K.8642 J3.AKQJ65.9.A753 KQ852.T873.A4.KQ'.split()\n",
    "hands = {d:PlayerHand.from_pbn(hand) for d,hand in zip(Direction,hands_str)}\n",
    "hands # N, E, S, W"
   ]
  },
  {
   "cell_type": "code",
   "execution_count": 13,
   "id": "0c45058c",
   "metadata": {},
   "outputs": [
    {
     "name": "stdout",
     "output_type": "stream",
     "text": [
      "{'card': 'S6', 'claim_the_rest': False}\n",
      "{'card': 'S7', 'claim_the_rest': False}\n",
      "{'card': 'S3', 'claim_the_rest': False}\n",
      "{'card': 'S2', 'claim_the_rest': False}\n",
      "{'card': 'S4', 'claim_the_rest': False}\n",
      "{'card': 'SA', 'claim_the_rest': False}\n",
      "{'card': 'SJ', 'claim_the_rest': False}\n",
      "{'card': 'C6', 'claim_the_rest': False}\n",
      "{'card': 'CA', 'claim_the_rest': False}\n",
      "{'card': 'CQ', 'claim_the_rest': False}\n",
      "{'card': 'C9', 'claim_the_rest': False}\n",
      "{'card': 'HJ', 'claim_the_rest': False}\n",
      "{'card': 'H7', 'claim_the_rest': False}\n",
      "{'card': 'H2', 'claim_the_rest': False}\n",
      "{'card': 'H4', 'claim_the_rest': False}\n",
      "{'card': 'HK', 'claim_the_rest': False}\n",
      "{'card': 'H3', 'claim_the_rest': False}\n",
      "{'card': 'CT', 'claim_the_rest': False}\n",
      "{'card': 'H9', 'claim_the_rest': False}\n",
      "{'card': 'HA', 'claim_the_rest': False}\n",
      "{'card': 'H8', 'claim_the_rest': False}\n",
      "{'card': 'CJ', 'claim_the_rest': False}\n",
      "{'card': 'D2', 'claim_the_rest': False}\n",
      "{'card': 'S9', 'claim_the_rest': False}\n",
      "{'card': 'D9', 'claim_the_rest': False}\n",
      "{'card': 'S5', 'claim_the_rest': False}\n",
      "{'card': 'ST', 'claim_the_rest': False}\n",
      "{'card': 'C5', 'claim_the_rest': False}\n",
      "{'card': 'CK', 'claim_the_rest': False}\n",
      "{'card': 'D7', 'claim_the_rest': False}\n",
      "{'card': 'C4', 'claim_the_rest': False}\n",
      "{'card': 'DQ', 'claim_the_rest': False}\n",
      "{'card': 'D5', 'claim_the_rest': False}\n",
      "{'card': 'C7', 'claim_the_rest': False}\n",
      "{'card': 'DA', 'claim_the_rest': False}\n",
      "{'card': 'HT', 'claim_the_rest': False}\n",
      "{'card': 'D8', 'claim_the_rest': False}\n",
      "{'card': 'C2', 'claim_the_rest': False}\n",
      "{'card': 'HQ', 'claim_the_rest': False}\n",
      "{'card': 'DJ', 'claim_the_rest': False}\n",
      "{'card': 'DK', 'claim_the_rest': False}\n",
      "{'card': 'C3', 'claim_the_rest': False}\n",
      "{'card': 'D4', 'claim_the_rest': False}\n",
      "{'card': 'C8', 'claim_the_rest': False}\n",
      "{'card': 'H6', 'claim_the_rest': False}\n",
      "{'card': 'S8', 'claim_the_rest': False}\n",
      "{'card': 'D3', 'claim_the_rest': True}\n"
     ]
    }
   ],
   "source": [
    "from transform_play_card import get_ben_card_play_answer\n",
    "\n",
    "\n",
    "leader = Direction.WEST\n",
    "current_player = Direction.NORTH\n",
    "tricks = [[\"SK\"]]\n",
    "# while all([hand.len()!=1 for hand in hands.values()]) :\n",
    "for i in range(47) :\n",
    "    if len(tricks[-1])==4 :\n",
    "        last_trick = Trick.from_list(leader=leader,trick_as_list=[Card_.from_str(card) for card in tricks[-1]])\n",
    "        current_player = last_trick.winner(trump=BiddingSuit.DIAMONDS)\n",
    "        leader = current_player\n",
    "        tricks.append([])\n",
    "    card = await get_ben_card_play_answer(hand_str=hands[current_player if current_player!=Direction.NORTH else Direction.SOUTH].to_pbn(),dummy_hand_str=hands[Direction.NORTH].to_pbn(),dealer_str='N',vuln_str=\"N-S\",auction=auction,contract=\"3DS\",declarer_str=\"S\",next_player_str=current_player.abbreviation(),tricks_str=tricks,MODELS=models)\n",
    "    print(card)\n",
    "    tricks[-1].append(card[\"card\"])\n",
    "    hands[current_player].remove(Card_.from_str(card[\"card\"]))\n",
    "    current_player = current_player.next()"
   ]
  },
  {
   "cell_type": "code",
   "execution_count": 14,
   "id": "792a5d16",
   "metadata": {},
   "outputs": [
    {
     "data": {
      "text/plain": [
       "[['SK', 'S6', 'S7', 'S3'],\n",
       " ['S2', 'S4', 'SA', 'SJ'],\n",
       " ['C6', 'CA', 'CQ', 'C9'],\n",
       " ['HJ', 'H7', 'H2', 'H4'],\n",
       " ['HK', 'H3', 'CT', 'H9'],\n",
       " ['HA', 'H8', 'CJ', 'D2'],\n",
       " ['S9', 'D9', 'S5', 'ST'],\n",
       " ['C5', 'CK', 'D7', 'C4'],\n",
       " ['DQ', 'D5', 'C7', 'DA'],\n",
       " ['HT', 'D8', 'C2', 'HQ'],\n",
       " ['DJ', 'DK', 'C3', 'D4'],\n",
       " ['C8', 'H6', 'S8', 'D3']]"
      ]
     },
     "execution_count": 14,
     "metadata": {},
     "output_type": "execute_result"
    }
   ],
   "source": [
    "tricks"
   ]
  }
 ],
 "metadata": {
  "kernelspec": {
   "display_name": "Python 3 (ipykernel)",
   "language": "python",
   "name": "python3"
  },
  "language_info": {
   "codemirror_mode": {
    "name": "ipython",
    "version": 3
   },
   "file_extension": ".py",
   "mimetype": "text/x-python",
   "name": "python",
   "nbconvert_exporter": "python",
   "pygments_lexer": "ipython3",
   "version": "3.10.2"
  },
  "vscode": {
   "interpreter": {
    "hash": "db6859663c517eaff44cb590a4f83a9ffca1c2df3a6cfb3b0e93ea33231aa8bf"
   }
  }
 },
 "nbformat": 4,
 "nbformat_minor": 5
}
