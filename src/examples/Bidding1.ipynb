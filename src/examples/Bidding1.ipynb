{
 "cells": [
  {
   "cell_type": "markdown",
   "id": "75d07246",
   "metadata": {},
   "source": [
    "# Bidding\n",
    "\n",
    "This is a tutorial for how to use the bidding engine"
   ]
  },
  {
   "cell_type": "code",
   "execution_count": 1,
   "id": "59a5664c",
   "metadata": {},
   "outputs": [
    {
     "name": "stderr",
     "output_type": "stream",
     "text": [
      "Loaded lib <WinDLL 'C:\\Users\\lucbe\\OneDrive\\Documents\\Bridge\\ben\\ben\\dds.dll', handle 7ff9667d0000 at 0x15ba96c7e50>\n"
     ]
    }
   ],
   "source": [
    "import os\n",
    "os.chdir('..')\n",
    "\n",
    "from nn.models import Models\n",
    "from bots import BotBid\n",
    "from bidding import bidding\n",
    "from util import hand_to_str\n",
    "from deck52 import random_deal\n",
    "from utils import Direction,BiddingSuit,Suit,Card_,PlayerHand\n",
    "from PlayRecord import PlayRecord,Trick"
   ]
  },
  {
   "cell_type": "code",
   "execution_count": 2,
   "id": "44786d5d",
   "metadata": {},
   "outputs": [
    {
     "name": "stdout",
     "output_type": "stream",
     "text": [
      "INFO:tensorflow:Restoring parameters from ../models/gib21_model/gib21-1000000\n",
      "INFO:tensorflow:Restoring parameters from ../models/gib21_info_model/gib21_info-500000\n",
      "INFO:tensorflow:Restoring parameters from ../models/lead_model_b/lead-1000000\n",
      "INFO:tensorflow:Restoring parameters from ../models/lr3_model/lr3-1000000\n",
      "INFO:tensorflow:Restoring parameters from ../models/lefty_model/lefty-1000000\n",
      "INFO:tensorflow:Restoring parameters from ../models/dummy_model/dummy-920000\n",
      "INFO:tensorflow:Restoring parameters from ../models/righty_model/righty-1000000\n",
      "INFO:tensorflow:Restoring parameters from ../models/decl_model/decl-1000000\n"
     ]
    }
   ],
   "source": [
    "models = Models.load('../models')   # loading neural networks"
   ]
  },
  {
   "cell_type": "markdown",
   "id": "10d8f2fc",
   "metadata": {},
   "source": [
    "### Running through an example"
   ]
  },
  {
   "cell_type": "code",
   "execution_count": 3,
   "id": "19dbfeb7",
   "metadata": {},
   "outputs": [],
   "source": [
    "# East deals, EW vulnerable.\n",
    "vuln_ns, vuln_ew = False, True"
   ]
  },
  {
   "cell_type": "code",
   "execution_count": 4,
   "id": "5b5c0bd3",
   "metadata": {},
   "outputs": [
    {
     "name": "stdout",
     "output_type": "stream",
     "text": [
      "['A8x.AQx.KT8.AK9x KJx.9x.A9xxxx.8x Qxxx.KJxxx.x.xxx T9x.T8x.QJx.QJTx', 'KJx.Ax.AQJx.KQxx 98xx.QT9x.Kxxx.8 Qxxx.KJxxx.x.xxx AT.8x.T98x.AJT9x', 'AT8.A8.AQ8x.AK8x J9x.Txxx.JTxx.J9 Qxxx.KJxxx.x.xxx Kxx.Q9.K9xx.QTxx', 'AKJ.9x.AK98x.AJx 98x.QT8.Tx.KQ98x Qxxx.KJxxx.x.xxx Txx.Axx.QJxxx.Tx', 'AT8.Ax.AQx.AQ98x KJxx.QTx.J9xx.JT Qxxx.KJxxx.x.xxx 9x.98x.KT8xx.Kxx', 'KJx.A98.A98.AKJx T8xx..KQTxxx.Qxx Qxxx.KJxxx.x.xxx A9.QTxxx.Jxx.T98', 'AKx.AQ9.T98.AKxx J9x.8x.KQJxx.T8x Qxxx.KJxxx.x.xxx T8x.Txx.Axxx.QJ9', 'Ax.Axx.AQ8.AKxxx KJ9x.QTx.Txxxx.9 Qxxx.KJxxx.x.xxx T8x.98.KJ9x.QJT8', 'AJ8.Ax.AKJx.ATxx KTx.Q98xx.Q8x.Qx Qxxx.KJxxx.x.xxx 9xx.T.T9xxx.KJ98', 'Ax.xxx.AKQxx.AK9 JT8x.AQT.J8.J8xx Qxxx.KJxxx.x.xxx K9x.98.T9xxx.QTx', 'Kxx.AQ.AKQ9x.QJx T9.xx.xxxx.AT98x Qxxx.KJxxx.x.xxx AJ8x.T98x.JT8.Kx', 'A9x.ATx.AJx.AK8x 8x.9xx.KT98x.QT9 Qxxx.KJxxx.x.xxx KJTx.Q8.Qxxx.Jxx', 'AK8.T8.AKQxx.KJT Txx.9xx.JTx.AQ9x Qxxx.KJxxx.x.xxx J9x.AQx.98xx.8xx', 'Ax.Ax.AJ9xx.AKT9 KJ8xx.xx.Kx.Qxxx Qxxx.KJxxx.x.xxx T9.QT98.QT8xx.J8', 'AJ.QT.KJxx.AKQTx T98x.Ax.A98x.9xx Qxxx.KJxxx.x.xxx Kxx.98xx.QTxx.J8', 'Kxx.Axx.AKQ9.KQx J9x.QTx.JTxxx.Tx Qxxx.KJxxx.x.xxx AT8.98.8xx.AJ98x', 'AT.ATx.AKJ9.A9xx K98x.Q8x.Qxx.JT8 Qxxx.KJxxx.x.xxx Jxx.9x.T8xxx.KQx', 'K9x.Ax.AKQ.A98xx AJxx.9.T8xxx.KJx Qxxx.KJxxx.x.xxx T8.QT8xx.J9xx.QT', 'AKx.8x.AJxxx.AKJ Jxx.AQxx.Kx.98xx Qxxx.KJxxx.x.xxx T98.T9.QT98x.QTx', 'Kx.Axx.AKT8x.KQJ J98xx.9.J9xx.Axx Qxxx.KJxxx.x.xxx AT.QT8x.Qxx.T98x', 'AT8.Ax.Kxx.AKQJx Jxx.T9x.JT9xx.Tx Qxxx.KJxxx.x.xxx K9x.Q8x.AQ8x.98x', 'AKJ.A98.Q98x.AKx 9xx.Qx.AKTxx.QTx Qxxx.KJxxx.x.xxx T8x.Txx.Jxx.J98x', 'AK.Qxx.AJx.AQ8xx JTx.AT8x.Q9xx.K9 Qxxx.KJxxx.x.xxx 98xx.9.KT8xx.JTx', 'AK9.Ax.Axx.KQJT9 J8x.xx.KT98x.xxx Qxxx.KJxxx.x.xxx Txx.QT98.QJxx.A8', 'Jxx.Ax.AQx.AKQxx AT8.Q98.KJTxx.J9 Qxxx.KJxxx.x.xxx K9x.Txx.98xx.T8x', 'Ax.AQ.AQJx.AT8xx KJT.98x.T9x.KQJ9 Qxxx.KJxxx.x.xxx 98xx.Txx.K8xxx.x', 'AK8.Qx.AK9x.KQxx 9xx.98x.QJTx.A8x Qxxx.KJxxx.x.xxx JTx.ATx.8xxx.JT9', 'AJ.AQT.AK8x.Q8xx K9xx.xx.Q9xxx.Kx Qxxx.KJxxx.x.xxx T8x.98x.JTx.AJT9', 'AKT.AQx.KQx.KT9x J8xx.T8x.8xx.Axx Qxxx.KJxxx.x.xxx 9x.9x.AJT9xx.QJ8', 'A9.A9.KT8x.AKQ8x KJxx.Qxx.Axxx.T9 Qxxx.KJxxx.x.xxx T8x.T8x.QJ9x.Jxx', 'KTx.Ax.KQJx.AKJ8 A98x.Tx.Ax.QT9xx Qxxx.KJxxx.x.xxx Jx.Q98x.T98xxx.x', 'AKx.AQx.K8x.KJTx 9x.T9x.AQJT9xx.x Qxxx.KJxxx.x.xxx JT8x.8x.xx.AQ98x', 'AK8.Qx.AKJ.KJT8x Tx.98x.98xxx.A9x Qxxx.KJxxx.x.xxx J9xx.ATx.QTxx.Qx', 'A8.A8.AKTxx.KQTx JT9.Qx.Q98xx.J8x Qxxx.KJxxx.x.xxx Kxxx.T9xx.Jx.A9x', 'A8x.Ax.AJx.AQJxx Kx.Q9x.T8xx.T98x Qxxx.KJxxx.x.xxx JT9x.T8x.KQ9xx.K', 'AK8.AT9.ATxx.KQ8 9xx.x.KJ8xx.A9xx Qxxx.KJxxx.x.xxx JTx.Q8xx.Q9x.JTx', 'KJx.AT8.AKQx.KJ8 8x.Qxxx.T8xx.Txx Qxxx.KJxxx.x.xxx AT9x.9.J9xx.AQ9x', 'AKx.9x.KQxx.AKQx 9x.Qxx.A9x.T98xx Qxxx.KJxxx.x.xxx JT8x.AT8.JT8xx.J', 'Axx.Ax.KJxx.AKQ8 KJT.QT8.QT9x.T9x Qxxx.KJxxx.x.xxx 98x.9xx.A8xx.Jxx', 'A98.Ax.AKTx.AQ8x KJxx.Qxx.9xx.K9x Qxxx.KJxxx.x.xxx Tx.T98.QJ8xx.JTx', 'A9.9x.AKQx.AKT98 JTxxx.T8.JT8x.xx Qxxx.KJxxx.x.xxx K8.AQxx.9xxx.QJx', 'AKT.Q8x.KTx.AKQ9 Jxx.xx.AQxxx.JTx Qxxx.KJxxx.x.xxx 98x.AT9.J98x.8xx', 'K8x.A8x.AKJxx.KQ JT9.T9x.T98.JT9x Qxxx.KJxxx.x.xxx Axx.Qx.Qxxx.A8xx', 'AKx.Q9.QTxx.AKQ9 xx.ATx.A8xxx.J8x Qxxx.KJxxx.x.xxx JT98.8xx.KJ9.Txx', 'KJ9.Tx.AKTx.AKQ9 Txx.Ax.8xxx.Txxx Qxxx.KJxxx.x.xxx A8x.Q98x.QJ9x.J8', 'AK9.Axx.AJ9x.KJ9 Jxx.T9x.Txx.QT8x Qxxx.KJxxx.x.xxx T8x.Q8.KQ8xx.Axx', 'AT.A9x.AQJx.AJTx 98x.Q8x.T9x.KQ98 Qxxx.KJxxx.x.xxx KJxx.Tx.K8xxx.xx', 'AJ.xx.AKTxx.AKQ9 K9xx.AQ8.98x.JTx Qxxx.KJxxx.x.xxx T8x.T9x.QJxx.8xx', 'AKx.Q8x.A98.AKxx T8.AT.Qxxx.QT98x Qxxx.KJxxx.x.xxx J9xx.9xx.KJTxx.J', 'AK9.T8x.AKQx.KQx 8xx.Ax.9xxx.T9xx Qxxx.KJxxx.x.xxx JTx.Q9x.JT8x.AJ8', 'T8.Ax.AKJxx.AKQT A9x.9x.Q98xx.J9x Qxxx.KJxxx.x.xxx KJxx.QT8x.Tx.8xx', 'AKx.Ax.KT8x.AQJx JTx.T9.Qxxx.98xx Qxxx.KJxxx.x.xxx 98x.Q8xx.AJ9x.KT', 'KT9.A9.AKTxx.AKx J8xx.Q8.8xx.T8xx Qxxx.KJxxx.x.xxx Ax.Txxx.QJ9x.QJ9', 'AKx.Axx.AJ8x.Axx x.T98x.T9xxx.KQx Qxxx.KJxxx.x.xxx JT98x.Q.KQx.JT98', 'Ax.AT9.AKQx.ATxx Kxx.8x.J8xxx.K98 Qxxx.KJxxx.x.xxx JT98.Qxx.T9x.QJx', 'AK.Ax.AK9x.QJ8xx J9x.QT8.QJ8x.T9x Qxxx.KJxxx.x.xxx T8xx.9xx.Txxx.AK', 'KTx.AQ.AKJTx.AT9 AJ9x.T8xx.98x.QJ Qxxx.KJxxx.x.xxx 8x.9x.Qxxx.K8xxx', 'A98.AT.AKQ8.KJTx KTxx.Qx.Txx.Q98x Qxxx.KJxxx.x.xxx Jx.98xx.J9xxx.Ax', 'AK.ATx.AKx.QJT8x T8xx.8x.QJ98x.Kx Qxxx.KJxxx.x.xxx J9x.Q9x.Txxx.A9x', 'AKx.ATx.xx.AKQJx JT9x.Qx.KT9x.T8x Qxxx.KJxxx.x.xxx 8x.98x.AQJ8xx.9x', 'Kx.AQx.AQxx.AQxx J98x.98x.K98x.K9 Qxxx.KJxxx.x.xxx ATx.Tx.JTxx.JT8x', 'Jx.Axx.AKQ9.AKT8 K8.Tx.xxxx.J9xxx Qxxx.KJxxx.x.xxx AT9xx.Q98.JT8x.Q', 'Axx.AQ8.A98xx.AK J9x.Txx.Qxx.QJ9x Qxxx.KJxxx.x.xxx KT8.9x.KJTx.T8xx', 'KJ9.AQ.KJTx.KQJ9 ATx.T9x.A8xx.8xx Qxxx.KJxxx.x.xxx 8xx.8xx.Q9xx.ATx']\n",
      "3S\n",
      "[{'call': '3S', 'insta_score': 0.9985024929046631}]\n"
     ]
    }
   ],
   "source": [
    "hand = 'Q432.KJ654.4.432'\n",
    "auction = ['PAD_START', '2N', 'PASS','3C','PASS','3D','PASS'] # Here, it wrongly passes on the stayman answer, just like he would pass a 3D opening\n",
    "bot_bid = BotBid([vuln_ns, vuln_ew], hand, models)\n",
    "bid = bot_bid.restful_bid(auction)\n",
    "\n",
    "print(bid.samples) #The samples are correct\n",
    "print(bid.bid)\n",
    "print(bid.to_dict()['candidates'])"
   ]
  },
  {
   "cell_type": "code",
   "execution_count": 5,
   "id": "87c66c19",
   "metadata": {},
   "outputs": [
    {
     "name": "stdout",
     "output_type": "stream",
     "text": [
      "['Jx.Txxxx.T9x.KQx T8xx.AKx.KJxx.xx K9.QJ98x.AQ8.T8x AQxxx..xxx.AJ9xx', 'Ax.JT9xx.9xx.Jxx T8xx.AKx.KJxx.xx Kx.Q8xxx.AQx.K98 QJ9xx..T8x.AQTxx', 'xx.T8xx.Txx.AQJx T8xx.AKx.KJxx.xx 9.QJ9xxx.A98x.Kx AKQJxx..Qx.T98xx', 'J.QJTx.Q98x.JT8x T8xx.AKx.KJxx.xx AKx.9xxxx.ATx.Kx Q9xxx.8.xx.AQ9xx', 'KQx.JTxxx.xx.Jxx T8xx.AKx.KJxx.xx x.Q98xx.AT9x.AK9 AJ9xx..Q8x.QT8xx', 'x.Q9x.AT98xx.A98 T8xx.AKx.KJxx.xx AKx.JT8xxx.Qx.Qx QJ9xx.x.x.KJTxxx', 'x.98xx.9xx.AT9xx T8xx.AKx.KJxx.xx AKx.QJTxx.8.J8xx QJ9xx.x.AQTxx.KQ', 'Jx.Txx.T98xx.AJx T8xx.AKx.KJxx.xx A.QJ98xx.AQx.K9x KQ9xxx.x.x.QT8xx', 'x.Q98x.Qxxx.98xx T8xx.AKx.KJxx.xx QJx.JTxxx.A9x.AT AK9xx.x.T8.KQJxx', 'J9.9xxxx.QT8xx.x T8xx.AKx.KJxx.xx A.QJT8x.9x.AKTxx KQxxxx..Ax.QJ98x', 'xxx.Txxx.A9x.QJx T8xx.AKx.KJxx.xx .QJ98xx.Q8xx.AKx AKQJ9x..Tx.T98xx', 'Axxx.T9x.Q9.JTxx T8xx.AKx.KJxx.xx .QJ8xxx.xx.AKQxx KQJ9x.x.AT8xx.98', 'Axx.Jxxx.T98.AT8 T8xx.AKx.KJxx.xx x.QT98xx.AQx.Kxx KQJ9x..xxx.QJ9xx', 'x.T9xxx.QTx.AT9x T8xx.AKx.KJxx.xx A9.QJ8xx.Axxx.KJ KQJxxx..98.Q8xxx', 'QJx.Q9xx.QT8xx.x T8xx.AKx.KJxx.xx x.JTxxx.Ax.AKQT9 AK9xx.8.9x.J8xxx', 'x.QT9x.T8x.AJTxx T8xx.AKx.KJxx.xx A9.J8xxx.AQ9xx.K KQJxxx.x.x.Q98xx', '9x.JT9x.T98x.KQ9 T8xx.AKx.KJxx.xx Qx.Q8xxx.Axx.Axx AKJxx.x.Qx.JT8xx', 'Kx.Qxx.Q98xx.Qxx T8xx.AKx.KJxx.xx A9.JT98xxx.x.AKx QJxxx..ATx.JT98x', 'K9.J98x.QTxx.JTx T8xx.AKx.KJxx.xx A.QTxxx.A98x.K9x QJxxxx.x.x.AQ8xx', '9x.QTxxx.98xxx.T T8xx.AKx.KJxx.xx K.J98xx.AT.AKJ8x AQJxxx..Qx.Q9xxx', 'x.T8xxx.Qxx.Jxxx T8xx.AKx.KJxx.xx KJx.QJ9xx.AT9x.9 AQ9xx..8x.AKQT8x', 'x.JTxxx.T8x.QT8x T8xx.AKx.KJxx.xx xx.Q98xx.x.AKJ9x AKQJ9x..AQ9xx.xx', 'KQx.J8xx.T9x.9xx T8xx.AKx.KJxx.xx J.T9xxx.AQxx.AQT A9xxx.Q.8x.KJ8xx', 'Kxx.J9x.Qxx.QJxx T8xx.AKx.KJxx.xx J.QTxxxx.A9xx.Ax AQ9xx.8.T8.KT98x', 'Qx.JT8x.9xx.AQ8x T8xx.AKx.KJxx.xx AK.Q9xxxx.Q8xx.x J9xxx..AT.KJT9xx', 'KQxx.Qxx.T98.J8x T8xx.AKx.KJxx.xx .JT98xxx.Axx.AKx AJ9xx..Qxx.QT9xx', 'x.QT8xx.AT8x.Txx T8xx.AKx.KJxx.xx AKx.J9xxx.xx.KJ8 QJ9xx..Q9x.AQ9xx', 'A9x.JTxx.98x.A9x T8xx.AKx.KJxx.xx x.Q98xx.AQTx.QJx KQJxx.x.xx.KT8xx', 'Q9x.QTxxx.Ax.Jxx T8xx.AKx.KJxx.xx J.J98xx.xx.AKQxx AKxxx..QT98x.T98', 'x.Txxx.QT8xx.KQx T8xx.AKx.KJxx.xx Jxxx.QJ98xx.A.AT AKQ9..9xx.J98xxx', 'K.T8xx.8xx.Q9xxx T8xx.AKx.KJxx.xx Axx.J9xxx.T.AKT8 QJ9xx.Q.AQ9xx.Jx', 'Jx.8xxx.A98x.Jxx T8xx.AKx.KJxx.xx 9x.QJT9xx..AKQ8x AKQxx..QTxxx.T9x']\n",
      "4S\n",
      "[{'call': '4S', 'insta_score': 0.6949708461761475, 'expected_score': 215.50147704226038}, {'call': '3S', 'insta_score': 0.16825923323631287, 'expected_score': 70.53656790026332}]\n"
     ]
    }
   ],
   "source": [
    "hand = 'T873.AK6.KJ32.43'\n",
    "auction = ['PASS','PASS','1H','2H','3H'] # Here, it correctly bids 4S\n",
    "bot_bid = BotBid([vuln_ns, vuln_ew], hand, models)\n",
    "bid = bot_bid.restful_bid(auction)\n",
    "\n",
    "print(bid.samples) #The samples are correct\n",
    "print(bid.bid)\n",
    "print(bid.to_dict()['candidates'])"
   ]
  },
  {
   "cell_type": "code",
   "execution_count": 6,
   "id": "a707a8da",
   "metadata": {},
   "outputs": [
    {
     "name": "stdout",
     "output_type": "stream",
     "text": [
      "['.QJT8xxx.Qxx.AKx T8xx.AKx.KJxx.xx Q9xx.9x.Tx.QT8xx AKJxx.x.A98x.J9x', 'KQJ.QJxxx.AT9x.x T8xx.AKx.KJxx.xx x.T8x.Q8xx.98xxx A9xxx.9x.x.AKQJT', 'A.QJ98x.QTxx.K98 T8xx.AKx.KJxx.xx Qxx.Txx.98x.xxxx KJ9xx.xx.Ax.AQJT', 'KQJ.QJT98x.Qx.Kx T8xx.AKx.KJxx.xx 9xx.xxx.T9.JT8xx Axx.x.A8xxx.AQ9x', 'Q.QT9xx.Axx.A8xx T8xx.AKx.KJxx.xx K9x.xx.Q98xx.T9x AJxxx.J8x.T.KQJx', 'Qxx.QT8xxx.A8.KQ T8xx.AKx.KJxx.xx Kx.Jxx.T9xx.98xx AJ9x.9.Qxx.AJTxx', 'AQ.QJTxxx.8.A98x T8xx.AKx.KJxx.xx Jxx.9xx.9xx.QJxx K9xx.8.AQTxx.KTx', 'QJx.QJT8xx.AQ.9x T8xx.AKx.KJxx.xx 9xxx.9xx.xx.QJ8x AK.x.T98xx.AKTxx', 'Kx.QT9xx.Axx.A9x T8xx.AKx.KJxx.xx xx.J8xx.T9x.Jxxx AQJ9x.x.Q8x.KQT8', 'K.QJ9xx.Tx.AKTxx T8xx.AKx.KJxx.xx 9xx.xxx.xx.QJ98x AQJxx.T8.AQ98x.x', 'Q.JT8xx.A8.AKQxx T8xx.AKx.KJxx.xx xxx.9x.xx.JT98xx AKJ9x.Qxx.QT9xx.', 'K.QJT8xxx.ATx.Jx T8xx.AKx.KJxx.xx xxx.x.Q98xx.98xx AQJ9x.9x.x.AKQTx', 'Q.QJT8x.ATxx.KJ8 T8xx.AKx.KJxx.xx J9x.9xxx.Q8x.T9x AKxxx.x.9x.AQxxx', '.JT9xxxx.xx.AKQx T8xx.AKx.KJxx.xx Qxxx.8x.Tx.T98xx AKJ9x.Q.AQ98x.Jx', 'J.QJxxxx.Ax.A8xx T8xx.AKx.KJxx.xx xxx.8x.9xx.QJT9x AKQ9x.T9.QT8x.Kx', '.QJxxxx.AQTx.J9x T8xx.AKx.KJxx.xx QJ9x.98.9xx.QTxx AKxxx.Tx.8x.AK8x', 'Q.QJ8xxx.Axx.AJx T8xx.AKx.KJxx.xx J9x.Txx.T9x.KT8x AKxxx.9.Q8x.Q9xx', 'Ax.J98xxx.AT.KJx T8xx.AKx.KJxx.xx Q9.Qx.9xx.T98xxx KJxxx.Tx.Q8xx.AQ', 'KQ9x.Q8xxx.Ax.Q9 T8xx.AKx.KJxx.xx x.9xx.T98xxx.xxx AJxx.JT.Q.AKJT8x', 'KJx.QT98xx.9.AKT T8xx.AKx.KJxx.xx .Jxx.T8xx.Q98xxx AQ9xxx.x.AQxx.Jx', 'AK.QT9xx.T8x.Axx T8xx.AKx.KJxx.xx J9x.8xxx.xxx.QTx Qxxx.J.AQ9.KJ98x', 'K.QT98xxx.Axx.Kx T8xx.AKx.KJxx.xx 9x.xx.QT9x.JT8xx AQJxxx.J.8x.AQ9x', 'Q9x.QJTxxx.Ax.A9 T8xx.AKx.KJxx.xx Jx.98xx.98x.QJTx AKxx..QTxx.K8xxx', 'K.QJTxxx.AQx.KQx T8xx.AKx.KJxx.xx Qxx.8xx.9xx.T9xx AJ9xx.9.T8x.AJ8x', 'J.T9xxx.AQ9x.KQx T8xx.AKx.KJxx.xx Axx.J8.Txxx.9xxx KQ9xx.Qxx.8.AJT8', 'KJ9.9xxxx.A8x.AT T8xx.AKx.KJxx.xx xxx.QJTx.Txx.98x AQx.8.Q9x.KQJxxx', 'AQ.QJxxx.Axx.Axx T8xx.AKx.KJxx.xx xx.T98x.T8x.JTxx KJ9xx.x.Q9x.KQ98', 'xx.QJT8xx.AQx.QJ T8xx.AKx.KJxx.xx 9x.9xx.T8x.98xxx AKQJx.x.9xx.AKTx', 'AQ.T9xxx.x.AQJTx T8xx.AKx.KJxx.xx Jx.QJxx.T98x.98x K9xxx.8.AQxx.Kxx']\n",
      "2N\n",
      "[{'call': '2N', 'insta_score': 0.3044964373111725, 'expected_score': 400.7806344141543}, {'call': '2S', 'insta_score': 0.2832288444042206, 'expected_score': 215.85799133039788}]\n"
     ]
    }
   ],
   "source": [
    "hand = 'T873.AK6.KJ32.43'\n",
    "auction = ['1H','PASS','PASS','2H','PASS'] #Here, it wrongly fit the artificial 3H\n",
    "bot_bid = BotBid([vuln_ns, vuln_ew], hand, models)\n",
    "bid = bot_bid.restful_bid(auction)\n",
    "\n",
    "print(bid.samples) #The samples are correct\n",
    "print(bid.bid)\n",
    "print(bid.to_dict()['candidates'])"
   ]
  },
  {
   "cell_type": "code",
   "execution_count": 7,
   "id": "df14a08f",
   "metadata": {},
   "outputs": [
    {
     "name": "stdout",
     "output_type": "stream",
     "text": [
      "['Txxx.8x.Txx.T98x KJ8.AQxx.Axx.Jxx 9.Txx.QJ98xx.xxx AQxxx.KJ9x.K.AKQ', 'Txx.xxx.98xx.8xx Kx.AQ8x.AQx.T9xx J98.Tx.JTxxx.Jxx AQxxx.KJ9x.K.AKQ', 'Tx.xx.8xxxx.xxxx KJx.AQ8.AJT9x.98 98x.Txxx.Qx.JTxx AQxxx.KJ9x.K.AKQ', 'T98.QTxx.Txxx.Tx KJxx.Ax.AQ8x.Jxx x.8xx.J9xx.98xxx AQxxx.KJ9x.K.AKQ', 'T9xx.8x.Jxxx.T9x Kx.AQx.AQ9x.xxxx J8.Txxx.T8xx.J8x AQxxx.KJ9x.K.AKQ', 'Txx.x.QJxxxx.Txx KJ8.AQ8xx.Ax.Jxx 9x.Txx.T98x.98xx AQxxx.KJ9x.K.AKQ', 'xx.Txx.T9xx.8xxx K9.AQxx.AJxx.JTx JT8x.8x.Q8xx.9xx AQxxx.KJ9x.K.AKQ', 'T8.xx.JT98x.Txxx KJ9.Axxx.AQxx.Jx xxx.QT8.xxx.98xx AQxxx.KJ9x.K.AKQ', 'J9x.8x.Jxxxx.8xx K8x.AQ.AQTxx.Txx Tx.Txxxx.98.J9xx AQxxx.KJ9x.K.AKQ', 'T.Txxx.xxxx.Txxx Kx.AQx.AQJx.J8xx J98xx.8x.T98x.9x AQxxx.KJ9x.K.AKQ', '9.Q8xxxx.T8x.xxx KJx.AT.AQxx.JT9x T8xx.x.J9xxx.8xx AQxxx.KJ9x.K.AKQ', 'Tx.xxx.98xx.9xxx KJ9.AQT.AQTxx.JT 8xx.8xx.Jxx.8xxx AQxxx.KJ9x.K.AKQ', '98x.xx.T9xx.JTxx Kx.AQxx.AQJxx.98 JTx.T8x.8xx.xxxx AQxxx.KJ9x.K.AKQ', '9x.T8xx.98x.xxxx KTx.AQ.AQJTx.J9x J8x.xxx.xxxx.T8x AQxxx.KJ9x.K.AKQ', 'T9x.Q.T8xxxx.xxx Kx.ATx.AQJ.J98xx J8x.8xxxx.9xx.Tx AQxxx.KJ9x.K.AKQ', 'J9x.xxx.T98xx.xx K8.AQx.AJx.J98xx Txx.T8x.Qxxx.Txx AQxxx.KJ9x.K.AKQ', 'T8.8xx.Jxxx.Jxxx KJ9x.AQ.AQx.9xxx xx.Txxx.T98xx.T8 AQxxx.KJ9x.K.AKQ', 'T98.Q8x.xxx.98xx Kxx.ATx.AQJ8x.Jx Jx.xxx.T9xx.Txxx AQxxx.KJ9x.K.AKQ', 'JT98.T8x.T8x.xxx Kx.AQ.AQJxx.9xxx xx.xxxx.9xxx.JT8 AQxxx.KJ9x.K.AKQ', '98xx.8xxx.Txx.Tx KJx.AQx.AJ98.J8x T.Tx.Qxxxx.9xxxx AQxxx.KJ9x.K.AKQ', 'T8x.Tx.8xxx.9xxx Kx.AQxxx.AJx.JT8 J9x.8x.QT9xx.xxx AQxxx.KJ9x.K.AKQ', '8xx.x.T8xx.T8xxx K9.AQT8x.AQx.9xx JTx.xxx.J9xxx.Jx AQxxx.KJ9x.K.AKQ', '8x.xxx.T98x.Jxxx Kx.AQ8.AQJxx.T9x JT9x.Txx.xxx.8xx AQxxx.KJ9x.K.AKQ', '9x.T8xxx.9xx.Jxx KJTx.AQ.AJT8.9xx 8x.xx.Qxxxx.T8xx AQxxx.KJ9x.K.AKQ', '9.Txxx.xxxxx.Txx K8xx.AQx.AQ8.98x JTx.8x.JT9x.Jxxx AQxxx.KJ9x.K.AKQ', '98x.8xxxx.QJ8x.x KJx.AQ.ATx.JT9xx Tx.Tx.9xxxx.8xxx AQxxx.KJ9x.K.AKQ', 'x.T8xx.Txxx.Jxxx KJ8x.AQx.AQxx.T9 T9x.xx.J98x.8xxx AQxxx.KJ9x.K.AKQ', 'J.QT8x.T8xx.T8xx K8x.Axx.AQJ9x.Jx T9xx.xx.xxx.9xxx AQxxx.KJ9x.K.AKQ', 'T98.Txx.Jxx.98xx KJx.AQx.AQ9x.xxx xx.8xx.T8xxx.JTx AQxxx.KJ9x.K.AKQ', '9x.xxx.Txxx.Jxxx Kx.AQTx.AQJ9x.9x JT8x.8x.8xx.T8xx AQxxx.KJ9x.K.AKQ', 'Tx.8x.QJTxx.xxxx KJ9.AQxx.A9x.J98 8xx.Txx.8xxx.Txx AQxxx.KJ9x.K.AKQ', '9xx.T8.J9xxx.Jxx KT8.AQx.AQx.98xx Jx.xxxx.T8xx.Txx AQxxx.KJ9x.K.AKQ', '98x.8x.Q8xxx.98x KJxx.AQTx.AJx.Jx T.xxx.T9xx.Txxxx AQxxx.KJ9x.K.AKQ', 'T9xx.xxx.QJ9x.xx KJ.AQx.Axxx.J8xx 8x.T8x.T8xx.T9xx AQxxx.KJ9x.K.AKQ', '9.xxxx.QJ8x.Txxx KJ8x.AQT.A9x.J8x Txx.8x.Txxxx.9xx AQxxx.KJ9x.K.AKQ', 'xx.Txx.T9x.8xxxx KT.AQxx.AJxx.JTx J98x.8x.Q8xxx.9x AQxxx.KJ9x.K.AKQ', 'Txx.Txx.QJxxx.8x KJx.AQ8.A8x.J9xx 98.xxx.T9xx.Txxx AQxxx.KJ9x.K.AKQ', 'Txxx.8xx.xxx.J8x KJ98.AQx.AQTx.xx .Txx.J98xx.T9xxx AQxxx.KJ9x.K.AKQ', 'JT9.8xx.J9xxx.8x Kx.AQTx.AQ8.T9xx 8xx.xx.Txxx.Jxxx AQxxx.KJ9x.K.AKQ', '9xx.T8.xxxx.9xxx KJ8.Axx.AQx.JTxx Tx.Qxxx.JT98x.8x AQxxx.KJ9x.K.AKQ', 'T9.xx.QTxxxx.9xx Kx.AQ8x.AJ.JTxxx J8xx.Txx.98xx.8x AQxxx.KJ9x.K.AKQ', 'xx.xxx.9xxxx.JT9 KJT.AQx.AQxx.xxx 98x.T8x.JT8.8xxx AQxxx.KJ9x.K.AKQ', 'T9.8xx.T8xx.8xxx KJ8x.ATx.AQxx.Jx xx.Qxx.J9xx.T9xx AQxxx.KJ9x.K.AKQ', '9x.xx.T98xxx.9xx KJT.AQT.AQx.JTxx 8xx.8xxx.Jxx.8xx AQxxx.KJ9x.K.AKQ', 'xx.8xx.JT8xxx.8x KJ8.AQx.AQ.9xxxx T9x.Txx.9xxx.JTx AQxxx.KJ9x.K.AKQ']\n",
      "2C\n",
      "[{'call': '2C', 'insta_score': 0.940109372138977}]\n"
     ]
    }
   ],
   "source": [
    "hand = 'AQ752.KJ92.K.AKQ'\n",
    "auction = [\"PASS\",\"1N\",\"PASS\"] #Here, it correctly does a stayman\n",
    "bot_bid = BotBid([vuln_ns, vuln_ew], hand, models)\n",
    "bid = bot_bid.restful_bid(auction)\n",
    "\n",
    "print(bid.samples) #The samples are correct\n",
    "print(bid.bid)\n",
    "print(bid.to_dict()['candidates'])"
   ]
  },
  {
   "cell_type": "code",
   "execution_count": 8,
   "id": "f8df6941",
   "metadata": {},
   "outputs": [
    {
     "name": "stdout",
     "output_type": "stream",
     "text": [
      "['98.8xx.Q9xxx.J9x Jxx.ATx.xx.T8xxx KTx.Qxx.AJT8x.xx AQxxx.KJ9x.K.AKQ', 'T8x.Qxx.AT8x.J98 KJ.ATxxx.Qxx.Txx 9xx.8.J9xxx.xxxx AQxxx.KJ9x.K.AKQ', 'T9x.Qx.AJ98x.8xx KJx.8xx.Txxx.xxx 8x.ATxx.Qxx.JT9x AQxxx.KJ9x.K.AKQ', 'Kx.Qxx.xxx.9xxxx 98.Axxx.JTxx.Txx JTxx.T8.AQ98x.J8 AQxxx.KJ9x.K.AKQ', 'J8xx.AQx.9xx.Txx Kx.8xxx.AQ8x.98x T9.Tx.JTxxx.Jxxx AQxxx.KJ9x.K.AKQ', 'K9x.Qxxxx.x.T98x x.8x.AQxxx.Jxxxx JT8x.AT.JT98xx.x AQxxx.KJ9x.K.AKQ', 'T9xxx.Qxx.Axxx.x K.ATx.QT8x.T9xxx J8.8xx.J9xx.J8xx AQxxx.KJ9x.K.AKQ', 'K9xx.Ax.98xx.Txx 8.T8xx.AQTx.xxxx JTx.Qxx.Jxxx.J98 AQxxx.KJ9x.K.AKQ', '8xx.AQTx.xxx.T8x K.8xxx.AQ9xx.9xx JT9x.x.JT8x.Jxxx AQxxx.KJ9x.K.AKQ', 'J98.xxx.J98x.J8x Kx.ATx.QTx.9xxxx Txx.Q8x.Axxxx.Tx AQxxx.KJ9x.K.AKQ', 'JTx.xxx.A98xx.xx 8x.AQ8x.Jxx.J8xx K9x.Tx.QTxx.T9xx AQxxx.KJ9x.K.AKQ', 'KJ8.Q8.T98xx.xxx .Axxx.Qxxxx.Txxx T9xxx.Txx.AJ.J98 AQxxx.KJ9x.K.AKQ', 'K8x.Tx.AJ98x.9xx Jx.AQ8x.Qxxx.Jxx T9x.xxx.Txx.T8xx AQxxx.KJ9x.K.AKQ', 'T8x.Qx.JT8xx.T9x 9x.8xxx.AQxx.Jxx KJx.ATx.9xx.8xxx AQxxx.KJ9x.K.AKQ', 'T8xx.Qxx.xx.8xxx Kx.ATx.JT8xx.T9x J9.8xx.AQ9xx.Jxx AQxxx.KJ9x.K.AKQ', 'K8x.Q8.Q8xx.T98x 9.ATxx.ATxxx.xxx JTxx.xxx.J9x.Jxx AQxxx.KJ9x.K.AKQ', 'JT9x.xx.Axxx.xxx x.AT8x.J9xx.T98x K8x.Qxx.QT8x.Jxx AQxxx.KJ9x.K.AKQ', 'Tx.Q8.A8xxx.Txxx Kx.Axx.Txxx.J9xx J98x.Txxx.QJ9.8x AQxxx.KJ9x.K.AKQ', 'K98.ATx.xxxx.8xx x.Qxxx.AT98x.9xx JTxx.8x.QJx.JTxx AQxxx.KJ9x.K.AKQ', '9xx.Txxx.ATxx.JT KT.A8x.Q9xxx.xxx J8x.Qx.J8x.98xxx AQxxx.KJ9x.K.AKQ', '9xx.ATx.QT98x.xx Kx.xxx.Axx.JTxxx JT8.Q8x.Jxxx.98x AQxxx.KJ9x.K.AKQ', '98x.A8x.JT9xxx.x T.Qxx.AQ8xx.T8xx KJxx.Txx.x.J9xxx AQxxx.KJ9x.K.AKQ', 'K8x.Qxx.QJ9xx.8x J9.A8.Txxx.JT9xx Txx.Txxx.A8x.xxx AQxxx.KJ9x.K.AKQ', 'K8x.xx.8xxxx.JTx x.T8xx.AQ9x.9xxx JT9x.AQx.JTx.8xx AQxxx.KJ9x.K.AKQ', '98xx.Qxx.J98x.J8 .Txx.Axxxx.T9xxx KJTx.A8x.QTx.xxx AQxxx.KJ9x.K.AKQ', 'JT9.Ax.J8xxx.xxx Kx.Qx.QT9xx.J8xx 8xx.T8xxx.Ax.T9x AQxxx.KJ9x.K.AKQ', 'K8xx.8x.T9xx.J98 9x.AQTx.QJxx.xxx JT.xxx.A8xx.Txxx AQxxx.KJ9x.K.AKQ', 'Jxx.8x.A8xx.9xxx KT9.AQxx.xx.JT8x 8x.Txx.QJT9xx.xx AQxxx.KJ9x.K.AKQ', '98x.8xx.A9xx.T8x x.AQTx.Txxx.xxxx KJTx.xx.QJ8x.J9x AQxxx.KJ9x.K.AKQ', 'K8xx.Q8x.A8x.8xx J9.ATxx.Jxx.J9xx Tx.xx.QT9xxx.Txx AQxxx.KJ9x.K.AKQ', 'KJ8.QT8xx.QJxx.J 9x.x.A9xxxx.T8xx Txx.Axx.T8.9xxxx AQxxx.KJ9x.K.AKQ', 'KTx.Tx.JT9x.J8xx Jx.A8xxx.Axx.Txx 98x.Qx.Q8xxx.9xx AQxxx.KJ9x.K.AKQ', '9xx.xxx.QJTxx.8x KTx.QTx.xxx.9xxx J8.A8x.A98x.JTxx AQxxx.KJ9x.K.AKQ', '8x.A8.AJ8xx.T8xx Kx.QTxxx.Txx.J9x JT9x.xx.Q9xx.xxx AQxxx.KJ9x.K.AKQ', 'KJ8.xx.xxx.J8xxx 9.AQT8x.JT98.Txx Txxx.xx.AQxxx.9x AQxxx.KJ9x.K.AKQ', 'Jxx.xxx.A8xx.Txx T9.A8.QTxxx.Jxxx K8x.QTxx.J9x.98x AQxxx.KJ9x.K.AKQ', 'xx.T8x.AQ9x.98xx JT8.Qxx.Tx.JTxxx K9x.Axx.J8xxxx.x AQxxx.KJ9x.K.AKQ', 'K9xx.xx.Qxxx.xxx T.A8xx.JT98x.9xx J8x.QTx.Axx.JT8x AQxxx.KJ9x.K.AKQ', 'KJx.Ax.J8xxx.8xx 8x.8xxx.AQxx.Jxx T9x.QTx.T9x.T9xx AQxxx.KJ9x.K.AKQ', 'Txx.ATx.Q8xx.J9x K9x.Q8.T9x.8xxxx J8.xxxx.AJxxx.Tx AQxxx.KJ9x.K.AKQ', 'xxx.Txxx.Txx.T8x 8.AQ8xx.QJx.9xxx KJT9..A98xxx.Jxx AQxxx.KJ9x.K.AKQ', 'KJ98.Txx.Jxxx.Jx x.8x.AQT9xx.Txxx Txx.AQxx.8x.98xx AQxxx.KJ9x.K.AKQ', 'T98x.xxx.A8xx.Tx Jx.ATx.QJT9x.xxx Kx.Q8x.xxx.J98xx AQxxx.KJ9x.K.AKQ', 'T98.Qxx.Txxx.T9x x.A8xxx.AJxx.Jxx KJxx.T.Q98x.8xxx AQxxx.KJ9x.K.AKQ', 'KT9.AT8xx.Q9.xxx xx.x.AJT8xx.J9xx J8x.Qxx.xxxx.T8x AQxxx.KJ9x.K.AKQ', 'JTx.Qxx.AJT.J98x 9xx.Ax.98xxx.xxx K8.T8xx.Qxxx.Txx AQxxx.KJ9x.K.AKQ', 'T8x.8xx.9xxx.JTx Kx.AQx.JTxx.9xxx J9x.Txx.AQ8x.8xx AQxxx.KJ9x.K.AKQ', 'Kxxx.ATx.9x.Jxxx T.Q8xx.A8xxx.8xx J98.xx.QJTxx.T9x AQxxx.KJ9x.K.AKQ', 'KTx.QTx.QJx.T8xx J.8x.AT9xxx.J9xx 98xx.Axxx.8xx.xx AQxxx.KJ9x.K.AKQ', 'K8xx.T8x.8x.Txxx Tx.AQx.Q9xxx.9xx J9.xxx.AJTxx.J8x AQxxx.KJ9x.K.AKQ', 'KT8xx.A8x.QJ8x.x 9.QTxx.A9xxx.8xx Jx.xx.Txx.JT9xxx AQxxx.KJ9x.K.AKQ', '9x.Tx.T9xxx.J8xx x.Axxx.QJ8xx.Txx KJT8x.Q8x.Ax.9xx AQxxx.KJ9x.K.AKQ', 'KT8.T8xx.8xx.xxx J9.Axxx.JTxx.98x xxx.Q.AQ9xx.JTxx AQxxx.KJ9x.K.AKQ', '9x.Axx.Jxxx.JTxx JT.QTx.A8xx.98xx K8xx.8xx.QT9x.xx AQxxx.KJ9x.K.AKQ', 'KT9.QTx.8xxx.9xx xx.Axx.QJTx.Jxxx J8x.8xx.A9xx.T8x AQxxx.KJ9x.K.AKQ', '8xx.Qxx.9xx.xxxx Jx.ATx.QJ8xx.Txx KT9.8xx.ATxx.J98 AQxxx.KJ9x.K.AKQ', 'KJ8x.A8.Q9xxx.8x Tx.xx.AT8xxx.JT9 9x.QTxxx.J.xxxxx AQxxx.KJ9x.K.AKQ', 'KJTx.Ax.QJTxx.Tx 8x.xx.A9xxx.J98x 9x.QT8xx.8x.xxxx AQxxx.KJ9x.K.AKQ', 'J9xx.A8xxx.QTx.x K8.Tx.AJ98xx.T8x Tx.Qx.xxx.J9xxxx AQxxx.KJ9x.K.AKQ', 'K.QTx.8xxx.98xxx J9x.8x.JT9x.JTxx T8xx.Axxx.AQxx.x AQxxx.KJ9x.K.AKQ', 'J9x.ATx.AJxx.Txx K8.8xx.QT8x.Jxxx Txx.Qxx.9xxx.98x AQxxx.KJ9x.K.AKQ', '9xx.Axx.T8xx.J8x JTx.QT8x.9xxxx.x K8.xx.AQJ.T9xxxx AQxxx.KJ9x.K.AKQ', '8xxx.Txx.AT9.Txx 9.AQ8.8xxxx.J9xx KJT.xxx.QJxx.8xx AQxxx.KJ9x.K.AKQ', 'T8x.xxx.AJTxx.xx J9.ATx.9xx.J98xx Kxx.Q8x.Q8xx.Txx AQxxx.KJ9x.K.AKQ']\n",
      "3H\n",
      "[{'call': '3H', 'insta_score': 0.9574984908103943}]\n"
     ]
    }
   ],
   "source": [
    "hand = 'AQ752.KJ92.K.AKQ'\n",
    "auction = [ 'PASS','PASS','PASS','1S',\"PASS\",\"1N\",\"PASS\"] #Here, it bids 2C (\"stayaman !\") instead of 3H, like in the first hand of the demo (https://lorserker.github.io/ben/demo/viz.html?deal=1). Note that the insta score is exactly the same as the previous example\n",
    "bot_bid = BotBid([vuln_ns, vuln_ew], hand, models)\n",
    "bid = bot_bid.restful_bid(auction)\n",
    "\n",
    "print(bid.samples) #The samples are correct\n",
    "print(bid.bid)\n",
    "print(bid.to_dict()['candidates'])"
   ]
  },
  {
   "cell_type": "code",
   "execution_count": null,
   "id": "7d30b63d",
   "metadata": {},
   "outputs": [],
   "source": []
  },
  {
   "cell_type": "markdown",
   "id": "8da5c690",
   "metadata": {},
   "source": [
    "## Bidding through the hand from the  beginning\n",
    "\n",
    "We have to bid through the hand from the beginning because the bots have state that needs to be propagated.\n",
    "\n",
    "If we ask the bot to bid in the middle of the auction then it didn't accumulate the state from the beginning of the auction and it looks like it \"forgets\" older bids\n",
    "\n",
    "Follwing is the full auction from the start for the first example where the bot passed in a stayman sequence."
   ]
  },
  {
   "cell_type": "code",
   "execution_count": 9,
   "id": "d079e241",
   "metadata": {},
   "outputs": [
    {
     "data": {
      "text/plain": [
       "{NORTH: PlayerHand(A643|8632|Q6|AQ3),\n",
       " EAST: PlayerHand(T872|74|J984|K96),\n",
       " SOUTH: PlayerHand(KJ|KQ95|A2|JT742),\n",
       " WEST: PlayerHand(Q95|AJT|KT753|85)}"
      ]
     },
     "execution_count": 9,
     "metadata": {},
     "output_type": "execute_result"
    }
   ],
   "source": [
    "hands_str = 'A643.8632.Q6.AQ3 T872.74.J984.K96 KJ.KQ95.A2.JT742 Q95.AJT.KT753.85'.split()\n",
    "hands = {d:PlayerHand.from_pbn(hand) for d,hand in zip(Direction,hands_str)}\n",
    "hands # N, E, S, W\n"
   ]
  },
  {
   "cell_type": "code",
   "execution_count": 10,
   "id": "1d390ac1",
   "metadata": {},
   "outputs": [
    {
     "data": {
      "text/plain": [
       "['1C',\n",
       " 'PASS',\n",
       " '1H',\n",
       " 'PASS',\n",
       " '2H',\n",
       " 'PASS',\n",
       " '3C',\n",
       " 'PASS',\n",
       " '3H',\n",
       " 'PASS',\n",
       " '4H',\n",
       " 'PASS',\n",
       " 'PASS',\n",
       " 'PASS']"
      ]
     },
     "execution_count": 10,
     "metadata": {},
     "output_type": "execute_result"
    }
   ],
   "source": [
    "auction = []\n",
    "\n",
    "turn_i = 0  # whose turn is it to bid\n",
    "\n",
    "while not bidding.auction_over(auction):\n",
    "    auction.append(BotBid([False, False], hands[Direction(turn_i)].to_pbn(), models).restful_bid(auction).bid)\n",
    "    turn_i = (turn_i+1)%4\n",
    "    \n",
    "auction"
   ]
  },
  {
   "cell_type": "markdown",
   "id": "ada92dd9",
   "metadata": {},
   "source": [
    "now the bot doesn't pass 3D anymore and they complete their smolen sequence"
   ]
  },
  {
   "cell_type": "code",
   "execution_count": 11,
   "id": "33d366c7",
   "metadata": {},
   "outputs": [
    {
     "name": "stdout",
     "output_type": "stream",
     "text": [
      "{'card': 'S3', 'claim_the_rest': False}\n",
      "{'card': 'ST', 'claim_the_rest': False}\n",
      "{'card': 'SJ', 'claim_the_rest': False}\n",
      "{'card': 'SK', 'claim_the_rest': False}\n",
      "{'card': 'S9', 'claim_the_rest': False}\n",
      "{'card': 'S4', 'claim_the_rest': False}\n",
      "{'card': 'S2', 'claim_the_rest': False}\n",
      "{'card': 'HQ', 'claim_the_rest': False}\n",
      "{'card': 'HA', 'claim_the_rest': False}\n",
      "{'card': 'H2', 'claim_the_rest': False}\n",
      "{'card': 'H4', 'claim_the_rest': False}\n",
      "{'card': 'D3', 'claim_the_rest': False}\n",
      "{'card': 'D6', 'claim_the_rest': False}\n",
      "{'card': 'DJ', 'claim_the_rest': False}\n",
      "{'card': 'DA', 'claim_the_rest': False}\n",
      "{'card': 'C7', 'claim_the_rest': False}\n",
      "{'card': 'C5', 'claim_the_rest': False}\n",
      "{'card': 'CA', 'claim_the_rest': False}\n",
      "{'card': 'C6', 'claim_the_rest': False}\n",
      "{'card': 'SA', 'claim_the_rest': False}\n",
      "{'card': 'S7', 'claim_the_rest': False}\n",
      "{'card': 'D2', 'claim_the_rest': False}\n",
      "{'card': 'SQ', 'claim_the_rest': False}\n",
      "{'card': 'H3', 'claim_the_rest': False}\n",
      "{'card': 'H7', 'claim_the_rest': False}\n",
      "{'card': 'HK', 'claim_the_rest': False}\n",
      "{'card': 'HT', 'claim_the_rest': False}\n",
      "{'card': 'C2', 'claim_the_rest': False}\n",
      "{'card': 'C8', 'claim_the_rest': False}\n",
      "{'card': 'CQ', 'claim_the_rest': False}\n",
      "{'card': 'CK', 'claim_the_rest': False}\n",
      "{'card': 'S8', 'claim_the_rest': False}\n",
      "{'card': 'H5', 'claim_the_rest': False}\n",
      "{'card': 'D5', 'claim_the_rest': False}\n",
      "{'card': 'S6', 'claim_the_rest': False}\n",
      "{'card': 'CT', 'claim_the_rest': False}\n",
      "{'card': 'HJ', 'claim_the_rest': False}\n",
      "{'card': 'C3', 'claim_the_rest': False}\n",
      "{'card': 'C9', 'claim_the_rest': False}\n",
      "{'card': 'DK', 'claim_the_rest': False}\n",
      "{'card': 'DQ', 'claim_the_rest': False}\n",
      "{'card': 'D4', 'claim_the_rest': False}\n",
      "{'card': 'H9', 'claim_the_rest': True}\n",
      "{'card': 'CJ', 'claim_the_rest': False}\n",
      "{'card': 'D7', 'claim_the_rest': False}\n",
      "{'card': 'H6', 'claim_the_rest': False}\n",
      "{'card': 'D8', 'claim_the_rest': False}\n"
     ]
    }
   ],
   "source": [
    "from transform_play_card import get_ben_card_play_answer\n",
    "\n",
    "\n",
    "leader = Direction.WEST\n",
    "current_player = Direction.NORTH\n",
    "tricks = [[\"S5\"]]\n",
    "# while all([hand.len()!=1 for hand in hands.values()]) :\n",
    "for i in range(47) :\n",
    "    if len(tricks[-1])==4 :\n",
    "        last_trick = Trick.from_list(leader=leader,trick_as_list=[Card_.from_str(card) for card in tricks[-1]])\n",
    "        current_player = last_trick.winner(trump=BiddingSuit.HEARTS)\n",
    "        leader = current_player\n",
    "        tricks.append([])\n",
    "    card = await get_ben_card_play_answer(hand_str=hands[current_player if current_player!=Direction.NORTH else Direction.SOUTH].to_pbn(),dummy_hand_str=hands[Direction.NORTH].to_pbn(),dealer_str='N',vuln_str=\"None\",auction=auction,contract=\"4HS\",declarer_str=\"S\",next_player_str=current_player.abbreviation(),tricks_str=tricks,MODELS=models)\n",
    "    print(card)\n",
    "    tricks[-1].append(card[\"card\"])\n",
    "    hands[current_player].remove(Card_.from_str(card[\"card\"]))\n",
    "    current_player = current_player.next()"
   ]
  },
  {
   "cell_type": "code",
   "execution_count": 12,
   "id": "ebc30e2e",
   "metadata": {},
   "outputs": [
    {
     "data": {
      "text/plain": [
       "{NORTH: PlayerHand(T64|2|QJT873|JT9),\n",
       " EAST: PlayerHand(A97|94|K652|8642),\n",
       " SOUTH: PlayerHand(J3|AKQJ65|9|A753),\n",
       " WEST: PlayerHand(KQ852|T873|A4|KQ)}"
      ]
     },
     "execution_count": 12,
     "metadata": {},
     "output_type": "execute_result"
    }
   ],
   "source": [
    "auction = ['PASS', 'PASS', '1N', 'PASS', '3C', 'PASS', '3D', 'PASS', 'PASS']\n",
    "hands_str = 'T64.2.QJT873.JT9 A97.94.652K.8642 J3.AKQJ65.9.A753 KQ852.T873.A4.KQ'.split()\n",
    "hands = {d:PlayerHand.from_pbn(hand) for d,hand in zip(Direction,hands_str)}\n",
    "hands # N, E, S, W"
   ]
  },
  {
   "cell_type": "code",
   "execution_count": 13,
   "id": "0c45058c",
   "metadata": {},
   "outputs": [
    {
     "name": "stdout",
     "output_type": "stream",
     "text": [
      "{'card': 'S4', 'claim_the_rest': False}\n",
      "{'card': 'S7', 'claim_the_rest': False}\n",
      "{'card': 'S3', 'claim_the_rest': False}\n",
      "{'card': 'S2', 'claim_the_rest': False}\n",
      "{'card': 'S6', 'claim_the_rest': False}\n",
      "{'card': 'SA', 'claim_the_rest': False}\n",
      "{'card': 'SJ', 'claim_the_rest': False}\n",
      "{'card': 'C2', 'claim_the_rest': False}\n",
      "{'card': 'CA', 'claim_the_rest': False}\n",
      "{'card': 'CQ', 'claim_the_rest': False}\n",
      "{'card': 'C9', 'claim_the_rest': False}\n",
      "{'card': 'HJ', 'claim_the_rest': False}\n",
      "{'card': 'HT', 'claim_the_rest': False}\n",
      "{'card': 'H2', 'claim_the_rest': False}\n",
      "{'card': 'H4', 'claim_the_rest': False}\n",
      "{'card': 'HK', 'claim_the_rest': False}\n",
      "{'card': 'H3', 'claim_the_rest': False}\n",
      "{'card': 'CT', 'claim_the_rest': False}\n",
      "{'card': 'H9', 'claim_the_rest': False}\n",
      "{'card': 'HA', 'claim_the_rest': False}\n",
      "{'card': 'H7', 'claim_the_rest': False}\n",
      "{'card': 'CJ', 'claim_the_rest': False}\n",
      "{'card': 'D5', 'claim_the_rest': False}\n",
      "{'card': 'S9', 'claim_the_rest': False}\n",
      "{'card': 'D9', 'claim_the_rest': False}\n",
      "{'card': 'S5', 'claim_the_rest': False}\n",
      "{'card': 'ST', 'claim_the_rest': False}\n",
      "{'card': 'C3', 'claim_the_rest': False}\n",
      "{'card': 'CK', 'claim_the_rest': False}\n",
      "{'card': 'D3', 'claim_the_rest': False}\n",
      "{'card': 'C4', 'claim_the_rest': False}\n",
      "{'card': 'DQ', 'claim_the_rest': False}\n",
      "{'card': 'D2', 'claim_the_rest': False}\n",
      "{'card': 'C7', 'claim_the_rest': False}\n",
      "{'card': 'DA', 'claim_the_rest': False}\n",
      "{'card': 'H8', 'claim_the_rest': False}\n",
      "{'card': 'D7', 'claim_the_rest': False}\n",
      "{'card': 'DK', 'claim_the_rest': False}\n",
      "{'card': 'HQ', 'claim_the_rest': False}\n",
      "{'card': 'C8', 'claim_the_rest': False}\n",
      "{'card': 'C5', 'claim_the_rest': False}\n",
      "{'card': 'S8', 'claim_the_rest': False}\n",
      "{'card': 'D8', 'claim_the_rest': False}\n",
      "{'card': 'DJ', 'claim_the_rest': False}\n",
      "{'card': 'D6', 'claim_the_rest': False}\n",
      "{'card': 'H5', 'claim_the_rest': False}\n",
      "{'card': 'D4', 'claim_the_rest': False}\n"
     ]
    }
   ],
   "source": [
    "from transform_play_card import get_ben_card_play_answer\n",
    "\n",
    "\n",
    "leader = Direction.WEST\n",
    "current_player = Direction.NORTH\n",
    "tricks = [[\"SK\"]]\n",
    "# while all([hand.len()!=1 for hand in hands.values()]) :\n",
    "for i in range(47) :\n",
    "    if len(tricks[-1])==4 :\n",
    "        last_trick = Trick.from_list(leader=leader,trick_as_list=[Card_.from_str(card) for card in tricks[-1]])\n",
    "        current_player = last_trick.winner(trump=BiddingSuit.DIAMONDS)\n",
    "        leader = current_player\n",
    "        tricks.append([])\n",
    "    card = await get_ben_card_play_answer(hand_str=hands[current_player if current_player!=Direction.NORTH else Direction.SOUTH].to_pbn(),dummy_hand_str=hands[Direction.NORTH].to_pbn(),dealer_str='N',vuln_str=\"N-S\",auction=auction,contract=\"3DS\",declarer_str=\"S\",next_player_str=current_player.abbreviation(),tricks_str=tricks,MODELS=models)\n",
    "    print(card)\n",
    "    tricks[-1].append(card[\"card\"])\n",
    "    hands[current_player].remove(Card_.from_str(card[\"card\"]))\n",
    "    current_player = current_player.next()"
   ]
  },
  {
   "cell_type": "code",
   "execution_count": 14,
   "id": "792a5d16",
   "metadata": {},
   "outputs": [
    {
     "data": {
      "text/plain": [
       "[['SK', 'S4', 'S7', 'S3'],\n",
       " ['S2', 'S6', 'SA', 'SJ'],\n",
       " ['C2', 'CA', 'CQ', 'C9'],\n",
       " ['HJ', 'HT', 'H2', 'H4'],\n",
       " ['HK', 'H3', 'CT', 'H9'],\n",
       " ['HA', 'H7', 'CJ', 'D5'],\n",
       " ['S9', 'D9', 'S5', 'ST'],\n",
       " ['C3', 'CK', 'D3', 'C4'],\n",
       " ['DQ', 'D2', 'C7', 'DA'],\n",
       " ['H8', 'D7', 'DK', 'HQ'],\n",
       " ['C8', 'C5', 'S8', 'D8'],\n",
       " ['DJ', 'D6', 'H5', 'D4']]"
      ]
     },
     "execution_count": 14,
     "metadata": {},
     "output_type": "execute_result"
    }
   ],
   "source": [
    "tricks"
   ]
  }
 ],
 "metadata": {
  "kernelspec": {
   "display_name": "Python 3 (ipykernel)",
   "language": "python",
   "name": "python3"
  },
  "language_info": {
   "codemirror_mode": {
    "name": "ipython",
    "version": 3
   },
   "file_extension": ".py",
   "mimetype": "text/x-python",
   "name": "python",
   "nbconvert_exporter": "python",
   "pygments_lexer": "ipython3",
   "version": "3.10.2"
  },
  "vscode": {
   "interpreter": {
    "hash": "db6859663c517eaff44cb590a4f83a9ffca1c2df3a6cfb3b0e93ea33231aa8bf"
   }
  }
 },
 "nbformat": 4,
 "nbformat_minor": 5
}
