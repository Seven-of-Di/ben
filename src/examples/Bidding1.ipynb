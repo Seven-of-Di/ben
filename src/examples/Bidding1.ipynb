{
 "cells": [
  {
   "cell_type": "markdown",
   "id": "75d07246",
   "metadata": {},
   "source": [
    "# Bidding\n",
    "\n",
    "This is a tutorial for how to use the bidding engine"
   ]
  },
  {
   "cell_type": "code",
   "execution_count": 1,
   "id": "59a5664c",
   "metadata": {},
   "outputs": [
    {
     "name": "stderr",
     "output_type": "stream",
     "text": [
      "Loaded lib <WinDLL 'C:\\Users\\lucbe\\OneDrive\\Documents\\Bridge\\ben\\ben\\dds.dll', handle 7ffbc7bc0000 at 0x286d40eff10>\n"
     ]
    }
   ],
   "source": [
    "import os\n",
    "os.chdir('..')\n",
    "\n",
    "from nn.models import Models\n",
    "from bots import BotBid\n",
    "from bidding import bidding\n",
    "from util import hand_to_str\n",
    "from deck52 import random_deal\n",
    "from utils import Direction,BiddingSuit,Suit,Card_,PlayerHand\n",
    "from PlayRecord import PlayRecord,Trick"
   ]
  },
  {
   "cell_type": "code",
   "execution_count": 2,
   "id": "44786d5d",
   "metadata": {},
   "outputs": [
    {
     "name": "stdout",
     "output_type": "stream",
     "text": [
      "INFO:tensorflow:Restoring parameters from ../models/gib21_model/gib21-1000000\n",
      "INFO:tensorflow:Restoring parameters from ../models/gib21_info_model/gib21_info-500000\n",
      "INFO:tensorflow:Restoring parameters from ../models/lead_model_b/lead-1000000\n",
      "INFO:tensorflow:Restoring parameters from ../models/lr3_model/lr3-1000000\n",
      "INFO:tensorflow:Restoring parameters from ../models/lefty_model/lefty-1000000\n",
      "INFO:tensorflow:Restoring parameters from ../models/dummy_model/dummy-920000\n",
      "INFO:tensorflow:Restoring parameters from ../models/righty_model/righty-1000000\n",
      "INFO:tensorflow:Restoring parameters from ../models/decl_model/decl-1000000\n"
     ]
    }
   ],
   "source": [
    "models = Models.load('../models')   # loading neural networks"
   ]
  },
  {
   "cell_type": "markdown",
   "id": "10d8f2fc",
   "metadata": {},
   "source": [
    "### Running through an example"
   ]
  },
  {
   "cell_type": "code",
   "execution_count": 3,
   "id": "19dbfeb7",
   "metadata": {},
   "outputs": [],
   "source": [
    "# East deals, EW vulnerable.\n",
    "vuln_ns, vuln_ew = False, True"
   ]
  },
  {
   "cell_type": "code",
   "execution_count": 4,
   "id": "5b5c0bd3",
   "metadata": {},
   "outputs": [
    {
     "name": "stdout",
     "output_type": "stream",
     "text": [
      "['K9.AQx.QJx.AKJT9 AJTx.T9x.ATxx.Q8 Qxxx.KJxxx.x.xxx 8xx.8x.K98xx.xxx', 'AKT.Axx.Jxx.AKJx 8xxx.T8.98x.Q9xx Qxxx.KJxxx.x.xxx J9.Q9x.AKQTxx.T8', 'A8x.AQ.AQJT.KJ8x 9x.Txxx.K9x.AQxx Qxxx.KJxxx.x.xxx KJTx.98.8xxxx.T9', 'A8x.ATx.AQ8x.AQx J9xx.9x.JT9x.KT9 Qxxx.KJxxx.x.xxx KT.Q8x.Kxxx.J8xx', 'AKx.QT8.Kx.AKQ98 8x.Ax.JT9xx.Txxx Qxxx.KJxxx.x.xxx JT9x.9xx.AQ8xx.J']\n",
      "3S\n",
      "[{'call': '3S', 'insta_score': 0.9985024929046631}]\n"
     ]
    }
   ],
   "source": [
    "hand = 'Q432.KJ654.4.432'\n",
    "auction = ['PAD_START', '2N', 'PASS','3C','PASS','3D','PASS'] # Here, it wrongly passes on the stayman answer, just like he would pass a 3D opening\n",
    "bot_bid = BotBid([vuln_ns, vuln_ew], hand, models)\n",
    "bid = bot_bid.restful_bid(auction)\n",
    "\n",
    "print(bid.samples) #The samples are correct\n",
    "print(bid.bid)\n",
    "print(bid.to_dict()['candidates'])"
   ]
  },
  {
   "cell_type": "code",
   "execution_count": 5,
   "id": "87c66c19",
   "metadata": {},
   "outputs": [
    {
     "name": "stdout",
     "output_type": "stream",
     "text": [
      "['Qx.QT8xx.8xxx.Qx T8xx.AKx.KJxx.xx Kx.J9xxx.Ax.KJT8 AJ9xx..QT9.A9xxx', 'J.98x.AQT8xx.Txx T8xx.AKx.KJxx.xx A.QJTxxxx.9x.Axx KQ9xxxx..x.KQJ98', 'Q9.Q8xxx.T8xx.QT T8xx.AKx.KJxx.xx Ax.JT9xx.A9.A9xx KJxxx..Qxx.KJ8xx', 'Ax.QJxx.Qxxxx.9x T8xx.AKx.KJxx.xx Kx.T98xx.T8.AKQx QJ9xx.x.A9.JT8xx', 'AJ9.JT8x.QT8x.8x T8xx.AKx.KJxx.xx x.Q9xxxx.Axx.AQJ KQxxx..9x.KT9xxx']\n",
      "4S\n",
      "[{'call': '4S', 'insta_score': 0.6949708461761475, 'expected_score': 318.2530455187313}, {'call': '3S', 'insta_score': 0.16825923323631287, 'expected_score': 136.14261882054578}]\n"
     ]
    }
   ],
   "source": [
    "hand = 'T873.AK6.KJ32.43'\n",
    "auction = ['PASS','PASS','1H','2H','3H'] # Here, it correctly bids 4S\n",
    "bot_bid = BotBid([vuln_ns, vuln_ew], hand, models)\n",
    "bid = bot_bid.restful_bid(auction)\n",
    "\n",
    "print(bid.samples) #The samples are correct\n",
    "print(bid.bid)\n",
    "print(bid.to_dict()['candidates'])"
   ]
  },
  {
   "cell_type": "code",
   "execution_count": 6,
   "id": "a707a8da",
   "metadata": {},
   "outputs": [
    {
     "name": "stdout",
     "output_type": "stream",
     "text": [
      "['x.QJT8xx.A9x.KJ8 T8xx.AKx.KJxx.xx J9x.9xxx.T8x.Qxx AKQxx..Qxx.AT9xx', 'Jx.Q9xxx.Ax.AQ9x T8xx.AKx.KJxx.xx xx.JT8.QT98xx.Tx AKQ9x.xx.x.KJ8xx', 'Qx.QJT8xx.x.AKJ9 T8xx.AKx.KJxx.xx xx.xx.QT9x.QTxxx AKJ9x.9x.A8xx.8x', 'K9x.QJxxx.AQ98.K T8xx.AKx.KJxx.xx Q.T98xx.Tx.J9xxx AJxxx..xxx.AQT8x', 'x.QJT8xxx.ATx.Ax T8xx.AKx.KJxx.xx J9xx.9x.x.Q98xxx AKQx.x.Q98xx.KJT']\n",
      "2N\n",
      "[{'call': '2N', 'insta_score': 0.3044964373111725, 'expected_score': 424.08716769644764}, {'call': '2S', 'insta_score': 0.2832288444042206, 'expected_score': 297.96324062821816}]\n"
     ]
    }
   ],
   "source": [
    "hand = 'T873.AK6.KJ32.43'\n",
    "auction = ['1H','PASS','PASS','2H','PASS'] #Here, it wrongly fit the artificial 3H\n",
    "bot_bid = BotBid([vuln_ns, vuln_ew], hand, models)\n",
    "bid = bot_bid.restful_bid(auction)\n",
    "\n",
    "print(bid.samples) #The samples are correct\n",
    "print(bid.bid)\n",
    "print(bid.to_dict()['candidates'])"
   ]
  },
  {
   "cell_type": "code",
   "execution_count": 7,
   "id": "df14a08f",
   "metadata": {},
   "outputs": [
    {
     "name": "stdout",
     "output_type": "stream",
     "text": [
      "['Jx.QTx.xxxx.xxxx Kxx.Ax.AQJ8x.JTx T98.8xxx.T9x.98x AQxxx.KJ9x.K.AKQ', '9xx.x.T9xx.J9xxx K8.AQ8x.AQxx.T8x JTx.Txxx.J8xx.xx AQxxx.KJ9x.K.AKQ', 'JT8.Txx.Jxx.JTxx K9.AQ8x.AQT9x.xx xxx.xx.8xxx.98xx AQxxx.KJ9x.K.AKQ', '9x.Txx.98xx.JT9x KTx.AQx.AQxxx.xx J8x.8xx.JTx.8xxx AQxxx.KJ9x.K.AKQ', '98x.8xxx.xxx.xxx KJTxx.AQx.AQT.T8 .Tx.J98xxx.J9xxx AQxxx.KJ9x.K.AKQ']\n",
      "2C\n",
      "[{'call': '2C', 'insta_score': 0.940109372138977}]\n"
     ]
    }
   ],
   "source": [
    "hand = 'AQ752.KJ92.K.AKQ'\n",
    "auction = [\"PASS\",\"1N\",\"PASS\"] #Here, it correctly does a stayman\n",
    "bot_bid = BotBid([vuln_ns, vuln_ew], hand, models)\n",
    "bid = bot_bid.restful_bid(auction)\n",
    "\n",
    "print(bid.samples) #The samples are correct\n",
    "print(bid.bid)\n",
    "print(bid.to_dict()['candidates'])"
   ]
  },
  {
   "cell_type": "code",
   "execution_count": 8,
   "id": "f8df6941",
   "metadata": {},
   "outputs": [
    {
     "name": "stdout",
     "output_type": "stream",
     "text": [
      "['T.A8xx.Axxx.Txxx J8x.QT.QTxx.98xx K9xx.xxx.J98x.Jx AQxxx.KJ9x.K.AKQ', 'Kx.Tx.Q9xx.JTxxx JTx.xx.A8xxx.8xx 98x.AQ8xx.JTx.9x AQxxx.KJ9x.K.AKQ', 'KJTx.xx.QJT9.9xx 8x.AQx.8xxx.JT8x 9x.T8xx.Axxx.xxx AQxxx.KJ9x.K.AKQ', 'x.Txxx.AJTxx.9xx Kxx.Q8x.8xx.JT8x JT98.Ax.Q9xx.xxx AQxxx.KJ9x.K.AKQ', 'T9x.A8xx.Jxx.JTx KJx.Tx.T9xx.9xxx 8x.Qxx.AQ8xx.8xx AQxxx.KJ9x.K.AKQ']\n",
      "3H\n",
      "[{'call': '3H', 'insta_score': 0.9574984908103943}]\n"
     ]
    }
   ],
   "source": [
    "hand = 'AQ752.KJ92.K.AKQ'\n",
    "auction = [ 'PASS','PASS','PASS','1S',\"PASS\",\"1N\",\"PASS\"] #Here, it bids 2C (\"stayaman !\") instead of 3H, like in the first hand of the demo (https://lorserker.github.io/ben/demo/viz.html?deal=1). Note that the insta score is exactly the same as the previous example\n",
    "bot_bid = BotBid([vuln_ns, vuln_ew], hand, models)\n",
    "bid = bot_bid.restful_bid(auction)\n",
    "\n",
    "print(bid.samples) #The samples are correct\n",
    "print(bid.bid)\n",
    "print(bid.to_dict()['candidates'])"
   ]
  },
  {
   "cell_type": "code",
   "execution_count": null,
   "id": "7d30b63d",
   "metadata": {},
   "outputs": [],
   "source": []
  },
  {
   "cell_type": "markdown",
   "id": "8da5c690",
   "metadata": {},
   "source": [
    "## Bidding through the hand from the  beginning\n",
    "\n",
    "We have to bid through the hand from the beginning because the bots have state that needs to be propagated.\n",
    "\n",
    "If we ask the bot to bid in the middle of the auction then it didn't accumulate the state from the beginning of the auction and it looks like it \"forgets\" older bids\n",
    "\n",
    "Follwing is the full auction from the start for the first example where the bot passed in a stayman sequence."
   ]
  },
  {
   "cell_type": "code",
   "execution_count": 9,
   "id": "d079e241",
   "metadata": {},
   "outputs": [
    {
     "data": {
      "text/plain": [
       "{NORTH: PlayerHand(A643|8632|Q6|AQ3),\n",
       " EAST: PlayerHand(T872|74|J984|K96),\n",
       " SOUTH: PlayerHand(KJ|KQ95|A2|JT742),\n",
       " WEST: PlayerHand(Q95|AJT|KT753|85)}"
      ]
     },
     "execution_count": 9,
     "metadata": {},
     "output_type": "execute_result"
    }
   ],
   "source": [
    "hands_str = 'A643.8632.Q6.AQ3 T872.74.J984.K96 KJ.KQ95.A2.JT742 Q95.AJT.KT753.85'.split()\n",
    "hands = {d:PlayerHand.from_pbn(hand) for d,hand in zip(Direction,hands_str)}\n",
    "hands # N, E, S, W\n"
   ]
  },
  {
   "cell_type": "code",
   "execution_count": 10,
   "id": "1d390ac1",
   "metadata": {},
   "outputs": [
    {
     "data": {
      "text/plain": [
       "['1C',\n",
       " 'PASS',\n",
       " '1H',\n",
       " 'PASS',\n",
       " '2H',\n",
       " 'PASS',\n",
       " '3C',\n",
       " 'PASS',\n",
       " '3H',\n",
       " 'PASS',\n",
       " '4H',\n",
       " 'PASS',\n",
       " 'PASS',\n",
       " 'PASS']"
      ]
     },
     "execution_count": 10,
     "metadata": {},
     "output_type": "execute_result"
    }
   ],
   "source": [
    "auction = []\n",
    "\n",
    "turn_i = 0  # whose turn is it to bid\n",
    "\n",
    "while not bidding.auction_over(auction):\n",
    "    auction.append(BotBid([False, False], hands[Direction(turn_i)].to_pbn(), models).restful_bid(auction).bid)\n",
    "    turn_i = (turn_i+1)%4\n",
    "    \n",
    "auction"
   ]
  },
  {
   "cell_type": "markdown",
   "id": "ada92dd9",
   "metadata": {},
   "source": [
    "now the bot doesn't pass 3D anymore and they complete their smolen sequence"
   ]
  },
  {
   "cell_type": "code",
   "execution_count": 11,
   "id": "33d366c7",
   "metadata": {},
   "outputs": [
    {
     "name": "stdout",
     "output_type": "stream",
     "text": [
      "Number of samples 50 coherent_samples 50\n",
      "{'card': 'S3', 'claim_the_rest': False}\n",
      "Number of samples 50 coherent_samples 50\n",
      "{'card': 'ST', 'claim_the_rest': False}\n",
      "Number of samples 50 coherent_samples 50\n",
      "{'card': 'SJ', 'claim_the_rest': False}\n",
      "Number of samples 200 coherent_samples 200\n",
      "{'card': 'C2', 'claim_the_rest': False}\n",
      "Number of samples 50 coherent_samples 50\n",
      "{'card': 'C5', 'claim_the_rest': False}\n",
      "Number of samples 50 coherent_samples 50\n",
      "{'card': 'CQ', 'claim_the_rest': False}\n",
      "Number of samples 50 coherent_samples 50\n",
      "{'card': 'CK', 'claim_the_rest': False}\n",
      "Number of samples 200 coherent_samples 200\n",
      "{'card': 'C9', 'claim_the_rest': False}\n",
      "Number of samples 50 coherent_samples 50\n",
      "{'card': 'C4', 'claim_the_rest': False}\n",
      "Number of samples 50 coherent_samples 50\n",
      "{'card': 'C8', 'claim_the_rest': False}\n",
      "Number of samples 50 coherent_samples 50\n",
      "{'card': 'CA', 'claim_the_rest': False}\n",
      "Number of samples 200 coherent_samples 200\n",
      "{'card': 'H3', 'claim_the_rest': False}\n",
      "Number of samples 50 coherent_samples 50\n",
      "{'card': 'H7', 'claim_the_rest': False}\n",
      "Number of samples 50 coherent_samples 50\n",
      "{'card': 'HK', 'claim_the_rest': False}\n",
      "Number of samples 50 coherent_samples 50\n",
      "{'card': 'HA', 'claim_the_rest': False}\n",
      "Number of samples 200 coherent_samples 200\n",
      "{'card': 'HT', 'claim_the_rest': False}\n",
      "Number of samples 50 coherent_samples 50\n",
      "{'card': 'H2', 'claim_the_rest': False}\n",
      "Number of samples 50 coherent_samples 50\n",
      "{'card': 'H4', 'claim_the_rest': False}\n",
      "Number of samples 50 coherent_samples 50\n",
      "{'card': 'HQ', 'claim_the_rest': False}\n",
      "Number of samples 200 coherent_samples 200\n",
      "{'card': 'SK', 'claim_the_rest': False}\n",
      "Number of samples 50 coherent_samples 50\n",
      "{'card': 'S9', 'claim_the_rest': False}\n",
      "Number of samples 50 coherent_samples 50\n",
      "{'card': 'S4', 'claim_the_rest': False}\n",
      "Number of samples 50 coherent_samples 39\n",
      "{'card': 'S2', 'claim_the_rest': False}\n",
      "Number of samples 200 coherent_samples 200\n",
      "{'card': 'CT', 'claim_the_rest': False}\n",
      "Number of samples 50 coherent_samples 50\n",
      "{'card': 'SQ', 'claim_the_rest': False}\n",
      "Number of samples 50 coherent_samples 50\n",
      "{'card': 'C3', 'claim_the_rest': False}\n",
      "Number of samples 50 coherent_samples 8\n",
      "{'card': 'C6', 'claim_the_rest': False}\n",
      "Number of samples 200 coherent_samples 200\n",
      "{'card': 'C7', 'claim_the_rest': False}\n",
      "Number of samples 50 coherent_samples 37\n",
      "{'card': 'HJ', 'claim_the_rest': False}\n",
      "Number of samples 50 coherent_samples 50\n",
      "{'card': 'S6', 'claim_the_rest': False}\n",
      "Number of samples 31 coherent_samples 5\n",
      "{'card': 'D4', 'claim_the_rest': False}\n",
      "Number of samples 126 coherent_samples 20\n",
      "{'card': 'D3', 'claim_the_rest': False}\n",
      "Number of samples 50 coherent_samples 50\n",
      "{'card': 'D6', 'claim_the_rest': True}\n",
      "Number of samples 30 coherent_samples 5\n",
      "{'card': 'DJ', 'claim_the_rest': False}\n",
      "Number of samples 50 coherent_samples 36\n",
      "{'card': 'DA', 'claim_the_rest': True}\n",
      "Number of samples 50 coherent_samples 36\n",
      "{'card': 'CJ', 'claim_the_rest': True}\n",
      "Number of samples 35 coherent_samples 5\n",
      "{'card': 'D5', 'claim_the_rest': False}\n",
      "Number of samples 35 coherent_samples 26\n",
      "{'card': 'DQ', 'claim_the_rest': True}\n",
      "Number of samples 14 coherent_samples 3\n",
      "{'card': 'D8', 'claim_the_rest': False}\n",
      "Number of samples 20 coherent_samples 7\n",
      "{'card': 'D2', 'claim_the_rest': True}\n",
      "Number of samples 10 coherent_samples 1\n",
      "{'card': 'DK', 'claim_the_rest': False}\n",
      "Number of samples 10 coherent_samples 4\n",
      "{'card': 'H6', 'claim_the_rest': True}\n",
      "Number of samples 6 coherent_samples 1\n",
      "{'card': 'D9', 'claim_the_rest': False}\n",
      "Number of samples 6 coherent_samples 3\n",
      "{'card': 'SA', 'claim_the_rest': True}\n",
      "Number of samples 6 coherent_samples 1\n",
      "{'card': 'S7', 'claim_the_rest': False}\n",
      "Number of samples 3 coherent_samples 2\n",
      "{'card': 'H5', 'claim_the_rest': True}\n",
      "Number of samples 1 coherent_samples 1\n",
      "{'card': 'D7', 'claim_the_rest': False}\n"
     ]
    }
   ],
   "source": [
    "from transform_play_card import get_ben_card_play_answer\n",
    "\n",
    "\n",
    "leader = Direction.WEST\n",
    "current_player = Direction.NORTH\n",
    "tricks = [[\"S5\"]]\n",
    "# while all([hand.len()!=1 for hand in hands.values()]) :\n",
    "for i in range(47) :\n",
    "    if len(tricks[-1])==4 :\n",
    "        last_trick = Trick.from_list(leader=leader,trick_as_list=[Card_.from_str(card) for card in tricks[-1]])\n",
    "        current_player = last_trick.winner(trump=BiddingSuit.HEARTS)\n",
    "        leader = current_player\n",
    "        tricks.append([])\n",
    "    card = await get_ben_card_play_answer(hand_str=hands[current_player if current_player!=Direction.NORTH else Direction.SOUTH].to_pbn(),dummy_hand_str=hands[Direction.NORTH].to_pbn(),dealer_str='N',vuln_str=\"None\",auction=auction,contract=\"4HS\",declarer_str=\"S\",next_player_str=current_player.abbreviation(),tricks_str=tricks,MODELS=models)\n",
    "    print(card)\n",
    "    tricks[-1].append(card[\"card\"])\n",
    "    hands[current_player].remove(Card_.from_str(card[\"card\"]))\n",
    "    current_player = current_player.next()"
   ]
  },
  {
   "cell_type": "code",
   "execution_count": 12,
   "id": "ebc30e2e",
   "metadata": {},
   "outputs": [
    {
     "data": {
      "text/plain": [
       "{NORTH: PlayerHand(T64|2|QJT873|JT9),\n",
       " EAST: PlayerHand(A97|94|K652|8642),\n",
       " SOUTH: PlayerHand(J3|AKQJ65|9|A753),\n",
       " WEST: PlayerHand(KQ852|T873|A4|KQ)}"
      ]
     },
     "execution_count": 12,
     "metadata": {},
     "output_type": "execute_result"
    }
   ],
   "source": [
    "auction = ['PASS', 'PASS', '1N', 'PASS', '3C', 'PASS', '3D', 'PASS', 'PASS']\n",
    "hands_str = 'T64.2.QJT873.JT9 A97.94.652K.8642 J3.AKQJ65.9.A753 KQ852.T873.A4.KQ'.split()\n",
    "hands = {d:PlayerHand.from_pbn(hand) for d,hand in zip(Direction,hands_str)}\n",
    "hands # N, E, S, W"
   ]
  },
  {
   "cell_type": "code",
   "execution_count": 13,
   "id": "0c45058c",
   "metadata": {},
   "outputs": [
    {
     "name": "stdout",
     "output_type": "stream",
     "text": [
      "Number of samples 50 coherent_samples 50\n",
      "{'card': 'ST', 'claim_the_rest': False}\n",
      "Number of samples 50 coherent_samples 50\n",
      "{'card': 'S7', 'claim_the_rest': False}\n",
      "Number of samples 50 coherent_samples 50\n",
      "{'card': 'S3', 'claim_the_rest': False}\n",
      "Number of samples 200 coherent_samples 200\n",
      "{'card': 'S2', 'claim_the_rest': False}\n",
      "Number of samples 50 coherent_samples 50\n",
      "{'card': 'S4', 'claim_the_rest': False}\n",
      "Number of samples 50 coherent_samples 50\n",
      "{'card': 'SA', 'claim_the_rest': False}\n",
      "Number of samples 50 coherent_samples 50\n",
      "{'card': 'SJ', 'claim_the_rest': False}\n",
      "Number of samples 200 coherent_samples 200\n",
      "{'card': 'C6', 'claim_the_rest': False}\n",
      "Number of samples 50 coherent_samples 50\n",
      "{'card': 'CA', 'claim_the_rest': False}\n",
      "Number of samples 50 coherent_samples 50\n",
      "{'card': 'CQ', 'claim_the_rest': False}\n",
      "Number of samples 50 coherent_samples 50\n",
      "{'card': 'C9', 'claim_the_rest': False}\n",
      "Number of samples 200 coherent_samples 200\n",
      "{'card': 'HJ', 'claim_the_rest': False}\n",
      "Number of samples 50 coherent_samples 50\n",
      "{'card': 'H3', 'claim_the_rest': False}\n",
      "Number of samples 200 coherent_samples 200\n",
      "{'card': 'H2', 'claim_the_rest': False}\n",
      "Number of samples 50 coherent_samples 50\n",
      "{'card': 'H4', 'claim_the_rest': False}\n",
      "Number of samples 200 coherent_samples 200\n",
      "{'card': 'HK', 'claim_the_rest': False}\n",
      "Number of samples 50 coherent_samples 50\n",
      "{'card': 'H7', 'claim_the_rest': False}\n",
      "Number of samples 200 coherent_samples 200\n",
      "{'card': 'CT', 'claim_the_rest': False}\n",
      "Number of samples 50 coherent_samples 50\n",
      "{'card': 'H9', 'claim_the_rest': False}\n",
      "Number of samples 200 coherent_samples 200\n",
      "{'card': 'HA', 'claim_the_rest': False}\n",
      "Number of samples 50 coherent_samples 46\n",
      "{'card': 'H8', 'claim_the_rest': False}\n",
      "Number of samples 200 coherent_samples 200\n",
      "{'card': 'CJ', 'claim_the_rest': False}\n",
      "Number of samples 50 coherent_samples 36\n",
      "{'card': 'D6', 'claim_the_rest': False}\n",
      "Number of samples 200 coherent_samples 42\n",
      "{'card': 'S9', 'claim_the_rest': False}\n",
      "Number of samples 50 coherent_samples 50\n",
      "{'card': 'D9', 'claim_the_rest': False}\n",
      "Number of samples 11 coherent_samples 6\n",
      "{'card': 'S5', 'claim_the_rest': False}\n",
      "Number of samples 50 coherent_samples 34\n",
      "{'card': 'S6', 'claim_the_rest': False}\n",
      "Number of samples 153 coherent_samples 34\n",
      "{'card': 'C3', 'claim_the_rest': False}\n",
      "Number of samples 8 coherent_samples 5\n",
      "{'card': 'CK', 'claim_the_rest': False}\n",
      "Number of samples 50 coherent_samples 14\n",
      "{'card': 'D7', 'claim_the_rest': False}\n",
      "Number of samples 30 coherent_samples 3\n",
      "{'card': 'C4', 'claim_the_rest': False}\n",
      "Number of samples 55 coherent_samples 14\n",
      "{'card': 'DQ', 'claim_the_rest': False}\n",
      "Number of samples 30 coherent_samples 3\n",
      "{'card': 'D2', 'claim_the_rest': False}\n",
      "Number of samples 50 coherent_samples 12\n",
      "{'card': 'C7', 'claim_the_rest': False}\n",
      "Number of samples 2 coherent_samples 2\n",
      "{'card': 'DA', 'claim_the_rest': False}\n",
      "Number of samples 2 coherent_samples 2\n",
      "{'card': 'HT', 'claim_the_rest': False}\n",
      "Number of samples 25 coherent_samples 4\n",
      "{'card': 'D8', 'claim_the_rest': False}\n",
      "Number of samples 1 coherent_samples 1\n",
      "{'card': 'C2', 'claim_the_rest': False}\n",
      "Number of samples 14 coherent_samples 3\n",
      "{'card': 'H5', 'claim_the_rest': False}\n",
      "Number of samples 14 coherent_samples 3\n",
      "{'card': 'DJ', 'claim_the_rest': False}\n",
      "Number of samples 1 coherent_samples 1\n",
      "{'card': 'DK', 'claim_the_rest': False}\n",
      "Number of samples 7 coherent_samples 3\n",
      "{'card': 'C5', 'claim_the_rest': False}\n",
      "Number of samples 1 coherent_samples 1\n",
      "{'card': 'D4', 'claim_the_rest': False}\n",
      "Number of samples 1 coherent_samples 1\n",
      "{'card': 'C8', 'claim_the_rest': False}\n",
      "Number of samples 3 coherent_samples 2\n",
      "{'card': 'H6', 'claim_the_rest': False}\n",
      "Number of samples 1 coherent_samples 1\n",
      "{'card': 'S8', 'claim_the_rest': False}\n",
      "Number of samples 2 coherent_samples 1\n",
      "{'card': 'D3', 'claim_the_rest': True}\n"
     ]
    }
   ],
   "source": [
    "from transform_play_card import get_ben_card_play_answer\n",
    "\n",
    "\n",
    "leader = Direction.WEST\n",
    "current_player = Direction.NORTH\n",
    "tricks = [[\"SK\"]]\n",
    "# while all([hand.len()!=1 for hand in hands.values()]) :\n",
    "for i in range(47) :\n",
    "    if len(tricks[-1])==4 :\n",
    "        last_trick = Trick.from_list(leader=leader,trick_as_list=[Card_.from_str(card) for card in tricks[-1]])\n",
    "        current_player = last_trick.winner(trump=BiddingSuit.DIAMONDS)\n",
    "        leader = current_player\n",
    "        tricks.append([])\n",
    "    card = await get_ben_card_play_answer(hand_str=hands[current_player if current_player!=Direction.NORTH else Direction.SOUTH].to_pbn(),dummy_hand_str=hands[Direction.NORTH].to_pbn(),dealer_str='N',vuln_str=\"N-S\",auction=auction,contract=\"3DS\",declarer_str=\"S\",next_player_str=current_player.abbreviation(),tricks_str=tricks,MODELS=models)\n",
    "    print(card)\n",
    "    tricks[-1].append(card[\"card\"])\n",
    "    hands[current_player].remove(Card_.from_str(card[\"card\"]))\n",
    "    current_player = current_player.next()"
   ]
  },
  {
   "cell_type": "code",
   "execution_count": 14,
   "id": "792a5d16",
   "metadata": {},
   "outputs": [
    {
     "data": {
      "text/plain": [
       "[['SK', 'ST', 'S7', 'S3'],\n",
       " ['S2', 'S4', 'SA', 'SJ'],\n",
       " ['C6', 'CA', 'CQ', 'C9'],\n",
       " ['HJ', 'H3', 'H2', 'H4'],\n",
       " ['HK', 'H7', 'CT', 'H9'],\n",
       " ['HA', 'H8', 'CJ', 'D6'],\n",
       " ['S9', 'D9', 'S5', 'S6'],\n",
       " ['C3', 'CK', 'D7', 'C4'],\n",
       " ['DQ', 'D2', 'C7', 'DA'],\n",
       " ['HT', 'D8', 'C2', 'H5'],\n",
       " ['DJ', 'DK', 'C5', 'D4'],\n",
       " ['C8', 'H6', 'S8', 'D3']]"
      ]
     },
     "execution_count": 14,
     "metadata": {},
     "output_type": "execute_result"
    }
   ],
   "source": [
    "tricks"
   ]
  },
  {
   "cell_type": "code",
   "execution_count": 15,
   "id": "3b81dfb6",
   "metadata": {},
   "outputs": [],
   "source": [
    "auction = ['PASS', '1S', 'PASS', '1N', 'PASS', '2C', 'PASS', '3S', 'PASS', '4S', 'PASS', 'PASS']\n",
    "hands_str =\"765.AJ732.K3.J75 KJ8Q9.9T.5Q.4KA3 2T.Q865.J97.QT92 A43.K4.AT8642.86\".split()\n",
    "hands = {d:PlayerHand.from_pbn(hand) for d,hand in zip(Direction,hands_str)}"
   ]
  },
  {
   "cell_type": "code",
   "execution_count": 16,
   "id": "405263d4",
   "metadata": {},
   "outputs": [
    {
     "name": "stdout",
     "output_type": "stream",
     "text": [
      "Number of samples 50 coherent_samples 50\n",
      "{'card': 'DA', 'claim_the_rest': False}\n",
      "Number of samples 50 coherent_samples 50\n",
      "{'card': 'D3', 'claim_the_rest': False}\n",
      "Number of samples 50 coherent_samples 50\n",
      "{'card': 'D5', 'claim_the_rest': False}\n",
      "Number of samples 200 coherent_samples 200\n",
      "{'card': 'D6', 'claim_the_rest': False}\n",
      "Number of samples 50 coherent_samples 50\n",
      "{'card': 'DK', 'claim_the_rest': False}\n",
      "Number of samples 50 coherent_samples 50\n",
      "{'card': 'DQ', 'claim_the_rest': False}\n",
      "Number of samples 50 coherent_samples 50\n",
      "{'card': 'D9', 'claim_the_rest': False}\n",
      "Number of samples 200 coherent_samples 200\n",
      "{'card': 'S6', 'claim_the_rest': False}\n",
      "Number of samples 50 coherent_samples 50\n",
      "{'card': 'S8', 'claim_the_rest': False}\n",
      "Number of samples 50 coherent_samples 50\n",
      "{'card': 'ST', 'claim_the_rest': False}\n",
      "Number of samples 50 coherent_samples 50\n",
      "{'card': 'SA', 'claim_the_rest': False}\n",
      "Number of samples 200 coherent_samples 200\n",
      "{'card': 'DT', 'claim_the_rest': False}\n",
      "Number of samples 50 coherent_samples 50\n",
      "{'card': 'C5', 'claim_the_rest': False}\n",
      "Number of samples 50 coherent_samples 50\n",
      "{'card': 'S9', 'claim_the_rest': False}\n",
      "Number of samples 50 coherent_samples 50\n",
      "{'card': 'DJ', 'claim_the_rest': False}\n",
      "Number of samples 200 coherent_samples 200\n",
      "{'card': 'CK', 'claim_the_rest': False}\n",
      "Number of samples 50 coherent_samples 50\n",
      "{'card': 'C2', 'claim_the_rest': False}\n",
      "Number of samples 50 coherent_samples 50\n",
      "{'card': 'C6', 'claim_the_rest': False}\n",
      "Number of samples 50 coherent_samples 50\n",
      "{'card': 'C7', 'claim_the_rest': False}\n",
      "Number of samples 200 coherent_samples 200\n",
      "{'card': 'SJ', 'claim_the_rest': False}\n",
      "Number of samples 50 coherent_samples 50\n",
      "{'card': 'S2', 'claim_the_rest': False}\n",
      "Number of samples 50 coherent_samples 50\n",
      "{'card': 'S4', 'claim_the_rest': False}\n",
      "Number of samples 50 coherent_samples 50\n",
      "{'card': 'S5', 'claim_the_rest': False}\n",
      "Number of samples 200 coherent_samples 200\n",
      "{'card': 'CA', 'claim_the_rest': False}\n",
      "Number of samples 50 coherent_samples 42\n",
      "{'card': 'C9', 'claim_the_rest': False}\n",
      "Number of samples 50 coherent_samples 50\n",
      "{'card': 'C8', 'claim_the_rest': False}\n",
      "Number of samples 50 coherent_samples 27\n",
      "{'card': 'CJ', 'claim_the_rest': False}\n",
      "Number of samples 126 coherent_samples 59\n",
      "{'card': 'C3', 'claim_the_rest': False}\n",
      "Number of samples 50 coherent_samples 21\n",
      "{'card': 'CT', 'claim_the_rest': False}\n",
      "Number of samples 50 coherent_samples 50\n",
      "{'card': 'S3', 'claim_the_rest': False}\n",
      "Number of samples 50 coherent_samples 11\n",
      "{'card': 'H2', 'claim_the_rest': False}\n",
      "Number of samples 31 coherent_samples 27\n",
      "{'card': 'D8', 'claim_the_rest': False}\n",
      "Number of samples 50 coherent_samples 11\n",
      "{'card': 'S7', 'claim_the_rest': False}\n",
      "Number of samples 16 coherent_samples 16\n",
      "{'card': 'C4', 'claim_the_rest': False}\n",
      "Number of samples 50 coherent_samples 7\n",
      "{'card': 'H5', 'claim_the_rest': False}\n",
      "Number of samples 70 coherent_samples 10\n",
      "{'card': 'HA', 'claim_the_rest': False}\n",
      "Number of samples 8 coherent_samples 8\n",
      "{'card': 'H9', 'claim_the_rest': False}\n",
      "Number of samples 14 coherent_samples 3\n",
      "{'card': 'H6', 'claim_the_rest': False}\n",
      "Number of samples 7 coherent_samples 7\n",
      "{'card': 'H4', 'claim_the_rest': False}\n",
      "Number of samples 20 coherent_samples 3\n",
      "{'card': 'H3', 'claim_the_rest': False}\n",
      "Number of samples 6 coherent_samples 6\n",
      "{'card': 'HT', 'claim_the_rest': False}\n",
      "Number of samples 6 coherent_samples 1\n",
      "{'card': 'HQ', 'claim_the_rest': False}\n",
      "Number of samples 3 coherent_samples 2\n",
      "{'card': 'HK', 'claim_the_rest': False}\n",
      "Number of samples 3 coherent_samples 2\n",
      "{'card': 'D2', 'claim_the_rest': False}\n",
      "Number of samples 6 coherent_samples 1\n",
      "{'card': 'H7', 'claim_the_rest': False}\n",
      "Number of samples 2 coherent_samples 1\n",
      "{'card': 'SQ', 'claim_the_rest': False}\n",
      "Number of samples 2 coherent_samples 1\n",
      "{'card': 'H8', 'claim_the_rest': False}\n"
     ]
    }
   ],
   "source": [
    "leader = Direction.SOUTH\n",
    "current_player = Direction.WEST\n",
    "tricks = [[\"D7\"]]\n",
    "# while all([hand.len()!=1 for hand in hands.values()]) :\n",
    "for i in range(47) :\n",
    "    if len(tricks[-1])==4 :\n",
    "        last_trick = Trick.from_list(leader=leader,trick_as_list=[Card_.from_str(card) for card in tricks[-1]])\n",
    "        current_player = last_trick.winner(trump=BiddingSuit.SPADES)\n",
    "        leader = current_player\n",
    "        tricks.append([])\n",
    "    card = await get_ben_card_play_answer(hand_str=hands[current_player if current_player!=Direction.WEST else Direction.EAST].to_pbn(),dummy_hand_str=hands[Direction.WEST].to_pbn(),dealer_str='N',vuln_str=\"None\",auction=auction,contract=\"4SE\",declarer_str=\"E\",next_player_str=current_player.abbreviation(),tricks_str=tricks,MODELS=models)\n",
    "    print(card)\n",
    "    tricks[-1].append(card[\"card\"])\n",
    "    hands[current_player].remove(Card_.from_str(card[\"card\"]))\n",
    "    current_player = current_player.next()"
   ]
  }
 ],
 "metadata": {
  "kernelspec": {
   "display_name": "Python 3 (ipykernel)",
   "language": "python",
   "name": "python3"
  },
  "language_info": {
   "codemirror_mode": {
    "name": "ipython",
    "version": 3
   },
   "file_extension": ".py",
   "mimetype": "text/x-python",
   "name": "python",
   "nbconvert_exporter": "python",
   "pygments_lexer": "ipython3",
   "version": "3.10.2"
  },
  "vscode": {
   "interpreter": {
    "hash": "db6859663c517eaff44cb590a4f83a9ffca1c2df3a6cfb3b0e93ea33231aa8bf"
   }
  }
 },
 "nbformat": 4,
 "nbformat_minor": 5
}
