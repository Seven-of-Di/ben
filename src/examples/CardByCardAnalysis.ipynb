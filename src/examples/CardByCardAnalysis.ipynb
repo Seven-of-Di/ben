{
 "cells": [
  {
   "cell_type": "markdown",
   "id": "21a4c878",
   "metadata": {},
   "source": [
    "# Detailed Analysis (Bid by Bid, Card by Card)\n",
    "\n",
    "This is a tutorial of how to do a detailed analysis of a played board.\n",
    "\n",
    "The engine looks at the bidding and play as it originally happened, and does an analysis for every bid and every card played.\n",
    "\n",
    "The analysis is not just a double-dummy analysis for the exact current layout (like if you would press the \"GIB\" button on BBO). Instead, it's an analysis over many different possible layouts (samples)."
   ]
  },
  {
   "cell_type": "code",
   "execution_count": 1,
   "id": "16f73f71",
   "metadata": {},
   "outputs": [],
   "source": [
    "import os\n",
    "os.chdir('..')\n",
    "\n",
    "from nn.models import Models\n",
    "from analysis import CardByCard\n",
    "from util import parse_lin, display_lin"
   ]
  },
  {
   "cell_type": "code",
   "execution_count": 2,
   "id": "ca7fa897",
   "metadata": {},
   "outputs": [
    {
     "name": "stdout",
     "output_type": "stream",
     "text": [
      "INFO:tensorflow:Restoring parameters from ../models/gib21_model/gib21-1000000\n",
      "INFO:tensorflow:Restoring parameters from ../models/gib21_info_model/gib21_info-500000\n",
      "INFO:tensorflow:Restoring parameters from ../models/lead_model_b/lead-1000000\n",
      "INFO:tensorflow:Restoring parameters from ../models/lr3_model/lr3-1000000\n",
      "INFO:tensorflow:Restoring parameters from ../models/lefty_model/lefty-1000000\n",
      "INFO:tensorflow:Restoring parameters from ../models/dummy_model/dummy-920000\n",
      "INFO:tensorflow:Restoring parameters from ../models/righty_model/righty-1000000\n",
      "INFO:tensorflow:Restoring parameters from ../models/decl_model/decl-1000000\n"
     ]
    }
   ],
   "source": [
    "models = Models.load('../models')   # loading neural networks"
   ]
  },
  {
   "cell_type": "code",
   "execution_count": 3,
   "id": "2940c18a",
   "metadata": {},
   "outputs": [],
   "source": [
    "# we specify all the information about a board\n",
    "# (it's quite tedious to enter every single thing by hand here,\n",
    "# later we'll have an example of how you can give it a board played on BBO)\n",
    "\n",
    "dealer = 'S'\n",
    "vuln = [True, True]  # fist element is NS, second element is EW\n",
    "\n",
    "hands = [\n",
    "    'AJ87632.J96.753.',\n",
    "    'K9.Q8542.T6.AJ74',\n",
    "    'QT4.A.KJ94.KQ986',\n",
    "    '5.KT73.AQ82.T532'\n",
    "]\n",
    "\n",
    "auction = ['1N', 'PASS', '4H', 'PASS', '4S', 'PASS', 'PASS', 'PASS']\n",
    "\n",
    "play = ['C2', 'D3', 'CA', 'C6', 'D6', 'DJ', 'DQ', 'D5', 'DA', 'D7', 'DT', 'D4', 'D8', 'H6', 'H2', 'D9', 'SQ', 'S5', 'S2', 'SK', 'H4', 'HA', 'H7', 'H9', 'S4', 'C3', 'SA', 'S9', 'S3', 'C4', 'ST', 'H3', 'CK', 'C5', 'HJ', 'C7', 'C8', 'CT', 'S6', 'CJ', 'S7', 'H8', 'C9', 'D2', 'S8', 'H5', 'CQ', 'HT', 'SJ', 'HQ', 'DK', 'HK']"
   ]
  },
  {
   "cell_type": "code",
   "execution_count": 4,
   "id": "79dae473",
   "metadata": {},
   "outputs": [],
   "source": [
    "card_by_card = CardByCard(dealer, vuln, hands, auction, play, models)"
   ]
  },
  {
   "cell_type": "code",
   "execution_count": 5,
   "id": "7ab0cce5",
   "metadata": {},
   "outputs": [
    {
     "name": "stdout",
     "output_type": "stream",
     "text": [
      "analyzing the bidding\n",
      "1N ?\n",
      "PASS .\n",
      "4H .\n",
      "PASS .\n",
      "4S .\n",
      "PASS .\n",
      "PASS .\n",
      "PASS .\n",
      "analyzing the play\n",
      "C2\n"
     ]
    },
    {
     "name": "stderr",
     "output_type": "stream",
     "text": [
      "Loaded lib <CDLL 'c:\\Users\\lucbe\\OneDrive\\Documents\\Bridge\\ben\\ben\\bin\\dds.dll', handle 7ff9c7410000 at 0x1facfd33100>\n"
     ]
    },
    {
     "name": "stdout",
     "output_type": "stream",
     "text": [
      "D3 ??\n",
      "{'card': 'D3', 'candidates': [{'card': 'S3', 'insta_score': 0.26105878301292235, 'expected_tricks': 11.07, 'expected_score': 634.85}, {'card': 'S7', 'insta_score': 0.26105878301292235, 'expected_tricks': 11.07, 'expected_score': 634.85}, {'card': 'S6', 'insta_score': 0.26105878301292235, 'expected_tricks': 11.07, 'expected_score': 634.85}, {'card': 'S2', 'insta_score': 0.26105878301292235, 'expected_tricks': 11.07, 'expected_score': 634.85}, {'card': 'S8', 'insta_score': 0.0, 'expected_tricks': 11.07, 'expected_score': 634.85}, {'card': 'SJ', 'insta_score': 0.0, 'expected_tricks': 10.92, 'expected_score': 626.9}, {'card': 'D3', 'insta_score': 0.491704837854858, 'expected_tricks': 10.33, 'expected_score': 560.9}, {'card': 'D5', 'insta_score': 0.491704837854858, 'expected_tricks': 10.33, 'expected_score': 560.9}, {'card': 'D7', 'insta_score': 0.491704837854858, 'expected_tricks': 10.33, 'expected_score': 560.9}, {'card': 'SA', 'insta_score': 0.0, 'expected_tricks': 10.265, 'expected_score': 548.6}, {'card': 'H6', 'insta_score': 0.2385112521067381, 'expected_tricks': 10.25, 'expected_score': 506.4}, {'card': 'H9', 'insta_score': 0.0, 'expected_tricks': 10.25, 'expected_score': 506.4}, {'card': 'HJ', 'insta_score': 0.0, 'expected_tricks': 10.25, 'expected_score': 506.4}], 'samples': ['9.KTxxx.QT.Jxxxx AJ8xxxx.J9x.xxx. Kx.Q8xx.A8xx.ATx QTx.A.KJ9x.KQ98x', 'K9.Kxx.AQT8x.xxx AJ8xxxx.J9x.xxx. x.QT8xxx.x.AJTxx QTx.A.KJ9x.KQ98x', '9.KQTxx.AQT.Txxx AJ8xxxx.J9x.xxx. Kx.8xxx.8xx.AJxx QTx.A.KJ9x.KQ98x', 'x.KT8xxx.AQx.xxx AJ8xxxx.J9x.xxx. K9.Qxx.T8x.AJTxx QTx.A.KJ9x.KQ98x', 'x.KQxxx.ATx.Jxxx AJ8xxxx.J9x.xxx. K9.T8xx.Q8x.ATxx QTx.A.KJ9x.KQ98x', '9.KQTxxx.Qx.Txxx AJ8xxxx.J9x.xxx. Kx.8xx.AT8x.AJxx QTx.A.KJ9x.KQ98x', 'K.Q8xx.AQT8x.xxx AJ8xxxx.J9x.xxx. 9x.KTxxx.x.AJTxx QTx.A.KJ9x.KQ98x', '9x.KQ8xx.ATxx.xx AJ8xxxx.J9x.xxx. K.Txxx.Q8.AJTxxx QTx.A.KJ9x.KQ98x', 'K9.KQ8xx.8xx.xxx AJ8xxxx.J9x.xxx. x.Txxx.AQT.AJTxx QTx.A.KJ9x.KQ98x', 'x.Kxxx.AQx.Txxxx AJ8xxxx.J9x.xxx. K9.QT8xx.T8x.AJx QTx.A.KJ9x.KQ98x', 'Kx.Qxxx.A8x.xxxx AJ8xxxx.J9x.xxx. 9.KT8xx.QTx.AJTx QTx.A.KJ9x.KQ98x', '9.KT8x.A8xx.xxxx AJ8xxxx.J9x.xxx. Kx.Qxxxx.QT.AJTx QTx.A.KJ9x.KQ98x', 'Kx.Q8xx.Ax.Jxxxx AJ8xxxx.J9x.xxx. 9.KTxxx.QT8x.ATx QTx.A.KJ9x.KQ98x', 'Kx.KQ8xx.QT.Jxxx AJ8xxxx.J9x.xxx. 9.Txxx.A8xx.ATxx QTx.A.KJ9x.KQ98x', 'K.8xxx.AQTx.Jxxx AJ8xxxx.J9x.xxx. 9x.KQTxx.8x.ATxx QTx.A.KJ9x.KQ98x', 'Kx.Q8xxx.AQ8.Jxx AJ8xxxx.J9x.xxx. 9.KTxx.Txx.ATxxx QTx.A.KJ9x.KQ98x', 'K.Txx.AQT8x.Txxx AJ8xxxx.J9x.xxx. 9x.KQ8xxx.x.AJxx QTx.A.KJ9x.KQ98x', 'K9.QTxxx.ATx.Txx AJ8xxxx.J9x.xxx. x.K8xx.Q8x.AJxxx QTx.A.KJ9x.KQ98x', 'Kx.KQ8x.8xx.Txxx AJ8xxxx.J9x.xxx. 9.Txxxx.AQT.AJxx QTx.A.KJ9x.KQ98x', 'K9x.8x.AQ8x.Jxxx AJ8xxxx.J9x.xxx. .KQTxxxx.Tx.ATxx QTx.A.KJ9x.KQ98x']} 23\n",
      "CA .\n",
      "{'card': 'CA', 'candidates': [{'card': 'CA', 'insta_score': 0.934091498323295, 'expected_tricks': 3.075, 'expected_score': -479.05}, {'card': 'CJ', 'insta_score': 0.03361126006539749, 'expected_tricks': 2.11, 'expected_score': -646.7}, {'card': 'C4', 'insta_score': 0.03229724161130752, 'expected_tricks': 2.11, 'expected_score': -646.7}, {'card': 'C7', 'insta_score': 0.03229724161130752, 'expected_tricks': 2.11, 'expected_score': -646.7}], 'samples': ['Tx.K.Q98xx.Q98xx AJ8xxxx.J9x.xxx. K9.Q8xxx.Tx.AJxx Qx.ATxx.AKJ.KTxx', 'QT.Tx.Q9x.KT8xxx AJ8xxxx.J9x.xxx. K9.Q8xxx.Tx.AJxx xx.AKx.AKJ8x.Q9x', 'xx.KTx.Q9xx.K8xx AJ8xxxx.J9x.xxx. K9.Q8xxx.Tx.AJxx QT.Ax.AKJ8.QT9xx', 'x.ATx.J98x.Q9xxx AJ8xxxx.J9x.xxx. K9.Q8xxx.Tx.AJxx QTx.Kx.AKQx.KT8x', 'x.Kx.QJ98x.Q8xxx AJ8xxxx.J9x.xxx. K9.Q8xxx.Tx.AJxx QTx.ATx.AKx.KT9x', 'Tx.Txx.AJx.KT8xx AJ8xxxx.J9x.xxx. K9.Q8xxx.Tx.AJxx Qx.AK.KQ98x.Q9xx', 'Tx.T.AQJ98.Q8xxx AJ8xxxx.J9x.xxx. K9.Q8xxx.Tx.AJxx Qx.AKxx.Kxx.KT9x', 'Tx.Kx.Q8x.QTxxxx AJ8xxxx.J9x.xxx. K9.Q8xxx.Tx.AJxx Qx.ATx.AKJ9x.K98', 'xx.Kx.Q9xx.QT8xx AJ8xxxx.J9x.xxx. K9.Q8xxx.Tx.AJxx QT.ATx.AKJ8.K9xx', 'Tx.Kx.A98.Q98xxx AJ8xxxx.J9x.xxx. K9.Q8xxx.Tx.AJxx Qx.ATx.KQJxx.KTx', 'Tx.Kx.KJ8.Q98xxx AJ8xxxx.J9x.xxx. K9.Q8xxx.Tx.AJxx Qx.ATx.AQ9xx.KTx', 'x.xx.AJ8x.KTxxxx AJ8xxxx.J9x.xxx. K9.Q8xxx.Tx.AJxx QTx.AKT.KQ9x.Q98', 'Qx.KTx.J9x.Q8xxx AJ8xxxx.J9x.xxx. K9.Q8xxx.Tx.AJxx Tx.Ax.AKQ8x.KT9x', 'T.KTx.K98x.QT8xx AJ8xxxx.J9x.xxx. K9.Q8xxx.Tx.AJxx Qxx.Ax.AQJx.K9xx', 'Qx.Tx.AJ98.Q9xxx AJ8xxxx.J9x.xxx. K9.Q8xxx.Tx.AJxx Tx.AKx.KQxx.KT8x', 'Q.Kx.J98x.Q98xxx AJ8xxxx.J9x.xxx. K9.Q8xxx.Tx.AJxx Txx.ATx.AKQx.KTx', '.Txx.AQ98.K98xxx AJ8xxxx.J9x.xxx. K9.Q8xxx.Tx.AJxx QTxx.AK.KJxx.QTx', 'Q.Txx.Q98x.K98xx AJ8xxxx.J9x.xxx. K9.Q8xxx.Tx.AJxx Txx.AK.AKJx.QTxx', 'Tx.Tx.AQ98x.QT8x AJ8xxxx.J9x.xxx. K9.Q8xxx.Tx.AJxx Qx.AKx.KJx.K9xxx', 'Tx.Ax.QJxx.Q8xxx AJ8xxxx.J9x.xxx. K9.Q8xxx.Tx.AJxx Qx.KTx.AK98.KT9x']} 24\n",
      "C6 .\n",
      "{'card': 'C6', 'candidates': [{'card': 'C6', 'insta_score': 0.6672162256391255, 'expected_tricks': 10.345, 'expected_score': 526.85}, {'card': 'C9', 'insta_score': 0.1752418027345108, 'expected_tricks': 10.345, 'expected_score': 526.85}, {'card': 'C8', 'insta_score': 0.1571676957910545, 'expected_tricks': 10.345, 'expected_score': 526.85}, {'card': 'CK', 'insta_score': 0.0, 'expected_tricks': 10.345, 'expected_score': 526.85}, {'card': 'CQ', 'insta_score': 0.0, 'expected_tricks': 10.345, 'expected_score': 526.85}], 'samples': ['9.QT8x.Qxx.Jxxxx AJ8xxxx.J9x.xxx. Kx.Kxxxx.AT8.ATx QTx.A.KJ9x.KQ98x', 'x.KQ8x.QT8x.Txxx AJ8xxxx.J9x.xxx. K9.Txxxx.Ax.AJxx QTx.A.KJ9x.KQ98x', 'Kx.Qxxxx.QTx.Txx AJ8xxxx.J9x.xxx. 9.KT8x.A8x.AJxxx QTx.A.KJ9x.KQ98x', 'K9.Qxxx.QT8.Jxxx AJ8xxxx.J9x.xxx. x.KT8xx.Axx.ATxx QTx.A.KJ9x.KQ98x', 'K.8xxx.T8.Jxxxxx AJ8xxxx.J9x.xxx. 9x.KQTxx.AQxx.AT QTx.A.KJ9x.KQ98x', 'K9x.K8x.Q8x.Txxx AJ8xxxx.J9x.xxx. .QTxxxx.ATx.AJxx QTx.A.KJ9x.KQ98x', 'K9.Kxxx.8x.Txxxx AJ8xxxx.J9x.xxx. x.QT8xx.AQTx.AJx QTx.A.KJ9x.KQ98x', 'x.8xxx.AT8x.xxxx AJ8xxxx.J9x.xxx. K9.KQTxx.Qx.AJTx QTx.A.KJ9x.KQ98x', 'K9.QTxx.AT8.xxxx AJ8xxxx.J9x.xxx. x.K8xxx.Qxx.AJTx QTx.A.KJ9x.KQ98x', '9.KTxx.AQTxx.xxx AJ8xxxx.J9x.xxx. Kx.Q8xxx.8.AJTxx QTx.A.KJ9x.KQ98x', 'K.KTxxx.AT8.Txxx AJ8xxxx.J9x.xxx. 9x.Q8xx.Qxx.AJxx QTx.A.KJ9x.KQ98x', '9x.T8xx.AQxx.xxx AJ8xxxx.J9x.xxx. K.KQxxx.T8.AJTxx QTx.A.KJ9x.KQ98x', 'x.QTxx.AT8x.xxxx AJ8xxxx.J9x.xxx. K9.K8xxx.Qx.AJTx QTx.A.KJ9x.KQ98x', 'Kx.QTxxx.A8x.Txx AJ8xxxx.J9x.xxx. 9.K8xx.QTx.AJxxx QTx.A.KJ9x.KQ98x', '9x.QTxx.Q8x.Jxxx AJ8xxxx.J9x.xxx. K.K8xxx.ATx.ATxx QTx.A.KJ9x.KQ98x', '9x.T8xxxx.Qx.Txx AJ8xxxx.J9x.xxx. K.KQx.AT8x.AJxxx QTx.A.KJ9x.KQ98x', '9x.KTxxx.Q.Txxxx AJ8xxxx.J9x.xxx. K.Q8xx.AT8xx.AJx QTx.A.KJ9x.KQ98x', 'x.KQTx.QT8x.Jxxx AJ8xxxx.J9x.xxx. K9.8xxxx.Ax.ATxx QTx.A.KJ9x.KQ98x', '.KQxxx.Txx.Jxxxx AJ8xxxx.J9x.xxx. K9x.T8xx.AQ8.ATx QTx.A.KJ9x.KQ98x', 'Kx.QT8xx.Ax.xxxx AJ8xxxx.J9x.xxx. 9.Kxxx.QT8x.AJTx QTx.A.KJ9x.KQ98x']} 31\n",
      "D6 .\n",
      "{'card': 'D6', 'candidates': [{'card': 'DT', 'insta_score': 0.62054733936319, 'expected_tricks': 1.85, 'expected_score': -524.45}, {'card': 'D6', 'insta_score': 0.010381889061110197, 'expected_tricks': 1.85, 'expected_score': -524.45}, {'card': 'H5', 'insta_score': 0.25651219330303, 'expected_tricks': 1.85, 'expected_score': -586.55}, {'card': 'H4', 'insta_score': 0.25651219330303, 'expected_tricks': 1.85, 'expected_score': -586.55}, {'card': 'H2', 'insta_score': 0.25651219330303, 'expected_tricks': 1.85, 'expected_score': -586.55}, {'card': 'H8', 'insta_score': 0.0, 'expected_tricks': 1.85, 'expected_score': -586.55}, {'card': 'HQ', 'insta_score': 0.0, 'expected_tricks': 1.825, 'expected_score': -587.3}, {'card': 'C4', 'insta_score': 0.09421492024276602, 'expected_tricks': 1.64, 'expected_score': -623.9}, {'card': 'C7', 'insta_score': 0.09421492024276602, 'expected_tricks': 1.64, 'expected_score': -623.9}, {'card': 'CJ', 'insta_score': 0.0, 'expected_tricks': 1.515, 'expected_score': -634.55}, {'card': 'S9', 'insta_score': 0.0, 'expected_tricks': 1.0, 'expected_score': -650.0}, {'card': 'SK', 'insta_score': 0.0, 'expected_tricks': 0.915, 'expected_score': -652.55}], 'samples': ['T.Tx.AJ98x.K98xx AJ8xxxx.J9x.xxx. K9.Q8xxx.Tx.AJxx Qxx.AKx.KQx.QTxx', 'Qx.Tx.KQ98.Q8xxx AJ8xxxx.J9x.xxx. K9.Q8xxx.Tx.AJxx Tx.AKx.AJxx.KT9x', 'xx.Tx.KQ8x.QT8xx AJ8xxxx.J9x.xxx. K9.Q8xxx.Tx.AJxx QT.AKx.AJ9x.K9xx', 'Qx.Txx.AJx.Q8xxx AJ8xxxx.J9x.xxx. K9.Q8xxx.Tx.AJxx Tx.AK.KQ98x.KT9x', 'Qx.T.AJ8xx.Q98xx AJ8xxxx.J9x.xxx. K9.Q8xxx.Tx.AJxx Tx.AKxx.KQ9.KTxx', 'Qx.Ax.98xx.QT8xx AJ8xxxx.J9x.xxx. K9.Q8xxx.Tx.AJxx Tx.KTx.AKQJ.K9xx', 'Qx.Tx.Q98x.KT8xx AJ8xxxx.J9x.xxx. K9.Q8xxx.Tx.AJxx Tx.AKx.AKJx.Q9xx', 'xx.ATx.J8x.KTxxx AJ8xxxx.J9x.xxx. K9.Q8xxx.Tx.AJxx QT.Kx.AKQ9x.Q98x', 'Tx.Txx.AJ8x.K8xx AJ8xxxx.J9x.xxx. K9.Q8xxx.Tx.AJxx Qx.AK.KQ9x.QT9xx', 'x.KTx.Q9x.K98xxx AJ8xxxx.J9x.xxx. K9.Q8xxx.Tx.AJxx QTx.Ax.AKJ8x.QTx', 'Qx.KTx.Q98x.QT8x AJ8xxxx.J9x.xxx. K9.Q8xxx.Tx.AJxx Tx.Ax.AKJx.K9xxx', 'Qx.K.J98xx.Q9xxx AJ8xxxx.J9x.xxx. K9.Q8xxx.Tx.AJxx Tx.ATxx.AKQ.KT8x', 'Qx.ATx.J8xx.QT8x AJ8xxxx.J9x.xxx. K9.Q8xxx.Tx.AJxx Tx.Kx.AKQ9.K9xxx', 'x.Kxx.Q98xx.Q8xx AJ8xxxx.J9x.xxx. K9.Q8xxx.Tx.AJxx QTx.AT.AKJ.KT9xx', 'T.Txx.AJx.Q98xxx AJ8xxxx.J9x.xxx. K9.Q8xxx.Tx.AJxx Qxx.AK.KQ98x.KTx', 'x.xx.AQJxx.QT8xx AJ8xxxx.J9x.xxx. K9.Q8xxx.Tx.AJxx QTx.AKT.K98.K9xx', 'T.Axx.QJ8x.QT8xx AJ8xxxx.J9x.xxx. K9.Q8xxx.Tx.AJxx Qxx.KT.AK9x.K9xx', 'Qx.KTx.Q8x.Q98xx AJ8xxxx.J9x.xxx. K9.Q8xxx.Tx.AJxx Tx.Ax.AKJ9x.KTxx', 'x.Axx.J98x.K98xx AJ8xxxx.J9x.xxx. K9.Q8xxx.Tx.AJxx QTx.KT.AKQx.QTxx', 'Qx.KTx.Jxx.KTxxx AJ8xxxx.J9x.xxx. K9.Q8xxx.Tx.AJxx Tx.Ax.AKQ98.Q98x']} 23\n",
      "DJ .\n",
      "{'card': 'DJ', 'candidates': [{'card': 'DJ', 'insta_score': 0.3119257912620864, 'expected_tricks': 10.1, 'expected_score': 471.2}, {'card': 'DK', 'insta_score': 0.15411039573963242, 'expected_tricks': 10.215, 'expected_score': 453.95}, {'card': 'D9', 'insta_score': 0.1141604774907745, 'expected_tricks': 9.845, 'expected_score': 404.9}, {'card': 'D4', 'insta_score': 0.4198033355075067, 'expected_tricks': 9.745, 'expected_score': 395.0}], 'samples': ['K.Q8xx.QTx.Jxxxx AJ8xxxx.J9x.xxx. 9x.KTxxx.A8x.ATx QTx.A.KJ9x.KQ98x', 'K9x.K8xxx.8.Jxxx AJ8xxxx.J9x.xxx. .QTxx.AQTxx.ATxx QTx.A.KJ9x.KQ98x', 'Kx.Kxx.AQT8x.xxx AJ8xxxx.J9x.xxx. 9.QT8xxx.x.AJTxx QTx.A.KJ9x.KQ98x', '9x.KT8x.AQx.Jxxx AJ8xxxx.J9x.xxx. K.Qxxxx.T8x.ATxx QTx.A.KJ9x.KQ98x', 'x.KTxx.QT8x.xxxx AJ8xxxx.J9x.xxx. K9.Q8xxx.Ax.AJTx QTx.A.KJ9x.KQ98x', '9.8xxx.Ax.Jxxxxx AJ8xxxx.J9x.xxx. Kx.KQTxx.QT8x.AT QTx.A.KJ9x.KQ98x', '9.QT8xx.AQT8.Txx AJ8xxxx.J9x.xxx. Kx.Kxxx.xx.AJxxx QTx.A.KJ9x.KQ98x', '9.K8xxx.AT.xxxxx AJ8xxxx.J9x.xxx. Kx.QTxx.Q8xx.AJT QTx.A.KJ9x.KQ98x', 'K9.Kxxx.Q8x.xxxx AJ8xxxx.J9x.xxx. x.QT8xx.ATx.AJTx QTx.A.KJ9x.KQ98x', 'x.KQT8x.Q8x.xxxx AJ8xxxx.J9x.xxx. K9.xxxx.ATx.AJTx QTx.A.KJ9x.KQ98x', 'K9.Q8xxx.AQ.xxxx AJ8xxxx.J9x.xxx. x.KTxx.T8xx.AJTx QTx.A.KJ9x.KQ98x', 'K.KT8x.Q8x.xxxxx AJ8xxxx.J9x.xxx. 9x.Qxxxx.ATx.AJT QTx.A.KJ9x.KQ98x', '9.Q8xxxx.AQT.Jxx AJ8xxxx.J9x.xxx. Kx.KTx.8xx.ATxxx QTx.A.KJ9x.KQ98x', 'K9.QTxxx.A8.Txxx AJ8xxxx.J9x.xxx. x.K8xx.QTxx.AJxx QTx.A.KJ9x.KQ98x', '9.K8xxx.ATx.Jxxx AJ8xxxx.J9x.xxx. Kx.QTxx.Q8x.ATxx QTx.A.KJ9x.KQ98x', 'K9x.KTxx.Q8x.Txx AJ8xxxx.J9x.xxx. .Q8xxx.ATx.AJxxx QTx.A.KJ9x.KQ98x', 'K.KT8xx.AQ.Txxxx AJ8xxxx.J9x.xxx. 9x.Qxxx.T8xx.AJx QTx.A.KJ9x.KQ98x', '9x.KQTxx.AQ.Jxxx AJ8xxxx.J9x.xxx. K.8xxx.T8xx.ATxx QTx.A.KJ9x.KQ98x', 'Kx.QTxxx.AQT.Jxx AJ8xxxx.J9x.xxx. 9.K8xx.8xx.ATxxx QTx.A.KJ9x.KQ98x', 'Kx.8xxxx.QT.Txxx AJ8xxxx.J9x.xxx. 9.KQTx.A8xx.AJxx QTx.A.KJ9x.KQ98x']} 19\n",
      "DQ .\n",
      "{'card': 'DQ', 'candidates': [{'card': 'DQ', 'insta_score': 0.9983029269120502, 'expected_tricks': 2.73, 'expected_score': -190.5}, {'card': 'DA', 'insta_score': 0.0, 'expected_tricks': 2.035, 'expected_score': -429.2}, {'card': 'D2', 'insta_score': 0.0, 'expected_tricks': 1.315, 'expected_score': -630.2}, {'card': 'D8', 'insta_score': 0.0, 'expected_tricks': 1.3, 'expected_score': -630.65}], 'samples': ['x.KTxx.AQ8x.Txxx AJ8xxxx.J9x.xxx. T9x.Q8x.9xx.AQJx KQ.Axx.KJT.K98xx', 'x.KTxx.AQ8x.Txxx AJ8xxxx.J9x.xxx. KT9.8xx.Txx.AJ98 Qx.AQx.KJ9.KQxxx', 'x.KTxx.AQ8x.Txxx AJ8xxxx.J9x.xxx. KT9.Qx.T9xx.AJ98 Qx.A8xx.KJ.KQxxx', 'x.KTxx.AQ8x.Txxx AJ8xxxx.J9x.xxx. Qx.Q8.T9xx.AQ98x KT9.Axxx.KJ.KJxx', 'x.KTxx.AQ8x.Txxx AJ8xxxx.J9x.xxx. QTx.Q8x.T9x.AQxx K9.Axx.KJx.KJ98x', 'x.KTxx.AQ8x.Txxx AJ8xxxx.J9x.xxx. QT9.xx.K9xx.AJ8x Kx.AQ8x.JT.KQ9xx', 'x.KTxx.AQ8x.Txxx AJ8xxxx.J9x.xxx. Q9.xx.9xx.AQJ98x KTx.AQ8x.KJT.Kxx', 'x.KTxx.AQ8x.Txxx AJ8xxxx.J9x.xxx. Tx.Qxx.T9x.AQJ98 KQ9.A8x.KJx.Kxxx', 'x.KTxx.AQ8x.Txxx AJ8xxxx.J9x.xxx. T9x.Q8x.KTx.AJxx KQ.Axx.J9x.KQ98x', 'x.KTxx.AQ8x.Txxx AJ8xxxx.J9x.xxx. Tx.Q8xx.T9x.AQJ8 KQ9.Ax.KJx.K9xxx', 'x.KTxx.AQ8x.Txxx AJ8xxxx.J9x.xxx. K9x.8xx.9xx.AQ9x QT.AQx.KJT.KJ8xx', 'x.KTxx.AQ8x.Txxx AJ8xxxx.J9x.xxx. Q9x.Q8x.9x.AQ9xx KT.Axx.KJTx.KJ8x', 'x.KTxx.AQ8x.Txxx AJ8xxxx.J9x.xxx. QT9.8x.Txx.AQ9xx Kx.AQxx.KJ9.KJ8x', 'x.KTxx.AQ8x.Txxx AJ8xxxx.J9x.xxx. T9x.Q8xx.x.AQJxx KQ.Ax.KJT9x.K98x', 'x.KTxx.AQ8x.Txxx AJ8xxxx.J9x.xxx. Tx.Q8x.T9x.AQJ8x KQ9.Axx.KJx.K9xx', 'x.KTxx.AQ8x.Txxx AJ8xxxx.J9x.xxx. QT9.8x.KTx.AJ8xx Kx.AQxx.J9x.KQ9x', 'x.KTxx.AQ8x.Txxx AJ8xxxx.J9x.xxx. QT.8xx.T9x.AQ9xx K9x.AQx.KJx.KJ8x', 'x.KTxx.AQ8x.Txxx AJ8xxxx.J9x.xxx. K9.8xx.Txx.AQ98x QTx.AQx.KJ9.KJxx', 'x.KTxx.AQ8x.Txxx AJ8xxxx.J9x.xxx. KT9.Q8x.9xx.AJ98 Qx.Axx.KJT.KQxxx', 'x.KTxx.AQ8x.Txxx AJ8xxxx.J9x.xxx. K9x.8x.T9xx.AQ98 QT.AQxx.KJ.KJxxx']} 18\n",
      "D5 .\n",
      "{'card': 'D5', 'candidates': [{'card': 'D5', 'insta_score': 1.0, 'expected_tricks': 9.75, 'expected_score': 426.2}, {'card': 'D7', 'insta_score': 1.0, 'expected_tricks': 9.75, 'expected_score': 426.2}], 'samples': ['K9x.Txxxx.AQ.Jxx AJ8xxxx.J9x.xxx. .KQ8x.T8xx.ATxxx QTx.A.KJ9x.KQ98x', 'x.KQxxx.AQT.Jxxx AJ8xxxx.J9x.xxx. K9.T8xx.8xx.ATxx QTx.A.KJ9x.KQ98x', 'K9x.Kxx.QT8.Txxx AJ8xxxx.J9x.xxx. .QT8xxx.Axx.AJxx QTx.A.KJ9x.KQ98x', 'K9.KT8xx.AQTx.xx AJ8xxxx.J9x.xxx. x.Qxxx.8x.AJTxxx QTx.A.KJ9x.KQ98x', 'K.8xxxx.QT8.Jxxx AJ8xxxx.J9x.xxx. 9x.KQTx.Axx.ATxx QTx.A.KJ9x.KQ98x', 'Kx.Txxx.AQT8.xxx AJ8xxxx.J9x.xxx. 9.KQ8xx.xx.AJTxx QTx.A.KJ9x.KQ98x', '.KQ8xx.Q8x.xxxxx AJ8xxxx.J9x.xxx. K9x.Txxx.ATx.AJT QTx.A.KJ9x.KQ98x', 'K9.T8xxx.Q8x.Txx AJ8xxxx.J9x.xxx. x.KQxx.ATx.AJxxx QTx.A.KJ9x.KQ98x', 'K9.8xxx.AQx.Txxx AJ8xxxx.J9x.xxx. x.KQTxx.T8x.AJxx QTx.A.KJ9x.KQ98x', 'Kx.Q8xxx.AQT8.xx AJ8xxxx.J9x.xxx. 9.KTxx.xx.AJTxxx QTx.A.KJ9x.KQ98x', 'K9x.KTxxx.Qx.xxx AJ8xxxx.J9x.xxx. .Q8xx.AT8x.AJTxx QTx.A.KJ9x.KQ98x', 'Kx.Txxx.AQ.Jxxxx AJ8xxxx.J9x.xxx. 9.KQ8xx.T8xx.ATx QTx.A.KJ9x.KQ98x', '.KT8xxx.AQ8.Txxx AJ8xxxx.J9x.xxx. K9x.Qxx.Txx.AJxx QTx.A.KJ9x.KQ98x', 'x.8xxxx.AQx.Txxx AJ8xxxx.J9x.xxx. K9.KQTx.T8x.AJxx QTx.A.KJ9x.KQ98x', 'x.K8x.AQT.Jxxxxx AJ8xxxx.J9x.xxx. K9.QTxxxx.8xx.AT QTx.A.KJ9x.KQ98x', 'K9x.K8xx.QTx.Txx AJ8xxxx.J9x.xxx. .QTxxx.A8x.AJxxx QTx.A.KJ9x.KQ98x', '9x.KTxx.AQx.Txxx AJ8xxxx.J9x.xxx. K.Q8xxx.T8x.AJxx QTx.A.KJ9x.KQ98x', '9.KT8xxx.Q.xxxxx AJ8xxxx.J9x.xxx. Kx.Qxx.AT8xx.AJT QTx.A.KJ9x.KQ98x', '9x.KTxxx.AQT.xxx AJ8xxxx.J9x.xxx. K.Q8xx.8xx.AJTxx QTx.A.KJ9x.KQ98x', '9.KTxx.AQT.xxxxx AJ8xxxx.J9x.xxx. Kx.Q8xxx.8xx.AJT QTx.A.KJ9x.KQ98x']} 23\n",
      "DA .\n",
      "{'card': 'DA', 'candidates': [{'card': 'DA', 'insta_score': 0.5861647030943834, 'expected_tricks': 1.8, 'expected_score': -177.3}, {'card': 'H3', 'insta_score': 0.07475271401237177, 'expected_tricks': 1.23, 'expected_score': -384.2}, {'card': 'H7', 'insta_score': 0.07475271401237177, 'expected_tricks': 1.225, 'expected_score': -384.35}, {'card': 'HT', 'insta_score': 0.010701990970763058, 'expected_tricks': 1.195, 'expected_score': -388.7}, {'card': 'S5', 'insta_score': 0.18750793662851614, 'expected_tricks': 1.125, 'expected_score': -412.0}, {'card': 'HK', 'insta_score': 0.0, 'expected_tricks': 1.085, 'expected_score': -429.95}, {'card': 'D2', 'insta_score': 0.0590226431010415, 'expected_tricks': 1.055, 'expected_score': -435.15}, {'card': 'D8', 'insta_score': 0.0, 'expected_tricks': 0.985, 'expected_score': -451.05}, {'card': 'C5', 'insta_score': 0.06364504044402744, 'expected_tricks': 0.87, 'expected_score': -489.35}, {'card': 'C3', 'insta_score': 0.06364504044402744, 'expected_tricks': 0.87, 'expected_score': -489.35}, {'card': 'CT', 'insta_score': 0.0, 'expected_tricks': 0.87, 'expected_score': -489.35}], 'samples': ['x.KTxx.AQ8x.Txxx AJ8xxxx.J9x.xxx. Q9.Axxx.9xx.A8xx KTx.Q8.KJT.KQJ9x', 'x.KTxx.AQ8x.Txxx AJ8xxxx.J9x.xxx. Qx.Q8xx.xx.A98xx KT9.Ax.KJT9.KQJx', 'x.KTxx.AQ8x.Txxx AJ8xxxx.J9x.xxx. KT.xx.9xx.AQJ98x Q9x.AQ8x.KJT.Kxx', 'x.KTxx.AQ8x.Txxx AJ8xxxx.J9x.xxx. Q9x.Qxx.Txx.A9xx KT.A8x.KJ9.KQJ8x', 'x.KTxx.AQ8x.Txxx AJ8xxxx.J9x.xxx. T9.Q8x.T9xx.AQJ9 KQx.Axx.KJ.K8xxx', 'x.KTxx.AQ8x.Txxx AJ8xxxx.J9x.xxx. Q9x.8x.9xx.AQJ8x KT.AQxx.KJT.K9xx', 'x.KTxx.AQ8x.Txxx AJ8xxxx.J9x.xxx. T9.xxx.KTx.AJ9xx KQx.AQ8.J9x.KQ8x', 'x.KTxx.AQ8x.Txxx AJ8xxxx.J9x.xxx. 9.Q8xx.xx.AQJ8xx KQTx.Ax.KJT9.K9x', 'x.KTxx.AQ8x.Txxx AJ8xxxx.J9x.xxx. T9x.Q8xx.9x.AQ8x KQ.Ax.KJTx.KJ9xx', 'x.KTxx.AQ8x.Txxx AJ8xxxx.J9x.xxx. Tx.Q8xx.9xx.AQJ9 KQ9.Ax.KJT.K8xxx', 'x.KTxx.AQ8x.Txxx AJ8xxxx.J9x.xxx. Q.8xx.KTxx.A98xx KT9x.AQx.J9.KQJx', 'x.KTxx.AQ8x.Txxx AJ8xxxx.J9x.xxx. QT9.Q8xx.9x.AJ9x Kx.Ax.KJTx.KQ8xx', 'x.KTxx.AQ8x.Txxx AJ8xxxx.J9x.xxx. Tx.Q8x.T9x.AQ98x KQ9.Axx.KJx.KJxx', 'x.KTxx.AQ8x.Txxx AJ8xxxx.J9x.xxx. QT.Q8x.T9xx.AQxx K9x.Axx.KJ.KJ98x', 'x.KTxx.AQ8x.Txxx AJ8xxxx.J9x.xxx. T9.Axxx.9xx.AJxx KQx.Q8.KJT.KQ98x', 'x.KTxx.AQ8x.Txxx AJ8xxxx.J9x.xxx. T9x.Q8xx.xx.AQJx KQ.Ax.KJT9.K98xx', 'x.KTxx.AQ8x.Txxx AJ8xxxx.J9x.xxx. Q9x.Q8.T9xx.AJ9x KT.Axxx.KJ.KQ8xx', 'x.KTxx.AQ8x.Txxx AJ8xxxx.J9x.xxx. QT.Q8x.Txx.AQ8xx K9x.Axx.KJ9.KJ9x', 'x.KTxx.AQ8x.Txxx AJ8xxxx.J9x.xxx. Tx.Qxxx.9x.AQJxx KQ9.A8.KJTx.K98x', 'x.KTxx.AQ8x.Txxx AJ8xxxx.J9x.xxx. Q9x.8xx.9xx.AQJx KT.AQx.KJT.K98xx']} 16\n",
      "D7 .\n",
      "{'card': 'D7', 'candidates': [{'card': 'D7', 'insta_score': 1.0, 'expected_tricks': -2.0, 'expected_score': 0.0}], 'samples': ['K9.xxxx.AQx.Txxx AJ8xxxx.J9x.xxx. x.KQT8x.T8x.AJxx QTx.A.KJ9x.KQ98x', 'Kx.KQ8x.AQx.Jxxx AJ8xxxx.J9x.xxx. 9.Txxxx.T8x.ATxx QTx.A.KJ9x.KQ98x', 'K9x.xxx.AQT.Jxxx AJ8xxxx.J9x.xxx. .KQT8xx.8xx.ATxx QTx.A.KJ9x.KQ98x', 'K9.Qxxx.AQT8.xxx AJ8xxxx.J9x.xxx. x.KT8xx.xx.AJTxx QTx.A.KJ9x.KQ98x', 'K.Qxx.AQT8.Jxxxx AJ8xxxx.J9x.xxx. 9x.KT8xxx.xx.ATx QTx.A.KJ9x.KQ98x', '.QT8xx.AQx.Jxxxx AJ8xxxx.J9x.xxx. K9x.Kxxx.T8x.ATx QTx.A.KJ9x.KQ98x', '9.KQT8x.AQx.Txxx AJ8xxxx.J9x.xxx. Kx.xxxx.T8x.AJxx QTx.A.KJ9x.KQ98x', 'K9x.Q8x.AQx.Txxx AJ8xxxx.J9x.xxx. .KTxxxx.T8x.AJxx QTx.A.KJ9x.KQ98x', 'K9.T8xx.AQT8.Jxx AJ8xxxx.J9x.xxx. x.KQxxx.xx.ATxxx QTx.A.KJ9x.KQ98x', 'K.Q8xx.AQT8.Jxxx AJ8xxxx.J9x.xxx. 9x.KTxxx.xx.ATxx QTx.A.KJ9x.KQ98x', 'Kx.Q8xxx.AQT.xxx AJ8xxxx.J9x.xxx. 9.KTxx.8xx.AJTxx QTx.A.KJ9x.KQ98x', '9.KQ8xx.AQT.Jxxx AJ8xxxx.J9x.xxx. Kx.Txxx.8xx.ATxx QTx.A.KJ9x.KQ98x', 'Kx.QTxx.AQ.Txxxx AJ8xxxx.J9x.xxx. 9.K8xxx.T8xx.AJx QTx.A.KJ9x.KQ98x', 'x.Kxxxx.AQ.Txxxx AJ8xxxx.J9x.xxx. K9.QT8x.T8xx.AJx QTx.A.KJ9x.KQ98x', 'K.KQ8xx.AQ8.Jxxx AJ8xxxx.J9x.xxx. 9x.Txxx.Txx.ATxx QTx.A.KJ9x.KQ98x', '9.K8xx.AQT8x.xxx AJ8xxxx.J9x.xxx. Kx.QTxxx.x.AJTxx QTx.A.KJ9x.KQ98x', 'K9.QT8xx.AQ.Jxxx AJ8xxxx.J9x.xxx. x.Kxxx.T8xx.ATxx QTx.A.KJ9x.KQ98x', 'x.KQxxx.AQ8.Txxx AJ8xxxx.J9x.xxx. K9.T8xx.Txx.AJxx QTx.A.KJ9x.KQ98x', 'K.KQT8.AQT.Txxxx AJ8xxxx.J9x.xxx. 9x.xxxxx.8xx.AJx QTx.A.KJ9x.KQ98x', '9.KTxx.AQT8.Jxxx AJ8xxxx.J9x.xxx. Kx.Q8xxx.xx.ATxx QTx.A.KJ9x.KQ98x']} 23\n",
      "DT .\n",
      "{'card': 'DT', 'candidates': [{'card': 'DT', 'insta_score': 1.0, 'expected_tricks': -2.0, 'expected_score': 0.0}], 'samples': ['Tx.Tx.AQ98x.QTxx AJ8xxxx.J9x.xxx. K9.Q8xxx.Tx.AJxx Qx.AKx.KJx.K98xx', 'x.Tx.AQ98x.K98xx AJ8xxxx.J9x.xxx. K9.Q8xxx.Tx.AJxx QTx.AKx.KJx.QTxx', 'T.Txx.AQ9xx.QTxx AJ8xxxx.J9x.xxx. K9.Q8xxx.Tx.AJxx Qxx.AK.KJ8.K98xx', 'Tx.T.AQ98x.Q98xx AJ8xxxx.J9x.xxx. K9.Q8xxx.Tx.AJxx Qx.AKxx.KJx.KTxx', 'T.Tx.AQ98.KT8xxx AJ8xxxx.J9x.xxx. K9.Q8xxx.Tx.AJxx Qxx.AKx.KJxx.Q9x', 'Tx.Tx.AQ8x.QT8xx AJ8xxxx.J9x.xxx. K9.Q8xxx.Tx.AJxx Qx.AKx.KJ9x.K9xx', 'xx.Tx.AQ98.Q98xx AJ8xxxx.J9x.xxx. K9.Q8xxx.Tx.AJxx QT.AKx.KJxx.KTxx', 'Tx.x.AQ9xx.Q98xx AJ8xxxx.J9x.xxx. K9.Q8xxx.Tx.AJxx Qx.AKTx.KJ8.KTxx', 'Tx.xx.AQ98.KT8xx AJ8xxxx.J9x.xxx. K9.Q8xxx.Tx.AJxx Qx.AKT.KJxx.Q9xx', 'Tx.Tx.AQ98x.Q8xx AJ8xxxx.J9x.xxx. K9.Q8xxx.Tx.AJxx Qx.AKx.KJx.KT9xx', 'xx.xx.AQ8x.Q98xx AJ8xxxx.J9x.xxx. K9.Q8xxx.Tx.AJxx QT.AKT.KJ9x.KTxx', 'T.Txx.AQ8xx.QTxx AJ8xxxx.J9x.xxx. K9.Q8xxx.Tx.AJxx Qxx.AK.KJ9.K98xx', 'Tx.Tx.AQ8xx.Q9xx AJ8xxxx.J9x.xxx. K9.Q8xxx.Tx.AJxx Qx.AKx.KJ9.KT8xx', 'Tx.x.AQ98x.KT8xx AJ8xxxx.J9x.xxx. K9.Q8xxx.Tx.AJxx Qx.AKTx.KJx.Q9xx', 'Tx.Tx.AQ98x.Qxxx AJ8xxxx.J9x.xxx. K9.Q8xxx.Tx.AJxx Qx.AKx.KJx.KT98x', 'x.Tx.AQ98x.KT8xx AJ8xxxx.J9x.xxx. K9.Q8xxx.Tx.AJxx QTx.AKx.KJx.Q9xx', 'Tx.Tx.AQxx.QT8xx AJ8xxxx.J9x.xxx. K9.Q8xxx.Tx.AJxx Qx.AKx.KJ98.K9xx', '.Txx.AQ9xx.K8xxx AJ8xxxx.J9x.xxx. K9.Q8xxx.Tx.AJxx QTxx.AK.KJ8.QT9x', 'QT.Tx.AQ98x.Txxx AJ8xxxx.J9x.xxx. K9.Q8xxx.Tx.AJxx xx.AKx.KJx.KQ98x', 'x.Txx.AQ98.K9xxx AJ8xxxx.J9x.xxx. K9.Q8xxx.Tx.AJxx QTx.AK.KJxx.QT8x']} 20\n",
      "D4 .\n",
      "{'card': 'D4', 'candidates': [{'card': 'D4', 'insta_score': 0.7410910206710621, 'expected_tricks': 9.725, 'expected_score': 422.0}, {'card': 'D9', 'insta_score': 0.24811345160295076, 'expected_tricks': 9.725, 'expected_score': 422.0}, {'card': 'DK', 'insta_score': 0.010795527725987075, 'expected_tricks': 9.725, 'expected_score': 422.0}], 'samples': ['x.KQ8x.AQ8.Txxxx AJ8xxxx.J9x.xxx. K9.Txxxx.Txx.AJx QTx.A.KJ9x.KQ98x', 'K9x.QTxx.AQx.xxx AJ8xxxx.J9x.xxx. .K8xxx.T8x.AJTxx QTx.A.KJ9x.KQ98x', 'K9x.KTxx.AQ8.Txx AJ8xxxx.J9x.xxx. .Q8xxx.Txx.AJxxx QTx.A.KJ9x.KQ98x', 'K9x.QTx.AQ8.Txxx AJ8xxxx.J9x.xxx. .K8xxxx.Txx.AJxx QTx.A.KJ9x.KQ98x', 'Kx.8xxx.AQx.xxxx AJ8xxxx.J9x.xxx. 9.KQTxx.T8x.AJTx QTx.A.KJ9x.KQ98x', 'x.KT8xx.AQx.Jxxx AJ8xxxx.J9x.xxx. K9.Qxxx.T8x.ATxx QTx.A.KJ9x.KQ98x', 'K9.xxx.AQx.Txxxx AJ8xxxx.J9x.xxx. x.KQT8xx.T8x.AJx QTx.A.KJ9x.KQ98x', 'K9.KQ8x.AQx.Jxxx AJ8xxxx.J9x.xxx. x.Txxxx.T8x.ATxx QTx.A.KJ9x.KQ98x', 'K.QT8xx.AQx.Txxx AJ8xxxx.J9x.xxx. 9x.Kxxx.T8x.AJxx QTx.A.KJ9x.KQ98x', 'x.KT8xx.AQ8.Txxx AJ8xxxx.J9x.xxx. K9.Qxxx.Txx.AJxx QTx.A.KJ9x.KQ98x', '9.K8xxx.AQx.Jxxx AJ8xxxx.J9x.xxx. Kx.QTxx.T8x.ATxx QTx.A.KJ9x.KQ98x', 'x.KTxxx.AQ8.Jxxx AJ8xxxx.J9x.xxx. K9.Q8xx.Txx.ATxx QTx.A.KJ9x.KQ98x', 'K9.Kxxx.AQ8x.Jxx AJ8xxxx.J9x.xxx. x.QT8xx.Tx.ATxxx QTx.A.KJ9x.KQ98x', 'K9x.8xx.AQ8.Jxxx AJ8xxxx.J9x.xxx. .KQTxxx.Txx.ATxx QTx.A.KJ9x.KQ98x', 'K9.QTx.AQx.Jxxxx AJ8xxxx.J9x.xxx. x.K8xxxx.T8x.ATx QTx.A.KJ9x.KQ98x', 'x.KTxxx.AQx.xxxx AJ8xxxx.J9x.xxx. K9.Q8xx.T8x.AJTx QTx.A.KJ9x.KQ98x', '9x.KT8xx.AQx.Txx AJ8xxxx.J9x.xxx. K.Qxxx.T8x.AJxxx QTx.A.KJ9x.KQ98x', 'K.Qxxx.AQ8.Jxxxx AJ8xxxx.J9x.xxx. 9x.KT8xx.Txx.ATx QTx.A.KJ9x.KQ98x', '9.QT8xxx.AQx.xxx AJ8xxxx.J9x.xxx. Kx.Kxx.T8x.AJTxx QTx.A.KJ9x.KQ98x', 'Kx.K8xx.AQ8.Jxxx AJ8xxxx.J9x.xxx. 9.QTxxx.Txx.ATxx QTx.A.KJ9x.KQ98x']} 23\n",
      "D8 .\n",
      "{'card': 'D8', 'candidates': [{'card': 'S5', 'insta_score': 0.35594498389754453, 'expected_tricks': 0.375, 'expected_score': -350.0}, {'card': 'D8', 'insta_score': 0.19536471184304943, 'expected_tricks': 0.375, 'expected_score': -350.0}, {'card': 'D2', 'insta_score': 0.03588899809032102, 'expected_tricks': 0.375, 'expected_score': -350.0}, {'card': 'C3', 'insta_score': 0.1522604926981995, 'expected_tricks': 0.25, 'expected_score': -440.0}, {'card': 'C5', 'insta_score': 0.1522604926981995, 'expected_tricks': 0.25, 'expected_score': -440.0}, {'card': 'CT', 'insta_score': 0.0, 'expected_tricks': 0.25, 'expected_score': -440.0}, {'card': 'H7', 'insta_score': 0.2360000848763186, 'expected_tricks': 0.09375, 'expected_score': -552.5}, {'card': 'H3', 'insta_score': 0.2360000848763186, 'expected_tricks': 0.09375, 'expected_score': -552.5}, {'card': 'HK', 'insta_score': 0.014090256885186404, 'expected_tricks': 0.09375, 'expected_score': -552.5}, {'card': 'HT', 'insta_score': 0.0, 'expected_tricks': 0.09375, 'expected_score': -552.5}], 'samples': ['x.KTxx.AQ8x.Txxx AJ8xxxx.J9x.xxx. T.Q8xx.KTx.AJ9xx KQ9x.Ax.J9x.KQ8x', 'x.KTxx.AQ8x.Txxx AJ8xxxx.J9x.xxx. T9x.xx.KTx.AQJ8x KQ.AQ8x.J9x.K9xx', 'x.KTxx.AQ8x.Txxx AJ8xxxx.J9x.xxx. T9x.Qxx.KTx.A8xx KQ.A8x.J9x.KQJ9x', 'x.KTxx.AQ8x.Txxx AJ8xxxx.J9x.xxx. Q.Qxxx.Tx.AQ98xx KT9x.A8.KJ9x.KJx', 'x.KTxx.AQ8x.Txxx AJ8xxxx.J9x.xxx. QTx.xx.KTx.AJ98x K9.AQ8x.J9x.KQxx', 'x.KTxx.AQ8x.Txxx AJ8xxxx.J9x.xxx. T.8xxx.KTx.AQ9xx KQ9x.AQ.J9x.KJ8x', 'x.KTxx.AQ8x.Txxx AJ8xxxx.J9x.xxx. 9x.8xx.KTx.AJ98x KQT.AQx.J9x.KQxx', 'x.KTxx.AQ8x.Txxx AJ8xxxx.J9x.xxx. Tx.8xx.KTx.AQJ8x KQ9.AQx.J9x.K9xx', 'x.KTxx.AQ8x.Txxx AJ8xxxx.J9x.xxx. 9x.Q8xx.KTx.AJ98 KQT.Ax.J9x.KQxxx', 'x.KTxx.AQ8x.Txxx AJ8xxxx.J9x.xxx. 9.8xx.KTx.AQJ8xx KQTx.AQx.J9x.K9x', 'x.KTxx.AQ8x.Txxx AJ8xxxx.J9x.xxx. Tx.Qxx.KTx.AJ98x KQ9.A8x.J9x.KQxx', 'x.KTxx.AQ8x.Txxx AJ8xxxx.J9x.xxx. T9.8xx.KTx.AQ98x KQx.AQx.J9x.KJxx', 'x.KTxx.AQ8x.Txxx AJ8xxxx.J9x.xxx. 9x.Q8x.KTx.AJ8xx KQT.Axx.J9x.KQ9x', 'x.KTxx.AQ8x.Txxx AJ8xxxx.J9x.xxx. 9.Qxxx.KTx.AJ8xx KQTx.A8.J9x.KQ9x', 'x.KTxx.AQ8x.Txxx AJ8xxxx.J9x.xxx. Tx.Q8xx.KTx.AJ8x KQ9.Ax.J9x.KQ9xx', 'x.KTxx.AQ8x.Txxx AJ8xxxx.J9x.xxx. 9.8xx.KTx.AJ98xx KQTx.AQx.J9x.KQx', 'x.KTxx.AQ8x.Txxx AJ8xxxx.J9x.xxx. T9x.8xx.KTx.AQ98 KQ.AQx.J9x.KJxxx', 'x.KTxx.AQ8x.Txxx AJ8xxxx.J9x.xxx. QTx.8xx.KTx.A9xx K9.AQx.J9x.KQJ8x', 'x.KTxx.AQ8x.Txxx AJ8xxxx.J9x.xxx. 9x.8x.KTx.AQJ9xx KQT.AQxx.J9x.K8x', 'x.KTxx.AQ8x.Txxx AJ8xxxx.J9x.xxx. 9x.xxx.KTx.AQ98x KQT.AQ8.J9x.KJxx']} 22\n",
      "H6 .\n",
      "{'card': 'H6', 'candidates': [{'card': 'S6', 'insta_score': 0.3100856107685637, 'expected_tricks': 9.665, 'expected_score': 378.8}, {'card': 'S7', 'insta_score': 0.3100856107685637, 'expected_tricks': 9.665, 'expected_score': 378.8}, {'card': 'S8', 'insta_score': 0.010744770899186695, 'expected_tricks': 9.665, 'expected_score': 378.8}, {'card': 'H6', 'insta_score': 0.6553374878960073, 'expected_tricks': 9.64, 'expected_score': 360.8}, {'card': 'S3', 'insta_score': 0.3100856107685637, 'expected_tricks': 9.64, 'expected_score': 360.8}, {'card': 'S2', 'insta_score': 0.3100856107685637, 'expected_tricks': 9.64, 'expected_score': 360.8}, {'card': 'HJ', 'insta_score': 0.0, 'expected_tricks': 9.64, 'expected_score': 360.8}, {'card': 'H9', 'insta_score': 0.0, 'expected_tricks': 9.64, 'expected_score': 360.8}, {'card': 'SJ', 'insta_score': 0.02079151786409659, 'expected_tricks': 9.595, 'expected_score': 328.4}, {'card': 'SA', 'insta_score': 0.0, 'expected_tricks': 9.0, 'expected_score': -100.0}], 'samples': ['x.KTxxx.AQ8.xxxx AJ8xxxx.J9x.xxx. K9.Q8xx.Txx.AJTx QTx.A.KJ9x.KQ98x', 'Kx.QTxxxx.AQ8.xx AJ8xxxx.J9x.xxx. 9.K8x.Txx.AJTxxx QTx.A.KJ9x.KQ98x', '9.Q8xxx.AQ8.Jxxx AJ8xxxx.J9x.xxx. Kx.KTxx.Txx.ATxx QTx.A.KJ9x.KQ98x', 'x.KTxxx.AQ8.Txxx AJ8xxxx.J9x.xxx. K9.Q8xx.Txx.AJxx QTx.A.KJ9x.KQ98x', '9x.Qxx.AQ8.Jxxxx AJ8xxxx.J9x.xxx. K.KT8xxx.Txx.ATx QTx.A.KJ9x.KQ98x', 'Kx.K8xx.AQ8.Jxxx AJ8xxxx.J9x.xxx. 9.QTxxx.Txx.ATxx QTx.A.KJ9x.KQ98x', '9x.Kxxxx.AQ8.Jxx AJ8xxxx.J9x.xxx. K.QT8x.Txx.ATxxx QTx.A.KJ9x.KQ98x', 'Kx.8xxx.AQ8.xxxx AJ8xxxx.J9x.xxx. 9.KQTxx.Txx.AJTx QTx.A.KJ9x.KQ98x', 'x.QT8x.AQ8.Jxxxx AJ8xxxx.J9x.xxx. K9.Kxxxx.Txx.ATx QTx.A.KJ9x.KQ98x', 'x.K8xxx.AQ8.Txxx AJ8xxxx.J9x.xxx. K9.QTxx.Txx.AJxx QTx.A.KJ9x.KQ98x', '9x.QT8xx.AQ8.xxx AJ8xxxx.J9x.xxx. K.Kxxx.Txx.AJTxx QTx.A.KJ9x.KQ98x', 'K9.T8xxx.AQ8.Jxx AJ8xxxx.J9x.xxx. x.KQxx.Txx.ATxxx QTx.A.KJ9x.KQ98x', '.K8xxx.AQ8.Jxxxx AJ8xxxx.J9x.xxx. K9x.QTxx.Txx.ATx QTx.A.KJ9x.KQ98x', 'Kx.Tx.AQ8.Txxxxx AJ8xxxx.J9x.xxx. 9.KQ8xxxx.Txx.AJ QTx.A.KJ9x.KQ98x', 'Kx.T8xx.AQ8.xxxx AJ8xxxx.J9x.xxx. 9.KQxxx.Txx.AJTx QTx.A.KJ9x.KQ98x', 'Kx.Qxxx.AQ8.Txxx AJ8xxxx.J9x.xxx. 9.KT8xx.Txx.AJxx QTx.A.KJ9x.KQ98x', '9x.Q8xxx.AQ8.Jxx AJ8xxxx.J9x.xxx. K.KTxx.Txx.ATxxx QTx.A.KJ9x.KQ98x', '9.T8xx.AQ8.Txxxx AJ8xxxx.J9x.xxx. Kx.KQxxx.Txx.AJx QTx.A.KJ9x.KQ98x', 'K.QT8xx.AQ8.Txxx AJ8xxxx.J9x.xxx. 9x.Kxxx.Txx.AJxx QTx.A.KJ9x.KQ98x', 'K9x.xx.AQ8.Txxxx AJ8xxxx.J9x.xxx. .KQT8xxx.Txx.AJx QTx.A.KJ9x.KQ98x']} 15\n",
      "H2 .\n",
      "{'card': 'H2', 'candidates': [{'card': 'S9', 'insta_score': 0.7544243980459757, 'expected_tricks': 1.015, 'expected_score': 101.5}, {'card': 'H5', 'insta_score': 0.11834570187536574, 'expected_tricks': 1.0, 'expected_score': 100.0}, {'card': 'H4', 'insta_score': 0.11834570187536574, 'expected_tricks': 1.0, 'expected_score': 100.0}, {'card': 'H2', 'insta_score': 0.11834570187536574, 'expected_tricks': 1.0, 'expected_score': 100.0}, {'card': 'C4', 'insta_score': 0.07005865916179489, 'expected_tricks': 1.0, 'expected_score': 100.0}, {'card': 'C7', 'insta_score': 0.07005865916179489, 'expected_tricks': 1.0, 'expected_score': 100.0}, {'card': 'H8', 'insta_score': 0.03515199548875657, 'expected_tricks': 1.0, 'expected_score': 100.0}, {'card': 'SK', 'insta_score': 0.021895018478255163, 'expected_tricks': 1.0, 'expected_score': 100.0}, {'card': 'CJ', 'insta_score': 0.0, 'expected_tricks': 1.0, 'expected_score': 100.0}, {'card': 'HQ', 'insta_score': 0.0, 'expected_tricks': 1.0, 'expected_score': 100.0}], 'samples': ['x.Txx.AQ8x.QTxxx AJ8xxxx.J9x.xxx. K9.Q8xxx.Tx.AJxx QTx.AK.KJ9x.K98x', 'x.Txx.AQ8x.Q98xx AJ8xxxx.J9x.xxx. K9.Q8xxx.Tx.AJxx QTx.AK.KJ9x.KTxx', 'Tx.Txx.AQ98.Q8xx AJ8xxxx.J9x.xxx. K9.Q8xxx.Tx.AJxx Qx.AK.KJxx.KT9xx', 'T.Tx.AQ98x.QT8xx AJ8xxxx.J9x.xxx. K9.Q8xxx.Tx.AJxx Qxx.AKx.KJx.K9xx', 'xx.Tx.AQ98.Q8xxx AJ8xxxx.J9x.xxx. K9.Q8xxx.Tx.AJxx QT.AKx.KJxx.KT9x', 'Tx.Txx.AQ8x.Q98x AJ8xxxx.J9x.xxx. K9.Q8xxx.Tx.AJxx Qx.AK.KJ9x.KTxxx', 'T.Txx.AQ8x.QT8xx AJ8xxxx.J9x.xxx. K9.Q8xxx.Tx.AJxx Qxx.AK.KJ9x.K9xx', 'Tx.Tx.AQ98.K98xx AJ8xxxx.J9x.xxx. K9.Q8xxx.Tx.AJxx Qx.AKx.KJxx.QTxx', 'xx.Txx.AQ8.QT8xx AJ8xxxx.J9x.xxx. K9.Q8xxx.Tx.AJxx QT.AK.KJ9xx.K9xx', 'T.Tx.AQ98x.Q98xx AJ8xxxx.J9x.xxx. K9.Q8xxx.Tx.AJxx Qxx.AKx.KJx.KTxx', 'Tx.Tx.AQ8x.QT8xx AJ8xxxx.J9x.xxx. K9.Q8xxx.Tx.AJxx Qx.AKx.KJ9x.K9xx', 'Tx.xx.AQ98.Q9xxx AJ8xxxx.J9x.xxx. K9.Q8xxx.Tx.AJxx Qx.AKT.KJxx.KT8x', 'x.Txx.AQ98.Q9xxx AJ8xxxx.J9x.xxx. K9.Q8xxx.Tx.AJxx QTx.AK.KJxx.KT8x', 'Tx.T.AQ8x.Q98xxx AJ8xxxx.J9x.xxx. K9.Q8xxx.Tx.AJxx Qx.AKxx.KJ9x.KTx', 'x.Tx.AQ98.QT8xxx AJ8xxxx.J9x.xxx. K9.Q8xxx.Tx.AJxx QTx.AKx.KJxx.K9x', 'Tx.x.AQ8x.Q98xxx AJ8xxxx.J9x.xxx. K9.Q8xxx.Tx.AJxx Qx.AKTx.KJ9x.KTx', 'Tx.Tx.AQ8.Q98xxx AJ8xxxx.J9x.xxx. K9.Q8xxx.Tx.AJxx Qx.AKx.KJ9xx.KTx', 'Tx.Tx.AQ8x.Q8xxx AJ8xxxx.J9x.xxx. K9.Q8xxx.Tx.AJxx Qx.AKx.KJ9x.KT9x', 'Tx.Tx.AQ8x.QT8xx AJ8xxxx.J9x.xxx. K9.Q8xxx.Tx.AJxx Qx.AKx.KJ9x.K9xx', 'xx.Tx.AQ98.QT8xx AJ8xxxx.J9x.xxx. K9.Q8xxx.Tx.AJxx QT.AKx.KJxx.K9xx']} 15\n",
      "D9 .\n",
      "{'card': 'D9', 'candidates': [{'card': 'D9', 'insta_score': 0.631351497760219, 'expected_tricks': -2.0, 'expected_score': 0.0}, {'card': 'DK', 'insta_score': 0.368648502239781, 'expected_tricks': -2.0, 'expected_score': 0.0}], 'samples': ['9x.K8x.AQ8x.Jxxx AJ8xxxx.J9x.xxx. K.QTxxxx.Tx.ATxx QTx.A.KJ9x.KQ98x', 'K9.Q8x.AQ8x.Jxxx AJ8xxxx.J9x.xxx. x.KTxxxx.Tx.ATxx QTx.A.KJ9x.KQ98x', '9x.KQ.AQ8x.Jxxxx AJ8xxxx.J9x.xxx. K.T8xxxxx.Tx.ATx QTx.A.KJ9x.KQ98x', '9x.KQxx.AQ8x.Jxx AJ8xxxx.J9x.xxx. K.T8xxx.Tx.ATxxx QTx.A.KJ9x.KQ98x', '9x.KT8x.AQ8x.Jxx AJ8xxxx.J9x.xxx. K.Qxxxx.Tx.ATxxx QTx.A.KJ9x.KQ98x', '9x.KQ8x.AQ8x.Jxx AJ8xxxx.J9x.xxx. K.Txxxx.Tx.ATxxx QTx.A.KJ9x.KQ98x', '9x.KTxx.AQ8x.Jxx AJ8xxxx.J9x.xxx. K.Q8xxx.Tx.ATxxx QTx.A.KJ9x.KQ98x', '9x.K8xx.AQ8x.Jxx AJ8xxxx.J9x.xxx. K.QTxxx.Tx.ATxxx QTx.A.KJ9x.KQ98x', '9x.KQx.AQ8x.Jxxx AJ8xxxx.J9x.xxx. K.T8xxxx.Tx.ATxx QTx.A.KJ9x.KQ98x', '9x.Q8x.AQ8x.Jxxx AJ8xxxx.J9x.xxx. K.KTxxxx.Tx.ATxx QTx.A.KJ9x.KQ98x', '9x.Q8x.AQ8x.Jxxx AJ8xxxx.J9x.xxx. K.KTxxxx.Tx.ATxx QTx.A.KJ9x.KQ98x', 'K9.Qx.AQ8x.Jxxxx AJ8xxxx.J9x.xxx. x.KT8xxxx.Tx.ATx QTx.A.KJ9x.KQ98x', '9x.K8xx.AQ8x.Jxx AJ8xxxx.J9x.xxx. K.QTxxx.Tx.ATxxx QTx.A.KJ9x.KQ98x', '9x.Kxx.AQ8x.Jxxx AJ8xxxx.J9x.xxx. K.QT8xxx.Tx.ATxx QTx.A.KJ9x.KQ98x', '9x.K8x.AQ8x.Jxxx AJ8xxxx.J9x.xxx. K.QTxxxx.Tx.ATxx QTx.A.KJ9x.KQ98x', 'K9.Q8x.AQ8x.Jxxx AJ8xxxx.J9x.xxx. x.KTxxxx.Tx.ATxx QTx.A.KJ9x.KQ98x', 'K9.Kx.AQ8x.Jxxxx AJ8xxxx.J9x.xxx. x.QT8xxxx.Tx.ATx QTx.A.KJ9x.KQ98x', '9x.Kxx.AQ8x.Jxxx AJ8xxxx.J9x.xxx. K.QT8xxx.Tx.ATxx QTx.A.KJ9x.KQ98x', '9x.Qxx.AQ8x.Jxxx AJ8xxxx.J9x.xxx. K.KT8xxx.Tx.ATxx QTx.A.KJ9x.KQ98x', '9x.K8xx.AQ8x.Jxx AJ8xxxx.J9x.xxx. K.QTxxx.Tx.ATxxx QTx.A.KJ9x.KQ98x']} 21\n",
      "SQ .\n",
      "{'card': 'SQ', 'candidates': [{'card': 'ST', 'insta_score': 0.48717176525341027, 'expected_tricks': 8.81904761904762, 'expected_score': 489.7142857142857}, {'card': 'S4', 'insta_score': 0.44872896142079816, 'expected_tricks': 8.81904761904762, 'expected_score': 489.7142857142857}, {'card': 'CQ', 'insta_score': 0.018617471146170315, 'expected_tricks': 8.81904761904762, 'expected_score': 489.7142857142857}, {'card': 'SQ', 'insta_score': 0.01546813539437368, 'expected_tricks': 8.81904761904762, 'expected_score': 489.7142857142857}, {'card': 'CK', 'insta_score': 0.015261641153232896, 'expected_tricks': 8.81904761904762, 'expected_score': 489.7142857142857}, {'card': 'C8', 'insta_score': 0.0, 'expected_tricks': 8.81904761904762, 'expected_score': 489.7142857142857}, {'card': 'HA', 'insta_score': 0.0, 'expected_tricks': 8.81904761904762, 'expected_score': 489.7142857142857}, {'card': 'C9', 'insta_score': 0.0, 'expected_tricks': 8.81904761904762, 'expected_score': 489.7142857142857}, {'card': 'DK', 'insta_score': 0.010292206108433104, 'expected_tricks': 8.352380952380953, 'expected_score': 153.71428571428572}], 'samples': ['9.KTx.AQ8x.Txxxx AJ8xxxx.J9x.xxx. Kx.Q8xxxx.Tx.AJx QTx.A.KJ9x.KQ98x', '9.KQ8.AQ8x.Jxxxx AJ8xxxx.J9x.xxx. Kx.Txxxxx.Tx.ATx QTx.A.KJ9x.KQ98x', '9.Qxxx.AQ8x.Jxxx AJ8xxxx.J9x.xxx. Kx.KT8xx.Tx.ATxx QTx.A.KJ9x.KQ98x', '9x.QTxx.AQ8x.Txx AJ8xxxx.J9x.xxx. K.K8xxx.Tx.AJxxx QTx.A.KJ9x.KQ98x', '9x.QT8xx.AQ8x.xx AJ8xxxx.J9x.xxx. K.Kxxx.Tx.AJTxxx QTx.A.KJ9x.KQ98x', '9x.K8xx.AQ8x.Jxx AJ8xxxx.J9x.xxx. K.QTxxx.Tx.ATxxx QTx.A.KJ9x.KQ98x', '9x.K8xx.AQ8x.Jxx AJ8xxxx.J9x.xxx. K.QTxxx.Tx.ATxxx QTx.A.KJ9x.KQ98x', 'Kx.Qx.AQ8x.Jxxxx AJ8xxxx.J9x.xxx. 9.KT8xxxx.Tx.ATx QTx.A.KJ9x.KQ98x', '9x.xxx.AQ8x.Txxx AJ8xxxx.J9x.xxx. K.KQT8xx.Tx.AJxx QTx.A.KJ9x.KQ98x', 'K9x.KQ.AQ8x.Jxxx AJ8xxxx.J9x.xxx. .T8xxxxx.Tx.ATxx QTx.A.KJ9x.KQ98x', 'K9x.K8x.AQ8x.Jxx AJ8xxxx.J9x.xxx. .QTxxxx.Tx.ATxxx QTx.A.KJ9x.KQ98x', '9x.KQxx.AQ8x.Jxx AJ8xxxx.J9x.xxx. K.T8xxx.Tx.ATxxx QTx.A.KJ9x.KQ98x', '9.K8xx.AQ8x.Jxxx AJ8xxxx.J9x.xxx. Kx.QTxxx.Tx.ATxx QTx.A.KJ9x.KQ98x', '9x.KQxx.AQ8x.xxx AJ8xxxx.J9x.xxx. K.T8xxx.Tx.AJTxx QTx.A.KJ9x.KQ98x', '9x.KQxxx.AQ8x.xx AJ8xxxx.J9x.xxx. K.T8xx.Tx.AJTxxx QTx.A.KJ9x.KQ98x', '9x.KQxx.AQ8x.Jxx AJ8xxxx.J9x.xxx. K.T8xxx.Tx.ATxxx QTx.A.KJ9x.KQ98x', '9x.QTx.AQ8x.Jxxx AJ8xxxx.J9x.xxx. K.K8xxxx.Tx.ATxx QTx.A.KJ9x.KQ98x', '9x.KQ8x.AQ8x.xxx AJ8xxxx.J9x.xxx. K.Txxxx.Tx.AJTxx QTx.A.KJ9x.KQ98x', '9x.Tx.AQ8x.Txxxx AJ8xxxx.J9x.xxx. K.KQ8xxxx.Tx.AJx QTx.A.KJ9x.KQ98x', '9.Q8xx.AQ8x.Jxxx AJ8xxxx.J9x.xxx. Kx.KTxxx.Tx.ATxx QTx.A.KJ9x.KQ98x']} 2\n",
      "S5 .\n",
      "{'card': 'S5', 'candidates': [{'card': 'S5', 'insta_score': 1.0, 'expected_tricks': -2.0, 'expected_score': 0.0}], 'samples': ['x.KTxx.AQ8x.Txxx AJ8xxxx.J9x.xxx. T9x.Qxx.Tx.AQ9xx KQ.A8x.KJ9x.KJ8x', 'x.KTxx.AQ8x.Txxx AJ8xxxx.J9x.xxx. KT9.8xxx.Tx.AQxx Qx.AQ.KJ9x.KJ98x', 'x.KTxx.AQ8x.Txxx AJ8xxxx.J9x.xxx. Tx.Axxx.Tx.AQ98x KQ9.Q8.KJ9x.KJxx', 'x.KTxx.AQ8x.Txxx AJ8xxxx.J9x.xxx. T9x.Qxx.Tx.AQJxx KQ.A8x.KJ9x.K98x', 'x.KTxx.AQ8x.Txxx AJ8xxxx.J9x.xxx. T9x.A8xx.Tx.AQxx KQ.Qx.KJ9x.KJ98x', 'x.KTxx.AQ8x.Txxx AJ8xxxx.J9x.xxx. KTx.xxx.Tx.AQJ98 Q9.AQ8.KJ9x.Kxxx', 'x.KTxx.AQ8x.Txxx AJ8xxxx.J9x.xxx. Tx.A8xx.Tx.AQ98x KQ9.Qx.KJ9x.KJxx', 'x.KTxx.AQ8x.Txxx AJ8xxxx.J9x.xxx. Tx.Q8xx.Tx.AQJxx KQ9.Ax.KJ9x.K98x', 'x.KTxx.AQ8x.Txxx AJ8xxxx.J9x.xxx. T9x.Qxxx.Tx.AQJ9 KQ.A8.KJ9x.K8xxx', 'x.KTxx.AQ8x.Txxx AJ8xxxx.J9x.xxx. T9x.Qxxx.Tx.AQJ9 KQ.A8.KJ9x.K8xxx', 'x.KTxx.AQ8x.Txxx AJ8xxxx.J9x.xxx. KT.8xx.Tx.AQ98xx Q9x.AQx.KJ9x.KJx', 'x.KTxx.AQ8x.Txxx AJ8xxxx.J9x.xxx. 9x.Axxx.Tx.AQ9xx KQT.Q8.KJ9x.KJ8x', 'x.KTxx.AQ8x.Txxx AJ8xxxx.J9x.xxx. Tx.Qxxx.Tx.AQJ9x KQ9.A8.KJ9x.K8xx', 'x.KTxx.AQ8x.Txxx AJ8xxxx.J9x.xxx. Tx.Q8xx.Tx.AQ9xx KQ9.Ax.KJ9x.KJ8x', 'x.KTxx.AQ8x.Txxx AJ8xxxx.J9x.xxx. T9.Qxxx.Tx.AQ8xx KQx.A8.KJ9x.KJ9x', 'x.KTxx.AQ8x.Txxx AJ8xxxx.J9x.xxx. 9x.Q8xx.Tx.AQJxx KQT.Ax.KJ9x.K98x', 'x.KTxx.AQ8x.Txxx AJ8xxxx.J9x.xxx. T9x.Qxxx.Tx.AQJ9 KQ.A8.KJ9x.K8xxx', 'x.KTxx.AQ8x.Txxx AJ8xxxx.J9x.xxx. T9.Qxxx.Tx.AQ9xx KQx.A8.KJ9x.KJ8x', 'x.KTxx.AQ8x.Txxx AJ8xxxx.J9x.xxx. T9x.Q8x.Tx.AQ9xx KQ.Axx.KJ9x.KJ8x', 'x.KTxx.AQ8x.Txxx AJ8xxxx.J9x.xxx. KT.8xxx.Tx.AQ9xx Q9x.AQ.KJ9x.KJ8x']} 7\n",
      "S2 ??\n",
      "{'card': 'S2', 'candidates': [{'card': 'SA', 'insta_score': 0.16954800852366186, 'expected_tricks': 8.96551724137931, 'expected_score': 595.1724137931035}, {'card': 'S2', 'insta_score': 0.8192073454325673, 'expected_tricks': 8.03448275862069, 'expected_score': -75.17241379310344}, {'card': 'S6', 'insta_score': 0.8192073454325673, 'expected_tricks': 8.03448275862069, 'expected_score': -75.17241379310344}, {'card': 'S7', 'insta_score': 0.8192073454325673, 'expected_tricks': 8.03448275862069, 'expected_score': -75.17241379310344}, {'card': 'S3', 'insta_score': 0.8192073454325673, 'expected_tricks': 8.03448275862069, 'expected_score': -75.17241379310344}, {'card': 'S8', 'insta_score': 0.0, 'expected_tricks': 8.03448275862069, 'expected_score': -75.17241379310344}, {'card': 'SJ', 'insta_score': 0.0, 'expected_tricks': 8.03448275862069, 'expected_score': -75.17241379310344}], 'samples': ['9x.Kxxx.AQ8x.Txx AJ8xxxx.J9x.xxx. K.QT8xx.Tx.AJxxx QTx.A.KJ9x.KQ98x', '9x.KQxx.AQ8x.Jxx AJ8xxxx.J9x.xxx. K.T8xxx.Tx.ATxxx QTx.A.KJ9x.KQ98x', '9x.Kxxx.AQ8x.Jxx AJ8xxxx.J9x.xxx. K.QT8xx.Tx.ATxxx QTx.A.KJ9x.KQ98x', '9x.KTxx.AQ8x.Jxx AJ8xxxx.J9x.xxx. K.Q8xxx.Tx.ATxxx QTx.A.KJ9x.KQ98x', '9x.Kxx.AQ8x.Jxxx AJ8xxxx.J9x.xxx. K.QT8xxx.Tx.ATxx QTx.A.KJ9x.KQ98x', '9x.KT8x.AQ8x.Jxx AJ8xxxx.J9x.xxx. K.Qxxxx.Tx.ATxxx QTx.A.KJ9x.KQ98x', '9x.K8xx.AQ8x.Jxx AJ8xxxx.J9x.xxx. K.QTxxx.Tx.ATxxx QTx.A.KJ9x.KQ98x', '9x.KT8.AQ8x.Jxxx AJ8xxxx.J9x.xxx. K.Qxxxxx.Tx.ATxx QTx.A.KJ9x.KQ98x', '9x.KQxx.AQ8x.Jxx AJ8xxxx.J9x.xxx. K.T8xxx.Tx.ATxxx QTx.A.KJ9x.KQ98x', '9x.KTxx.AQ8x.Jxx AJ8xxxx.J9x.xxx. K.Q8xxx.Tx.ATxxx QTx.A.KJ9x.KQ98x', '9x.K8x.AQ8x.Jxxx AJ8xxxx.J9x.xxx. K.QTxxxx.Tx.ATxx QTx.A.KJ9x.KQ98x', '9x.QT8x.AQ8x.Jxx AJ8xxxx.J9x.xxx. K.Kxxxx.Tx.ATxxx QTx.A.KJ9x.KQ98x', '9x.KTx.AQ8x.Jxxx AJ8xxxx.J9x.xxx. K.Q8xxxx.Tx.ATxx QTx.A.KJ9x.KQ98x', 'Kx.KQ8x.AQ8x.Jxx AJ8xxxx.J9x.xxx. 9.Txxxx.Tx.ATxxx QTx.A.KJ9x.KQ98x', '9x.KQxx.AQ8x.Jxx AJ8xxxx.J9x.xxx. K.T8xxx.Tx.ATxxx QTx.A.KJ9x.KQ98x', '9x.K8x.AQ8x.Jxxx AJ8xxxx.J9x.xxx. K.QTxxxx.Tx.ATxx QTx.A.KJ9x.KQ98x', '9x.Kxx.AQ8x.Jxxx AJ8xxxx.J9x.xxx. K.QT8xxx.Tx.ATxx QTx.A.KJ9x.KQ98x', '9x.Kx.AQ8x.Jxxxx AJ8xxxx.J9x.xxx. K.QT8xxxx.Tx.ATx QTx.A.KJ9x.KQ98x', '9x.KTxx.AQ8x.Jxx AJ8xxxx.J9x.xxx. K.Q8xxx.Tx.ATxxx QTx.A.KJ9x.KQ98x', '9x.KQ8x.AQ8x.Jxx AJ8xxxx.J9x.xxx. K.Txxxx.Tx.ATxxx QTx.A.KJ9x.KQ98x']} 7\n",
      "SK .\n",
      "{'card': 'SK', 'candidates': [{'card': 'SK', 'insta_score': 0.9841437173518355, 'expected_tricks': 1.0, 'expected_score': 100.0}, {'card': 'S9', 'insta_score': 0.015856282648164525, 'expected_tricks': 0.0, 'expected_score': -620.0}], 'samples': ['xx.Txx.AQ8x.QT8x AJ8xxxx.J9x.xxx. K9.Q8xxx.Tx.AJxx QT.AK.KJ9x.K9xxx', 'Tx.Txx.AQ8.Q98xx AJ8xxxx.J9x.xxx. K9.Q8xxx.Tx.AJxx Qx.AK.KJ9xx.KTxx', 'Tx.Txx.AQ8.KT8xx AJ8xxxx.J9x.xxx. K9.Q8xxx.Tx.AJxx Qx.AK.KJ9xx.Q9xx', 'Tx.x.AQ8x.Q98xxx AJ8xxxx.J9x.xxx. K9.Q8xxx.Tx.AJxx Qx.AKTx.KJ9x.KTx', 'xx.Txx.AQ8.QT8xx AJ8xxxx.J9x.xxx. K9.Q8xxx.Tx.AJxx QT.AK.KJ9xx.K9xx', 'Tx.Tx.AQ8.Q98xxx AJ8xxxx.J9x.xxx. K9.Q8xxx.Tx.AJxx Qx.AKx.KJ9xx.KTx', 'Tx.Txx.AQ8.Q98xx AJ8xxxx.J9x.xxx. K9.Q8xxx.Tx.AJxx Qx.AK.KJ9xx.KTxx', 'xx.xx.AQ8x.Q9xxx AJ8xxxx.J9x.xxx. K9.Q8xxx.Tx.AJxx QT.AKT.KJ9x.KT8x', 'xx.Txx.AQ8x.Q8xx AJ8xxxx.J9x.xxx. K9.Q8xxx.Tx.AJxx QT.AK.KJ9x.KT9xx', 'xx.T.AQ8x.QT8xxx AJ8xxxx.J9x.xxx. K9.Q8xxx.Tx.AJxx QT.AKxx.KJ9x.K9x', 'Tx.Txx.AQ8x.Q8xx AJ8xxxx.J9x.xxx. K9.Q8xxx.Tx.AJxx Qx.AK.KJ9x.KT9xx', 'xx.Tx.AQ8x.Q98xx AJ8xxxx.J9x.xxx. K9.Q8xxx.Tx.AJxx QT.AKx.KJ9x.KTxx', 'Tx.Tx.AQ8x.Q8xxx AJ8xxxx.J9x.xxx. K9.Q8xxx.Tx.AJxx Qx.AKx.KJ9x.KT9x', 'xx.Tx.AQ8.QT8xxx AJ8xxxx.J9x.xxx. K9.Q8xxx.Tx.AJxx QT.AKx.KJ9xx.K9x', 'xx.Txx.AQ8x.Qxxx AJ8xxxx.J9x.xxx. K9.Q8xxx.Tx.AJxx QT.AK.KJ9x.KT98x', 'Tx.Tx.AQ8.Q98xxx AJ8xxxx.J9x.xxx. K9.Q8xxx.Tx.AJxx Qx.AKx.KJ9xx.KTx', 'Tx.Tx.AQ8x.Q98xx AJ8xxxx.J9x.xxx. K9.Q8xxx.Tx.AJxx Qx.AKx.KJ9x.KTxx', 'xx.Txx.AQ8x.Q98x AJ8xxxx.J9x.xxx. K9.Q8xxx.Tx.AJxx QT.AK.KJ9x.KTxxx', 'Tx.Tx.AQ8x.Q98xx AJ8xxxx.J9x.xxx. K9.Q8xxx.Tx.AJxx Qx.AKx.KJ9x.KTxx', 'xx.Tx.AQ8x.Q8xxx AJ8xxxx.J9x.xxx. K9.Q8xxx.Tx.AJxx QT.AKx.KJ9x.KT9x']} 1\n",
      "H4 .\n",
      "{'card': 'H4', 'candidates': [{'card': 'H5', 'insta_score': 0.6382947061888837, 'expected_tricks': 0.0, 'expected_score': 100.0}, {'card': 'H4', 'insta_score': 0.6382947061888837, 'expected_tricks': 0.0, 'expected_score': 100.0}, {'card': 'C4', 'insta_score': 0.2999792032487811, 'expected_tricks': 0.0, 'expected_score': 100.0}, {'card': 'C7', 'insta_score': 0.2999792032487811, 'expected_tricks': 0.0, 'expected_score': 100.0}, {'card': 'S9', 'insta_score': 0.03981070907587875, 'expected_tricks': 0.0, 'expected_score': 100.0}, {'card': 'H8', 'insta_score': 0.019790546783170476, 'expected_tricks': 0.0, 'expected_score': 100.0}, {'card': 'CJ', 'insta_score': 0.0, 'expected_tricks': 0.0, 'expected_score': 100.0}, {'card': 'HQ', 'insta_score': 0.0, 'expected_tricks': 0.0, 'expected_score': 100.0}], 'samples': ['Tx.Txx.AQ8.QT8xx AJ8xxxx.J9x.xxx. K9.Q8xxx.Tx.AJxx Qx.AK.KJ9xx.K9xx', 'Tx.Txx.AQ8.Q8xxx AJ8xxxx.J9x.xxx. K9.Q8xxx.Tx.AJxx Qx.AK.KJ9xx.KT9x', 'xx.Txx.AQ8.Q98xx AJ8xxxx.J9x.xxx. K9.Q8xxx.Tx.AJxx QT.AK.KJ9xx.KTxx', 'xx.xx.AQ8.QT8xxx AJ8xxxx.J9x.xxx. K9.Q8xxx.Tx.AJxx QT.AKT.KJ9xx.K9x', 'Tx.Tx.AQ8x.QT8xx AJ8xxxx.J9x.xxx. K9.Q8xxx.Tx.AJxx Qx.AKx.KJ9x.K9xx', 'Tx.xx.AQ8x.Q98xx AJ8xxxx.J9x.xxx. K9.Q8xxx.Tx.AJxx Qx.AKT.KJ9x.KTxx', 'Tx.Txx.AQ8x.Q8xx AJ8xxxx.J9x.xxx. K9.Q8xxx.Tx.AJxx Qx.AK.KJ9x.KT9xx', 'Tx.T.AQ8x.Q98xxx AJ8xxxx.J9x.xxx. K9.Q8xxx.Tx.AJxx Qx.AKxx.KJ9x.KTx', 'xx.Tx.AQ8.Q98xxx AJ8xxxx.J9x.xxx. K9.Q8xxx.Tx.AJxx QT.AKx.KJ9xx.KTx', 'Tx.Txx.AQ8x.QT8x AJ8xxxx.J9x.xxx. K9.Q8xxx.Tx.AJxx Qx.AK.KJ9x.K9xxx', 'xx.Txx.AQ8.Q8xxx AJ8xxxx.J9x.xxx. K9.Q8xxx.Tx.AJxx QT.AK.KJ9xx.KT9x', 'Tx.Txx.AQ8.QTxxx AJ8xxxx.J9x.xxx. K9.Q8xxx.Tx.AJxx Qx.AK.KJ9xx.K98x', 'Tx.Txx.AQ8x.Q8xx AJ8xxxx.J9x.xxx. K9.Q8xxx.Tx.AJxx Qx.AK.KJ9x.KT9xx', 'Tx.xx.AQ8x.Q98xx AJ8xxxx.J9x.xxx. K9.Q8xxx.Tx.AJxx Qx.AKT.KJ9x.KTxx', 'xx.xx.AQ8x.QT8xx AJ8xxxx.J9x.xxx. K9.Q8xxx.Tx.AJxx QT.AKT.KJ9x.K9xx', 'xx.Tx.AQ8x.Q8xxx AJ8xxxx.J9x.xxx. K9.Q8xxx.Tx.AJxx QT.AKx.KJ9x.KT9x', 'Tx.Txx.AQ8x.Q8xx AJ8xxxx.J9x.xxx. K9.Q8xxx.Tx.AJxx Qx.AK.KJ9x.KT9xx', 'xx.Tx.AQ8x.Q98xx AJ8xxxx.J9x.xxx. K9.Q8xxx.Tx.AJxx QT.AKx.KJ9x.KTxx', 'Tx.Tx.AQ8x.QT8xx AJ8xxxx.J9x.xxx. K9.Q8xxx.Tx.AJxx Qx.AKx.KJ9x.K9xx', 'Tx.T.AQ8x.QT8xxx AJ8xxxx.J9x.xxx. K9.Q8xxx.Tx.AJxx Qx.AKxx.KJ9x.K9x']} 15\n",
      "HA .\n",
      "{'card': 'HA', 'candidates': [{'card': 'HA', 'insta_score': 1.0, 'expected_tricks': -2.0, 'expected_score': 0.0}], 'samples': ['9x.Kx.AQ8x.Jxxxx AJ8xxxx.J9x.xxx. K.QT8xxxx.Tx.ATx QTx.A.KJ9x.KQ98x', '9x.KQx.AQ8x.Jxxx AJ8xxxx.J9x.xxx. K.T8xxxx.Tx.ATxx QTx.A.KJ9x.KQ98x', '9x.Qx.AQ8x.Txxxx AJ8xxxx.J9x.xxx. K.KT8xxxx.Tx.AJx QTx.A.KJ9x.KQ98x', '9x.Q8x.AQ8x.Jxxx AJ8xxxx.J9x.xxx. K.KTxxxx.Tx.ATxx QTx.A.KJ9x.KQ98x', '9x.KTx.AQ8x.Jxxx AJ8xxxx.J9x.xxx. K.Q8xxxx.Tx.ATxx QTx.A.KJ9x.KQ98x', '9x.Kxx.AQ8x.Jxxx AJ8xxxx.J9x.xxx. K.QT8xxx.Tx.ATxx QTx.A.KJ9x.KQ98x', '9x.KQ8x.AQ8x.Jxx AJ8xxxx.J9x.xxx. K.Txxxx.Tx.ATxxx QTx.A.KJ9x.KQ98x', '9x.KQx.AQ8x.Jxxx AJ8xxxx.J9x.xxx. K.T8xxxx.Tx.ATxx QTx.A.KJ9x.KQ98x', '9x.KQ8x.AQ8x.Jxx AJ8xxxx.J9x.xxx. K.Txxxx.Tx.ATxxx QTx.A.KJ9x.KQ98x', '9x.KQxx.AQ8x.Jxx AJ8xxxx.J9x.xxx. K.T8xxx.Tx.ATxxx QTx.A.KJ9x.KQ98x', '9x.K8.AQ8x.Jxxxx AJ8xxxx.J9x.xxx. K.QTxxxxx.Tx.ATx QTx.A.KJ9x.KQ98x', '9x.K8x.AQ8x.Jxxx AJ8xxxx.J9x.xxx. K.QTxxxx.Tx.ATxx QTx.A.KJ9x.KQ98x', '9x.KTx.AQ8x.Jxxx AJ8xxxx.J9x.xxx. K.Q8xxxx.Tx.ATxx QTx.A.KJ9x.KQ98x', '9x.KT8x.AQ8x.Jxx AJ8xxxx.J9x.xxx. K.Qxxxx.Tx.ATxxx QTx.A.KJ9x.KQ98x', '9x.Kxx.AQ8x.Jxxx AJ8xxxx.J9x.xxx. K.QT8xxx.Tx.ATxx QTx.A.KJ9x.KQ98x', '9x.KQ8x.AQ8x.Jxx AJ8xxxx.J9x.xxx. K.Txxxx.Tx.ATxxx QTx.A.KJ9x.KQ98x', '9x.Kxx.AQ8x.Jxxx AJ8xxxx.J9x.xxx. K.QT8xxx.Tx.ATxx QTx.A.KJ9x.KQ98x', '9x.KTxx.AQ8x.Jxx AJ8xxxx.J9x.xxx. K.Q8xxx.Tx.ATxxx QTx.A.KJ9x.KQ98x', '9x.Qxx.AQ8x.Jxxx AJ8xxxx.J9x.xxx. K.KT8xxx.Tx.ATxx QTx.A.KJ9x.KQ98x', '9x.KQ.AQ8x.Jxxxx AJ8xxxx.J9x.xxx. K.T8xxxxx.Tx.ATx QTx.A.KJ9x.KQ98x']} 8\n",
      "H7 .\n",
      "{'card': 'H7', 'candidates': [{'card': 'H7', 'insta_score': 0.9983190064817247, 'expected_tricks': 0.0, 'expected_score': 100.0}, {'card': 'H3', 'insta_score': 0.9983190064817247, 'expected_tricks': 0.0, 'expected_score': 100.0}, {'card': 'HK', 'insta_score': 0.0, 'expected_tricks': 0.0, 'expected_score': 100.0}, {'card': 'HT', 'insta_score': 0.0, 'expected_tricks': 0.0, 'expected_score': 100.0}], 'samples': ['x.KTxx.AQ8x.Txxx AJ8xxxx.J9x.xxx. KTx.xx.Tx.AQJ9xx Q9.AQ8x.KJ9x.K8x', 'x.KTxx.AQ8x.Txxx AJ8xxxx.J9x.xxx. KT.8xxx.Tx.AQ98x Q9x.AQ.KJ9x.KJxx', 'x.KTxx.AQ8x.Txxx AJ8xxxx.J9x.xxx. KTx.8xxx.Tx.AQ98 Q9.AQ.KJ9x.KJxxx', 'x.KTxx.AQ8x.Txxx AJ8xxxx.J9x.xxx. Kx.8xxx.Tx.AQJ9x QT9.AQ.KJ9x.K8xx', 'x.KTxx.AQ8x.Txxx AJ8xxxx.J9x.xxx. KT.8xxx.Tx.AQ8xx Q9x.AQ.KJ9x.KJ9x', 'x.KTxx.AQ8x.Txxx AJ8xxxx.J9x.xxx. Kx.8xxx.Tx.AQJ9x QT9.AQ.KJ9x.K8xx', 'x.KTxx.AQ8x.Txxx AJ8xxxx.J9x.xxx. KTx.8xxx.Tx.AQJ9 Q9.AQ.KJ9x.K8xxx', 'x.KTxx.AQ8x.Txxx AJ8xxxx.J9x.xxx. KTx.Q8xx.Tx.AJ98 Q9.Ax.KJ9x.KQxxx', 'x.KTxx.AQ8x.Txxx AJ8xxxx.J9x.xxx. KTx.Qxxx.Tx.A98x Q9.A8.KJ9x.KQJxx', 'x.KTxx.AQ8x.Txxx AJ8xxxx.J9x.xxx. KT.xxx.Tx.AQJ9xx Q9x.AQ8.KJ9x.K8x', 'x.KTxx.AQ8x.Txxx AJ8xxxx.J9x.xxx. KTx.8xxx.Tx.AQ8x Q9.AQ.KJ9x.KJ9xx', 'x.KTxx.AQ8x.Txxx AJ8xxxx.J9x.xxx. KTx.Q8xx.Tx.AJ98 Q9.Ax.KJ9x.KQxxx', 'x.KTxx.AQ8x.Txxx AJ8xxxx.J9x.xxx. KT.8xxx.Tx.AQ8xx Q9x.AQ.KJ9x.KJ9x', 'x.KTxx.AQ8x.Txxx AJ8xxxx.J9x.xxx. KT.8xxx.Tx.AQJxx Q9x.AQ.KJ9x.K98x', 'x.KTxx.AQ8x.Txxx AJ8xxxx.J9x.xxx. Kx.8xxx.Tx.AQJ9x QT9.AQ.KJ9x.K8xx', 'x.KTxx.AQ8x.Txxx AJ8xxxx.J9x.xxx. KT.8xxx.Tx.AQ9xx Q9x.AQ.KJ9x.KJ8x', 'x.KTxx.AQ8x.Txxx AJ8xxxx.J9x.xxx. KTx.xx.Tx.AQJ9xx Q9.AQ8x.KJ9x.K8x', 'x.KTxx.AQ8x.Txxx AJ8xxxx.J9x.xxx. KTx.8xxx.Tx.AQJ9 Q9.AQ.KJ9x.K8xxx', 'x.KTxx.AQ8x.Txxx AJ8xxxx.J9x.xxx. KTx.xxx.Tx.AQ8xx Q9.AQ8.KJ9x.KJ9x', 'x.KTxx.AQ8x.Txxx AJ8xxxx.J9x.xxx. KTx.xx.Tx.AQ98xx Q9.AQ8x.KJ9x.KJx']} 15\n",
      "H9 .\n",
      "{'card': 'H9', 'candidates': [{'card': 'H9', 'insta_score': 0.997506998247544, 'expected_tricks': 8.0, 'expected_score': -100.0}, {'card': 'HJ', 'insta_score': 0.0, 'expected_tricks': 8.0, 'expected_score': -100.0}], 'samples': ['9x.KQ8x.AQ8x.Jxx AJ8xxxx.J9x.xxx. K.Txxxx.Tx.ATxxx QTx.A.KJ9x.KQ98x', '9x.KQxx.AQ8x.Jxx AJ8xxxx.J9x.xxx. K.T8xxx.Tx.ATxxx QTx.A.KJ9x.KQ98x', '9x.Qxx.AQ8x.Jxxx AJ8xxxx.J9x.xxx. K.KT8xxx.Tx.ATxx QTx.A.KJ9x.KQ98x', '9x.Kxxx.AQ8x.Txx AJ8xxxx.J9x.xxx. K.QT8xx.Tx.AJxxx QTx.A.KJ9x.KQ98x', '9x.Kxx.AQ8x.Jxxx AJ8xxxx.J9x.xxx. K.QT8xxx.Tx.ATxx QTx.A.KJ9x.KQ98x', '9x.KQxx.AQ8x.Jxx AJ8xxxx.J9x.xxx. K.T8xxx.Tx.ATxxx QTx.A.KJ9x.KQ98x', '9x.Qxx.AQ8x.Jxxx AJ8xxxx.J9x.xxx. K.KT8xxx.Tx.ATxx QTx.A.KJ9x.KQ98x', '9x.KQxx.AQ8x.Jxx AJ8xxxx.J9x.xxx. K.T8xxx.Tx.ATxxx QTx.A.KJ9x.KQ98x', '9x.KQ8x.AQ8x.Jxx AJ8xxxx.J9x.xxx. K.Txxxx.Tx.ATxxx QTx.A.KJ9x.KQ98x', '9x.Q8x.AQ8x.Jxxx AJ8xxxx.J9x.xxx. K.KTxxxx.Tx.ATxx QTx.A.KJ9x.KQ98x', '9x.KQx.AQ8x.Jxxx AJ8xxxx.J9x.xxx. K.T8xxxx.Tx.ATxx QTx.A.KJ9x.KQ98x', '9x.Q8x.AQ8x.Jxxx AJ8xxxx.J9x.xxx. K.KTxxxx.Tx.ATxx QTx.A.KJ9x.KQ98x', '9x.Kxxx.AQ8x.Jxx AJ8xxxx.J9x.xxx. K.QT8xx.Tx.ATxxx QTx.A.KJ9x.KQ98x', '9x.K8xx.AQ8x.Jxx AJ8xxxx.J9x.xxx. K.QTxxx.Tx.ATxxx QTx.A.KJ9x.KQ98x', '9x.KQ8x.AQ8x.Jxx AJ8xxxx.J9x.xxx. K.Txxxx.Tx.ATxxx QTx.A.KJ9x.KQ98x', '9x.KQxx.AQ8x.Jxx AJ8xxxx.J9x.xxx. K.T8xxx.Tx.ATxxx QTx.A.KJ9x.KQ98x', '9x.K8x.AQ8x.Jxxx AJ8xxxx.J9x.xxx. K.QTxxxx.Tx.ATxx QTx.A.KJ9x.KQ98x', '9x.Kx.AQ8x.Jxxxx AJ8xxxx.J9x.xxx. K.QT8xxxx.Tx.ATx QTx.A.KJ9x.KQ98x', '9x.KTxx.AQ8x.Jxx AJ8xxxx.J9x.xxx. K.Q8xxx.Tx.ATxxx QTx.A.KJ9x.KQ98x', '9x.KQxx.AQ8x.Jxx AJ8xxxx.J9x.xxx. K.T8xxx.Tx.ATxxx QTx.A.KJ9x.KQ98x']} 13\n",
      "S4 .\n",
      "{'card': 'S4', 'candidates': [{'card': 'ST', 'insta_score': 0.6503385989907233, 'expected_tricks': 7.0, 'expected_score': -100.0}, {'card': 'CQ', 'insta_score': 0.14867301098036353, 'expected_tricks': 7.0, 'expected_score': -100.0}, {'card': 'CK', 'insta_score': 0.09875731244557606, 'expected_tricks': 7.0, 'expected_score': -100.0}, {'card': 'S4', 'insta_score': 0.05987492318549111, 'expected_tricks': 7.0, 'expected_score': -100.0}, {'card': 'DK', 'insta_score': 0.041973859084872556, 'expected_tricks': 7.0, 'expected_score': -100.0}, {'card': 'C9', 'insta_score': 0.0, 'expected_tricks': 7.0, 'expected_score': -100.0}, {'card': 'C8', 'insta_score': 0.0, 'expected_tricks': 7.0, 'expected_score': -100.0}], 'samples': ['9x.K8xx.AQ8x.Jxx AJ8xxxx.J9x.xxx. K.QTxxx.Tx.ATxxx QTx.A.KJ9x.KQ98x', '9x.K8xx.AQ8x.Jxx AJ8xxxx.J9x.xxx. K.QTxxx.Tx.ATxxx QTx.A.KJ9x.KQ98x', '9x.Qx.AQ8x.Txxxx AJ8xxxx.J9x.xxx. K.KT8xxxx.Tx.AJx QTx.A.KJ9x.KQ98x', '9x.KT8x.AQ8x.Jxx AJ8xxxx.J9x.xxx. K.Qxxxx.Tx.ATxxx QTx.A.KJ9x.KQ98x', '9x.KTx.AQ8x.Jxxx AJ8xxxx.J9x.xxx. K.Q8xxxx.Tx.ATxx QTx.A.KJ9x.KQ98x', '9x.KQx.AQ8x.Jxxx AJ8xxxx.J9x.xxx. K.T8xxxx.Tx.ATxx QTx.A.KJ9x.KQ98x', '9x.Kxx.AQ8x.Jxxx AJ8xxxx.J9x.xxx. K.QT8xxx.Tx.ATxx QTx.A.KJ9x.KQ98x', '9x.Kxxx.AQ8x.Jxx AJ8xxxx.J9x.xxx. K.QT8xx.Tx.ATxxx QTx.A.KJ9x.KQ98x', '9x.K8xx.AQ8x.Jxx AJ8xxxx.J9x.xxx. K.QTxxx.Tx.ATxxx QTx.A.KJ9x.KQ98x', '9x.KQx.AQ8x.Jxxx AJ8xxxx.J9x.xxx. K.T8xxxx.Tx.ATxx QTx.A.KJ9x.KQ98x', '9x.Kxxx.AQ8x.Txx AJ8xxxx.J9x.xxx. K.QT8xx.Tx.AJxxx QTx.A.KJ9x.KQ98x', '9x.KTxx.AQ8x.Jxx AJ8xxxx.J9x.xxx. K.Q8xxx.Tx.ATxxx QTx.A.KJ9x.KQ98x', '9x.Kxxx.AQ8x.Jxx AJ8xxxx.J9x.xxx. K.QT8xx.Tx.ATxxx QTx.A.KJ9x.KQ98x', '9x.KQxx.AQ8x.Jxx AJ8xxxx.J9x.xxx. K.T8xxx.Tx.ATxxx QTx.A.KJ9x.KQ98x', '9x.KTxx.AQ8x.Jxx AJ8xxxx.J9x.xxx. K.Q8xxx.Tx.ATxxx QTx.A.KJ9x.KQ98x', '9x.Q8x.AQ8x.Jxxx AJ8xxxx.J9x.xxx. K.KTxxxx.Tx.ATxx QTx.A.KJ9x.KQ98x', '9x.KTx.AQ8x.Jxxx AJ8xxxx.J9x.xxx. K.Q8xxxx.Tx.ATxx QTx.A.KJ9x.KQ98x', '9x.KTx.AQ8x.Jxxx AJ8xxxx.J9x.xxx. K.Q8xxxx.Tx.ATxx QTx.A.KJ9x.KQ98x', '9x.KQxx.AQ8x.Jxx AJ8xxxx.J9x.xxx. K.T8xxx.Tx.ATxxx QTx.A.KJ9x.KQ98x', '9x.Qx.AQ8x.Txxxx AJ8xxxx.J9x.xxx. K.KT8xxxx.Tx.AJx QTx.A.KJ9x.KQ98x']} 7\n",
      "C3 .\n",
      "{'card': 'C3', 'candidates': [{'card': 'H3', 'insta_score': 0.5110977492616814, 'expected_tricks': 0.125, 'expected_score': 112.5}, {'card': 'C5', 'insta_score': 0.35190588298444025, 'expected_tricks': 0.125, 'expected_score': 112.5}, {'card': 'C3', 'insta_score': 0.35190588298444025, 'expected_tricks': 0.125, 'expected_score': 112.5}, {'card': 'D2', 'insta_score': 0.12346897842969701, 'expected_tricks': 0.125, 'expected_score': 112.5}, {'card': 'HT', 'insta_score': 0.0, 'expected_tricks': 0.125, 'expected_score': 112.5}, {'card': 'CT', 'insta_score': 0.0, 'expected_tricks': 0.125, 'expected_score': 112.5}, {'card': 'HK', 'insta_score': 0.0, 'expected_tricks': 0.0, 'expected_score': 100.0}], 'samples': ['x.KTxx.AQ8x.Txxx AJ8xxxx.J9x.xxx. KT.8xxx.Tx.AQJ98 Q9x.AQ.KJ9x.Kxxx', 'x.KTxx.AQ8x.Txxx AJ8xxxx.J9x.xxx. KT.8xxx.Tx.AQ9xx Q9x.AQ.KJ9x.KJ8x', 'x.KTxx.AQ8x.Txxx AJ8xxxx.J9x.xxx. KT.xxx.Tx.AQJ9xx Q9x.AQ8.KJ9x.K8x', 'x.KTxx.AQ8x.Txxx AJ8xxxx.J9x.xxx. KT.xxx.Tx.AQJ98x Q9x.AQ8.KJ9x.Kxx', 'x.KTxx.AQ8x.Txxx AJ8xxxx.J9x.xxx. KT.xxx.Tx.AQJ98x Q9x.AQ8.KJ9x.Kxx', 'x.KTxx.AQ8x.Txxx AJ8xxxx.J9x.xxx. KT9.xxx.Tx.AQ9xx Qx.AQ8.KJ9x.KJ8x', 'x.KTxx.AQ8x.Txxx AJ8xxxx.J9x.xxx. KT.8xxx.Tx.AQJxx Q9x.AQ.KJ9x.K98x', 'x.KTxx.AQ8x.Txxx AJ8xxxx.J9x.xxx. KT9.xxx.Tx.AQ9xx Qx.AQ8.KJ9x.KJ8x', 'x.KTxx.AQ8x.Txxx AJ8xxxx.J9x.xxx. KT.8xxx.Tx.AQ98x Q9x.AQ.KJ9x.KJxx', 'x.KTxx.AQ8x.Txxx AJ8xxxx.J9x.xxx. KT.8xxx.Tx.AQ98x Q9x.AQ.KJ9x.KJxx', 'x.KTxx.AQ8x.Txxx AJ8xxxx.J9x.xxx. KT.8xxx.Tx.AQ8xx Q9x.AQ.KJ9x.KJ9x', 'x.KTxx.AQ8x.Txxx AJ8xxxx.J9x.xxx. KT.Qxxx.Tx.A98xx Q9x.A8.KJ9x.KQJx', 'x.KTxx.AQ8x.Txxx AJ8xxxx.J9x.xxx. KT.xxx.Tx.AQJ98x Q9x.AQ8.KJ9x.Kxx', 'x.KTxx.AQ8x.Txxx AJ8xxxx.J9x.xxx. KT.Q8xx.Tx.A98xx Q9x.Ax.KJ9x.KQJx', 'x.KTxx.AQ8x.Txxx AJ8xxxx.J9x.xxx. KT.8xxx.Tx.AQJxx Q9x.AQ.KJ9x.K98x', 'x.KTxx.AQ8x.Txxx AJ8xxxx.J9x.xxx. KT.xxx.Tx.AQ98xx Q9x.AQ8.KJ9x.KJx', 'x.KTxx.AQ8x.Txxx AJ8xxxx.J9x.xxx. KT9.xxx.Tx.AQJ98 Qx.AQ8.KJ9x.Kxxx', 'x.KTxx.AQ8x.Txxx AJ8xxxx.J9x.xxx. KT.xxx.Tx.AQJ98x Q9x.AQ8.KJ9x.Kxx', 'x.KTxx.AQ8x.Txxx AJ8xxxx.J9x.xxx. KT.8xxx.Tx.AQ98x Q9x.AQ.KJ9x.KJxx', 'x.KTxx.AQ8x.Txxx AJ8xxxx.J9x.xxx. KT.8xxx.Tx.AQ8xx Q9x.AQ.KJ9x.KJ9x']} 31\n",
      "SA .\n",
      "{'card': 'SA', 'candidates': [{'card': 'SJ', 'insta_score': 0.6907377444025001, 'expected_tricks': 7.0, 'expected_score': -100.0}, {'card': 'SA', 'insta_score': 0.0752333210719728, 'expected_tricks': 7.0, 'expected_score': -100.0}, {'card': 'S6', 'insta_score': 0.1512870255330413, 'expected_tricks': 6.0, 'expected_score': -200.0}, {'card': 'S7', 'insta_score': 0.1512870255330413, 'expected_tricks': 6.0, 'expected_score': -200.0}, {'card': 'S3', 'insta_score': 0.1512870255330413, 'expected_tricks': 6.0, 'expected_score': -200.0}, {'card': 'S8', 'insta_score': 0.08274190899248579, 'expected_tricks': 6.0, 'expected_score': -200.0}], 'samples': ['x.Q8xx.AQ8x.Txxx AJ8xxxx.J9x.xxx. K9.KTxxx.Tx.AJxx QTx.A.KJ9x.KQ98x', 'x.KTx.AQ8x.Txxxx AJ8xxxx.J9x.xxx. K9.Q8xxxx.Tx.AJx QTx.A.KJ9x.KQ98x', 'x.Kxx.AQ8x.Txxxx AJ8xxxx.J9x.xxx. K9.QT8xxx.Tx.AJx QTx.A.KJ9x.KQ98x', 'x.Q8xx.AQ8x.Txxx AJ8xxxx.J9x.xxx. K9.KTxxx.Tx.AJxx QTx.A.KJ9x.KQ98x', 'x.QTxx.AQ8x.Jxxx AJ8xxxx.J9x.xxx. K9.K8xxx.Tx.ATxx QTx.A.KJ9x.KQ98x', 'x.Kxx.AQ8x.Jxxxx AJ8xxxx.J9x.xxx. K9.QT8xxx.Tx.ATx QTx.A.KJ9x.KQ98x', 'x.Q8xx.AQ8x.Txxx AJ8xxxx.J9x.xxx. K9.KTxxx.Tx.AJxx QTx.A.KJ9x.KQ98x', 'x.KTxx.AQ8x.Jxxx AJ8xxxx.J9x.xxx. K9.Q8xxx.Tx.ATxx QTx.A.KJ9x.KQ98x', 'x.KQxx.AQ8x.Txxx AJ8xxxx.J9x.xxx. K9.T8xxx.Tx.AJxx QTx.A.KJ9x.KQ98x', 'x.Qxx.AQ8x.Txxxx AJ8xxxx.J9x.xxx. K9.KT8xxx.Tx.AJx QTx.A.KJ9x.KQ98x', 'x.QTx.AQ8x.Txxxx AJ8xxxx.J9x.xxx. K9.K8xxxx.Tx.AJx QTx.A.KJ9x.KQ98x', 'x.KQ8x.AQ8x.Jxxx AJ8xxxx.J9x.xxx. K9.Txxxx.Tx.ATxx QTx.A.KJ9x.KQ98x', 'x.KQxx.AQ8x.Txxx AJ8xxxx.J9x.xxx. K9.T8xxx.Tx.AJxx QTx.A.KJ9x.KQ98x', 'x.KQxx.AQ8x.Txxx AJ8xxxx.J9x.xxx. K9.T8xxx.Tx.AJxx QTx.A.KJ9x.KQ98x', 'x.T8x.AQ8x.Jxxxx AJ8xxxx.J9x.xxx. K9.KQxxxx.Tx.ATx QTx.A.KJ9x.KQ98x', 'x.T8xx.AQ8x.Jxxx AJ8xxxx.J9x.xxx. K9.KQxxx.Tx.ATxx QTx.A.KJ9x.KQ98x', 'x.Kxx.AQ8x.Jxxxx AJ8xxxx.J9x.xxx. K9.QT8xxx.Tx.ATx QTx.A.KJ9x.KQ98x', 'x.Qxx.AQ8x.Txxxx AJ8xxxx.J9x.xxx. K9.KT8xxx.Tx.AJx QTx.A.KJ9x.KQ98x', 'x.KQxx.AQ8x.Jxxx AJ8xxxx.J9x.xxx. K9.T8xxx.Tx.ATxx QTx.A.KJ9x.KQ98x', 'x.K8xx.AQ8x.Txxx AJ8xxxx.J9x.xxx. K9.QTxxx.Tx.AJxx QTx.A.KJ9x.KQ98x']} 0\n",
      "S9 .\n",
      "{'card': 'S9', 'candidates': [{'card': 'S9', 'insta_score': 1.0, 'expected_tricks': -2.0, 'expected_score': 0.0}], 'samples': ['x.Txx.AQ8.QT8xxx AJ8xxxx.J9x.xxx. K9.Q8xxx.Tx.AJxx QTx.AK.KJ9xx.K9x', 'x.Txx.AQ8.QT8xxx AJ8xxxx.J9x.xxx. K9.Q8xxx.Tx.AJxx QTx.AK.KJ9xx.K9x', 'x.Txx.AQ8x.K98xx AJ8xxxx.J9x.xxx. K9.Q8xxx.Tx.AJxx QTx.AK.KJ9x.QTxx', 'x.Txx.AQ8.QT8xxx AJ8xxxx.J9x.xxx. K9.Q8xxx.Tx.AJxx QTx.AK.KJ9xx.K9x', 'x.Txx.AQ8.QT8xxx AJ8xxxx.J9x.xxx. K9.Q8xxx.Tx.AJxx QTx.AK.KJ9xx.K9x', 'x.Txx.AQ8.QT8xxx AJ8xxxx.J9x.xxx. K9.Q8xxx.Tx.AJxx QTx.AK.KJ9xx.K9x', 'x.Txx.AQ8.QT8xxx AJ8xxxx.J9x.xxx. K9.Q8xxx.Tx.AJxx QTx.AK.KJ9xx.K9x', 'x.Txx.AQ8x.Q98xx AJ8xxxx.J9x.xxx. K9.Q8xxx.Tx.AJxx QTx.AK.KJ9x.KTxx', 'x.Txx.AQ8.QT8xxx AJ8xxxx.J9x.xxx. K9.Q8xxx.Tx.AJxx QTx.AK.KJ9xx.K9x', 'x.Txx.AQ8.QT8xxx AJ8xxxx.J9x.xxx. K9.Q8xxx.Tx.AJxx QTx.AK.KJ9xx.K9x', 'x.Txx.AQ8.QT8xxx AJ8xxxx.J9x.xxx. K9.Q8xxx.Tx.AJxx QTx.AK.KJ9xx.K9x', 'x.Txx.AQ8.QT8xxx AJ8xxxx.J9x.xxx. K9.Q8xxx.Tx.AJxx QTx.AK.KJ9xx.K9x', 'x.Txx.AQ8x.Q98xx AJ8xxxx.J9x.xxx. K9.Q8xxx.Tx.AJxx QTx.AK.KJ9x.KTxx', 'x.Txx.AQ8.QT8xxx AJ8xxxx.J9x.xxx. K9.Q8xxx.Tx.AJxx QTx.AK.KJ9xx.K9x', 'x.Txx.AQ8x.Q98xx AJ8xxxx.J9x.xxx. K9.Q8xxx.Tx.AJxx QTx.AK.KJ9x.KTxx', 'x.Txx.AQ8x.Q98xx AJ8xxxx.J9x.xxx. K9.Q8xxx.Tx.AJxx QTx.AK.KJ9x.KTxx', 'x.Txx.AQ8x.Q98xx AJ8xxxx.J9x.xxx. K9.Q8xxx.Tx.AJxx QTx.AK.KJ9x.KTxx', 'x.Txx.AQ8.QT8xxx AJ8xxxx.J9x.xxx. K9.Q8xxx.Tx.AJxx QTx.AK.KJ9xx.K9x', 'x.Txx.AQ8x.Q98xx AJ8xxxx.J9x.xxx. K9.Q8xxx.Tx.AJxx QTx.AK.KJ9x.KTxx', 'x.Txx.AQ8x.Q98xx AJ8xxxx.J9x.xxx. K9.Q8xxx.Tx.AJxx QTx.AK.KJ9x.KTxx']} 5\n",
      "S3 .\n",
      "{'card': 'S3', 'candidates': [{'card': 'HJ', 'insta_score': 0.5967442791296635, 'expected_tricks': 6.0, 'expected_score': -100.0}, {'card': 'S8', 'insta_score': 0.13771703882184586, 'expected_tricks': 6.0, 'expected_score': -100.0}, {'card': 'S6', 'insta_score': 0.0799004386241123, 'expected_tricks': 6.0, 'expected_score': -100.0}, {'card': 'S3', 'insta_score': 0.0799004386241123, 'expected_tricks': 6.0, 'expected_score': -100.0}, {'card': 'S7', 'insta_score': 0.0799004386241123, 'expected_tricks': 6.0, 'expected_score': -100.0}, {'card': 'SJ', 'insta_score': 0.18563824342437826, 'expected_tricks': 5.0, 'expected_score': -200.0}], 'samples': ['x.K8xx.AQ8x.Txxx AJ8xxxx.J9x.xxx. K9.QTxxx.Tx.AJxx QTx.A.KJ9x.KQ98x', 'x.KTxx.AQ8x.Jxxx AJ8xxxx.J9x.xxx. K9.Q8xxx.Tx.ATxx QTx.A.KJ9x.KQ98x', 'x.KQxx.AQ8x.Jxxx AJ8xxxx.J9x.xxx. K9.T8xxx.Tx.ATxx QTx.A.KJ9x.KQ98x', 'x.K8xx.AQ8x.Jxxx AJ8xxxx.J9x.xxx. K9.QTxxx.Tx.ATxx QTx.A.KJ9x.KQ98x', 'x.KT8x.AQ8x.Jxxx AJ8xxxx.J9x.xxx. K9.Qxxxx.Tx.ATxx QTx.A.KJ9x.KQ98x', 'x.Txx.AQ8x.Txxxx AJ8xxxx.J9x.xxx. K9.KQ8xxx.Tx.AJx QTx.A.KJ9x.KQ98x', 'x.Kxx.AQ8x.Txxxx AJ8xxxx.J9x.xxx. K9.QT8xxx.Tx.AJx QTx.A.KJ9x.KQ98x', 'x.Q8xx.AQ8x.Jxxx AJ8xxxx.J9x.xxx. K9.KTxxx.Tx.ATxx QTx.A.KJ9x.KQ98x', 'x.T8xx.AQ8x.Jxxx AJ8xxxx.J9x.xxx. K9.KQxxx.Tx.ATxx QTx.A.KJ9x.KQ98x', 'x.Txx.AQ8x.Txxxx AJ8xxxx.J9x.xxx. K9.KQ8xxx.Tx.AJx QTx.A.KJ9x.KQ98x', 'x.KQxx.AQ8x.Txxx AJ8xxxx.J9x.xxx. K9.T8xxx.Tx.AJxx QTx.A.KJ9x.KQ98x', 'x.xxx.AQ8x.Txxxx AJ8xxxx.J9x.xxx. K9.KQT8xx.Tx.AJx QTx.A.KJ9x.KQ98x', 'x.Kx.AQ8x.Jxxxxx AJ8xxxx.J9x.xxx. K9.QT8xxxx.Tx.AT QTx.A.KJ9x.KQ98x', 'x.KQx.AQ8x.Jxxxx AJ8xxxx.J9x.xxx. K9.T8xxxx.Tx.ATx QTx.A.KJ9x.KQ98x', 'x.KT8x.AQ8x.Jxxx AJ8xxxx.J9x.xxx. K9.Qxxxx.Tx.ATxx QTx.A.KJ9x.KQ98x', 'x.Txx.AQ8x.Txxxx AJ8xxxx.J9x.xxx. K9.KQ8xxx.Tx.AJx QTx.A.KJ9x.KQ98x', 'x.KQxx.AQ8x.Txxx AJ8xxxx.J9x.xxx. K9.T8xxx.Tx.AJxx QTx.A.KJ9x.KQ98x', 'x.KTxxx.AQ8x.Jxx AJ8xxxx.J9x.xxx. K9.Q8xx.Tx.ATxxx QTx.A.KJ9x.KQ98x', 'x.KQ8x.AQ8x.Jxxx AJ8xxxx.J9x.xxx. K9.Txxxx.Tx.ATxx QTx.A.KJ9x.KQ98x', 'x.Qxx.AQ8x.Jxxxx AJ8xxxx.J9x.xxx. K9.KT8xxx.Tx.ATx QTx.A.KJ9x.KQ98x']} 7\n",
      "C4 .\n",
      "{'card': 'C4', 'candidates': [{'card': 'C7', 'insta_score': 0.5205493754736455, 'expected_tricks': 0.0, 'expected_score': 100.0}, {'card': 'C4', 'insta_score': 0.5205493754736455, 'expected_tricks': 0.0, 'expected_score': 100.0}, {'card': 'H5', 'insta_score': 0.39725147736526356, 'expected_tricks': 0.0, 'expected_score': 100.0}, {'card': 'H8', 'insta_score': 0.08213492836155692, 'expected_tricks': 0.0, 'expected_score': 100.0}, {'card': 'CJ', 'insta_score': 0.0, 'expected_tricks': 0.0, 'expected_score': 100.0}, {'card': 'HQ', 'insta_score': 0.0, 'expected_tricks': 0.0, 'expected_score': 100.0}], 'samples': ['x.Txx.AQ8x.Q98xx AJ8xxxx.J9x.xxx. K9.Q8xxx.Tx.AJxx QTx.AK.KJ9x.KTxx', 'x.Txx.AQ8x.Q98xx AJ8xxxx.J9x.xxx. K9.Q8xxx.Tx.AJxx QTx.AK.KJ9x.KTxx', 'x.Txx.AQ8.QT8xxx AJ8xxxx.J9x.xxx. K9.Q8xxx.Tx.AJxx QTx.AK.KJ9xx.K9x', 'x.Txx.AQ8.QT8xxx AJ8xxxx.J9x.xxx. K9.Q8xxx.Tx.AJxx QTx.AK.KJ9xx.K9x', 'x.Txx.AQ8x.Q98xx AJ8xxxx.J9x.xxx. K9.Q8xxx.Tx.AJxx QTx.AK.KJ9x.KTxx', 'x.Txx.AQ8.QT8xxx AJ8xxxx.J9x.xxx. K9.Q8xxx.Tx.AJxx QTx.AK.KJ9xx.K9x', 'x.Txx.AQ8x.K98xx AJ8xxxx.J9x.xxx. K9.Q8xxx.Tx.AJxx QTx.AK.KJ9x.QTxx', 'x.Txx.AQ8x.Q98xx AJ8xxxx.J9x.xxx. K9.Q8xxx.Tx.AJxx QTx.AK.KJ9x.KTxx', 'x.Txx.AQ8.QT8xxx AJ8xxxx.J9x.xxx. K9.Q8xxx.Tx.AJxx QTx.AK.KJ9xx.K9x', 'x.Txx.AQ8x.Q98xx AJ8xxxx.J9x.xxx. K9.Q8xxx.Tx.AJxx QTx.AK.KJ9x.KTxx', 'x.Txx.AQ8x.Q98xx AJ8xxxx.J9x.xxx. K9.Q8xxx.Tx.AJxx QTx.AK.KJ9x.KTxx', 'x.Txx.AQ8x.Q98xx AJ8xxxx.J9x.xxx. K9.Q8xxx.Tx.AJxx QTx.AK.KJ9x.KTxx', 'x.Txx.AQ8x.Q98xx AJ8xxxx.J9x.xxx. K9.Q8xxx.Tx.AJxx QTx.AK.KJ9x.KTxx', 'x.Txx.AQ8.QT8xxx AJ8xxxx.J9x.xxx. K9.Q8xxx.Tx.AJxx QTx.AK.KJ9xx.K9x', 'x.Txx.AQ8x.Q98xx AJ8xxxx.J9x.xxx. K9.Q8xxx.Tx.AJxx QTx.AK.KJ9x.KTxx', 'x.Txx.AQ8.QT8xxx AJ8xxxx.J9x.xxx. K9.Q8xxx.Tx.AJxx QTx.AK.KJ9xx.K9x', 'x.Txx.AQ8x.Q98xx AJ8xxxx.J9x.xxx. K9.Q8xxx.Tx.AJxx QTx.AK.KJ9x.KTxx', 'x.Txx.AQ8x.Q98xx AJ8xxxx.J9x.xxx. K9.Q8xxx.Tx.AJxx QTx.AK.KJ9x.KTxx', 'x.Txx.AQ8.QT8xxx AJ8xxxx.J9x.xxx. K9.Q8xxx.Tx.AJxx QTx.AK.KJ9xx.K9x', 'x.Txx.AQ8x.Q98xx AJ8xxxx.J9x.xxx. K9.Q8xxx.Tx.AJxx QTx.AK.KJ9x.KTxx']} 31\n",
      "ST .\n",
      "{'card': 'ST', 'candidates': [{'card': 'ST', 'insta_score': 1.0, 'expected_tricks': -2.0, 'expected_score': 0.0}], 'samples': ['x.Q8xx.AQ8x.Txxx AJ8xxxx.J9x.xxx. K9.KTxxx.Tx.AJxx QTx.A.KJ9x.KQ98x', 'x.KQxx.AQ8x.Jxxx AJ8xxxx.J9x.xxx. K9.T8xxx.Tx.ATxx QTx.A.KJ9x.KQ98x', 'x.QTx.AQ8x.Txxxx AJ8xxxx.J9x.xxx. K9.K8xxxx.Tx.AJx QTx.A.KJ9x.KQ98x', 'x.KQxx.AQ8x.Txxx AJ8xxxx.J9x.xxx. K9.T8xxx.Tx.AJxx QTx.A.KJ9x.KQ98x', 'x.KQxx.AQ8x.Jxxx AJ8xxxx.J9x.xxx. K9.T8xxx.Tx.ATxx QTx.A.KJ9x.KQ98x', 'x.KQxx.AQ8x.Txxx AJ8xxxx.J9x.xxx. K9.T8xxx.Tx.AJxx QTx.A.KJ9x.KQ98x', 'x.KTxx.AQ8x.Txxx AJ8xxxx.J9x.xxx. K9.Q8xxx.Tx.AJxx QTx.A.KJ9x.KQ98x', 'x.KQ8x.AQ8x.Txxx AJ8xxxx.J9x.xxx. K9.Txxxx.Tx.AJxx QTx.A.KJ9x.KQ98x', 'x.T8xxx.AQ8x.Jxx AJ8xxxx.J9x.xxx. K9.KQxx.Tx.ATxxx QTx.A.KJ9x.KQ98x', 'x.QTx.AQ8x.Txxxx AJ8xxxx.J9x.xxx. K9.K8xxxx.Tx.AJx QTx.A.KJ9x.KQ98x', 'x.QTx.AQ8x.Jxxxx AJ8xxxx.J9x.xxx. K9.K8xxxx.Tx.ATx QTx.A.KJ9x.KQ98x', 'x.KTxx.AQ8x.Jxxx AJ8xxxx.J9x.xxx. K9.Q8xxx.Tx.ATxx QTx.A.KJ9x.KQ98x', 'x.K8x.AQ8x.Jxxxx AJ8xxxx.J9x.xxx. K9.QTxxxx.Tx.ATx QTx.A.KJ9x.KQ98x', 'x.Kxxx.AQ8x.Jxxx AJ8xxxx.J9x.xxx. K9.QT8xx.Tx.ATxx QTx.A.KJ9x.KQ98x', 'x.T8xx.AQ8x.Jxxx AJ8xxxx.J9x.xxx. K9.KQxxx.Tx.ATxx QTx.A.KJ9x.KQ98x', 'x.K8x.AQ8x.Jxxxx AJ8xxxx.J9x.xxx. K9.QTxxxx.Tx.ATx QTx.A.KJ9x.KQ98x', 'x.Txx.AQ8x.Jxxxx AJ8xxxx.J9x.xxx. K9.KQ8xxx.Tx.ATx QTx.A.KJ9x.KQ98x', 'x.KTxx.AQ8x.Txxx AJ8xxxx.J9x.xxx. K9.Q8xxx.Tx.AJxx QTx.A.KJ9x.KQ98x', 'x.Txx.AQ8x.Jxxxx AJ8xxxx.J9x.xxx. K9.KQ8xxx.Tx.ATx QTx.A.KJ9x.KQ98x', 'x.Kxx.AQ8x.Jxxxx AJ8xxxx.J9x.xxx. K9.QT8xxx.Tx.ATx QTx.A.KJ9x.KQ98x']} 4\n",
      "H3 .\n",
      "{'card': 'H3', 'candidates': [{'card': 'H3', 'insta_score': 0.49605627527958684, 'expected_tricks': 0.0, 'expected_score': 100.0}, {'card': 'C5', 'insta_score': 0.44183446340999544, 'expected_tricks': 0.0, 'expected_score': 100.0}, {'card': 'D2', 'insta_score': 0.05947950612445847, 'expected_tricks': 0.0, 'expected_score': 100.0}, {'card': 'HK', 'insta_score': 0.0, 'expected_tricks': 0.0, 'expected_score': 100.0}, {'card': 'HT', 'insta_score': 0.0, 'expected_tricks': 0.0, 'expected_score': 100.0}, {'card': 'CT', 'insta_score': 0.0, 'expected_tricks': 0.0, 'expected_score': 100.0}], 'samples': ['x.KTxx.AQ8x.Txxx AJ8xxxx.J9x.xxx. K9.8xxx.Tx.AQ98x QTx.AQ.KJ9x.KJxx', 'x.KTxx.AQ8x.Txxx AJ8xxxx.J9x.xxx. K9.8xxx.Tx.AQ8xx QTx.AQ.KJ9x.KJ9x', 'x.KTxx.AQ8x.Txxx AJ8xxxx.J9x.xxx. K9.xxx.Tx.AQJ8xx QTx.AQ8.KJ9x.K9x', 'x.KTxx.AQ8x.Txxx AJ8xxxx.J9x.xxx. K9.xxx.Tx.AQ98xx QTx.AQ8.KJ9x.KJx', 'x.KTxx.AQ8x.Txxx AJ8xxxx.J9x.xxx. K9.xxx.Tx.AQJ8xx QTx.AQ8.KJ9x.K9x', 'x.KTxx.AQ8x.Txxx AJ8xxxx.J9x.xxx. K9.8xxx.Tx.AQ8xx QTx.AQ.KJ9x.KJ9x', 'x.KTxx.AQ8x.Txxx AJ8xxxx.J9x.xxx. K9.Qxxx.Tx.AJ9xx QTx.A8.KJ9x.KQ8x', 'x.KTxx.AQ8x.Txxx AJ8xxxx.J9x.xxx. K9.xxx.Tx.AQJ8xx QTx.AQ8.KJ9x.K9x', 'x.KTxx.AQ8x.Txxx AJ8xxxx.J9x.xxx. K9.xxx.Tx.AJ98xx QTx.AQ8.KJ9x.KQx', 'x.KTxx.AQ8x.Txxx AJ8xxxx.J9x.xxx. K9.8xxx.Tx.AQ9xx QTx.AQ.KJ9x.KJ8x', 'x.KTxx.AQ8x.Txxx AJ8xxxx.J9x.xxx. K9.xxx.Tx.AQ98xx QTx.AQ8.KJ9x.KJx', 'x.KTxx.AQ8x.Txxx AJ8xxxx.J9x.xxx. K9.xxx.Tx.AQJ9xx QTx.AQ8.KJ9x.K8x', 'x.KTxx.AQ8x.Txxx AJ8xxxx.J9x.xxx. K9.8xxx.Tx.AQ98x QTx.AQ.KJ9x.KJxx', 'x.KTxx.AQ8x.Txxx AJ8xxxx.J9x.xxx. K9.xxx.Tx.AQJ98x QTx.AQ8.KJ9x.Kxx', 'x.KTxx.AQ8x.Txxx AJ8xxxx.J9x.xxx. K9.8xxx.Tx.AQ98x QTx.AQ.KJ9x.KJxx', 'x.KTxx.AQ8x.Txxx AJ8xxxx.J9x.xxx. K9.xxx.Tx.AQ98xx QTx.AQ8.KJ9x.KJx', 'x.KTxx.AQ8x.Txxx AJ8xxxx.J9x.xxx. K9.xxx.Tx.AQ98xx QTx.AQ8.KJ9x.KJx', 'x.KTxx.AQ8x.Txxx AJ8xxxx.J9x.xxx. K9.8xxx.Tx.AQ98x QTx.AQ.KJ9x.KJxx', 'x.KTxx.AQ8x.Txxx AJ8xxxx.J9x.xxx. K9.xxx.Tx.AQJ98x QTx.AQ8.KJ9x.Kxx', 'x.KTxx.AQ8x.Txxx AJ8xxxx.J9x.xxx. K9.8xxx.Tx.AQ98x QTx.AQ.KJ9x.KJxx']} 15\n",
      "CK .\n",
      "{'card': 'CK', 'candidates': [{'card': 'CK', 'insta_score': 0.48348929696250725, 'expected_tricks': 5.0, 'expected_score': -100.0}, {'card': 'CQ', 'insta_score': 0.28623713711799054, 'expected_tricks': 5.0, 'expected_score': -100.0}, {'card': 'DK', 'insta_score': 0.228265833330567, 'expected_tricks': 5.0, 'expected_score': -100.0}, {'card': 'C9', 'insta_score': 0.0, 'expected_tricks': 4.0, 'expected_score': -200.0}, {'card': 'C8', 'insta_score': 0.0, 'expected_tricks': 4.0, 'expected_score': -200.0}], 'samples': ['x.KQxx.AQ8x.Jxxx AJ8xxxx.J9x.xxx. K9.T8xxx.Tx.ATxx QTx.A.KJ9x.KQ98x', 'x.Kxxx.AQ8x.Jxxx AJ8xxxx.J9x.xxx. K9.QT8xx.Tx.ATxx QTx.A.KJ9x.KQ98x', 'x.T8xxx.AQ8x.Jxx AJ8xxxx.J9x.xxx. K9.KQxx.Tx.ATxxx QTx.A.KJ9x.KQ98x', 'x.Kxxx.AQ8x.Txxx AJ8xxxx.J9x.xxx. K9.QT8xx.Tx.AJxx QTx.A.KJ9x.KQ98x', 'x.QTxxx.AQ8x.Jxx AJ8xxxx.J9x.xxx. K9.K8xx.Tx.ATxxx QTx.A.KJ9x.KQ98x', 'x.Kxxx.AQ8x.Txxx AJ8xxxx.J9x.xxx. K9.QT8xx.Tx.AJxx QTx.A.KJ9x.KQ98x', 'x.Q8xx.AQ8x.Txxx AJ8xxxx.J9x.xxx. K9.KTxxx.Tx.AJxx QTx.A.KJ9x.KQ98x', 'x.K8xx.AQ8x.Txxx AJ8xxxx.J9x.xxx. K9.QTxxx.Tx.AJxx QTx.A.KJ9x.KQ98x', 'x.KQxxx.AQ8x.Jxx AJ8xxxx.J9x.xxx. K9.T8xx.Tx.ATxxx QTx.A.KJ9x.KQ98x', 'x.KQxx.AQ8x.Txxx AJ8xxxx.J9x.xxx. K9.T8xxx.Tx.AJxx QTx.A.KJ9x.KQ98x', 'x.KQxx.AQ8x.Jxxx AJ8xxxx.J9x.xxx. K9.T8xxx.Tx.ATxx QTx.A.KJ9x.KQ98x', 'x.Txx.AQ8x.Txxxx AJ8xxxx.J9x.xxx. K9.KQ8xxx.Tx.AJx QTx.A.KJ9x.KQ98x', 'x.Qxxx.AQ8x.Jxxx AJ8xxxx.J9x.xxx. K9.KT8xx.Tx.ATxx QTx.A.KJ9x.KQ98x', 'x.KQxx.AQ8x.Txxx AJ8xxxx.J9x.xxx. K9.T8xxx.Tx.AJxx QTx.A.KJ9x.KQ98x', 'x.KTxx.AQ8x.Txxx AJ8xxxx.J9x.xxx. K9.Q8xxx.Tx.AJxx QTx.A.KJ9x.KQ98x', 'x.KTxxx.AQ8x.Jxx AJ8xxxx.J9x.xxx. K9.Q8xx.Tx.ATxxx QTx.A.KJ9x.KQ98x', 'x.QTxx.AQ8x.Jxxx AJ8xxxx.J9x.xxx. K9.K8xxx.Tx.ATxx QTx.A.KJ9x.KQ98x', 'x.KT8xx.AQ8x.Jxx AJ8xxxx.J9x.xxx. K9.Qxxx.Tx.ATxxx QTx.A.KJ9x.KQ98x', 'x.KQxx.AQ8x.Txxx AJ8xxxx.J9x.xxx. K9.T8xxx.Tx.AJxx QTx.A.KJ9x.KQ98x', 'x.Qxxx.AQ8x.Jxxx AJ8xxxx.J9x.xxx. K9.KT8xx.Tx.ATxx QTx.A.KJ9x.KQ98x']} 25\n",
      "C5 .\n",
      "{'card': 'C5', 'candidates': [{'card': 'C5', 'insta_score': 0.9994173877305821, 'expected_tricks': 0.0, 'expected_score': 100.0}, {'card': 'CT', 'insta_score': 0.0, 'expected_tricks': 0.0, 'expected_score': 100.0}], 'samples': ['x.KTxx.AQ8x.Txxx AJ8xxxx.J9x.xxx. K9.8xxx.Tx.AQJxx QTx.AQ.KJ9x.K98x', 'x.KTxx.AQ8x.Txxx AJ8xxxx.J9x.xxx. K9.xxx.Tx.AQJ98x QTx.AQ8.KJ9x.Kxx', 'x.KTxx.AQ8x.Txxx AJ8xxxx.J9x.xxx. K9.8xxx.Tx.AQ98x QTx.AQ.KJ9x.KJxx', 'x.KTxx.AQ8x.Txxx AJ8xxxx.J9x.xxx. K9.8xxx.Tx.AQ8xx QTx.AQ.KJ9x.KJ9x', 'x.KTxx.AQ8x.Txxx AJ8xxxx.J9x.xxx. K9.Qxxx.Tx.AJ9xx QTx.A8.KJ9x.KQ8x', 'x.KTxx.AQ8x.Txxx AJ8xxxx.J9x.xxx. K9.xxx.Tx.AQ98xx QTx.AQ8.KJ9x.KJx', 'x.KTxx.AQ8x.Txxx AJ8xxxx.J9x.xxx. K9.8xxx.Tx.AQJxx QTx.AQ.KJ9x.K98x', 'x.KTxx.AQ8x.Txxx AJ8xxxx.J9x.xxx. K9.8xxx.Tx.AQJ9x QTx.AQ.KJ9x.K8xx', 'x.KTxx.AQ8x.Txxx AJ8xxxx.J9x.xxx. K9.8xxx.Tx.AQJxx QTx.AQ.KJ9x.K98x', 'x.KTxx.AQ8x.Txxx AJ8xxxx.J9x.xxx. K9.8xxx.Tx.AQ98x QTx.AQ.KJ9x.KJxx', 'x.KTxx.AQ8x.Txxx AJ8xxxx.J9x.xxx. K9.8xxx.Tx.AQ8xx QTx.AQ.KJ9x.KJ9x', 'x.KTxx.AQ8x.Txxx AJ8xxxx.J9x.xxx. K9.8xxx.Tx.AQJxx QTx.AQ.KJ9x.K98x', 'x.KTxx.AQ8x.Txxx AJ8xxxx.J9x.xxx. K9.8xxx.Tx.AQJxx QTx.AQ.KJ9x.K98x', 'x.KTxx.AQ8x.Txxx AJ8xxxx.J9x.xxx. K9.xxx.Tx.AQ98xx QTx.AQ8.KJ9x.KJx', 'x.KTxx.AQ8x.Txxx AJ8xxxx.J9x.xxx. K9.Qxxx.Tx.AJ98x QTx.A8.KJ9x.KQxx', 'x.KTxx.AQ8x.Txxx AJ8xxxx.J9x.xxx. K9.xxx.Tx.AQ98xx QTx.AQ8.KJ9x.KJx', 'x.KTxx.AQ8x.Txxx AJ8xxxx.J9x.xxx. K9.Qxxx.Tx.AJ9xx QTx.A8.KJ9x.KQ8x', 'x.KTxx.AQ8x.Txxx AJ8xxxx.J9x.xxx. K9.8xxx.Tx.AQ98x QTx.AQ.KJ9x.KJxx', 'x.KTxx.AQ8x.Txxx AJ8xxxx.J9x.xxx. K9.xxx.Tx.AQJ98x QTx.AQ8.KJ9x.Kxx', 'x.KTxx.AQ8x.Txxx AJ8xxxx.J9x.xxx. K9.Qxxx.Tx.AJ98x QTx.A8.KJ9x.KQxx']} 31\n",
      "HJ .\n",
      "{'card': 'HJ', 'candidates': [{'card': 'HJ', 'insta_score': 0.06553043782278443, 'expected_tricks': 5.0, 'expected_score': -100.0}, {'card': 'S6', 'insta_score': 0.9329314154000252, 'expected_tricks': 4.0, 'expected_score': -200.0}, {'card': 'S7', 'insta_score': 0.9329314154000252, 'expected_tricks': 4.0, 'expected_score': -200.0}, {'card': 'SJ', 'insta_score': 0.0, 'expected_tricks': 4.0, 'expected_score': -200.0}, {'card': 'S8', 'insta_score': 0.0, 'expected_tricks': 4.0, 'expected_score': -200.0}], 'samples': ['x.KQxx.AQ8x.Jxxx AJ8xxxx.J9x.xxx. K9.T8xxx.Tx.ATxx QTx.A.KJ9x.KQ98x', 'x.KQxx.AQ8x.Jxxx AJ8xxxx.J9x.xxx. K9.T8xxx.Tx.ATxx QTx.A.KJ9x.KQ98x', 'x.QTxx.AQ8x.Jxxx AJ8xxxx.J9x.xxx. K9.K8xxx.Tx.ATxx QTx.A.KJ9x.KQ98x', 'x.KQxx.AQ8x.Jxxx AJ8xxxx.J9x.xxx. K9.T8xxx.Tx.ATxx QTx.A.KJ9x.KQ98x', 'x.Kxx.AQ8x.Txxxx AJ8xxxx.J9x.xxx. K9.QT8xxx.Tx.AJx QTx.A.KJ9x.KQ98x', 'x.KTxx.AQ8x.Jxxx AJ8xxxx.J9x.xxx. K9.Q8xxx.Tx.ATxx QTx.A.KJ9x.KQ98x', 'x.Qxxx.AQ8x.Jxxx AJ8xxxx.J9x.xxx. K9.KT8xx.Tx.ATxx QTx.A.KJ9x.KQ98x', 'x.Kxx.AQ8x.Txxxx AJ8xxxx.J9x.xxx. K9.QT8xxx.Tx.AJx QTx.A.KJ9x.KQ98x', 'x.Qxx.AQ8x.Jxxxx AJ8xxxx.J9x.xxx. K9.KT8xxx.Tx.ATx QTx.A.KJ9x.KQ98x', 'x.xxx.AQ8x.Txxxx AJ8xxxx.J9x.xxx. K9.KQT8xx.Tx.AJx QTx.A.KJ9x.KQ98x', 'x.T8xx.AQ8x.Jxxx AJ8xxxx.J9x.xxx. K9.KQxxx.Tx.ATxx QTx.A.KJ9x.KQ98x', 'x.KQxx.AQ8x.Txxx AJ8xxxx.J9x.xxx. K9.T8xxx.Tx.AJxx QTx.A.KJ9x.KQ98x', 'x.Kxxx.AQ8x.Txxx AJ8xxxx.J9x.xxx. K9.QT8xx.Tx.AJxx QTx.A.KJ9x.KQ98x', 'x.Kxx.AQ8x.Txxxx AJ8xxxx.J9x.xxx. K9.QT8xxx.Tx.AJx QTx.A.KJ9x.KQ98x', 'x.xxx.AQ8x.Jxxxx AJ8xxxx.J9x.xxx. K9.KQT8xx.Tx.ATx QTx.A.KJ9x.KQ98x', 'x.K8xx.AQ8x.Jxxx AJ8xxxx.J9x.xxx. K9.QTxxx.Tx.ATxx QTx.A.KJ9x.KQ98x', 'x.KTxx.AQ8x.Txxx AJ8xxxx.J9x.xxx. K9.Q8xxx.Tx.AJxx QTx.A.KJ9x.KQ98x', 'x.KQxx.AQ8x.Jxxx AJ8xxxx.J9x.xxx. K9.T8xxx.Tx.ATxx QTx.A.KJ9x.KQ98x', 'x.Txxx.AQ8x.Jxxx AJ8xxxx.J9x.xxx. K9.KQ8xx.Tx.ATxx QTx.A.KJ9x.KQ98x', 'x.Kxxx.AQ8x.Jxxx AJ8xxxx.J9x.xxx. K9.QT8xx.Tx.ATxx QTx.A.KJ9x.KQ98x']} 11\n",
      "C7 .\n",
      "{'card': 'C7', 'candidates': [{'card': 'C7', 'insta_score': 0.9995937649088622, 'expected_tricks': 0.0, 'expected_score': 100.0}, {'card': 'CJ', 'insta_score': 0.0, 'expected_tricks': 0.0, 'expected_score': 100.0}], 'samples': ['x.Txx.AQ8x.Q9xxx AJ8xxxx.J9x.xxx. K9.Q8xxx.Tx.AJxx QTx.AK.KJ9x.KT8x', 'x.Txx.AQ8x.QTxxx AJ8xxxx.J9x.xxx. K9.Q8xxx.Tx.AJxx QTx.AK.KJ9x.K98x', 'x.Txx.AQ8x.Q8xxx AJ8xxxx.J9x.xxx. K9.Q8xxx.Tx.AJxx QTx.AK.KJ9x.KT9x', 'x.Txx.AQ8.QT8xxx AJ8xxxx.J9x.xxx. K9.Q8xxx.Tx.AJxx QTx.AK.KJ9xx.K9x', 'x.Txx.AQ8x.Q9xxx AJ8xxxx.J9x.xxx. K9.Q8xxx.Tx.AJxx QTx.AK.KJ9x.KT8x', 'x.Txx.AQ8.Q98xxx AJ8xxxx.J9x.xxx. K9.Q8xxx.Tx.AJxx QTx.AK.KJ9xx.KTx', 'x.Txx.AQ8x.Q9xxx AJ8xxxx.J9x.xxx. K9.Q8xxx.Tx.AJxx QTx.AK.KJ9x.KT8x', 'x.Txx.AQ8.Q98xxx AJ8xxxx.J9x.xxx. K9.Q8xxx.Tx.AJxx QTx.AK.KJ9xx.KTx', 'x.Txx.AQ8.Q98xxx AJ8xxxx.J9x.xxx. K9.Q8xxx.Tx.AJxx QTx.AK.KJ9xx.KTx', 'x.Txx.AQ8x.Q9xxx AJ8xxxx.J9x.xxx. K9.Q8xxx.Tx.AJxx QTx.AK.KJ9x.KT8x', 'x.Txx.AQ8x.Q9xxx AJ8xxxx.J9x.xxx. K9.Q8xxx.Tx.AJxx QTx.AK.KJ9x.KT8x', 'x.Txx.AQ8x.Q8xxx AJ8xxxx.J9x.xxx. K9.Q8xxx.Tx.AJxx QTx.AK.KJ9x.KT9x', 'x.Txx.AQ8x.QTxxx AJ8xxxx.J9x.xxx. K9.Q8xxx.Tx.AJxx QTx.AK.KJ9x.K98x', 'x.Txx.AQ8x.Q9xxx AJ8xxxx.J9x.xxx. K9.Q8xxx.Tx.AJxx QTx.AK.KJ9x.KT8x', 'x.Txx.AQ8x.Q9xxx AJ8xxxx.J9x.xxx. K9.Q8xxx.Tx.AJxx QTx.AK.KJ9x.KT8x', 'x.Txx.AQ8x.Q9xxx AJ8xxxx.J9x.xxx. K9.Q8xxx.Tx.AJxx QTx.AK.KJ9x.KT8x', 'x.Txx.AQ8x.QTxxx AJ8xxxx.J9x.xxx. K9.Q8xxx.Tx.AJxx QTx.AK.KJ9x.K98x', 'x.Txx.AQ8.Q98xxx AJ8xxxx.J9x.xxx. K9.Q8xxx.Tx.AJxx QTx.AK.KJ9xx.KTx', 'x.Txx.AQ8.Q98xxx AJ8xxxx.J9x.xxx. K9.Q8xxx.Tx.AJxx QTx.AK.KJ9xx.KTx', 'x.Txx.AQ8.QT8xxx AJ8xxxx.J9x.xxx. K9.Q8xxx.Tx.AJxx QTx.AK.KJ9xx.K9x']} 31\n",
      "C8 .\n",
      "{'card': 'C8', 'candidates': [{'card': 'CQ', 'insta_score': 0.6679332343257938, 'expected_tricks': 4.0, 'expected_score': -100.0}, {'card': 'DK', 'insta_score': 0.32690940738469715, 'expected_tricks': 4.0, 'expected_score': -100.0}, {'card': 'C9', 'insta_score': 0.0, 'expected_tricks': 4.0, 'expected_score': -100.0}, {'card': 'C8', 'insta_score': 0.0, 'expected_tricks': 4.0, 'expected_score': -100.0}], 'samples': ['x.Q8xx.AQ8x.Txxx AJ8xxxx.J9x.xxx. K9.KTxxx.Tx.AJxx QTx.A.KJ9x.KQ98x', 'x.Kxxx.AQ8x.Jxxx AJ8xxxx.J9x.xxx. K9.QT8xx.Tx.ATxx QTx.A.KJ9x.KQ98x', 'x.KQxx.AQ8x.Txxx AJ8xxxx.J9x.xxx. K9.T8xxx.Tx.AJxx QTx.A.KJ9x.KQ98x', 'x.KTxx.AQ8x.Jxxx AJ8xxxx.J9x.xxx. K9.Q8xxx.Tx.ATxx QTx.A.KJ9x.KQ98x', 'x.T8xx.AQ8x.Jxxx AJ8xxxx.J9x.xxx. K9.KQxxx.Tx.ATxx QTx.A.KJ9x.KQ98x', 'x.Kxxx.AQ8x.Jxxx AJ8xxxx.J9x.xxx. K9.QT8xx.Tx.ATxx QTx.A.KJ9x.KQ98x', 'x.KQxx.AQ8x.Txxx AJ8xxxx.J9x.xxx. K9.T8xxx.Tx.AJxx QTx.A.KJ9x.KQ98x', 'x.Txxx.AQ8x.Jxxx AJ8xxxx.J9x.xxx. K9.KQ8xx.Tx.ATxx QTx.A.KJ9x.KQ98x', 'x.Qxxx.AQ8x.Jxxx AJ8xxxx.J9x.xxx. K9.KT8xx.Tx.ATxx QTx.A.KJ9x.KQ98x', 'x.Txxx.AQ8x.Jxxx AJ8xxxx.J9x.xxx. K9.KQ8xx.Tx.ATxx QTx.A.KJ9x.KQ98x', 'x.KQxx.AQ8x.Jxxx AJ8xxxx.J9x.xxx. K9.T8xxx.Tx.ATxx QTx.A.KJ9x.KQ98x', 'x.K8xx.AQ8x.Jxxx AJ8xxxx.J9x.xxx. K9.QTxxx.Tx.ATxx QTx.A.KJ9x.KQ98x', 'x.Kxxx.AQ8x.Jxxx AJ8xxxx.J9x.xxx. K9.QT8xx.Tx.ATxx QTx.A.KJ9x.KQ98x', 'x.Kxxx.AQ8x.Jxxx AJ8xxxx.J9x.xxx. K9.QT8xx.Tx.ATxx QTx.A.KJ9x.KQ98x', 'x.Kxxx.AQ8x.Txxx AJ8xxxx.J9x.xxx. K9.QT8xx.Tx.AJxx QTx.A.KJ9x.KQ98x', 'x.K8xx.AQ8x.Txxx AJ8xxxx.J9x.xxx. K9.QTxxx.Tx.AJxx QTx.A.KJ9x.KQ98x', 'x.Kxxx.AQ8x.Jxxx AJ8xxxx.J9x.xxx. K9.QT8xx.Tx.ATxx QTx.A.KJ9x.KQ98x', 'x.KTxx.AQ8x.Jxxx AJ8xxxx.J9x.xxx. K9.Q8xxx.Tx.ATxx QTx.A.KJ9x.KQ98x', 'x.K8xx.AQ8x.Txxx AJ8xxxx.J9x.xxx. K9.QTxxx.Tx.AJxx QTx.A.KJ9x.KQ98x', 'x.KQxx.AQ8x.Txxx AJ8xxxx.J9x.xxx. K9.T8xxx.Tx.AJxx QTx.A.KJ9x.KQ98x']} 30\n",
      "CT .\n",
      "{'card': 'CT', 'candidates': [{'card': 'CT', 'insta_score': 1.0, 'expected_tricks': -2.0, 'expected_score': 0.0}], 'samples': ['x.KTxx.AQ8x.Txxx AJ8xxxx.J9x.xxx. K9.8xxx.Tx.AQJxx QTx.AQ.KJ9x.K98x', 'x.KTxx.AQ8x.Txxx AJ8xxxx.J9x.xxx. K9.8xxx.Tx.AQ9xx QTx.AQ.KJ9x.KJ8x', 'x.KTxx.AQ8x.Txxx AJ8xxxx.J9x.xxx. K9.8xxx.Tx.AQJxx QTx.AQ.KJ9x.K98x', 'x.KTxx.AQ8x.Txxx AJ8xxxx.J9x.xxx. K9.8xxx.Tx.AQ9xx QTx.AQ.KJ9x.KJ8x', 'x.KTxx.AQ8x.Txxx AJ8xxxx.J9x.xxx. K9.8xxx.Tx.AQ9xx QTx.AQ.KJ9x.KJ8x', 'x.KTxx.AQ8x.Txxx AJ8xxxx.J9x.xxx. K9.8xxx.Tx.AQJxx QTx.AQ.KJ9x.K98x', 'x.KTxx.AQ8x.Txxx AJ8xxxx.J9x.xxx. K9.8xxx.Tx.AQ9xx QTx.AQ.KJ9x.KJ8x', 'x.KTxx.AQ8x.Txxx AJ8xxxx.J9x.xxx. K9.8xxx.Tx.AQ9xx QTx.AQ.KJ9x.KJ8x', 'x.KTxx.AQ8x.Txxx AJ8xxxx.J9x.xxx. K9.8xxx.Tx.AQ9xx QTx.AQ.KJ9x.KJ8x', 'x.KTxx.AQ8x.Txxx AJ8xxxx.J9x.xxx. K9.8xxx.Tx.AQ9xx QTx.AQ.KJ9x.KJ8x', 'x.KTxx.AQ8x.Txxx AJ8xxxx.J9x.xxx. K9.8xxx.Tx.AQ9xx QTx.AQ.KJ9x.KJ8x', 'x.KTxx.AQ8x.Txxx AJ8xxxx.J9x.xxx. K9.8xxx.Tx.AQ9xx QTx.AQ.KJ9x.KJ8x', 'x.KTxx.AQ8x.Txxx AJ8xxxx.J9x.xxx. K9.8xxx.Tx.AQJxx QTx.AQ.KJ9x.K98x', 'x.KTxx.AQ8x.Txxx AJ8xxxx.J9x.xxx. K9.8xxx.Tx.AQ9xx QTx.AQ.KJ9x.KJ8x', 'x.KTxx.AQ8x.Txxx AJ8xxxx.J9x.xxx. K9.8xxx.Tx.AQJxx QTx.AQ.KJ9x.K98x', 'x.KTxx.AQ8x.Txxx AJ8xxxx.J9x.xxx. K9.8xxx.Tx.AQJxx QTx.AQ.KJ9x.K98x', 'x.KTxx.AQ8x.Txxx AJ8xxxx.J9x.xxx. K9.8xxx.Tx.AQJxx QTx.AQ.KJ9x.K98x', 'x.KTxx.AQ8x.Txxx AJ8xxxx.J9x.xxx. K9.8xxx.Tx.AQ9xx QTx.AQ.KJ9x.KJ8x', 'x.KTxx.AQ8x.Txxx AJ8xxxx.J9x.xxx. K9.8xxx.Tx.AQJxx QTx.AQ.KJ9x.K98x', 'x.KTxx.AQ8x.Txxx AJ8xxxx.J9x.xxx. K9.8xxx.Tx.AQJxx QTx.AQ.KJ9x.K98x']} 28\n",
      "S6 .\n",
      "{'card': 'S6', 'candidates': [{'card': 'S7', 'insta_score': 0.997662147226098, 'expected_tricks': -2.0, 'expected_score': 0.0}, {'card': 'S6', 'insta_score': 0.997662147226098, 'expected_tricks': -2.0, 'expected_score': 0.0}, {'card': 'S8', 'insta_score': 0.0, 'expected_tricks': -2.0, 'expected_score': 0.0}, {'card': 'SJ', 'insta_score': 0.0, 'expected_tricks': -2.0, 'expected_score': 0.0}], 'samples': ['x.Q8xx.AQ8x.Txxx AJ8xxxx.J9x.xxx. K9.KTxxx.Tx.AJxx QTx.A.KJ9x.KQ98x', 'x.Kxxx.AQ8x.Txxx AJ8xxxx.J9x.xxx. K9.QT8xx.Tx.AJxx QTx.A.KJ9x.KQ98x', 'x.KQxx.AQ8x.Txxx AJ8xxxx.J9x.xxx. K9.T8xxx.Tx.AJxx QTx.A.KJ9x.KQ98x', 'x.KQxx.AQ8x.Txxx AJ8xxxx.J9x.xxx. K9.T8xxx.Tx.AJxx QTx.A.KJ9x.KQ98x', 'x.K8xx.AQ8x.Txxx AJ8xxxx.J9x.xxx. K9.QTxxx.Tx.AJxx QTx.A.KJ9x.KQ98x', 'x.Kxxx.AQ8x.Txxx AJ8xxxx.J9x.xxx. K9.QT8xx.Tx.AJxx QTx.A.KJ9x.KQ98x', 'x.KTxx.AQ8x.Txxx AJ8xxxx.J9x.xxx. K9.Q8xxx.Tx.AJxx QTx.A.KJ9x.KQ98x', 'x.KTxx.AQ8x.Txxx AJ8xxxx.J9x.xxx. K9.Q8xxx.Tx.AJxx QTx.A.KJ9x.KQ98x', 'x.Kxxx.AQ8x.Txxx AJ8xxxx.J9x.xxx. K9.QT8xx.Tx.AJxx QTx.A.KJ9x.KQ98x', 'x.Q8xx.AQ8x.Txxx AJ8xxxx.J9x.xxx. K9.KTxxx.Tx.AJxx QTx.A.KJ9x.KQ98x', 'x.Q8xx.AQ8x.Txxx AJ8xxxx.J9x.xxx. K9.KTxxx.Tx.AJxx QTx.A.KJ9x.KQ98x', 'x.K8xx.AQ8x.Txxx AJ8xxxx.J9x.xxx. K9.QTxxx.Tx.AJxx QTx.A.KJ9x.KQ98x', 'x.KQxx.AQ8x.Txxx AJ8xxxx.J9x.xxx. K9.T8xxx.Tx.AJxx QTx.A.KJ9x.KQ98x', 'x.Q8xx.AQ8x.Txxx AJ8xxxx.J9x.xxx. K9.KTxxx.Tx.AJxx QTx.A.KJ9x.KQ98x', 'x.K8xx.AQ8x.Txxx AJ8xxxx.J9x.xxx. K9.QTxxx.Tx.AJxx QTx.A.KJ9x.KQ98x', 'x.Q8xx.AQ8x.Txxx AJ8xxxx.J9x.xxx. K9.KTxxx.Tx.AJxx QTx.A.KJ9x.KQ98x', 'x.KTxx.AQ8x.Txxx AJ8xxxx.J9x.xxx. K9.Q8xxx.Tx.AJxx QTx.A.KJ9x.KQ98x', 'x.K8xx.AQ8x.Txxx AJ8xxxx.J9x.xxx. K9.QTxxx.Tx.AJxx QTx.A.KJ9x.KQ98x', 'x.Kxxx.AQ8x.Txxx AJ8xxxx.J9x.xxx. K9.QT8xx.Tx.AJxx QTx.A.KJ9x.KQ98x', 'x.KQxx.AQ8x.Txxx AJ8xxxx.J9x.xxx. K9.T8xxx.Tx.AJxx QTx.A.KJ9x.KQ98x']} 7\n",
      "CJ .\n",
      "{'card': 'CJ', 'candidates': [{'card': 'CJ', 'insta_score': 1.0, 'expected_tricks': -2.0, 'expected_score': 0.0}], 'samples': ['x.Txx.AQ8x.QTxxx AJ8xxxx.J9x.xxx. K9.Q8xxx.Tx.AJxx QTx.AK.KJ9x.K98x', 'x.Txx.AQ8x.QTxxx AJ8xxxx.J9x.xxx. K9.Q8xxx.Tx.AJxx QTx.AK.KJ9x.K98x', 'x.Txx.AQ8x.QTxxx AJ8xxxx.J9x.xxx. K9.Q8xxx.Tx.AJxx QTx.AK.KJ9x.K98x', 'x.Txx.AQ8x.QTxxx AJ8xxxx.J9x.xxx. K9.Q8xxx.Tx.AJxx QTx.AK.KJ9x.K98x', 'x.Txx.AQ8x.QTxxx AJ8xxxx.J9x.xxx. K9.Q8xxx.Tx.AJxx QTx.AK.KJ9x.K98x', 'x.Txx.AQ8x.QTxxx AJ8xxxx.J9x.xxx. K9.Q8xxx.Tx.AJxx QTx.AK.KJ9x.K98x', 'x.Txx.AQ8x.QTxxx AJ8xxxx.J9x.xxx. K9.Q8xxx.Tx.AJxx QTx.AK.KJ9x.K98x', 'x.Txx.AQ8x.QTxxx AJ8xxxx.J9x.xxx. K9.Q8xxx.Tx.AJxx QTx.AK.KJ9x.K98x', 'x.Txx.AQ8x.QTxxx AJ8xxxx.J9x.xxx. K9.Q8xxx.Tx.AJxx QTx.AK.KJ9x.K98x', 'x.Txx.AQ8x.QTxxx AJ8xxxx.J9x.xxx. K9.Q8xxx.Tx.AJxx QTx.AK.KJ9x.K98x', 'x.Txx.AQ8x.QTxxx AJ8xxxx.J9x.xxx. K9.Q8xxx.Tx.AJxx QTx.AK.KJ9x.K98x', 'x.Txx.AQ8x.QTxxx AJ8xxxx.J9x.xxx. K9.Q8xxx.Tx.AJxx QTx.AK.KJ9x.K98x', 'x.Txx.AQ8x.QTxxx AJ8xxxx.J9x.xxx. K9.Q8xxx.Tx.AJxx QTx.AK.KJ9x.K98x', 'x.Txx.AQ8x.QTxxx AJ8xxxx.J9x.xxx. K9.Q8xxx.Tx.AJxx QTx.AK.KJ9x.K98x', 'x.Txx.AQ8x.QTxxx AJ8xxxx.J9x.xxx. K9.Q8xxx.Tx.AJxx QTx.AK.KJ9x.K98x', 'x.Txx.AQ8x.QTxxx AJ8xxxx.J9x.xxx. K9.Q8xxx.Tx.AJxx QTx.AK.KJ9x.K98x', 'x.Txx.AQ8x.QTxxx AJ8xxxx.J9x.xxx. K9.Q8xxx.Tx.AJxx QTx.AK.KJ9x.K98x', 'x.Txx.AQ8x.QTxxx AJ8xxxx.J9x.xxx. K9.Q8xxx.Tx.AJxx QTx.AK.KJ9x.K98x', 'x.Txx.AQ8x.QTxxx AJ8xxxx.J9x.xxx. K9.Q8xxx.Tx.AJxx QTx.AK.KJ9x.K98x', 'x.Txx.AQ8x.QTxxx AJ8xxxx.J9x.xxx. K9.Q8xxx.Tx.AJxx QTx.AK.KJ9x.K98x']} 27\n"
     ]
    },
    {
     "ename": "KeyboardInterrupt",
     "evalue": "",
     "output_type": "error",
     "traceback": [
      "\u001b[1;31m---------------------------------------------------------------------------\u001b[0m",
      "\u001b[1;31mKeyboardInterrupt\u001b[0m                         Traceback (most recent call last)",
      "Cell \u001b[1;32mIn [5], line 6\u001b[0m\n\u001b[0;32m      1\u001b[0m \u001b[39m# calling this starts the analysis\u001b[39;00m\n\u001b[0;32m      2\u001b[0m \u001b[39m# it will go bid-by-bid and card-by-card, and will take a few moments\u001b[39;00m\n\u001b[0;32m      3\u001b[0m \u001b[39m# possible mistakes will be annotated with ? or with ?? (if it's a bigger mistake)\u001b[39;00m\n\u001b[0;32m      4\u001b[0m \u001b[39m# (possible mistake means that the engine does not agree with the bid/play. the engine could be wrong too :))\u001b[39;00m\n\u001b[1;32m----> 6\u001b[0m card_by_card\u001b[39m.\u001b[39;49manalyze()\n",
      "File \u001b[1;32mc:\\Users\\lucbe\\OneDrive\\Documents\\Bridge\\ben\\ben\\src\\analysis.py:28\u001b[0m, in \u001b[0;36mCardByCard.analyze\u001b[1;34m(self)\u001b[0m\n\u001b[0;32m     26\u001b[0m \u001b[39mprint\u001b[39m(\u001b[39m'\u001b[39m\u001b[39manalyzing the play\u001b[39m\u001b[39m'\u001b[39m)\n\u001b[0;32m     27\u001b[0m \u001b[39mself\u001b[39m\u001b[39m.\u001b[39manalyze_opening_lead()\n\u001b[1;32m---> 28\u001b[0m \u001b[39mself\u001b[39;49m\u001b[39m.\u001b[39;49manalyze_play()\n",
      "File \u001b[1;32mc:\\Users\\lucbe\\OneDrive\\Documents\\Bridge\\ben\\ben\\src\\analysis.py:122\u001b[0m, in \u001b[0;36mCardByCard.analyze_play\u001b[1;34m(self)\u001b[0m\n\u001b[0;32m    120\u001b[0m rollout_states \u001b[39m=\u001b[39m \u001b[39mNone\u001b[39;00m\n\u001b[0;32m    121\u001b[0m \u001b[39mif\u001b[39;00m \u001b[39misinstance\u001b[39m(card_players[player_i], bots\u001b[39m.\u001b[39mCardPlayer):\n\u001b[1;32m--> 122\u001b[0m     rollout_states \u001b[39m=\u001b[39m sample\u001b[39m.\u001b[39;49minit_rollout_states(trick_i, player_i, card_players, player_cards_played, shown_out_suits, current_trick, \u001b[39m200\u001b[39;49m, \u001b[39mself\u001b[39;49m\u001b[39m.\u001b[39;49mpadded_auction, card_players[player_i]\u001b[39m.\u001b[39;49mhand\u001b[39m.\u001b[39;49mreshape((\u001b[39m-\u001b[39;49m\u001b[39m1\u001b[39;49m, \u001b[39m32\u001b[39;49m)), \u001b[39mself\u001b[39;49m\u001b[39m.\u001b[39;49mvuln, \u001b[39mself\u001b[39;49m\u001b[39m.\u001b[39;49mmodels)\n\u001b[0;32m    124\u001b[0m card_resp \u001b[39m=\u001b[39m card_players[player_i]\u001b[39m.\u001b[39mplay_card(trick_i, leader_i, current_trick52, rollout_states)\n\u001b[0;32m    126\u001b[0m card_resp \u001b[39m=\u001b[39m CardResp(Card\u001b[39m.\u001b[39mfrom_symbol(\u001b[39mself\u001b[39m\u001b[39m.\u001b[39mplay[card_i]), card_resp\u001b[39m.\u001b[39mcandidates, card_resp\u001b[39m.\u001b[39msamples)\n",
      "File \u001b[1;32mc:\\Users\\lucbe\\OneDrive\\Documents\\Bridge\\ben\\ben\\src\\sample.py:559\u001b[0m, in \u001b[0;36minit_rollout_states\u001b[1;34m(trick_i, player_i, card_players, player_cards_played, shown_out_suits, current_trick, n_samples, auction, hand, vuln, models)\u001b[0m\n\u001b[0;32m    556\u001b[0m     play_accept_threshold \u001b[39m-\u001b[39m\u001b[39m=\u001b[39m \u001b[39m0.01\u001b[39m\n\u001b[0;32m    557\u001b[0m s_accepted \u001b[39m=\u001b[39m min_scores \u001b[39m>\u001b[39m play_accept_threshold\n\u001b[1;32m--> 559\u001b[0m \u001b[39mreturn\u001b[39;00m [state[s_accepted][:n_samples] \u001b[39mfor\u001b[39;00m state \u001b[39min\u001b[39;00m states]\n",
      "File \u001b[1;32mc:\\Users\\lucbe\\OneDrive\\Documents\\Bridge\\ben\\ben\\src\\sample.py:559\u001b[0m, in \u001b[0;36m<listcomp>\u001b[1;34m(.0)\u001b[0m\n\u001b[0;32m    556\u001b[0m     play_accept_threshold \u001b[39m-\u001b[39m\u001b[39m=\u001b[39m \u001b[39m0.01\u001b[39m\n\u001b[0;32m    557\u001b[0m s_accepted \u001b[39m=\u001b[39m min_scores \u001b[39m>\u001b[39m play_accept_threshold\n\u001b[1;32m--> 559\u001b[0m \u001b[39mreturn\u001b[39;00m [state[s_accepted][:n_samples] \u001b[39mfor\u001b[39;00m state \u001b[39min\u001b[39;00m states]\n",
      "\u001b[1;31mKeyboardInterrupt\u001b[0m: "
     ]
    }
   ],
   "source": [
    "# calling this starts the analysis\n",
    "# it will go bid-by-bid and card-by-card, and will take a few moments\n",
    "# possible mistakes will be annotated with ? or with ?? (if it's a bigger mistake)\n",
    "# (possible mistake means that the engine does not agree with the bid/play. the engine could be wrong too :))\n",
    "\n",
    "card_by_card.analyze()"
   ]
  },
  {
   "cell_type": "code",
   "execution_count": 7,
   "id": "73be8e31",
   "metadata": {},
   "outputs": [
    {
     "data": {
      "text/plain": [
       "{'bid': '1N',\n",
       " 'candidates': [{'call': '1C', 'insta_score': 0.9971140623092651}],\n",
       " 'samples': ['J8xx.Qxx.xxx.Jxx AK9x.JT8x.Qx.xxx QTx.A.KJ9x.KQ98x xx.K9xxx.AT8x.AT',\n",
       "  'KJxxx.K9x.8xx.xx Ax.Qxxxx.Txx.Txx QTx.A.KJ9x.KQ98x 98x.JT8x.AQx.AJx',\n",
       "  'KJ9xx.8xx.Q.JTxx A8x.T9xx.Txx.Axx QTx.A.KJ9x.KQ98x xx.KQJxx.A8xxx.x',\n",
       "  'xxx.QJx.8xxx.ATx J9.T9xxxx.QTx.xx QTx.A.KJ9x.KQ98x AK8xx.K8x.Ax.Jxx',\n",
       "  '8x.Qxxxx.Axxx.Ax AJxxx.KT8.T.JTxx QTx.A.KJ9x.KQ98x K9x.J9xx.Q8xx.xx',\n",
       "  'Kx.T8xxx.Ax.ATxx 9xxx.KQ9x.8xx.xx QTx.A.KJ9x.KQ98x AJ8x.Jxx.QTxx.Jx',\n",
       "  'AJ9x.QTx.Txx.Jxx xx.8xxx.AQxx.Axx QTx.A.KJ9x.KQ98x K8xx.KJ9xx.8x.Tx',\n",
       "  'J8xx.8xxx.Ax.Axx AKx.QJT9x.8xx.Jx QTx.A.KJ9x.KQ98x 9xx.Kxx.QTxx.Txx',\n",
       "  'xx.9xxx.AQxx.JTx J98x.KT8xx.8x.xx QTx.A.KJ9x.KQ98x AKxx.QJx.Txx.Axx',\n",
       "  'Jxx.KQx.Ax.AJTxx K98xx.Txx.Q8xx.x QTx.A.KJ9x.KQ98x Ax.J98xxx.Txx.xx']}"
      ]
     },
     "execution_count": 7,
     "metadata": {},
     "output_type": "execute_result"
    }
   ],
   "source": [
    "# the engine does not agree with the 1N opening.\n",
    "# indeed, it's a little offbeat with a singleton\n",
    "# let's see what the engine is thinking (what would it bid instead)\n",
    "\n",
    "card_by_card.bid_responses[0].to_dict()  # the 0 index is the first bid in the auction"
   ]
  },
  {
   "cell_type": "markdown",
   "id": "186f6cff",
   "metadata": {},
   "source": [
    "the engine very confidently opens `1C` and doesn't even consider `1N`"
   ]
  },
  {
   "cell_type": "code",
   "execution_count": 8,
   "id": "573b5939",
   "metadata": {},
   "outputs": [
    {
     "data": {
      "text/plain": [
       "{'card': 'C2',\n",
       " 'candidates': [{'card': 'Cx',\n",
       "   'insta_score': 0.6596599221229553,\n",
       "   'expected_tricks': 10.647597105337653,\n",
       "   'p_make_contract': 0.8120009197560654},\n",
       "  {'card': 'Hx',\n",
       "   'insta_score': 0.2709367275238037,\n",
       "   'expected_tricks': 10.672620729739785,\n",
       "   'p_make_contract': 0.815934700474523}],\n",
       " 'samples': ['AK8xxx.Jx.JT.J98 T9xx.Q9xx.xx.Axx QJ.A8x.K9xxx.KQx',\n",
       "  'KQJ9xx.98x.9x.Kx T8.AJxx.Jxxx.J8x Axxx.Qx.KTx.AQ9x',\n",
       "  'AQ9xxxx.Jx.x.8xx KJ8.8xxx.K9x.Q9x Tx.AQ9.JTxxx.AKJ',\n",
       "  'KQJ98xx.x.Tx.A98 xx.Q98x.K9xx.Jxx ATx.AJxx.Jxx.KQx',\n",
       "  'AQJT8xxx.x.x.98x Kx.Q8xx.KJT9x.xx 9x.AJ9x.xxx.AKQJ',\n",
       "  'QT98xxxx.9.K9.Qx x.QJ8x.JTxxx.KJx AKJ.Axxx.xx.A98x',\n",
       "  'AKT8xxxx.x.K9.8x 9x.QJ98x.Txx.QJx QJ.Axx.Jxxx.AK9x',\n",
       "  'QJTxxx.9x.Tx.AQJ K9xx.QJ8x.9x.9xx A8.Axx.KJxxx.K8x',\n",
       "  'Q98xxx.QJ98x..A8 Txx.x.KJTxx.QJ9x AKJ.Axx.9xxx.Kxx',\n",
       "  'KJT8xx.Q.JTx.Q8x AQ9x.98xxx.xxx.9 xx.AJx.K9x.AKJxx',\n",
       "  'AJ9xxx.J8x.x.K8x KTx.Q9xx.Txx.J9x Q8x.Ax.KJ9xx.AQx',\n",
       "  'AKJ9xx.QJ.Txx.Qx T8x.98x.J9x.J9xx Qxx.Axxx.Kxx.AK8',\n",
       "  'AQJxxx.J8x.xx.AJ T8xx.Qxx.Jxx.xxx K9.A9x.KT9x.KQ98',\n",
       "  'KQ8xxxx.Qxx.x.Qx Tx.xx.Jxxx.A98xx AJ9.AJ98.KT9x.KJ',\n",
       "  'AKJ98x.x.xxx.J9x Txx.J8x.J9x.KQ8x Qxx.AQ9xx.KTx.Ax',\n",
       "  'AQJT8x.x.Tx.Q98x 9xx.Q9xx.xxx.AJx Kxx.AJ8x.KJ9x.Kx',\n",
       "  'A98xxxx.J8.Tx.Kx QJx.Qxxx.xxx.QJ9 KT.A9x.KJ9x.A8xx',\n",
       "  'KQT9xx.Q9.KJT.xx Jxx.8xxx.9xxx.Kx A8x.AJx.xx.AQJ98',\n",
       "  'AKQJxx.xx.xx.Jxx 9xx.98.J9xx.A98x T8x.AQJxx.KTx.KQ',\n",
       "  'AKT9xx.Q9x.xx.xx J8xx.Axx.JT9.J98 Qx.J8x.Kxxx.AKQx',\n",
       "  'KT9xxxx.x.xx.A9x Ax.Q98xx.T9xx.J8 QJ8.AJx.KJx.KQxx',\n",
       "  'KQT98xx.J9x.J.KQ Jxx.Q8x.9xx.J9xx Ax.Axx.KTxxx.A8x',\n",
       "  'AKJ8xx.Qxx.xx.Qx QTxx.J8x.Txx.J8x 9x.A9x.KJ9x.AK9x',\n",
       "  'AKQ98xx.J9x.x.98 Jx.Qxx.T9xx.QJxx Txx.A8x.KJxx.AKx',\n",
       "  'QJTxxxx.Ax.KJx.x 98x.Q98x.T9x.J8x AK.Jxx.xxx.AKQ9x',\n",
       "  'KJT98xxx.A8x.x.x Qx.QJ9x.9xxx.K8x Ax.xx.KJTx.AQJ9x',\n",
       "  'Q98xxxxx.A.T9.xx J.QJ8x.xxxx.KQ98 AKT.9xxx.KJx.AJx',\n",
       "  'AJT9xxxxx.Q9.x.A 8.J8x.J9xx.K98xx KQ.Axxx.KTxx.QJx',\n",
       "  'AJ8xxxx..KJTxx.8 KT.J9xxx.xx.Q9xx Q9x.AQ8x.9x.AKJx',\n",
       "  'AJT9xxx.Q9x.K9.x 8x.Axx.Txxxx.Q8x KQx.J8x.Jx.AKJ9x',\n",
       "  'KQJ8xxx.Q8xx.x.A T9x.9.Jxxxx.K98x Ax.AJxx.KT9.QJxx',\n",
       "  'KJ8xxxx.8x.KT9.J QTx.9xx.xxx.AQ98 A9.AQJx.Jxx.Kxxx',\n",
       "  'AQT9xx.Jx.xx.J8x 8x.Q98xx.Jxx.KQ9 KJxx.Ax.KT9x.Axx',\n",
       "  'AQT8xxx.Q.9xx.9x xx.9xxx.Jxx.KQ8x KJ9.AJ8x.KTx.AJx',\n",
       "  'AQJT8xx.9x.JTx.x xx.J8x.xxx.AQJ8x K9x.AQxx.K9x.K9x',\n",
       "  'QT9xxx.Qx.x.AJxx KJx.98xx.Jxxx.Qx A8x.AJx.KT9x.K98',\n",
       "  'AQJT9xxx.9x..A9x x.QJxxx.JT9xx.J8 K8x.A8.Kxxx.KQxx',\n",
       "  'KQJ8xx.x.xxx.QJ8 9xxx.J8xx.JTx.Kx AT.AQ9x.K9x.A9xx',\n",
       "  'KQJT98x.9.Jxx.Kx xxx.Jxxx.Kxx.8xx Ax.AQ8x.T9x.AQJ9',\n",
       "  'QJT8xxxx.Qx.x.9x Ax.J98x.K9xxx.J8 K9.Axx.JTx.AKQxx',\n",
       "  'QJ8xxx.Ax.xx.AJ9 Txx.8x.JT9xx.Q8x AK9.QJ9xx.Kx.Kxx',\n",
       "  'QJ9xxxx.Qxx.9x.x ATx.A8x.JTxx.Q9x K8.J9x.Kxx.AKJ8x',\n",
       "  'QJTxxx.9.K9x.A9x 98x.Jxx.Txx.KQ8x AKx.AQ8xx.Jxx.Jx',\n",
       "  'AJ98xxx.xx.Jxx.x Qxx.J9xx.KTx.Q9x KT.AQ8.9xx.AKJ8x',\n",
       "  'AK9xxxx.Q9x.x.xx JTx.J8.KT9x.J98x Q8.Axxx.Jxxx.AKQ',\n",
       "  'KJT8xxx.Ax.T9x.K x.QJ98x.xxx.J8xx AQ9x.xx.KJx.AQ9x',\n",
       "  'KJTxxx.J.Kxx.Q9x Q8xx.Q8xx.9xx.8x A9.A9xx.JTx.AKJx',\n",
       "  'JT8xxx.Axx.9x.K8 A9x.98x.Txx.Qxxx KQx.QJx.KJxx.AJ9',\n",
       "  'JT98xxx.AJ8.9x.x Kx.Qxx.Txxx.KJ8x AQx.9xx.KJx.AQ9x',\n",
       "  'AKT8xxxx.x.x.Kxx 9x.QJ8x.xxx.J98x QJ.A9xx.KJT9x.AQ',\n",
       "  'AQTxxx.9x.J.KQxx 8xx.QJ8x.xxx.J9x KJ9.Axx.KT9xx.A8',\n",
       "  'QJT98xxx..K9.98x x.AJ9xx.JTxx.Kxx AKx.Q8xx.xxx.AQJ',\n",
       "  'AQJ8xxx.9x.Kx.9x 9xx.AJ8xx.T9.J8x KT.Qx.Jxxxx.AKQx',\n",
       "  'AJ8xxx.J.Jxx.J98 Q9.A8xxx.Tx.Qxxx KTxx.Q9x.K9xx.AK',\n",
       "  'AKQJ98xx.8xx.x.J xx.J9xx.T9xx.Kxx Tx.AQ.KJxx.AQ98x',\n",
       "  'AQT9xxx.J9x.T.Ax Kxx.8xx.9xx.Q98x J8.AQx.KJxxx.KJx',\n",
       "  'QJT98x.x.9xx.AQx Kx.J8xx.JTxx.8xx Axxx.AQ9x.Kx.KJ9',\n",
       "  'KQJ9xxx.QJ8.x.xx T8.xxxx.KTxxx.Kx Axx.A9.J9x.AQJ98',\n",
       "  'QJ8xxx.AJ.Txx.A8 9xx.98xx.K9x.9xx AKT.Qxx.Jxx.KQJx',\n",
       "  'KQJT98x.x.Jxx.A8 xx.QJ9xx.9xxx.Jx Axx.A8x.KT.KQ9xx',\n",
       "  'QJ98xxx.AJx.x.Kx Tx.xx.KJ9xx.J8xx AKx.Q98x.Txx.AQ9',\n",
       "  'JT9xxx.98.9x.AK9 Q8.QJx.JTxx.Q8xx AKxx.Axxx.Kxx.Jx',\n",
       "  'KQJ9xxx.8x.xx.AJ T8.Jxx.Jxxx.Q8xx Axx.AQ9x.KT9.K9x',\n",
       "  'QJ8xxx.Axx.T.xxx A9xx.J8xx.Kxxx.9 KT.Q9.J9xx.AKQJ8',\n",
       "  'AQJTxx.xxxx.x.KJ 8xxx.A9.JTxx.8xx K9.QJ8.K9xx.AQ9x',\n",
       "  'AKQ9xxx.J9.xx.98 JTx.8xx.T9x.Kxxx 8x.AQxx.KJxx.AQJ',\n",
       "  'KT98xxx.Q9.xx.KJ QJx.Jxxxx.JTx.xx Ax.A8.K9xx.AQ98x',\n",
       "  'QJT8xx.Qx.KJ.Q8x Kxx.J8.T9xx.J9xx A9x.A9xxx.xxx.AK',\n",
       "  'KQT98x.Ax.Txxx.Q xx.98xx.J9x.KJxx AJxx.QJx.Kx.A98x',\n",
       "  'AQT8xxx.8x.J.A9x J9x.9xx.9xx.QJ8x Kx.AQJx.KTxxx.Kx',\n",
       "  'KQ98xx.98x.Kx.QJ AJxx.xxx.T9x.98x Tx.AQJ.Jxxx.AKxx',\n",
       "  'AJT8xxx.xx.Tx.AQ 9xx.J9x.J9x.K9xx KQ.AQ8x.Kxxx.J8x',\n",
       "  'KJxxxxx.9.T9.AJ9 8.Jxxxx.Jxxx.K8x AQT9.AQ8.Kxx.Qxx',\n",
       "  'KQJ98xx.Q.9x.98x ATx.J8xx.xxx.QJx xx.A9xx.KJTx.AKx',\n",
       "  'AJT8xx.Qx.xxx.Qx 9x.A98x.J9x.J9xx KQxx.Jxx.KTx.AK8',\n",
       "  'AKQT9xx.J8.Kx.8x 8x.9xx.Txxx.Q9xx Jxx.AQxx.J9x.AKJ',\n",
       "  'KQJTxxx.Ax.9x.8x A8x.8xxx.xxx.J9x 9x.QJ9.KJTx.AKQx',\n",
       "  'KJ9xxx.9x.9x.KJx AT.Qxx.Txxxx.Q98 Q8xx.AJ8x.KJ.Axx',\n",
       "  'QJT9xxx.9.KT9.xx K8x.Q8xx.xxx.QJ9 Ax.AJxx.Jxx.AK8x',\n",
       "  'AKQT8xx.Jx.9x.KJ 9x.Q8xx.xxx.8xxx Jxx.A9x.KJTx.AQ9',\n",
       "  'AQJTxxxx.9x.K.Qx K9.8xxx.xxx.98xx 8x.AQJ.JT9xx.AKJ',\n",
       "  'QJ98xxx.Ax.xx.A8 Txx.8xx.KJxx.J9x AK.QJ9x.T9x.KQxx',\n",
       "  'KQJ9xxx.J.JTx.J8 Tx.Q8xx.K9x.Qxxx A8x.A9xx.xxx.AK9',\n",
       "  'AJT8xxxxx.Qx.xx. Q.8x.JTxx.KQJ98x K9.AJ9xx.K9x.Axx',\n",
       "  'KJ98xxx.8xx.9.KJ Tx.QJx.KTxxx.Q8x AQx.A9x.Jxx.A9xx',\n",
       "  'AQ9xxxx.J.Txx.Kx KT8.Q8xxx.9xx.Jx Jx.A9x.KJx.AQ98x',\n",
       "  'AQJ8xxx.8x.Kx.9x Tx.J9x.Txxx.AJ8x K9x.AQxx.J9x.KQx',\n",
       "  'KQT8xxx.J8x.Tx.8 J9x.Axx.Jxx.KJxx Ax.Q9x.K9xx.AQ9x',\n",
       "  'AT98xx.98.Kx.Q9x KJxx.Qxxxx.9xx.x Qx.AJ.JTxx.AKJ8x',\n",
       "  'QJ9xxx.x.J9xx.A9 ATx.J8x.xxx.QJxx K8x.AQ9xx.KT.K8x',\n",
       "  'AQJ98xx.J9.Tx.Q9 KTx.8xx.xxx.K8xx xx.AQxx.KJ9x.AJx',\n",
       "  'AQJTxxx.x.Tx.8xx 98x.Qxx.KJxx.Q9x Kx.AJ98x.9xx.AKJ',\n",
       "  'KT8xxxxx.Q9x..Jx J9.A8x.JTxx.K98x AQ.Jxx.K9xxx.AQx',\n",
       "  'K98xxxx.x.J9x.AK x.QJxx.Txxx.8xxx AQJT.A98x.Kx.QJ9',\n",
       "  'QJ98xx.98x.T.Axx KTx.Jx.9xxx.KQ9x Axx.AQxx.KJxx.J8',\n",
       "  'AQJ98xxx.9.Jx.xx xx.Qxxx.K9xxx.QJ KT.AJ8x.Tx.AK98x',\n",
       "  'AQT8xxx.xxx.Kx.J 9x.Q98.Txxx.A9xx KJx.AJx.J9x.KQ8x',\n",
       "  'KQJ9xxxxx.x.J.Ax 8.98xxx.Txxx.QJ8 AT.AQJ.K9xx.K9xx',\n",
       "  'AT8xxxx.8.xx.KQx J9x.QJxx.KTx.9xx KQ.A9xx.J9xx.AJ8',\n",
       "  'KQT9xxx.J98x..8x J8.xxx.T9xxx.AK9 Axx.AQ.KJxx.QJxx']}"
      ]
     },
     "execution_count": 8,
     "metadata": {},
     "output_type": "execute_result"
    }
   ],
   "source": [
    "# what about the opening lead? let's see...\n",
    "\n",
    "card_by_card.cards['C2'].to_dict()"
   ]
  },
  {
   "cell_type": "markdown",
   "id": "0a2a2bde",
   "metadata": {},
   "source": [
    "the engine agrees with leading a low club, but it's very close. the alternative is a low heart"
   ]
  },
  {
   "cell_type": "code",
   "execution_count": 9,
   "id": "7dcf0964",
   "metadata": {},
   "outputs": [
    {
     "data": {
      "text/plain": [
       "{'card': 'D3',\n",
       " 'candidates': [{'card': 'S2',\n",
       "   'insta_score': 0.4216527682246551,\n",
       "   'expected_tricks': 11.125,\n",
       "   'expected_score': 622.7},\n",
       "  {'card': 'S6',\n",
       "   'insta_score': 0.4216527682246551,\n",
       "   'expected_tricks': 11.125,\n",
       "   'expected_score': 622.7},\n",
       "  {'card': 'S7',\n",
       "   'insta_score': 0.4216527682246551,\n",
       "   'expected_tricks': 11.125,\n",
       "   'expected_score': 622.7},\n",
       "  {'card': 'S3',\n",
       "   'insta_score': 0.4216527682246551,\n",
       "   'expected_tricks': 11.125,\n",
       "   'expected_score': 622.7},\n",
       "  {'card': 'S8',\n",
       "   'insta_score': 0.038019460358720523,\n",
       "   'expected_tricks': 11.125,\n",
       "   'expected_score': 622.7},\n",
       "  {'card': 'SJ',\n",
       "   'insta_score': 0.0,\n",
       "   'expected_tricks': 10.98,\n",
       "   'expected_score': 608.0},\n",
       "  {'card': 'D7',\n",
       "   'insta_score': 0.4681495904723088,\n",
       "   'expected_tricks': 10.395,\n",
       "   'expected_score': 538.7},\n",
       "  {'card': 'D3',\n",
       "   'insta_score': 0.4681495904723088,\n",
       "   'expected_tricks': 10.395,\n",
       "   'expected_score': 538.7},\n",
       "  {'card': 'D5',\n",
       "   'insta_score': 0.4681495904723088,\n",
       "   'expected_tricks': 10.395,\n",
       "   'expected_score': 538.7},\n",
       "  {'card': 'SA',\n",
       "   'insta_score': 0.0,\n",
       "   'expected_tricks': 10.255,\n",
       "   'expected_score': 537.95},\n",
       "  {'card': 'H6',\n",
       "   'insta_score': 0.06372854980327346,\n",
       "   'expected_tricks': 10.325,\n",
       "   'expected_score': 491.4},\n",
       "  {'card': 'HJ',\n",
       "   'insta_score': 0.0,\n",
       "   'expected_tricks': 10.325,\n",
       "   'expected_score': 491.4},\n",
       "  {'card': 'H9',\n",
       "   'insta_score': 0.0,\n",
       "   'expected_tricks': 10.325,\n",
       "   'expected_score': 491.4}],\n",
       " 'samples': ['Kx.Txx.ATxx.Jxxx AJ8xxxx.J9x.xxx. 9.KQ8xxx.Q8.ATxx QTx.A.KJ9x.KQ98x',\n",
       "  '9x.KT8x.ATxx.xxx AJ8xxxx.J9x.xxx. K.Qxxxx.Q8.AJTxx QTx.A.KJ9x.KQ98x',\n",
       "  'K9.QTxx.Q8x.Txxx AJ8xxxx.J9x.xxx. x.K8xxx.ATx.AJxx QTx.A.KJ9x.KQ98x',\n",
       "  'Kx.KQxxx.Q8.xxxx AJ8xxxx.J9x.xxx. 9.T8xx.ATxx.AJTx QTx.A.KJ9x.KQ98x',\n",
       "  'K9x.Qxxx.Txx.Jxx AJ8xxxx.J9x.xxx. .KT8xx.AQ8.ATxxx QTx.A.KJ9x.KQ98x',\n",
       "  'K9x.QTx.8x.Txxxx AJ8xxxx.J9x.xxx. .K8xxxx.AQTx.AJx QTx.A.KJ9x.KQ98x',\n",
       "  '.KT8xxx.T8x.Jxxx AJ8xxxx.J9x.xxx. K9x.Qxx.AQx.ATxx QTx.A.KJ9x.KQ98x',\n",
       "  'x.T8x.AQ8x.Txxxx AJ8xxxx.J9x.xxx. K9.KQxxxx.Tx.AJx QTx.A.KJ9x.KQ98x',\n",
       "  '9x.QTxx.ATx.xxxx AJ8xxxx.J9x.xxx. K.K8xxx.Q8x.AJTx QTx.A.KJ9x.KQ98x',\n",
       "  '9.KT8x.AQTx.Jxxx AJ8xxxx.J9x.xxx. Kx.Qxxxx.8x.ATxx QTx.A.KJ9x.KQ98x',\n",
       "  'K.KQ8x.Q8x.Txxxx AJ8xxxx.J9x.xxx. 9x.Txxxx.ATx.AJx QTx.A.KJ9x.KQ98x',\n",
       "  'K9.T8xxx.8x.Txxx AJ8xxxx.J9x.xxx. x.KQxx.AQTx.AJxx QTx.A.KJ9x.KQ98x',\n",
       "  '9.KQT8x.QT8x.Txx AJ8xxxx.J9x.xxx. Kx.xxxx.Ax.AJxxx QTx.A.KJ9x.KQ98x',\n",
       "  '9x.T8xxx.Ax.Jxxx AJ8xxxx.J9x.xxx. K.KQxx.QT8x.ATxx QTx.A.KJ9x.KQ98x',\n",
       "  'Kx.Q8xxx.AQ8.xxx AJ8xxxx.J9x.xxx. 9.KTxx.Txx.AJTxx QTx.A.KJ9x.KQ98x',\n",
       "  'Kx.xxx.AQ8x.Txxx AJ8xxxx.J9x.xxx. 9.KQT8xx.Tx.AJxx QTx.A.KJ9x.KQ98x',\n",
       "  'K.Q8xx.ATxx.Txxx AJ8xxxx.J9x.xxx. 9x.KTxxx.Q8.AJxx QTx.A.KJ9x.KQ98x',\n",
       "  '.K8xxxx.8.Jxxxxx AJ8xxxx.J9x.xxx. K9x.QTx.AQTxx.AT QTx.A.KJ9x.KQ98x',\n",
       "  'Kx.KTxxxx.Tx.Jxx AJ8xxxx.J9x.xxx. 9.Q8x.AQ8x.ATxxx QTx.A.KJ9x.KQ98x',\n",
       "  'K.KTxx.A8xx.xxxx AJ8xxxx.J9x.xxx. 9x.Q8xxx.QT.AJTx QTx.A.KJ9x.KQ98x']}"
      ]
     },
     "execution_count": 9,
     "metadata": {},
     "output_type": "execute_result"
    }
   ],
   "source": [
    "# the engine considers dummy's discard of D3 on the first trick a big mistake.\n",
    "# perhaps we should ruff instead, let's see what the engine suggests\n",
    "\n",
    "card_by_card.cards['D3'].to_dict()"
   ]
  },
  {
   "cell_type": "markdown",
   "id": "d6dcab82",
   "metadata": {},
   "source": [
    "indeed, the best play is to ruff low.\n",
    "\n",
    "looking at the samples, we see that East has the `CA` in every sample (this is by inference because underleading an A is very unlikely)"
   ]
  },
  {
   "cell_type": "markdown",
   "id": "994e8878",
   "metadata": {},
   "source": [
    "## Analyzing a board played on BBO"
   ]
  },
  {
   "cell_type": "code",
   "execution_count": 10,
   "id": "cdd0edee",
   "metadata": {},
   "outputs": [],
   "source": [
    "# copy-paste from the hand records (in lin format)\n",
    "\n",
    "lin = 'pn|You,~~M7228oka,~~M72302cm,~~M72316sq|st||md|1S4TKHJD68QC679TKA,S35H479TQKD24TAC8,S2789H3AD379JKC35,|rh||ah|Board 3|sv|e|mb|1C|an|Minor suit opening -- 3+ !C; 11-21 HCP; 12-22 total points|mb|2H|an|Aggressive weak jump overcall -- 6+ !H; 4-10 HCP |mb|d|an|Negative double -- 4+ !S; 7+ HCP; 8+ total points |mb|4H|an|The Law: 10 trump -> game support -- 4+ total points |mb|4S|an|3+ !C; 4+ !S; 16-21 HCP; 17-22 total points|mb|p|mb|p|mb|p|pg||pc|DA|pc|D3|pc|D5|pc|D6|pg||pc|C8|pc|C3|pc|CJ|pc|CA|pg||pc|S4|pc|S5|pc|S8|pc|SJ|pg||pc|H5|pc|HJ|pc|HQ|pc|HA|pg||pc|S2|pc|SA|pc|ST|pc|S3|pg||pc|H2|pc|SK|pc|H4|pc|H3|pg||pc|D8|pc|D2|pc|DJ|pc|S6|pg||pc|SQ|pc|C6|pc|H7|pc|S7|pg||pc|H8|pc|C7|pc|HK|pc|S9|pg||pc|C5|pc|C2|pc|CT|pc|HT|pg||pc|CK|pc|H9|pc|D7|pc|C4|pg||pc|DQ|pc|D4|pc|DK|pc|H6|pg||pc|D9|pc|CQ|pc|C9|pc|DT|pg||'"
   ]
  },
  {
   "cell_type": "code",
   "execution_count": 11,
   "id": "86ccd5f5",
   "metadata": {},
   "outputs": [
    {
     "data": {
      "text/html": [
       "<iframe width=\"800\" height=\"600\" src=\"http://bridgebase.com/tools/handviewer.html?lin=pn|You,~~M7228oka,~~M72302cm,~~M72316sq|st||md|1S4TKHJD68QC679TKA,S35H479TQKD24TAC8,S2789H3AD379JKC35,|rh||ah|Board 3|sv|e|mb|1C|an|Minor suit opening -- 3+ !C; 11-21 HCP; 12-22 total points|mb|2H|an|Aggressive weak jump overcall -- 6+ !H; 4-10 HCP |mb|d|an|Negative double -- 4+ !S; 7+ HCP; 8+ total points |mb|4H|an|The Law: 10 trump -> game support -- 4+ total points |mb|4S|an|3+ !C; 4+ !S; 16-21 HCP; 17-22 total points|mb|p|mb|p|mb|p|pg||pc|DA|pc|D3|pc|D5|pc|D6|pg||pc|C8|pc|C3|pc|CJ|pc|CA|pg||pc|S4|pc|S5|pc|S8|pc|SJ|pg||pc|H5|pc|HJ|pc|HQ|pc|HA|pg||pc|S2|pc|SA|pc|ST|pc|S3|pg||pc|H2|pc|SK|pc|H4|pc|H3|pg||pc|D8|pc|D2|pc|DJ|pc|S6|pg||pc|SQ|pc|C6|pc|H7|pc|S7|pg||pc|H8|pc|C7|pc|HK|pc|S9|pg||pc|C5|pc|C2|pc|CT|pc|HT|pg||pc|CK|pc|H9|pc|D7|pc|C4|pg||pc|DQ|pc|D4|pc|DK|pc|H6|pg||pc|D9|pc|CQ|pc|C9|pc|DT|pg||\" />"
      ],
      "text/plain": [
       "<IPython.core.display.HTML object>"
      ]
     },
     "execution_count": 11,
     "metadata": {},
     "output_type": "execute_result"
    }
   ],
   "source": [
    "display_lin(lin)"
   ]
  },
  {
   "cell_type": "code",
   "execution_count": 12,
   "id": "8fa74a29",
   "metadata": {},
   "outputs": [],
   "source": [
    "board = parse_lin(lin)"
   ]
  },
  {
   "cell_type": "code",
   "execution_count": 13,
   "id": "fb875929",
   "metadata": {},
   "outputs": [],
   "source": [
    "card_by_card = CardByCard(*board, models)"
   ]
  },
  {
   "cell_type": "code",
   "execution_count": 14,
   "id": "49c15172",
   "metadata": {},
   "outputs": [
    {
     "name": "stdout",
     "output_type": "stream",
     "text": [
      "analyzing the bidding\n",
      "1C .\n",
      "2H .\n",
      "X .\n",
      "4H .\n",
      "4S .\n",
      "PASS .\n",
      "PASS .\n",
      "PASS .\n",
      "analyzing the play\n",
      "DA\n",
      "D3 .\n",
      "D5 .\n",
      "D6 .\n",
      "C8 .\n",
      "C3 .\n",
      "CJ .\n",
      "CA .\n",
      "S4 ?\n",
      "S5 .\n",
      "S8 .\n",
      "SJ .\n",
      "H5 ?\n",
      "HJ .\n",
      "HQ .\n",
      "HA .\n",
      "S2 .\n",
      "SA .\n",
      "ST .\n",
      "S3 .\n",
      "H2 .\n",
      "SK ?\n",
      "H4 .\n",
      "H3 .\n",
      "D8 .\n",
      "D2 .\n",
      "DJ .\n",
      "S6 .\n",
      "SQ .\n",
      "C6 .\n",
      "H7 .\n",
      "S7 .\n",
      "H8 .\n",
      "C7 .\n",
      "HK .\n",
      "S9 .\n",
      "C5 .\n",
      "C2 .\n",
      "CT .\n",
      "HT .\n",
      "CK .\n",
      "H9 .\n",
      "D7 .\n",
      "C4 .\n",
      "DQ .\n",
      "D4 .\n",
      "DK .\n",
      "H6 .\n"
     ]
    }
   ],
   "source": [
    "card_by_card.analyze()"
   ]
  },
  {
   "cell_type": "markdown",
   "id": "bf465259",
   "metadata": {},
   "source": [
    "the engine agrees with the bidding, but didn't like something in the cardplay.\n",
    "\n",
    "playing `S4` from hand is the first mistake. apparently this play drops almost half a trick on average."
   ]
  },
  {
   "cell_type": "code",
   "execution_count": 15,
   "id": "d79d9389",
   "metadata": {},
   "outputs": [
    {
     "data": {
      "text/plain": [
       "{'card': 'S4',\n",
       " 'candidates': [{'card': 'D8',\n",
       "   'insta_score': 0.1471998191220598,\n",
       "   'expected_tricks': 7.815789473684211,\n",
       "   'expected_score': -59.21052631578947},\n",
       "  {'card': 'DQ',\n",
       "   'insta_score': 0.04370090231684083,\n",
       "   'expected_tricks': 7.815789473684211,\n",
       "   'expected_score': -59.21052631578947},\n",
       "  {'card': 'HJ',\n",
       "   'insta_score': 0.11742140918900698,\n",
       "   'expected_tricks': 7.473684210526316,\n",
       "   'expected_score': -76.3157894736842},\n",
       "  {'card': 'S4',\n",
       "   'insta_score': 0.047128788500056425,\n",
       "   'expected_tricks': 7.2894736842105265,\n",
       "   'expected_score': -85.52631578947368},\n",
       "  {'card': 'CK',\n",
       "   'insta_score': 0.18763520523410357,\n",
       "   'expected_tricks': 7.2368421052631575,\n",
       "   'expected_score': -88.15789473684211},\n",
       "  {'card': 'ST',\n",
       "   'insta_score': 0.014114008965710806,\n",
       "   'expected_tricks': 7.184210526315789,\n",
       "   'expected_score': -90.78947368421052},\n",
       "  {'card': 'SK',\n",
       "   'insta_score': 0.1934124744049229,\n",
       "   'expected_tricks': 7.078947368421052,\n",
       "   'expected_score': -96.05263157894737},\n",
       "  {'card': 'C7',\n",
       "   'insta_score': 0.17786904630088188,\n",
       "   'expected_tricks': 6.447368421052632,\n",
       "   'expected_score': -127.63157894736842},\n",
       "  {'card': 'C6',\n",
       "   'insta_score': 0.17786904630088188,\n",
       "   'expected_tricks': 6.447368421052632,\n",
       "   'expected_score': -127.63157894736842},\n",
       "  {'card': 'C9',\n",
       "   'insta_score': 0.04125979071300319,\n",
       "   'expected_tricks': 6.447368421052632,\n",
       "   'expected_score': -127.63157894736842},\n",
       "  {'card': 'CT',\n",
       "   'insta_score': 0.030258555253413616,\n",
       "   'expected_tricks': 6.447368421052632,\n",
       "   'expected_score': -127.63157894736842}],\n",
       " 'samples': ['QJ.QT98xxx.Axx.8 98xx.Ax.KJ9xx.xx Axxx.Kxx.Tx.QJxx KTx.J.Q8x.AKT9xx',\n",
       "  'xxx.KQT98xx.Ax.8 98xx.Ax.KJ9xx.xx AQJ.xxx.Txx.QJxx KTx.J.Q8x.AKT9xx',\n",
       "  'Q.KT98xxx.ATx.8x 98xx.Ax.KJ9xx.xx AJxxx.Qxx.xx.QJx KTx.J.Q8x.AKT9xx',\n",
       "  'Qx.KT98xxx.ATx.8 98xx.Ax.KJ9xx.xx AJxx.Qxx.xx.QJxx KTx.J.Q8x.AKT9xx',\n",
       "  'xxx.KQT98xx.Ax.8 98xx.Ax.KJ9xx.xx AQJ.xxx.Txx.QJxx KTx.J.Q8x.AKT9xx',\n",
       "  'Q.KT98xxx.Axx.8x 98xx.Ax.KJ9xx.xx AJxxx.Qxx.Tx.QJx KTx.J.Q8x.AKT9xx',\n",
       "  'xx.KQxxxxx.AT.8x 98xx.Ax.KJ9xx.xx AQJx.T98.xxx.QJx KTx.J.Q8x.AKT9xx',\n",
       "  'Qx.KT8xxxx.Axx.8 98xx.Ax.KJ9xx.xx AJxx.Q9x.Tx.QJxx KTx.J.Q8x.AKT9xx',\n",
       "  'Q.KT98xxx.ATx.8x 98xx.Ax.KJ9xx.xx AJxxx.Qxx.xx.QJx KTx.J.Q8x.AKT9xx',\n",
       "  'Ax.QT8xxxx.ATx.8 98xx.Ax.KJ9xx.xx QJxx.K9x.xx.QJxx KTx.J.Q8x.AKT9xx',\n",
       "  'QJ.QT8xxxx.Axx.8 98xx.Ax.KJ9xx.xx Axxx.K9x.Tx.QJxx KTx.J.Q8x.AKT9xx',\n",
       "  'xxx.KQT98xx.Ax.8 98xx.Ax.KJ9xx.xx AQJ.xxx.Txx.QJxx KTx.J.Q8x.AKT9xx',\n",
       "  'xx.KQxxxxx.AT.8x 98xx.Ax.KJ9xx.xx AQJx.T98.xxx.QJx KTx.J.Q8x.AKT9xx',\n",
       "  'Q.K9xxxxx.ATx.8x 98xx.Ax.KJ9xx.xx AJxxx.QT8.xx.QJx KTx.J.Q8x.AKT9xx',\n",
       "  'A.QT98xxx.ATx.8x 98xx.Ax.KJ9xx.xx QJxxx.Kxx.xx.QJx KTx.J.Q8x.AKT9xx',\n",
       "  'xxx.KQT8xx.A.8xx 98xx.Ax.KJ9xx.xx AQJ.9xxx.Txxx.QJ KTx.J.Q8x.AKT9xx',\n",
       "  'QJ.Q98xxxx.ATx.8 98xx.Ax.KJ9xx.xx Axxx.KTx.xx.QJxx KTx.J.Q8x.AKT9xx',\n",
       "  'QJ.QT8xxxx.ATx.8 98xx.Ax.KJ9xx.xx Axxx.K9x.xx.QJxx KTx.J.Q8x.AKT9xx',\n",
       "  'Q.KT98xxx.ATx.8x 98xx.Ax.KJ9xx.xx AJxxx.Qxx.xx.QJx KTx.J.Q8x.AKT9xx',\n",
       "  'Q.KT8xxxx.ATx.8x 98xx.Ax.KJ9xx.xx AJxxx.Q9x.xx.QJx KTx.J.Q8x.AKT9xx']}"
      ]
     },
     "execution_count": 15,
     "metadata": {},
     "output_type": "execute_result"
    }
   ],
   "source": [
    "card_by_card.cards['S4'].to_dict()"
   ]
  },
  {
   "cell_type": "markdown",
   "id": "760b7b2f",
   "metadata": {},
   "source": [
    "the opening lead of `DA` is interesting. the engine prefers the `HK` and it's the only card it considers."
   ]
  },
  {
   "cell_type": "code",
   "execution_count": 16,
   "id": "00c728a0",
   "metadata": {},
   "outputs": [
    {
     "data": {
      "text/plain": [
       "{'card': 'DA',\n",
       " 'candidates': [{'card': 'HK',\n",
       "   'insta_score': 0.8880357146263123,\n",
       "   'expected_tricks': 10.450010813546761,\n",
       "   'p_make_contract': 0.7548369560424516}],\n",
       " 'samples': ['J98x.x.KJxx.Qxxx Txx.A8xxx.Q8.Kxx AKQx.J.9xx.AJT9x',\n",
       "  'J9xxx.A.Q8x.Jxxx KT.J8xxx.K9xx.Tx AQ8x.x.Jx.AKQ9xx',\n",
       "  'Q9xxxx..KQJx.xxx KT.J8xxxx.xx.9xx AJ8.A.98x.AKQJTx',\n",
       "  'QT8xx.A.J9xx.KTx 9x.J8xx.Qxx.Axxx AKJx.xx.K8.QJ9xx',\n",
       "  'AK98.8x.Q98x.QTx Jxx.AJxx.Jxx.J9x QTxx.x.Kx.AKxxxx',\n",
       "  'AJ98x.A8.J98x.xx Txx.xxxx.xx.KT9x KQx.J.KQx.AQJxxx',\n",
       "  'KQ8x.8x.K98x.QJx ATxx.Jxxx.QJ.T9x J9x.A.xxx.AKxxxx',\n",
       "  'JTxx.8x.K9x.KTxx KQx.Jxxx.QJ8x.9x A98x.A.xx.AQJxxx',\n",
       "  'KQxxx.A8.Q9xx.J9 8.Jxxx.J8xx.Axxx AJT9x.x.K.KQTxxx',\n",
       "  'KQJ8.xx.9x.Kxxxx xxx.AJ8xx.QJxx.x AT9x..K8x.AQJT9x',\n",
       "  'AQ9xx.x.98xxx.Kx Jx.J8xxx.Jx.9xxx KT8x.A.KQ.AQJTxx',\n",
       "  'AQ9xx.x.9xxx.Jxx JTx.8xxx.J8x.KQx K8x.AJ.KQ.AT9xxx',\n",
       "  'A8xx.x.Q98x.QJxx QJT9.Jxxx.xxx.xx Kxx.A8.KJ.AKT9xx',\n",
       "  'Txxx.Ax.KJ98.ATx K8x.J8xx.Qxxx.Qx AQJ9.x.x.KJ9xxxx',\n",
       "  'AJ9xx.x.KQ8x.J9x QTx.A8xx.J9x.Txx K8x.Jx.xx.AKQxxx',\n",
       "  'AJxxx.Jx.Qx.Axxx 9x.A8xx.J9xx.Q9x KQT8.x.K8x.KJTxx',\n",
       "  'KQJx.Jx.QJxx.A9x T9xx.Axxx.8xx.xx A8x.8.K9.KQJTxxx',\n",
       "  'KT8x..Q8xx.JTxxx J9x.AJxxx.KJ9.9x AQxx.8x.xx.AKQxx',\n",
       "  'K9xxx.x.QJ8x.Kxx T8x.J8xxx.9xx.Q9 AQJ.A.Kx.AJTxxxx',\n",
       "  'KT98x.8.8xx.KQxx Qx.Jxxx.QJxx.AJx AJxx.Ax.K9.T9xxx',\n",
       "  '98xx.Jx.KQxx.QJx QTx.8xxx.J8.K9xx AKJx.A.9xx.ATxxx',\n",
       "  'A98xxx.Jx.8xx.AJ J.A8xx.KJ9.xxxxx KQTx.x.Qxx.KQT9x',\n",
       "  'QJTxxx..Qxxx.JTx 98.A8xxx.J9x.Q9x AKx.Jx.K8.AKxxxx',\n",
       "  'AK9xxx.x.J98x.9x Q.AJ8xx.Qx.Txxxx JT8x.x.Kxx.AKQJx',\n",
       "  'AQT9x.xx.Kxx.9xx 8xx.AJ8x.9xx.Axx KJx.x.QJ8.KQJTxx',\n",
       "  'K8xx.xx.QJxx.Qxx QJ9x.AJ8xx.9x.9x ATx..K8x.AKJTxxx',\n",
       "  '8xxx.x.Qxxx.Axxx JT9.AJ8x.98x.9xx AKQx.xx.KJ.KQJTx',\n",
       "  'QJxx.x.KQ8.AQ9xx Txx.Axxx.J9xxx.x AK98.J8.x.KJTxxx',\n",
       "  'Q98xx.J.Kxxx.KQx Tx.A8xx.QJ9.JTxx AKJx.xx.8x.A9xxx',\n",
       "  'K9xx.x.KJ8x.Kxxx QJ8x.AJ8xx.9xx.9 ATx.x.Qx.AQJTxxx',\n",
       "  'A98x.Ax.J8x.Txxx Qxx.J8xx.Q9xx.KQ KJTx.x.Kx.AJ9xxx',\n",
       "  'KJTx.Ax.Q98.QTxx 8xx.J8xx.Jxx.Kxx AQ9x.x.Kxx.AJ9xx',\n",
       "  'KJ8x.Jxx.Kxxx.xx Qx.A8xx.Q8x.JTxx AT9xx..J9.AKQ9xx',\n",
       "  'KQJ8x.8.8xx.QTxx 9xx.AJxxx.QJ9x.x ATx.x.Kx.AKJ9xxx',\n",
       "  'QJxx.Ax.KQJ8x.xx 98x.Jxxx.9x.KJTx AKTx.8.xx.AQ9xxx',\n",
       "  'KQJxx.8x.KJxx.xx Axx.Jxxx.9xx.KQ9 T98.A.Q8.AJTxxxx',\n",
       "  '98xxx.x.8xx.AK9x Tx.AJ8xx.J9x.Qxx AKQJ.x.KQx.JTxxx',\n",
       "  'KQxx.Ax.Qxx.KQxx T98.J8xxx.8xx.Ax AJxx..KJ9.JT9xxx',\n",
       "  'K9xxx.x.KQ9x.9xx QT8.Jxxx.J8xx.Qx AJx.A8.x.AKJTxxx',\n",
       "  'KT8xx.A.Qxxx.Jxx J9.J8xxx.KJ8.Qxx AQxx.x.9x.AKT9xx',\n",
       "  'QTxxx.Ax.KQx.QTx Ax.8xxx.J9xx.9xx KJ98.J.8x.AKJxxx',\n",
       "  'T98xx.J8.KQxx.9x Kx.Axxx.Jxx.QTxx AQJx.x.98.AKJxxx',\n",
       "  'KJT8xx.J8.xx.QTx 9.Axxxx.K98x.xxx AQxx..QJx.AKJ9xx',\n",
       "  'J8xxxx.8x.K8x.AJ QT.AJxx.Q9x.Txxx AK9.x.Jxx.KQ9xxx',\n",
       "  'J98xx.Ax.Kxxx.Kx Tx.Jxx.Q98.AJ9xx AKQx.8x.Jx.QTxxx',\n",
       "  'Q98xxx.AJ.9x.9xx J.8xxx.KQ8x.QJTx AKTx.x.Jxx.AKxxx',\n",
       "  'KJxx.Jx.9xx.AQxx QT9x.A8xx.QJx.Tx A8x.x.K8x.KJ9xxx',\n",
       "  'KJT8x.8x.98x.ATx A9.AJxxx.Jx.9xxx Qxxx..KQxx.KQJxx',\n",
       "  'K8xx.x.KQ98xx.Qx Jxx.Jxxx.Jx.A9xx AQT9.A8.x.KJTxxx',\n",
       "  'K98xx.x.Q9xx.Kxx QJT.AJxxx.Jxx.J9 Axx.8.K8.AQTxxxx',\n",
       "  'QJT8x.8x.9x.AQJx xx.AJxx.QJxx.Txx AK9x.x.K8x.K9xxx',\n",
       "  'QJT8..KJ8xxx.Qxx Axx.AJ8xx.9x.9xx K9xx.xx.Q.AKJTxx',\n",
       "  'KJ98x.Jxx.J9.Q9x Tx.A8xx.KQ8x.JTx AQxx..xxx.AKxxxx',\n",
       "  'AT9xx.J.KQJx.Txx Qx.A8xx.8xxx.Qxx KJ8x.xx.9.AKJ9xx',\n",
       "  'KQ98..J9xx.AJTxx Jxxx.AJxxx.8x.xx ATx.8x.KQx.KQ9xx',\n",
       "  'A98xx..K98x.JT9x JTx.8xxxx.QJx.Kx KQx.AJ.xx.AQxxxx',\n",
       "  'KQ9xx.A.8xx.Txxx JTx.J8xx.KQxx.Qx A8x.xx.J9.AKJ9xx',\n",
       "  'J9xxx..Q9xx.AQ9x K8x.J8xxx.J8x.Tx AQT.Ax.Kx.KJxxxx',\n",
       "  'QJT9x.Ax.xxx.Kxx A8x.J8xx.QJ8x.Qx Kxx.x.K9.AJT9xxx',\n",
       "  'AK9xx.8x.J98.Qxx 8x.Axx.Kxx.JT9xx QJTx.Jx.Qxx.AKxx',\n",
       "  'QTxxx..K9xx.J9xx J98.A8xxx.Jx.KQx AKx.Jx.Q8x.ATxxx',\n",
       "  'KQT8.8x.KJxx.T9x 9xx.Jxxx.9x.KQxx AJxx.A.Q8x.AJxxx',\n",
       "  'KQxx.Ax.Q98x.QT9 J9x.J8xxx.xx.Kxx AT8x..KJx.AJxxxx',\n",
       "  'AJxxx.xx.KJ8x.xx T8.AJ8xx.9.KQTxx KQ9x..Qxxx.AJ9xx',\n",
       "  'AQT8x..Kxxx.T9xx 9xx.A8xxx.Jx.QJx KJx.Jx.Q98.AKxxx',\n",
       "  'KT8xxx.x.K98xx.x 9x.AJ8xx.x.QJTxx AQJ.x.QJx.AK9xxx',\n",
       "  'JTxx.x.KQJxx.KTx 98.AJ8xxx.9x.xxx AKQxx..8x.AQJ9xx',\n",
       "  'QJ98x.x.Q98x.Kxx KTx.J8xx.KJxx.J9 Axx.Ax.x.AQTxxxx',\n",
       "  'A9xx.x.QJ9x.JTxx KT8x.A8xx.8xx.xx QJx.Jx.Kx.AKQ9xx',\n",
       "  'J98x.x.KJx.AJxxx QTx.J8xx.Q98xx.K AKxx.Ax.x.QT9xxx',\n",
       "  'ATxxx.Jx.x.K9xxx K9.Axxx.QJ98x.Tx QJ8x.8.Kxx.AQJxx',\n",
       "  'Jxxxx.x.Q9xx.AKJ T98.J8xx.KJx.Txx AKQ.Ax.8x.Q9xxxx',\n",
       "  'KJT9x.x.Qxx.A9xx xx.AJ8x.J8xx.xxx AQ8x.xx.K9.KQJTx',\n",
       "  'QT9x.A8.KQ98x.Tx KJx.Jxxx.Jxxx.xx A8xx.x..AKQJ9xxx',\n",
       "  'JT98x.AJx.Q9x.Kx xx.8xxx.J8x.A9xx AKQx..Kxx.QJTxxx',\n",
       "  'ATxx.Ax.K8x.xxxx K98.J8xxx.QJ9x.x QJxx..xx.AKQJT9x',\n",
       "  'JT8xx.A.KJ9x.QTx xx.8xxxx.8xx.xxx AKQ9.J.Qx.AKJ9xx',\n",
       "  'Q98xx.x.KJx.AJT9 KTx.Jxxx.9xx.Qxx AJx.A8.Q8x.Kxxxx',\n",
       "  'JTxx.xx.KQJ8.Kxx Q98.AJxx.9xxx.QT AKxx.8.x.AJ9xxxx',\n",
       "  'KJ98x..J8xx.ATxx xxx.J8xxx.Q9x.xx AQT.Ax.Kx.KQJ9xx',\n",
       "  '98xxx.Jx.KQ.Q9xx KT.A8xx.J9xx.JTx AQJx.x.8xx.AKxxx',\n",
       "  'AJ8x..QJ98xx.Kxx 9xx.J8xxx.x.Txxx KQTx.Ax.Kx.AQJ9x',\n",
       "  'A9xx.xx.J98xx.Qx QJ.AJ8xx.Qx.9xxx KT8xx..Kx.AKJTxx',\n",
       "  'ATxx.J.KQJxxx.KT 98x.A8xxx.x.QJxx KQJx.x.98.A9xxxx',\n",
       "  'AQTxx.Jx.QJ98x.x 9xx.A8xx.Kx.Qxxx KJ8.x.xx.AKJT9xx',\n",
       "  'AQJxx.xx.98xx.AT Tx.AJ8x.Jxx.Qxxx K98x.x.KQ.KJ9xxx',\n",
       "  'AQ8x.8x.K8xx.Kxx Txxx.Jxxx.QJ9x.x KJ9.A.x.AQJT9xxx',\n",
       "  'AJ9xx.x.J8xx.9xx Tx.AJ8xx.Kxx.Txx KQ8x.x.Q9.AKQJxx',\n",
       "  'QT98x.AJ.98xx.Kx Jxx.8xxx.KQxx.Tx AKx.x.J.AQJ9xxxx',\n",
       "  'AKQx..Q9xx.Jxxxx T8xx.A8xxx.8x.Qx J9x.Jx.KJx.AKT9x',\n",
       "  'AQ9xxx.8x.8xx.Tx JT.Jxxx.QJ9.AQxx K8x.A.Kxx.KJ9xxx',\n",
       "  'KQJT9.x.KQ9x.T9x 8xx.J8xx.8xx.Axx Axx.Ax.Jx.KQJxxx',\n",
       "  'AQ8xx.xx.J9xx.QT KJ.J8xx.KQ8xx.Jx T9xx.A..AK9xxxxx',\n",
       "  'JT98xx.A.Q8x.9xx Ax.8xxxx.9x.Axxx KQx.J.KJxx.KQJTx',\n",
       "  'AT98x.A.K98x.9xx Kxx.J8xxx.Qxx.Tx QJx.x.Jx.AKQJxxx',\n",
       "  'Q9xx.A8.KQJx.T9x JTx.Jxxx.9x.QJxx AK8x.x.8xx.AKxxx',\n",
       "  'QTxx.8x.Jx.AKJxx J98x.Jxxx.KQxx.x AKx.A.98x.QT9xxx',\n",
       "  'QJTxx.x.KQ9x.QJx 8x.AJ8xx.8xx.Kxx AK9x.x.Jx.AT9xxx',\n",
       "  'J8xxxx.x.KJx.A9x T9.A8xx.Q8xx.Jxx AKQ.Jx.9x.KQTxxx',\n",
       "  'QJT9x.Ax.98x.9xx xx.J8xx.QJxx.Axx AK8x.x.Kx.KQJTxx']}"
      ]
     },
     "execution_count": 16,
     "metadata": {},
     "output_type": "execute_result"
    }
   ],
   "source": [
    "card_by_card.cards['DA'].to_dict()"
   ]
  },
  {
   "cell_type": "code",
   "execution_count": null,
   "id": "e55103f4",
   "metadata": {},
   "outputs": [],
   "source": []
  }
 ],
 "metadata": {
  "kernelspec": {
   "display_name": "Python 3.10.2 64-bit",
   "language": "python",
   "name": "python3"
  },
  "language_info": {
   "codemirror_mode": {
    "name": "ipython",
    "version": 3
   },
   "file_extension": ".py",
   "mimetype": "text/x-python",
   "name": "python",
   "nbconvert_exporter": "python",
   "pygments_lexer": "ipython3",
   "version": "3.10.2"
  },
  "vscode": {
   "interpreter": {
    "hash": "db6859663c517eaff44cb590a4f83a9ffca1c2df3a6cfb3b0e93ea33231aa8bf"
   }
  }
 },
 "nbformat": 4,
 "nbformat_minor": 5
}
