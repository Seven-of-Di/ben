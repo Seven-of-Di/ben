{
 "cells": [
  {
   "cell_type": "markdown",
   "id": "75d07246",
   "metadata": {},
   "source": [
    "# Bidding\n",
    "\n",
    "This is a tutorial for how to use the bidding engine"
   ]
  },
  {
   "cell_type": "code",
   "execution_count": 1,
   "id": "59a5664c",
   "metadata": {},
   "outputs": [
    {
     "name": "stderr",
     "output_type": "stream",
     "text": [
      "Loaded lib <WinDLL 'C:\\Users\\lucbe\\OneDrive\\Documents\\Bridge\\robot\\dds.dll', handle 7ffbd69b0000 at 0x25daefd3520>\n"
     ]
    }
   ],
   "source": [
    "import os\n",
    "os.chdir('..')\n",
    "\n",
    "from nn.models import Models\n",
    "from bots import BotBid\n",
    "from bidding import bidding\n",
    "from util import hand_to_str\n",
    "from deck52 import random_deal"
   ]
  },
  {
   "cell_type": "code",
   "execution_count": 2,
   "id": "44786d5d",
   "metadata": {},
   "outputs": [
    {
     "name": "stdout",
     "output_type": "stream",
     "text": [
      "INFO:tensorflow:Restoring parameters from ../models/gib21_model/gib21-1000000\n",
      "INFO:tensorflow:Restoring parameters from ../models/gib21_info_model/gib21_info-500000\n",
      "INFO:tensorflow:Restoring parameters from ../models/lead_model_b/lead-1000000\n",
      "INFO:tensorflow:Restoring parameters from ../models/lr3_model/lr3-1000000\n",
      "INFO:tensorflow:Restoring parameters from ../models/lefty_model/lefty-1000000\n",
      "INFO:tensorflow:Restoring parameters from ../models/dummy_model/dummy-920000\n",
      "INFO:tensorflow:Restoring parameters from ../models/righty_model/righty-1000000\n",
      "INFO:tensorflow:Restoring parameters from ../models/decl_model/decl-1000000\n"
     ]
    }
   ],
   "source": [
    "models = Models.load('../models')   # loading neural networks"
   ]
  },
  {
   "cell_type": "markdown",
   "id": "10d8f2fc",
   "metadata": {},
   "source": [
    "### Running through an example"
   ]
  },
  {
   "cell_type": "code",
   "execution_count": 3,
   "id": "19dbfeb7",
   "metadata": {},
   "outputs": [],
   "source": [
    "# East deals, EW vulnerable.\n",
    "vuln_ns, vuln_ew = False, True"
   ]
  },
  {
   "cell_type": "code",
   "execution_count": 4,
   "id": "5b5c0bd3",
   "metadata": {},
   "outputs": [
    {
     "name": "stdout",
     "output_type": "stream",
     "text": [
      "['T8xx.Txx.KQJ8.T8 AKJ.AQ.xxxx.AK9x 9x.98x.AT9x.QJxx Qxxx.KJxxx.x.xxx', 'T98xx.Axx.J98.Jx AK.QT8.Qxxx.AKQx Jx.9x.AKTxx.T98x Qxxx.KJxxx.x.xxx', 'KJT9x.xx.Ax.JT8x A8.AQx.KJTx.AQ9x xx.T98.Q98xxx.Kx Qxxx.KJxxx.x.xxx', 'T9x.9xx.Jx.QJ8xx KJx.T8.AKQ9.AKTx A8x.AQx.T8xxxx.9 Qxxx.KJxxx.x.xxx', 'Kx.T98x.AT9x.KTx A9x.AQ.KJx.AQJ9x JT8x.xx.Q8xxx.8x Qxxx.KJxxx.x.xxx', 'T8.Q9x.T9xx.QJ9x KJx.A8x.AKQ.KT8x A9xx.Tx.J8xxx.Ax Qxxx.KJxxx.x.xxx', 'T98x.T98.QTxx.Ax AKx.Axx.AJx.KQTx Jx.Qx.K98xx.J98x Qxxx.KJxxx.x.xxx', '9x.Q8x.98xxx.9xx AKT.A9x.QJTx.AK8 J8xx.Tx.AKx.QJTx Qxxx.KJxxx.x.xxx', 'T9xx.Q.KTxxx.KTx AJ.ATx.AQ9x.AJ9x K8x.98xx.J8x.Q8x Qxxx.KJxxx.x.xxx', 'T9.Q98x.Q9x.AT9x Ax.Ax.AKxxx.KQJx KJ8xx.Tx.JT8x.8x Qxxx.KJxxx.x.xxx']\n",
      "3S\n",
      "[{'call': '3S', 'insta_score': 0.9983957409858704}]\n"
     ]
    }
   ],
   "source": [
    "hand = 'Q432.KJ654.4.432'\n",
    "auction = ['PAD_START', '2N', 'PASS','3C','PASS','3D','PASS'] # Here, it wrongly passes on the stayman answer, just like he would pass a 3D opening\n",
    "bot_bid = BotBid([vuln_ns, vuln_ew], hand, models)\n",
    "bid = bot_bid.restful_bid(auction)\n",
    "\n",
    "print(bid.samples) #The samples are correct\n",
    "print(bid.bid)\n",
    "print(bid.to_dict()['candidates'])"
   ]
  },
  {
   "cell_type": "code",
   "execution_count": 5,
   "id": "87c66c19",
   "metadata": {},
   "outputs": [
    {
     "name": "stdout",
     "output_type": "stream",
     "text": [
      "['J.9xxxx.AT8x.9xx T8xx.AKx.KJxx.xx Ax.QJT8x.Q9x.AJT KQ9xxx..xx.KQ8xx', '9x.T98xx.9x.K8xx T8xx.AKx.KJxx.xx AK.QJxxx.T8xxx.A QJxxx..AQ.QJT9xx', 'KQxx.xxx.ATxx.Jx T8xx.AKx.KJxx.xx .QJT98xx.9x.AKTx AJ9xx..Q8x.Q98xx', 'Q.J9xx.Axxx.JT98 T8xx.AKx.KJxx.xx AKJ.QT8xx.T8x.Qx 9xxxx.x.Q9.AKxxx', 'Jx.QJT9.Q8xx.QTx T8xx.AKx.KJxx.xx KQ.8xxxx.Axx.K9x A9xxx.x.T9.AJ8xx', 'KQx.T9x.Q9xx.Kxx T8xx.AKx.KJxx.xx .QJ8xxx.AT8x.A8x AJ9xxx.x.x.QJT9x', 'x.Q8xx.Qxx.JT98x T8xx.AKx.KJxx.xx AK.JT9xxx.AT98.x QJ9xxx..xx.AKQxx', '9x.T9xx.ATxxx.9x T8xx.AKx.KJxx.xx Kx.QJ8xx.Qx.AKJ8 AQJxx.x.98.QTxxx', 'Q9x.Q8xxx.9xx.Ax T8xx.AKx.KJxx.xx A.JT9xx.AQx.QTxx KJxxx..T8x.KJ98x', 'x.QJT9x.8xx.AT8x T8xx.AKx.KJxx.xx Q.8xxxx.AQTxx.KJ AKJ9xxx..9.Q9xxx']\n",
      "4S\n",
      "[{'call': '4S', 'insta_score': 0.6949708461761475, 'expected_score': 222.8759795378872}, {'call': '3S', 'insta_score': 0.16825923323631287, 'expected_score': 94.1147719293858}]\n"
     ]
    }
   ],
   "source": [
    "hand = 'T873.AK6.KJ32.43'\n",
    "auction = ['PASS','PASS','1H','2H','3H'] # Here, it correctly bids 4S\n",
    "bot_bid = BotBid([vuln_ns, vuln_ew], hand, models)\n",
    "bid = bot_bid.restful_bid(auction)\n",
    "\n",
    "print(bid.samples) #The samples are correct\n",
    "print(bid.bid)\n",
    "print(bid.to_dict()['candidates'])"
   ]
  },
  {
   "cell_type": "code",
   "execution_count": 6,
   "id": "a707a8da",
   "metadata": {},
   "outputs": [
    {
     "name": "stdout",
     "output_type": "stream",
     "text": [
      "['AJ.QJT98xx.QT.Kx T8xx.AKx.KJxx.xx 9xx.xx.9xxx.J9xx KQxx.x.A8x.AQT8x', 'Qx.QJ98xxx.Ax.A9 T8xx.AKx.KJxx.xx J9x.Tx.T8xx.QTxx AKxx.x.Q9x.KJ8xx', 'AJ.QJ9xx.Txx.Axx T8xx.AKx.KJxx.xx 9x.Txxx.Q8x.QT8x KQxxx.8.A9x.KJ9x', 'AQ.QJ98xxx.T.Kxx T8xx.AKx.KJxx.xx xx.Tx.Q9xx.QT9xx KJ9xx.x.A8xx.AJ8', 'Ax.QJ9xxx.QTx.AJ T8xx.AKx.KJxx.xx Qx.8xx.8xx.T98xx KJ9xx.T.A9x.KQxx', 'A.QT98xxxx.x.AJx T8xx.AKx.KJxx.xx Q9xx.x.98xxx.9xx KJxx.J.AQT.KQT8x', 'Qx.JT9xxx.A.AJxx T8xx.AKx.KJxx.xx 9x.8xx.Txxx.K98x AKJxx.Q.Q98x.QTx', 'Axx.QT9xxxx.Q.Kx T8xx.AKx.KJxx.xx 9x.J8.T8xxx.9xxx KQJx.x.A9x.AQJT8', 'Kx.QJT8x.AQ9.AQx T8xx.AKx.KJxx.xx Jxx.9xxx.xxx.T9x AQ9x.x.T8x.KJ8xx', 'Ax.Q8xxxx.ATx.Kx T8xx.AKx.KJxx.xx 9x.T9x.Q98x.T9xx KQJxx.J.xx.AQJ8x']\n",
      "2N\n",
      "[{'call': '2N', 'insta_score': 0.3044964373111725, 'expected_score': 381.879780778765}, {'call': '2S', 'insta_score': 0.2832288444042206, 'expected_score': 191.36070563099443}]\n"
     ]
    }
   ],
   "source": [
    "hand = 'T873.AK6.KJ32.43'\n",
    "auction = ['1H','PASS','PASS','2H','PASS'] #Here, it wrongly fit the artificial 3H\n",
    "bot_bid = BotBid([vuln_ns, vuln_ew], hand, models)\n",
    "bid = bot_bid.restful_bid(auction)\n",
    "\n",
    "print(bid.samples) #The samples are correct\n",
    "print(bid.bid)\n",
    "print(bid.to_dict()['candidates'])"
   ]
  },
  {
   "cell_type": "code",
   "execution_count": 7,
   "id": "df14a08f",
   "metadata": {},
   "outputs": [
    {
     "name": "stdout",
     "output_type": "stream",
     "text": [
      "['Jxx.Tx.T9xxx.xxx K98.AQxx.AQx.T98 Tx.8xx.J8xx.Jxxx AQxxx.KJ9x.K.AKQ', 'Tx.xx.Jxxx.T8xxx KJ9.AQxx.AQ8x.Jx 8xx.T8x.T9xx.9xx AQxxx.KJ9x.K.AKQ', '8xx.Tx.QJT9x.Txx KJ9x.AQ8x.Axx.Jx T.xxx.8xxx.98xxx AQxxx.KJ9x.K.AKQ', 'J98xx.T.JT9.Txxx Kx.AQ8x.AQxx.Jxx T.xxxx.8xxxx.98x AQxxx.KJ9x.K.AKQ', '8x.Txx.Q8xxx.9xx K9x.AQ.AJxx.J8xx JTx.8xxx.T9x.Txx AQxxx.KJ9x.K.AKQ', 'JT9x.8xx.T9.JTxx K8.AQxx.AQxxx.xx xx.Tx.J8xxx.98xx AQxxx.KJ9x.K.AKQ', 'T9xx.Q8.Jxxxx.xx KJx.Axx.AQx.J9xx 8.Txxx.T98x.T8xx AQxxx.KJ9x.K.AKQ', 'T8.xxx.98xx.T98x KJxx.AQ.ATxx.Jxx 9x.T8xx.QJxx.xxx AQxxx.KJ9x.K.AKQ', '98xx.xxx.9xxx.8x KTx.AQ8.AJT.J9xx J.Txx.Q8xxx.Txxx AQxxx.KJ9x.K.AKQ', '9x.QTxx.T8xxx.xx KJT.A8.AQ9x.JT9x 8xx.xxx.Jxx.8xxx AQxxx.KJ9x.K.AKQ']\n",
      "2C\n",
      "[{'call': '2C', 'insta_score': 0.940109372138977}]\n"
     ]
    }
   ],
   "source": [
    "hand = 'AQ752.KJ92.K.AKQ'\n",
    "auction = [\"PASS\",\"1N\",\"PASS\"] #Here, it correctly does a stayman\n",
    "bot_bid = BotBid([vuln_ns, vuln_ew], hand, models)\n",
    "bid = bot_bid.restful_bid(auction)\n",
    "\n",
    "print(bid.samples) #The samples are correct\n",
    "print(bid.bid)\n",
    "print(bid.to_dict()['candidates'])"
   ]
  },
  {
   "cell_type": "code",
   "execution_count": 8,
   "id": "f8df6941",
   "metadata": {},
   "outputs": [
    {
     "name": "stdout",
     "output_type": "stream",
     "text": [
      "['8x.QTxx.AQxxxx.x .A8x.JTxx.J9xxxx KJT9xx.xx.98.T8x AQxxx.KJ9x.K.AKQ', 'Kxx.Qxx.Jxx.JTxx T8.Ax.QTxxxx.98x J9x.T8xx.A98.xxx AQxxx.KJ9x.K.AKQ', 'KJ9x.xx.J8xx.xxx 8x.AT8xx.T9x.J98 Tx.Qx.AQxxx.Txxx AQxxx.KJ9x.K.AKQ', '98x.xx.ATxxx.xxx Jx.Ax.J8xx.JT9xx KTx.QT8xx.Q9x.8x AQxxx.KJ9x.K.AKQ', 'J9x.Q8xx.xx.J8xx Kxx.xxx.QTxx.T9x T8.AT.AJ98xx.xxx AQxxx.KJ9x.K.AKQ', 'KJx.Q8x.98.98xxx T8x.xx.QJxx.JTxx 9x.ATxx.ATxxxx.x AQxxx.KJ9x.K.AKQ', 'J8x.Tx.ATxx.9xxx T9.Ax.QJ98x.JTxx Kxx.Q8xxx.xxx.8x AQxxx.KJ9x.K.AKQ', 'J8x.ATxxx.Tx.T8x T.xx.AJ9xxxx.Jxx K9xx.Q8.Q8x.9xxx AQxxx.KJ9x.K.AKQ', 'T9xx.AQxx.xxx.8x Kx.xx.AT8xx.xxxx J8.T8x.QJ9x.JT9x AQxxx.KJ9x.K.AKQ', 'KJx.Qxx.QJTxx.Tx T98.8x.Axx.98xxx xx.ATxx.98xx.Jxx AQxxx.KJ9x.K.AKQ']\n",
      "3H\n",
      "[{'call': '3H', 'insta_score': 0.9574984908103943}]\n"
     ]
    }
   ],
   "source": [
    "hand = 'AQ752.KJ92.K.AKQ'\n",
    "auction = [ 'PASS','PASS','PASS','1S',\"PASS\",\"1N\",\"PASS\"] #Here, it bids 2C (\"stayaman !\") instead of 3H, like in the first hand of the demo (https://lorserker.github.io/ben/demo/viz.html?deal=1). Note that the insta score is exactly the same as the previous example\n",
    "bot_bid = BotBid([vuln_ns, vuln_ew], hand, models)\n",
    "bid = bot_bid.restful_bid(auction)\n",
    "\n",
    "print(bid.samples) #The samples are correct\n",
    "print(bid.bid)\n",
    "print(bid.to_dict()['candidates'])"
   ]
  },
  {
   "cell_type": "code",
   "execution_count": null,
   "id": "7d30b63d",
   "metadata": {},
   "outputs": [],
   "source": []
  },
  {
   "cell_type": "markdown",
   "id": "8da5c690",
   "metadata": {},
   "source": [
    "## Bidding through the hand from the  beginning\n",
    "\n",
    "We have to bid through the hand from the beginning because the bots have state that needs to be propagated.\n",
    "\n",
    "If we ask the bot to bid in the middle of the auction then it didn't accumulate the state from the beginning of the auction and it looks like it \"forgets\" older bids\n",
    "\n",
    "Follwing is the full auction from the start for the first example where the bot passed in a stayman sequence."
   ]
  },
  {
   "cell_type": "code",
   "execution_count": 9,
   "id": "d079e241",
   "metadata": {},
   "outputs": [
    {
     "data": {
      "text/plain": [
       "['T97.Q7.KT567.T97',\n",
       " 'AK.A82.AQ82.K856',\n",
       " 'J856.T93.J93.AQJ',\n",
       " 'Q432.KJ654.4.432']"
      ]
     },
     "execution_count": 9,
     "metadata": {},
     "output_type": "execute_result"
    }
   ],
   "source": [
    "hands = 'T97.Q7.KT567.T97 AK.A82.AQ82.K856 J856.T93.J93.AQJ Q432.KJ654.4.432'.split()\n",
    "hands # N, E, S, W"
   ]
  },
  {
   "cell_type": "code",
   "execution_count": 10,
   "id": "1d390ac1",
   "metadata": {},
   "outputs": [],
   "source": [
    "bidder_bots = [BotBid([False, False], hand, models) for hand in hands]"
   ]
  },
  {
   "cell_type": "code",
   "execution_count": 11,
   "id": "a758e09a",
   "metadata": {},
   "outputs": [
    {
     "data": {
      "text/plain": [
       "['PAD_START',\n",
       " '2N',\n",
       " 'PASS',\n",
       " '3C',\n",
       " 'PASS',\n",
       " '3D',\n",
       " 'PASS',\n",
       " '3S',\n",
       " 'PASS',\n",
       " '4H',\n",
       " 'PASS',\n",
       " 'PASS',\n",
       " 'PASS']"
      ]
     },
     "execution_count": 11,
     "metadata": {},
     "output_type": "execute_result"
    }
   ],
   "source": [
    "auction = ['PAD_START']\n",
    "\n",
    "turn_i = 1  # whose turn is it to bid\n",
    "\n",
    "while not bidding.auction_over(auction):\n",
    "    auction.append(bidder_bots[turn_i].bid(auction).bid)\n",
    "    turn_i = (turn_i + 1) % 4  # next player's turn\n",
    "    \n",
    "auction"
   ]
  },
  {
   "cell_type": "markdown",
   "id": "ada92dd9",
   "metadata": {},
   "source": [
    "now the bot doesn't pass 3D anymore and they complete their smolen sequence"
   ]
  },
  {
   "cell_type": "code",
   "execution_count": null,
   "id": "33d366c7",
   "metadata": {},
   "outputs": [],
   "source": []
  }
 ],
 "metadata": {
  "kernelspec": {
   "display_name": "Python 3 (ipykernel)",
   "language": "python",
   "name": "python3"
  },
  "language_info": {
   "codemirror_mode": {
    "name": "ipython",
    "version": 3
   },
   "file_extension": ".py",
   "mimetype": "text/x-python",
   "name": "python",
   "nbconvert_exporter": "python",
   "pygments_lexer": "ipython3",
   "version": "3.10.2 (tags/v3.10.2:a58ebcc, Jan 17 2022, 14:12:15) [MSC v.1929 64 bit (AMD64)]"
  },
  "vscode": {
   "interpreter": {
    "hash": "db6859663c517eaff44cb590a4f83a9ffca1c2df3a6cfb3b0e93ea33231aa8bf"
   }
  }
 },
 "nbformat": 4,
 "nbformat_minor": 5
}
