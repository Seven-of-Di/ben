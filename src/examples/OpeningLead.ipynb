{
 "cells": [
  {
   "cell_type": "markdown",
   "id": "170af530",
   "metadata": {},
   "source": [
    "# Opening Lead\n",
    "\n",
    "This is a tutorial for how to use the opening lead engine."
   ]
  },
  {
   "cell_type": "code",
   "execution_count": 1,
   "id": "26570686",
   "metadata": {},
   "outputs": [],
   "source": [
    "import os\n",
    "os.chdir('..')\n",
    "\n",
    "from nn.models import Models\n",
    "from bots import BotLead"
   ]
  },
  {
   "cell_type": "code",
   "execution_count": 2,
   "id": "fe373c76",
   "metadata": {},
   "outputs": [
    {
     "name": "stdout",
     "output_type": "stream",
     "text": [
      "INFO:tensorflow:Restoring parameters from ../models/gib21_model/gib21-1000000\n",
      "INFO:tensorflow:Restoring parameters from ../models/gib21_info_model/gib21_info-500000\n",
      "INFO:tensorflow:Restoring parameters from ../models/lead_model_b/lead-1000000\n",
      "INFO:tensorflow:Restoring parameters from ../models/lr3_model/lr3-1000000\n",
      "INFO:tensorflow:Restoring parameters from ../models/lefty_model/lefty-1000000\n",
      "INFO:tensorflow:Restoring parameters from ../models/dummy_model/dummy-920000\n",
      "INFO:tensorflow:Restoring parameters from ../models/righty_model/righty-1000000\n",
      "INFO:tensorflow:Restoring parameters from ../models/decl_model/decl-1000000\n"
     ]
    }
   ],
   "source": [
    "models = Models.load('../models')"
   ]
  },
  {
   "cell_type": "code",
   "execution_count": 3,
   "id": "c3397678",
   "metadata": {},
   "outputs": [],
   "source": [
    "# both vulnerable. you are sitting North as dealer and you hold\n",
    "hand = 'J96.J43.A32.KJ42'\n",
    "\n",
    "# the auction goes:\n",
    "auction = ['PASS', '1C', '2D', '2H', '3D', '3H', 'PASS', '4H', 'PASS', 'PASS', 'PASS']\n",
    "\n",
    "# what to lead?\n",
    "\n",
    "lead_bot = BotLead([True, True], hand, models)\n",
    "lead = lead_bot.lead(auction)"
   ]
  },
  {
   "cell_type": "code",
   "execution_count": 4,
   "id": "a2b5fe25",
   "metadata": {},
   "outputs": [
    {
     "data": {
      "text/plain": [
       "DA"
      ]
     },
     "execution_count": 4,
     "metadata": {},
     "output_type": "execute_result"
    }
   ],
   "source": [
    "lead.card"
   ]
  },
  {
   "cell_type": "markdown",
   "id": "02e88396",
   "metadata": {},
   "source": [
    "seems like the engine chose to lead the ace of diamonds\n",
    "\n",
    "the other options it considered were: a small spade and a small club"
   ]
  },
  {
   "cell_type": "code",
   "execution_count": 5,
   "id": "956ef356",
   "metadata": {},
   "outputs": [
    {
     "data": {
      "text/plain": [
       "[{'card': 'DA',\n",
       "  'insta_score': 0.0,\n",
       "  'expected_tricks': 10.613760899656423,\n",
       "  'p_make_contract': 0.8009103388303802},\n",
       " {'card': 'Sx',\n",
       "  'insta_score': 0.0,\n",
       "  'expected_tricks': 10.732526054115182,\n",
       "  'p_make_contract': 0.8071521847730592},\n",
       " {'card': 'Cx',\n",
       "  'insta_score': 0.0,\n",
       "  'expected_tricks': 10.840694357326958,\n",
       "  'p_make_contract': 0.8304306103360085}]"
      ]
     },
     "execution_count": 5,
     "metadata": {},
     "output_type": "execute_result"
    }
   ],
   "source": [
    "lead.to_dict()['candidates']"
   ]
  },
  {
   "cell_type": "markdown",
   "id": "97efc5a1",
   "metadata": {},
   "source": [
    "in the above output:\n",
    "- `insta_score` reflects the preference of the neural network\n",
    "- `expected_tricks` how many tricks declarer is expected to take on this lead\n",
    "- `p_make_contract` is the probability of the contract making on this lead\n",
    "\n",
    "the probability of making and the expected tricks are computed on samples which are consistent with the auction. the samples are estimated single dummy using a neural network (more on this in another tutorial). we could also solve the samples double dummy, but that would be quite a bit slower."
   ]
  },
  {
   "cell_type": "code",
   "execution_count": 6,
   "id": "7cb2bf98",
   "metadata": {},
   "outputs": [
    {
     "data": {
      "text/plain": [
       "['AQx.Q9xx.8xx.ATx KT8x.x.KQJT9x.9x xxx.AKT8x.x.Q8xx',\n",
       " 'Axx.A9xx.Qx.A9xx KQ8x..KJ98xx.T8x Txx.KQT8xx.Tx.Qx',\n",
       " 'KQTx.Axx.Tx.AT8x 8xx.x.KJ98xx.9xx Axx.KQT98x.Qx.Qx',\n",
       " 'AKTx.98x.x.AQ8xx Q8xx.Q.QJ98xxx.T xx.AKTxxx.KT.9xx',\n",
       " 'KTxx.AQxx.x.AQ9x A8xxx..QJT98xxx. Q.KT98xx.K.T8xxx',\n",
       " 'Kxxx.ATxx.9.AQxx QT8xx..KQJ8xx.8x A.KQ98xx.Txx.T9x',\n",
       " 'T8x.KQ9x.J.AQT8x Axxx.x.Q98xxxx.x KQx.AT8xx.KT.9xx',\n",
       " 'QTxx.KQ9x.x.AQxx AKxx..QJT9xxx.98 8x.AT8xxx.K8.Txx',\n",
       " 'ATxx.KT.K.AQ8xxx Qxx.Q.QJ98xxx.9x K8x.A98xxxx.Tx.T',\n",
       " 'QTxx.Qx.K.AQ8xxx AK8x..J98xxxx.Tx xx.AKT98xxx.QT.9',\n",
       " 'KQxx.8xx.K.AT9xx xxx..QJT9xxx.8xx AT8.AKQT9xx.8x.Q',\n",
       " 'Qxx.A8.Qx.AQ8xxx KTxxx.x.KJ98xx.x A8.KQT9xxx.Tx.T9',\n",
       " 'AKTx.9xxx..AQ9xx xxx.8.KQT9xxx.8x Q8x.AKQTx.J8x.Tx',\n",
       " 'ATxx.Q8xx.9.AQ8x Q8xx.x.KQJ8xx.Tx Kx.AKT9x.Txx.9xx',\n",
       " 'QT8.KQ.Q9.AT8xxx Axxx.x.KJTxxxx.Q Kxx.AT98xxx.8.9x',\n",
       " 'KQxx.Q8x.K.A8xxx ATx.x.QJT98x.QTx 8xx.AKT9xx.xxx.9',\n",
       " 'xxx.Kx.Kxx.AQ8xx Txx..QJT98x.T9xx AKQ8.AQT98xxx.x.',\n",
       " 'Q8x.AT9x.K98.A8x Kxxx..QJTxxx.T9x ATx.KQ8xxx.x.Qxx',\n",
       " 'KQxx.xxx.K.AT8xx AT8x.Q.QJ98xxx.9 xx.AKT98x.Tx.Qxx',\n",
       " 'Kxxx.AQ98.K9.Q8x Qxx.x.QJT8xxx.xx AT8.KTxxx.x.AT9x',\n",
       " 'A8x.A8x.x.AT8xxx QTxx.9.KQJ98xx.x Kxx.KQTxxx.Tx.Q9',\n",
       " 'Ax.AQ.98x.QT98xx QT8xx.x.KQJTxx.x Kxx.KT98xxx.x.Ax',\n",
       " 'AQ8x.K8x.KTx.9xx KT.x.QJ98xx.QT8x xxxx.AQT9xx.x.Ax',\n",
       " 'QTxx.AKx.J.AT98x K8xx..K98xxxx.xx Ax.QT98xxx.QT.Qx',\n",
       " '8xx.Ax.Kx.AQ9xxx QTxx.9x.QJT98x.x AKx.KQT8xx.xx.T8',\n",
       " 'KQxx.Q8.KT.QT8xx Txx.x.QJ8xxx.Axx A8x.AKT9xxx.9x.9',\n",
       " 'AKxx.Q9xx.8.AQxx 8x.8.QJT9xxx.8xx QTxx.AKTxx.Kx.T9',\n",
       " 'Axxx.AQx.x.AQT8x Qxx.x.KQJT9xx.9x KT8.KT98xx.8x.xx',\n",
       " 'Axxx.AK.x.QT8xxx Q8x.Qx.KJT98xx.x KTx.T98xxx.Qx.A9',\n",
       " 'AQxx.AQx.x.AQxxx Kxx..QJT98xx.T8x T8x.KT98xxx.Kx.9',\n",
       " 'QTxx.AK.9x.A98xx Kx.x.QJT8xxx.Qxx A8xx.QT98xxx.K.T',\n",
       " 'Q8x.AQx.Q9.A8xxx KTxx..KJT8xxx.Q9 Axx.KT98xxx.x.Tx',\n",
       " 'KQx.Kxx.8x.AQ98x 8xx.Q.KQJ9xx.xxx ATxx.AT98xx.Tx.T',\n",
       " 'Txxx.KQ9x.Kx.Axx K8x..QJT98xx.Txx AQx.AT8xxx.x.Q98',\n",
       " 'AKxx.xx.Jx.A98xx Q8x.Kx.KQT98x.Tx Txx.AQT98x.xx.Qx',\n",
       " 'KTx.Kx.Jx.AQ9xxx Qxx.8x.KQT98xx.8 A8xx.AQT9xx.x.Tx',\n",
       " 'AQ8x.Kxx.J8.QT9x xxx.T.KQ9xxx.A8x KTx.AQ98xx.Tx.xx',\n",
       " 'ATxx.A98.x.AQT9x K8x.xx.QJT98x.xx Qxx.KQTxx.Kxx.8x',\n",
       " 'AQxx.T9x.8x.AQ98 8xx.K.KQJxxx.Txx KTx.AQ8xxx.T9.xx',\n",
       " 'Axx.AKx.J8x.Q98x xxx.8.KQT9xx.ATx KQT8.QT9xxx.x.xx',\n",
       " 'AKxx.KQx.Q.9xxxx xx.T.JT8xxxx.QT8 QT8x.A98xxx.K9.A',\n",
       " 'A8xx.KT9.9.AQ8xx KTxx.x.KQTxxx.9x Qx.AQ8xxx.J8x.Tx',\n",
       " 'Ax.Q8.Qx.AQ98xxx QT8.Tx.KJT8xxx.T Kxxxx.AK9xxx.9.x',\n",
       " 'KQxx.Kx.8x.A98xx A8xx..KQJxxx.Txx Tx.AQT98xxx.T9.Q',\n",
       " 'KQx.Ax.9x.A98xxx Txx.Qx.KQTxxx.Qx A8xx.KT98xx.J8.T',\n",
       " 'AQ8.QT8x.9.A98xx KTxx..QJ8xxxx.QT xxx.AK9xxx.KT.xx',\n",
       " 'AT8x.A9x.QT.Q8xx Kxxx.x.KJ98xxx.T Qx.KQT8xx.x.A9xx',\n",
       " 'KQx.Txx.Qx.AQ8xx Txxxx.Q.KJ98xxx. A8.AK98xx.T.T9xx',\n",
       " 'Q8x.AQ.Kx.AQT98x Kxx.xx.QJT98xx.x ATxx.KT98xx.x.xx',\n",
       " 'KTxx.Qx.Q.AQ8xxx Qxx.A.KJT9xxxx.x A8x.KT98xxx.8.T9',\n",
       " 'AKTx.Qx.QJ.ATxxx Q8.9.KT8xxxx.98x xxxx.AKT8xxx.9.Q',\n",
       " 'AQx.Q9x.QT9.ATxx K8x.x.KJ8xxxx.Qx Txxx.AKT8xx..98x',\n",
       " 'Axx.K98.Jx.AQTxx KTxx.x.KQ98xx.xx Q8x.AQTxxx.Tx.98',\n",
       " 'AQ8x.T8x.Qx.AQ9x Txx.x.KJT98x.xxx Kxx.AKQ9xx.xx.T8',\n",
       " 'Qxxx.KQx.9.AQ8xx KTx.8.QJ8xxx.Txx A8x.AT9xxx.KTx.9',\n",
       " 'T8xx.AK9.8.AQ98x KQx.x.KQ9xxxx.Tx Axx.QT8xxx.JT.xx',\n",
       " 'KQTx.Q8x.K.Q9xxx 8xxx.K.QJT98xxx. Ax.AT9xxx.x.AT8x',\n",
       " 'Kxxx.QT9.K.AT9xx ATx.x.QJT8xxx.Qx Q8x.AK8xxx.9x.8x',\n",
       " 'AKxx.Axx.x.Q98xx Q8x.8x.KQT98x.Tx Txx.KQT9x.Jxx.Ax',\n",
       " 'KT8x.A8x.x.AQT9x Qxxx..KJT8xx.8xx Ax.KQT9xxx.Q9x.x',\n",
       " 'AQx.K9x.Tx.AT8xx T8xx.x.KQJ8xx.9x Kxx.AQT8xx.9x.Qx',\n",
       " 'K8xx.K9xx..AQ8xx Qx.Q.QJT9xxx.Txx ATxx.AT8xx.K8x.9',\n",
       " 'Kxx.A98.T.AQ9xxx Q8xx.x.KJ8xxx.8x ATx.KQTxxx.Q9x.T',\n",
       " 'QTxx.AQ8.x.AQxxx Kxx.x.KJT98xx.T9 A8x.KT9xxx.Qx.8x',\n",
       " 'AK8.Txx.Q.AQT8xx Qxxx.x.KJTxxxx.9 Txx.AKQ98x.98.xx',\n",
       " 'Axx.AQxx.J9.QT8x KQxx.x.KQ8xxxx.x T8x.KT98x.T.A9xx',\n",
       " 'ATxx.ATx.Qx.QTxx xxx..KJT9xxx.Axx KQ8.KQ98xxx.8.98',\n",
       " 'KQxx.QT.Kx.AQT9x A8xx.9x.QJT9xx.8 Tx.AK8xxx.8x.xxx',\n",
       " 'A8x.Axx.x.AQ9xxx Qxxx..KJT98xx.T8 KTx.KQT98xx.Qx.x',\n",
       " 'T8x.AK9x.T.AQ8xx KQxx..Q98xxxx.9x Axx.QT8xxx.KJ.Tx',\n",
       " 'AQxx.98x.Tx.AQTx T8x.Q.KQJ98xx.9x Kxx.AKTxxx.x.8xx',\n",
       " 'AQxx.Kxx.KQ.AT8x Tx.A.JT98xxx.9xx K8xx.QT98xx.x.Qx',\n",
       " 'xxx.KQx.K8x.A98x AT.9.QJT9xxx.QTx KQ8xx.AT8xxx..xx',\n",
       " 'KT8x.K98x..AQ9xx xxxx.T.KJT9xxx.8 AQ.AQxxx.Q8x.Txx',\n",
       " 'ATxx.AQT.xx.AT9x Qxx..KQJT8xx.Q8x K8x.K98xxxx.9.xx',\n",
       " 'KTxx.A8x.Qx.A8xx 8xxx.T.KT98xxx.x AQ.KQ9xxx.J.QT9x',\n",
       " 'Qxx.AK8.9x.AT9xx Kxx.9.QJT8xxx.8x AT8x.QTxxxx.K.Qx',\n",
       " 'AKx.Q98.K.AQT9xx QT8x.x.JT8xxxx.x xxx.AKTxxx.Q9.8x',\n",
       " 'Qx.98x.KQ.AQT8xx AK8.x.JT8xxxx.9x Txxxx.AKQTxx.9.x',\n",
       " 'Tx.AKx.x.AQT98xx A8xx.x.QT98xxx.x KQxx.QT98xx.KJ.x',\n",
       " 'KTx.AKTx.xx.A8xx 8xxx..KQT98xx.Q9 AQx.Q98xxx.J.Txx',\n",
       " 'Kxx.98x.K.AQ98xx ATx.Tx.QJ98xxx.T Q8xx.AKQxx.Tx.xx',\n",
       " 'xxx.AQxx.x.AQT9x AQT8..KJT8xxx.xx Kxx.KT98xx.Q9.8x',\n",
       " 'KQT.KTxx.KQ.9xxx xxx.x.J98xxxx.Qx A8xx.AQ98x.T.AT8',\n",
       " 'AKxx.KQ8x.x.QTxx Qxxx..QJT98xx.A9 T8.AT9xxx.Kx.8xx',\n",
       " 'AK8x.9xx.T.AQT9x Txx..KQJ9xxx.8xx Qxx.AKQT8xx.8x.x',\n",
       " 'KQxx.KTx.Tx.AQ9x Txx.x.KQJ9xxx.xx A8x.AQ98xx.8.T8x',\n",
       " 'Q8x.AT9x.98x.AQ9 Txx..KQJxxx.T8xx AKxx.KQ8xxx.T.xx',\n",
       " 'AKQ.T9x.xx.A98xx xxx.8x.KJT9xx.QT T8xx.AKQxx.Q8.xx',\n",
       " 'Axx.AKx.x.T98xxx Txxx.x.QJT8xx.AQ KQ8.QT98xx.K9x.x',\n",
       " 'AKT8.AQx.x.T98xx xxx.T8.QJT9xxx.A Qxx.K9xxx.K8.Qxx',\n",
       " 'K8xx.Axx.xx.AQTx Txx.K.KQJT8x.8xx AQx.QT98xx.9x.9x',\n",
       " 'KQ.KQxx.9xx.A9xx xxxx.x.KQT8xx.Tx AT8x.AT98x.J.Q8x',\n",
       " 'KT8x.KQ9x..AQxxx xxxx.x.QJT9xx.T9 AQ.AT8xx.K8xx.8x',\n",
       " 'Kxx.A98x.K8.QTxx AT8x.x.QJ9xxxx.8 Qxx.KQTxx.T.A9xx',\n",
       " 'K8x.K8xx.J8.AQ9x QTxx.T.KQ9xxx.8x Axx.AQ9xx.Tx.Txx',\n",
       " 'Q8xx.AK8x.QJ.8xx AKT.x.T98xxxx.xx xxx.QT9xx.K.AQT9',\n",
       " 'AKQx.Txx.8.AT8xx Txx.K8.QJT9xxx.x 8xx.AQ9xx.Kx.Q9x',\n",
       " 'KQ8x.9xx.K9.Axxx ATxx.T.QJTxxx.T9 xx.AKQ8xx.8x.Q8x',\n",
       " 'QTxx.Ax.KJ.AQ98x A8x.x.QT8xxxx.xx Kxx.KQT98xx.9.Tx']"
      ]
     },
     "execution_count": 6,
     "metadata": {},
     "output_type": "execute_result"
    }
   ],
   "source": [
    "# each row is one sample board\n",
    "# the hands are in the order: LHO, Partner, RHO. Your cards are not shown as they are fixed/\n",
    "\n",
    "lead.samples"
   ]
  },
  {
   "cell_type": "code",
   "execution_count": null,
   "id": "9f4ecd47",
   "metadata": {},
   "outputs": [],
   "source": []
  }
 ],
 "metadata": {
  "kernelspec": {
   "display_name": "Python 3.10.2 64-bit",
   "language": "python",
   "name": "python3"
  },
  "language_info": {
   "codemirror_mode": {
    "name": "ipython",
    "version": 3
   },
   "file_extension": ".py",
   "mimetype": "text/x-python",
   "name": "python",
   "nbconvert_exporter": "python",
   "pygments_lexer": "ipython3",
   "version": "3.10.2"
  },
  "vscode": {
   "interpreter": {
    "hash": "db6859663c517eaff44cb590a4f83a9ffca1c2df3a6cfb3b0e93ea33231aa8bf"
   }
  }
 },
 "nbformat": 4,
 "nbformat_minor": 5
}
